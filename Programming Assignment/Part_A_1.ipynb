{
 "cells": [
  {
   "cell_type": "markdown",
   "metadata": {},
   "source": [
    "# Question A1 (15 marks)"
   ]
  },
  {
   "cell_type": "markdown",
   "metadata": {},
   "source": [
    "#### Design a feedforward deep neural network (DNN) which consists of **three** hidden layers of 128 neurons each with ReLU activation function, and an output layer with sigmoid activation function. Apply dropout of probability **0.2** to each of the hidden layers."
   ]
  },
  {
   "cell_type": "code",
   "execution_count": 1,
   "metadata": {},
   "outputs": [],
   "source": [
    "import tqdm\n",
    "import time\n",
    "import random\n",
    "import numpy as np\n",
    "import pandas as pd\n",
    "import matplotlib.pyplot as plt\n",
    "\n",
    "import torch\n",
    "from torch import nn\n",
    "from torch.utils.data import Dataset\n",
    "from torch.utils.data import DataLoader\n",
    "\n",
    "from scipy.io import wavfile as wav\n",
    "\n",
    "from sklearn import preprocessing\n",
    "from sklearn.model_selection import KFold\n",
    "from sklearn.model_selection import train_test_split\n",
    "from sklearn.metrics import f1_score, precision_score, recall_score, confusion_matrix\n",
    "\n",
    "from common_utils import set_seed\n",
    "\n",
    "# setting seed\n",
    "set_seed()"
   ]
  },
  {
   "cell_type": "markdown",
   "metadata": {},
   "source": [
    "1.Define the model class."
   ]
  },
  {
   "cell_type": "code",
   "execution_count": 2,
   "metadata": {},
   "outputs": [],
   "source": [
    "class MLP(nn.Module):\n",
    "\n",
    "    def __init__(self, no_features, no_hidden, no_labels):\n",
    "        super().__init__()\n",
    "        self.mlp_stack = nn.Sequential(\n",
    "            # YOUR CODE HERE\n",
    "            # model layers\n",
    "            # here we add 0.2 dropout rate to avoid overfitting problem\n",
    "\n",
    "            # first layer with ReLU activation function\n",
    "            nn.Linear(no_features, no_hidden),\n",
    "            nn.ReLU(),\n",
    "            nn.Dropout(0.2),  # dropout of probability 0.2\n",
    "\n",
    "            # second layer with ReLU activation function\n",
    "            nn.Linear(no_hidden, no_hidden),\n",
    "            nn.ReLU(),\n",
    "            nn.Dropout(0.2),  # dropout of probability 0.2\n",
    "\n",
    "            # third layer with ReLU activation function\n",
    "            nn.Linear(no_hidden, no_hidden),\n",
    "            nn.ReLU(),\n",
    "            nn.Dropout(0.2),  # dropout of probability 0.2\n",
    "\n",
    "            # output layer with Sigmoid activation function\n",
    "            nn.Linear(no_hidden, no_labels),\n",
    "            nn.Sigmoid()\n",
    "\n",
    "        )\n",
    "\n",
    "    # YOUR CODE HERE\n",
    "    # define the forward pass\n",
    "    def forward(self, x):\n",
    "        # pass through the self.mlp_stack\n",
    "        logits = self.mlp_stack(x)\n",
    "        return logits\n"
   ]
  },
  {
   "cell_type": "code",
   "execution_count": null,
   "metadata": {},
   "outputs": [],
   "source": []
  },
  {
   "cell_type": "code",
   "execution_count": null,
   "metadata": {},
   "outputs": [],
   "source": []
  },
  {
   "cell_type": "markdown",
   "metadata": {},
   "source": [
    "#### Divide the dataset into a 75:25 ratio for training and testing. Use **appropriate** scaling of input features. We solely assume that there are only two datasets here: training & test."
   ]
  },
  {
   "cell_type": "markdown",
   "metadata": {},
   "source": [
    "2.Split the dataset and do preprocessing."
   ]
  },
  {
   "cell_type": "code",
   "execution_count": 3,
   "metadata": {},
   "outputs": [],
   "source": [
    "from common_utils import split_dataset, preprocess_dataset\n",
    "\n",
    "\n",
    "def preprocess(df):\n",
    "    # YOUR CODE HERE\n",
    "    # drop useless columns for X\n",
    "    columns_to_drop = ['filename', 'label']\n",
    "\n",
    "    # perform data splitting\n",
    "    X_train, y_train, X_test, y_test = split_dataset(df, columns_to_drop=columns_to_drop, test_size=0.25, random_state=100)\n",
    "\n",
    "    # scaling the data using standard_scaler\n",
    "    X_train_scaled, X_test_scaled = preprocess_dataset(X_train, X_test)\n",
    "    return X_train_scaled, y_train, X_test_scaled, y_test\n",
    "\n",
    "df = pd.read_csv('simplified.csv')\n",
    "df['label'] = df['filename'].str.split('_').str[-2]\n",
    "\n",
    "df['label'].value_counts()\n",
    "\n",
    "X_train_scaled, y_train, X_test_scaled, y_test = preprocess(df)"
   ]
  },
  {
   "cell_type": "code",
   "execution_count": null,
   "metadata": {},
   "outputs": [],
   "source": []
  },
  {
   "cell_type": "markdown",
   "metadata": {},
   "source": [
    "#### Use the training dataset to train the model for 100 epochs. Use a mini-batch gradient descent with **‘Adam’** optimizer with learning rate of **0.001**, and **batch size = 128**. Implement early stopping with patience of **3**."
   ]
  },
  {
   "cell_type": "markdown",
   "metadata": {},
   "source": [
    "3.Define a Pytorch Dataset and Dataloaders.  "
   ]
  },
  {
   "cell_type": "code",
   "execution_count": 4,
   "metadata": {},
   "outputs": [],
   "source": [
    "class CustomDataset(Dataset):\n",
    "    # YOUR CODE HERE\n",
    "    def __init__(self, X, y):\n",
    "    # convert data to tensors\n",
    "    # note that long type is needed for y to prevent exception\n",
    "        self.X =torch.tensor(X, dtype=torch.float)\n",
    "        self.y =torch.tensor(y, dtype=torch.long)\n",
    "\n",
    "    # return size of data\n",
    "    def __len__(self):\n",
    "        return len(self.y)\n",
    "\n",
    "    # return data with given index\n",
    "    def __getitem__(self,idx):\n",
    "        return self.X[idx], self.y[idx]\n",
    "\n",
    "\n",
    "def intialise_loaders(X_train_scaled, y_train, X_test_scaled, y_test):\n",
    "    # YOUR CODE HERE\n",
    "    # load data\n",
    "    train_data = CustomDataset(X_train_scaled, y_train)\n",
    "    test_data = CustomDataset(X_test_scaled, y_test)\n",
    "\n",
    "    # convert to DataLoader for batch processing and shuffling\n",
    "    train_dataloader = DataLoader(train_data, batch_size=128, shuffle=True)\n",
    "    test_dataloader = DataLoader(test_data, batch_size=128, shuffle=True)\n",
    "    return train_dataloader, test_dataloader\n",
    "\n",
    "train_dataloader, test_dataloader = intialise_loaders(X_train_scaled, y_train, X_test_scaled, y_test)"
   ]
  },
  {
   "cell_type": "code",
   "execution_count": null,
   "metadata": {},
   "outputs": [],
   "source": []
  },
  {
   "cell_type": "code",
   "execution_count": null,
   "metadata": {},
   "outputs": [],
   "source": []
  },
  {
   "cell_type": "code",
   "execution_count": null,
   "metadata": {},
   "outputs": [],
   "source": []
  },
  {
   "cell_type": "code",
   "execution_count": null,
   "metadata": {},
   "outputs": [],
   "source": []
  },
  {
   "cell_type": "markdown",
   "metadata": {},
   "source": [
    "4.Next, define the model, optimizer and loss function."
   ]
  },
  {
   "cell_type": "code",
   "execution_count": 5,
   "metadata": {},
   "outputs": [
    {
     "name": "stderr",
     "output_type": "stream",
     "text": [
      "D:\\Program Files\\Python310\\lib\\site-packages\\tqdm\\auto.py:21: TqdmWarning: IProgress not found. Please update jupyter and ipywidgets. See https://ipywidgets.readthedocs.io/en/stable/user_install.html\n",
      "  from .autonotebook import tqdm as notebook_tqdm\n"
     ]
    }
   ],
   "source": [
    "# YOUR CODE HERE\n",
    "no_features = 77 # feature number\n",
    "no_hidden = 128  # neuron number of hidden layers\n",
    "no_labels = 1  # output label number\n",
    "lr = 0.001  # learning rate\n",
    "\n",
    "# initialize model\n",
    "model = MLP(no_features, no_hidden, no_labels)\n",
    "\n",
    "# set Adam optimizer\n",
    "optimizer = torch.optim.Adam(model.parameters(), lr)\n",
    "\n",
    "# apply cross entropy loss\n",
    "loss_fn = nn.BCELoss()"
   ]
  },
  {
   "cell_type": "code",
   "execution_count": null,
   "metadata": {},
   "outputs": [],
   "source": []
  },
  {
   "cell_type": "code",
   "execution_count": null,
   "metadata": {},
   "outputs": [],
   "source": []
  },
  {
   "cell_type": "code",
   "execution_count": null,
   "metadata": {},
   "outputs": [],
   "source": []
  },
  {
   "cell_type": "markdown",
   "metadata": {},
   "source": [
    "5.Train model for 100 epochs. Record down train and test accuracies. Implement early stopping."
   ]
  },
  {
   "cell_type": "code",
   "execution_count": 6,
   "metadata": {},
   "outputs": [
    {
     "name": "stdout",
     "output_type": "stream",
     "text": [
      "Epoch 1, train_loss 0.686614 train_acc 0.543906, test_loss 0.675739, test_acc 0.581758\n",
      "Epoch 2, train_loss 0.671279 train_acc 0.583278, test_loss 0.664198, test_acc 0.617910\n",
      "Epoch 3, train_loss 0.650875 train_acc 0.614908, test_loss 0.649950, test_acc 0.623549\n",
      "Epoch 4, train_loss 0.637391 train_acc 0.635368, test_loss 0.651127, test_acc 0.617247\n",
      "Epoch 5, train_loss 0.618744 train_acc 0.659478, test_loss 0.624334, test_acc 0.652405\n",
      "Epoch 6, train_loss 0.596657 train_acc 0.678279, test_loss 0.623419, test_acc 0.634494\n",
      "Epoch 7, train_loss 0.579011 train_acc 0.694426, test_loss 0.599455, test_acc 0.673632\n",
      "Epoch 8, train_loss 0.564430 train_acc 0.708582, test_loss 0.578951, test_acc 0.689884\n",
      "Epoch 9, train_loss 0.543397 train_acc 0.719199, test_loss 0.568001, test_acc 0.696186\n",
      "Epoch 10, train_loss 0.534316 train_acc 0.726167, test_loss 0.577048, test_acc 0.697181\n",
      "Epoch 11, train_loss 0.517863 train_acc 0.741982, test_loss 0.566284, test_acc 0.710116\n",
      "Epoch 12, train_loss 0.502143 train_acc 0.752599, test_loss 0.540876, test_acc 0.731343\n",
      "Epoch 13, train_loss 0.490122 train_acc 0.758239, test_loss 0.535912, test_acc 0.733002\n",
      "Epoch 14, train_loss 0.473936 train_acc 0.770184, test_loss 0.529779, test_acc 0.732007\n",
      "Epoch 15, train_loss 0.462105 train_acc 0.780248, test_loss 0.538391, test_acc 0.725041\n",
      "Epoch 16, train_loss 0.457091 train_acc 0.778478, test_loss 0.525841, test_acc 0.739635\n",
      "Epoch 17, train_loss 0.438845 train_acc 0.787768, test_loss 0.522427, test_acc 0.736650\n",
      "Epoch 18, train_loss 0.430256 train_acc 0.796505, test_loss 0.518450, test_acc 0.742620\n",
      "Epoch 19, train_loss 0.415178 train_acc 0.808339, test_loss 0.519430, test_acc 0.742289\n",
      "Epoch 20, train_loss 0.408501 train_acc 0.809224, test_loss 0.521086, test_acc 0.752239\n",
      "Epoch 21, train_loss 0.406597 train_acc 0.811767, test_loss 0.506666, test_acc 0.747595\n",
      "Epoch 22, train_loss 0.395486 train_acc 0.816191, test_loss 0.500651, test_acc 0.755887\n",
      "Epoch 23, train_loss 0.398679 train_acc 0.812984, test_loss 0.499114, test_acc 0.761526\n",
      "Epoch 24, train_loss 0.380731 train_acc 0.829020, test_loss 0.496981, test_acc 0.762189\n",
      "Epoch 25, train_loss 0.367222 train_acc 0.830015, test_loss 0.495505, test_acc 0.768491\n",
      "Epoch 26, train_loss 0.367675 train_acc 0.833002, test_loss 0.499325, test_acc 0.766169\n",
      "Epoch 27, train_loss 0.367086 train_acc 0.837315, test_loss 0.491104, test_acc 0.770813\n",
      "Epoch 28, train_loss 0.351343 train_acc 0.840964, test_loss 0.509773, test_acc 0.755224\n",
      "Epoch 29, train_loss 0.351126 train_acc 0.841296, test_loss 0.511395, test_acc 0.757546\n",
      "Epoch 30, train_loss 0.346001 train_acc 0.847932, test_loss 0.492243, test_acc 0.769818\n",
      "Early stopping!\n",
      "Done!\n"
     ]
    }
   ],
   "source": [
    "# YOUR CODE HERE\n",
    "from common_utils import EarlyStopper\n",
    "\n",
    "# training function\n",
    "def train_loop(dataloader, model, loss_fn, optimizer):\n",
    "    size = len(dataloader.dataset)\n",
    "    train_loss, correct = 0, 0\n",
    "    model.train()  # inform Dropout layer to work\n",
    "\n",
    "    for X, y in dataloader:\n",
    "        # forward pass and compute loss\n",
    "        pred = model(X).reshape(-1)\n",
    "        loss = loss_fn(pred, y.float())\n",
    "\n",
    "        # back-prop and update parameters\n",
    "        optimizer.zero_grad()\n",
    "        loss.backward()\n",
    "        optimizer.step()\n",
    "\n",
    "        # update loss and correct number\n",
    "        train_loss += loss.item() * X.size(0)\n",
    "        correct += ((pred > 0.5).long() == y).type(torch.float).sum().item()\n",
    "    \n",
    "    train_loss /= size\n",
    "    train_acc = correct / size\n",
    "    return train_loss, train_acc\n",
    "\n",
    "# testing function\n",
    "def test_loop(dataloader, model, loss_fn):\n",
    "    size = len(dataloader.dataset)\n",
    "    test_loss, correct = 0, 0\n",
    "    model.eval()  # inform no dropout during testing\n",
    "\n",
    "    with torch.no_grad():\n",
    "        for X, y in dataloader:\n",
    "            # forward pass\n",
    "            pred = model(X).reshape(-1)\n",
    "            test_loss += loss_fn(pred, y.float()).item() * X.size(0)\n",
    "            correct += ((pred > 0.5).long() == y).type(torch.float).sum().item()\n",
    "\n",
    "    test_loss /= size\n",
    "    test_acc = correct / size\n",
    "    return test_loss, test_acc\n",
    "\n",
    "\n",
    "train_loss_, train_acc_, test_loss_, test_acc_ = [], [], [], []\n",
    "no_epochs = 100\n",
    "\n",
    "# initialize early stopper\n",
    "early_stopper = EarlyStopper(patience=3, min_delta=0)\n",
    "\n",
    "# start training\n",
    "for epoch in range(no_epochs):\n",
    "    train_loss, train_acc = train_loop(train_dataloader, model, loss_fn, optimizer)\n",
    "    test_loss, test_acc = test_loop(test_dataloader, model, loss_fn)\n",
    "\n",
    "    train_loss_.append(train_loss), train_acc_.append(train_acc)\n",
    "    test_loss_.append(test_loss), test_acc_.append(test_acc)\n",
    "\n",
    "    print(f\"Epoch {epoch+1}, train_loss {train_loss:>7f} train_acc {train_acc:>4f}, test_loss {test_loss:>7f}, test_acc {test_acc:>4f}\")\n",
    "    \n",
    "    # early stop setting\n",
    "    if early_stopper.early_stop(test_loss): \n",
    "        print(\"Early stopping!\")\n",
    "        break\n",
    "print(\"Done!\")"
   ]
  },
  {
   "cell_type": "markdown",
   "metadata": {},
   "source": [
    "#### Plot train and test accuracies and losses on training and test data against training epochs and comment on the line plots.\n"
   ]
  },
  {
   "cell_type": "code",
   "execution_count": 7,
   "metadata": {},
   "outputs": [
    {
     "data": {
      "text/plain": [
       "<matplotlib.legend.Legend at 0x1f4a2f41a80>"
      ]
     },
     "execution_count": 7,
     "metadata": {},
     "output_type": "execute_result"
    },
    {
     "data": {
      "image/png": "[encoded data removed]",
      "text/plain": [
       "<Figure size 640x480 with 1 Axes>"
      ]
     },
     "metadata": {},
     "output_type": "display_data"
    },
    {
     "data": {
      "image/png": "[encoded data removed]",
      "text/plain": [
       "<Figure size 640x480 with 1 Axes>"
      ]
     },
     "metadata": {},
     "output_type": "display_data"
    }
   ],
   "source": [
    "# YOUR CODE HERE\n",
    "no_epochs = len(train_acc_)\n",
    "\n",
    "# plot accuracies\n",
    "plt.figure(1)\n",
    "plt.plot(range(no_epochs), train_acc_, label='train')\n",
    "plt.plot(range(no_epochs), test_acc_, label ='test')\n",
    "plt.xlabel('epochs')\n",
    "plt.ylabel('accuracy')\n",
    "plt.title(\"Train and Test Accuracies\")\n",
    "plt.legend()\n",
    "\n",
    "# plot losses\n",
    "plt.figure(2)\n",
    "plt.plot(range(no_epochs), train_loss_, label='train')\n",
    "plt.plot(range(no_epochs), test_loss_, label ='test')\n",
    "plt.xlabel('epochs')\n",
    "plt.ylabel('cross-entropy')\n",
    "plt.title(\"Train and Test Losses\")\n",
    "plt.legend()"
   ]
  },
  {
   "cell_type": "markdown",
   "metadata": {},
   "source": [
    "6.Comment on line plots."
   ]
  },
  {
   "cell_type": "code",
   "execution_count": 8,
   "metadata": {},
   "outputs": [],
   "source": [
    "# YOUR CODE HERE\n",
    "answer = \"We can see training losses keep decreasing, which means the model is keep fitting the training data, while test losses decrease at first but stop decreasing after some epochs and even tend to increase.\"\\\n",
    "         \"Similarly, training accuracies keep increasing, while test accuracies increase at first but start to plateau after some epochs.\"\\\n",
    "         \"Therefore, after certain numbers of epochs, the early stopper is triggered to stop the training process in order to prevent overfitting.\"\\\n",
    "         \"There is also a small gap between training losses and test losses, which is also observed between training accuracies and test accuracies.\"\\\n",
    "         \"It indicates the distribution difference between the training and the test data, which makes the model perform good at training data but less good at test data.\""
   ]
  },
  {
   "cell_type": "code",
   "execution_count": null,
   "metadata": {},
   "outputs": [],
   "source": []
  }
 ],
 "metadata": {
  "kernelspec": {
   "display_name": "Python 3 (ipykernel)",
   "language": "python",
   "name": "python3"
  },
  "language_info": {
   "codemirror_mode": {
    "name": "ipython",
    "version": 3
   },
   "file_extension": ".py",
   "mimetype": "text/x-python",
   "name": "python",
   "nbconvert_exporter": "python",
   "pygments_lexer": "ipython3",
   "version": "3.10.11"
  }
 },
 "nbformat": 4,
 "nbformat_minor": 2
}
