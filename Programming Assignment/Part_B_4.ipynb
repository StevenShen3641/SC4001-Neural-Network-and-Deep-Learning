{
 "cells": [
  {
   "cell_type": "markdown",
   "metadata": {
    "id": "Pp6KAX1UXqaK"
   },
   "source": [
    "# Question B4 (10 marks)\n",
    "\n",
    "Model degradation is a common issue faced when deploying machine learning models (including neural networks) in the real world. New data points could exhibit a different pattern from older data points due to factors such as changes in government policy or market sentiments. For instance, housing prices in Singapore have been increasing and the Singapore government has introduced 3 rounds of cooling measures over the past years (16 December 2021, 30 September 2022, 27 April 2023).\n",
    "\n",
    "In such situations, the distribution of the new data points could differ from the original data distribution which the models were trained on. Recall that machine learning models often work with the assumption that the test distribution should be similar to train distribution. When this assumption is violated, model performance will be adversely impacted.  In the last part of this assignment, we will investigate to what extent model degradation has occurred.\n"
   ]
  },
  {
   "cell_type": "markdown",
   "metadata": {
    "id": "WsfKoCAMj9uo"
   },
   "source": [
    "\n",
    "\n",
    "---\n",
    "\n",
    "\n",
    "\n",
    "---\n",
    "\n"
   ]
  },
  {
   "cell_type": "markdown",
   "metadata": {
    "id": "Rjdf67uIarDX"
   },
   "source": [
    "Your co-investigators used a linear regression model to rapidly test out several combinations of train/test splits and shared with you their findings in a brief report attached in Appendix A below. You wish to investigate whether your deep learning model corroborates with their findings."
   ]
  },
  {
   "cell_type": "code",
   "execution_count": 1,
   "metadata": {
    "id": "M3-BW2LW4Icq",
    "scrolled": false
   },
   "outputs": [
    {
     "name": "stdout",
     "output_type": "stream",
     "text": [
      "Requirement already satisfied: alibi-detect in d:\\program files\\python310\\lib\\site-packages (0.11.5)\n",
      "Requirement already satisfied: scipy<2.0.0,>=1.3.0 in d:\\program files\\python310\\lib\\site-packages (from alibi-detect) (1.10.1)\n",
      "Requirement already satisfied: transformers<5.0.0,>=4.0.0 in d:\\program files\\python310\\lib\\site-packages (from alibi-detect) (4.38.0.dev0)\n",
      "Requirement already satisfied: dill<0.4.0,>=0.3.0 in d:\\program files\\python310\\lib\\site-packages (from alibi-detect) (0.3.7)\n",
      "Requirement already satisfied: scikit-learn<2.0.0,>=0.20.2 in d:\\program files\\python310\\lib\\site-packages (from alibi-detect) (1.4.1.post1)\n",
      "Requirement already satisfied: catalogue<3.0.0,>=2.0.0 in d:\\program files\\python310\\lib\\site-packages (from alibi-detect) (2.0.10)\n",
      "Requirement already satisfied: requests<3.0.0,>=2.21.0 in d:\\program files\\python310\\lib\\site-packages (from alibi-detect) (2.28.1)\n",
      "Requirement already satisfied: typing-extensions>=3.7.4.3 in d:\\program files\\python310\\lib\\site-packages (from alibi-detect) (4.4.0)\n",
      "Requirement already satisfied: toml<1.0.0,>=0.10.1 in d:\\program files\\python310\\lib\\site-packages (from alibi-detect) (0.10.2)\n",
      "Requirement already satisfied: Pillow<11.0.0,>=5.4.1 in d:\\program files\\python310\\lib\\site-packages (from alibi-detect) (9.5.0)\n",
      "Requirement already satisfied: numpy<2.0.0,>=1.16.2 in d:\\program files\\python310\\lib\\site-packages (from alibi-detect) (1.24.3)\n",
      "Requirement already satisfied: pydantic<2.0.0,>=1.8.0 in d:\\program files\\python310\\lib\\site-packages (from alibi-detect) (1.10.14)\n",
      "Requirement already satisfied: opencv-python<5.0.0,>=3.2.0 in d:\\program files\\python310\\lib\\site-packages (from alibi-detect) (4.9.0.80)\n",
      "Requirement already satisfied: numba!=0.54.0,<0.59.0,>=0.50.0 in d:\\program files\\python310\\lib\\site-packages (from alibi-detect) (0.58.1)\n",
      "Requirement already satisfied: tqdm<5.0.0,>=4.28.1 in d:\\program files\\python310\\lib\\site-packages (from alibi-detect) (4.65.0)\n",
      "Requirement already satisfied: pandas<3.0.0,>=1.0.0 in d:\\program files\\python310\\lib\\site-packages (from alibi-detect) (2.0.1)\n",
      "Requirement already satisfied: scikit-image<0.23,>=0.19 in d:\\program files\\python310\\lib\\site-packages (from alibi-detect) (0.22.0)\n",
      "Requirement already satisfied: matplotlib<4.0.0,>=3.0.0 in d:\\program files\\python310\\lib\\site-packages (from alibi-detect) (3.7.1)\n",
      "Requirement already satisfied: python-dateutil>=2.7 in d:\\program files\\python310\\lib\\site-packages (from matplotlib<4.0.0,>=3.0.0->alibi-detect) (2.8.2)\n",
      "Requirement already satisfied: packaging>=20.0 in d:\\program files\\python310\\lib\\site-packages (from matplotlib<4.0.0,>=3.0.0->alibi-detect) (23.1)\n",
      "Requirement already satisfied: fonttools>=4.22.0 in d:\\program files\\python310\\lib\\site-packages (from matplotlib<4.0.0,>=3.0.0->alibi-detect) (4.39.4)\n",
      "Requirement already satisfied: contourpy>=1.0.1 in d:\\program files\\python310\\lib\\site-packages (from matplotlib<4.0.0,>=3.0.0->alibi-detect) (1.0.7)\n",
      "Requirement already satisfied: pyparsing>=2.3.1 in d:\\program files\\python310\\lib\\site-packages (from matplotlib<4.0.0,>=3.0.0->alibi-detect) (3.0.9)\n",
      "Requirement already satisfied: kiwisolver>=1.0.1 in d:\\program files\\python310\\lib\\site-packages (from matplotlib<4.0.0,>=3.0.0->alibi-detect) (1.4.4)\n",
      "Requirement already satisfied: cycler>=0.10 in d:\\program files\\python310\\lib\\site-packages (from matplotlib<4.0.0,>=3.0.0->alibi-detect) (0.11.0)\n",
      "Requirement already satisfied: llvmlite<0.42,>=0.41.0dev0 in d:\\program files\\python310\\lib\\site-packages (from numba!=0.54.0,<0.59.0,>=0.50.0->alibi-detect) (0.41.1)\n",
      "Requirement already satisfied: tzdata>=2022.1 in d:\\program files\\python310\\lib\\site-packages (from pandas<3.0.0,>=1.0.0->alibi-detect) (2023.3)\n",
      "Requirement already satisfied: pytz>=2020.1 in d:\\program files\\python310\\lib\\site-packages (from pandas<3.0.0,>=1.0.0->alibi-detect) (2023.3)\n",
      "Requirement already satisfied: idna<4,>=2.5 in d:\\program files\\python310\\lib\\site-packages (from requests<3.0.0,>=2.21.0->alibi-detect) (3.4)\n",
      "Requirement already satisfied: certifi>=2017.4.17 in d:\\program files\\python310\\lib\\site-packages (from requests<3.0.0,>=2.21.0->alibi-detect) (2022.12.7)\n",
      "Requirement already satisfied: charset-normalizer<3,>=2 in d:\\program files\\python310\\lib\\site-packages (from requests<3.0.0,>=2.21.0->alibi-detect) (2.1.1)\n",
      "Requirement already satisfied: urllib3<1.27,>=1.21.1 in d:\\program files\\python310\\lib\\site-packages (from requests<3.0.0,>=2.21.0->alibi-detect) (1.26.13)\n",
      "Requirement already satisfied: imageio>=2.27 in d:\\program files\\python310\\lib\\site-packages (from scikit-image<0.23,>=0.19->alibi-detect) (2.31.1)\n",
      "Requirement already satisfied: networkx>=2.8 in d:\\program files\\python310\\lib\\site-packages (from scikit-image<0.23,>=0.19->alibi-detect) (3.0)\n",
      "Requirement already satisfied: tifffile>=2022.8.12 in d:\\program files\\python310\\lib\\site-packages (from scikit-image<0.23,>=0.19->alibi-detect) (2024.2.12)\n",
      "Requirement already satisfied: lazy_loader>=0.3 in d:\\program files\\python310\\lib\\site-packages (from scikit-image<0.23,>=0.19->alibi-detect) (0.3)\n",
      "Requirement already satisfied: threadpoolctl>=2.0.0 in d:\\program files\\python310\\lib\\site-packages (from scikit-learn<2.0.0,>=0.20.2->alibi-detect) (3.1.0)\n",
      "Requirement already satisfied: joblib>=1.2.0 in d:\\program files\\python310\\lib\\site-packages (from scikit-learn<2.0.0,>=0.20.2->alibi-detect) (1.2.0)\n",
      "Requirement already satisfied: colorama in d:\\program files\\python310\\lib\\site-packages (from tqdm<5.0.0,>=4.28.1->alibi-detect) (0.4.6)\n",
      "Requirement already satisfied: regex!=2019.12.17 in d:\\program files\\python310\\lib\\site-packages (from transformers<5.0.0,>=4.0.0->alibi-detect) (2023.6.3)\n",
      "Requirement already satisfied: tokenizers<0.19,>=0.14 in d:\\program files\\python310\\lib\\site-packages (from transformers<5.0.0,>=4.0.0->alibi-detect) (0.15.1)\n",
      "Requirement already satisfied: huggingface-hub<1.0,>=0.19.3 in d:\\program files\\python310\\lib\\site-packages (from transformers<5.0.0,>=4.0.0->alibi-detect) (0.20.3)\n",
      "Requirement already satisfied: pyyaml>=5.1 in d:\\program files\\python310\\lib\\site-packages (from transformers<5.0.0,>=4.0.0->alibi-detect) (6.0)\n",
      "Requirement already satisfied: safetensors>=0.4.1 in d:\\program files\\python310\\lib\\site-packages (from transformers<5.0.0,>=4.0.0->alibi-detect) (0.4.2)\n",
      "Requirement already satisfied: filelock in d:\\program files\\python310\\lib\\site-packages (from transformers<5.0.0,>=4.0.0->alibi-detect) (3.9.0)\n",
      "Requirement already satisfied: fsspec>=2023.5.0 in d:\\program files\\python310\\lib\\site-packages (from huggingface-hub<1.0,>=0.19.3->transformers<5.0.0,>=4.0.0->alibi-detect) (2023.6.0)\n",
      "Requirement already satisfied: six>=1.5 in d:\\program files\\python310\\lib\\site-packages (from python-dateutil>=2.7->matplotlib<4.0.0,>=3.0.0->alibi-detect) (1.16.0)\n"
     ]
    },
    {
     "name": "stderr",
     "output_type": "stream",
     "text": [
      "\n",
      "[notice] A new release of pip is available: 23.0.1 -> 24.0\n",
      "[notice] To update, run: python.exe -m pip install --upgrade pip\n"
     ]
    }
   ],
   "source": [
    "!pip install alibi-detect"
   ]
  },
  {
   "cell_type": "code",
   "execution_count": 2,
   "metadata": {
    "id": "E7dD3Ihi4GF9"
   },
   "outputs": [],
   "source": [
    "SEED = 42\n",
    "\n",
    "import os\n",
    "\n",
    "import random\n",
    "random.seed(SEED)\n",
    "\n",
    "import numpy as np\n",
    "np.random.seed(SEED)\n",
    "\n",
    "import pandas as pd\n",
    "\n",
    "from alibi_detect.cd import TabularDrift"
   ]
  },
  {
   "cell_type": "markdown",
   "metadata": {
    "id": "xJjXNMOqcHVJ"
   },
   "source": [
    "1.Evaluate your model from B1 on data from year 2022 and report the test R2."
   ]
  },
  {
   "cell_type": "code",
   "execution_count": 6,
   "metadata": {
    "id": "fOUcXL5OXASY"
   },
   "outputs": [
    {
     "data": {
      "text/html": [
       "<pre style=\"white-space:pre;overflow-x:auto;line-height:normal;font-family:Menlo,'DejaVu Sans Mono',consolas,'Courier New',monospace\"><span style=\"color: #008080; text-decoration-color: #008080; font-weight: bold\">2024</span>-<span style=\"color: #008080; text-decoration-color: #008080; font-weight: bold\">03</span>-<span style=\"color: #008080; text-decoration-color: #008080; font-weight: bold\">13</span> <span style=\"color: #00ff00; text-decoration-color: #00ff00; font-weight: bold\">01:35:31</span>,<span style=\"color: #008080; text-decoration-color: #008080; font-weight: bold\">273</span> - <span style=\"font-weight: bold\">{</span>pytorch_tabular.tabular_model:<span style=\"color: #008080; text-decoration-color: #008080; font-weight: bold\">165</span><span style=\"font-weight: bold\">}</span> - INFO - Experiment Tracking is turned off           \n",
       "</pre>\n"
      ],
      "text/plain": [
       "\u001b[1;36m2024\u001b[0m-\u001b[1;36m03\u001b[0m-\u001b[1;36m13\u001b[0m \u001b[1;92m01:35:31\u001b[0m,\u001b[1;36m273\u001b[0m - \u001b[1m{\u001b[0mpytorch_tabular.tabular_model:\u001b[1;36m165\u001b[0m\u001b[1m}\u001b[0m - INFO - Experiment Tracking is turned off           \n"
      ]
     },
     "metadata": {},
     "output_type": "display_data"
    },
    {
     "data": {
      "text/html": [
       "<pre style=\"white-space:pre;overflow-x:auto;line-height:normal;font-family:Menlo,'DejaVu Sans Mono',consolas,'Courier New',monospace\"><span style=\"color: #008080; text-decoration-color: #008080; font-weight: bold\">2024</span>-<span style=\"color: #008080; text-decoration-color: #008080; font-weight: bold\">03</span>-<span style=\"color: #008080; text-decoration-color: #008080; font-weight: bold\">13</span> <span style=\"color: #00ff00; text-decoration-color: #00ff00; font-weight: bold\">01:35:31</span>,<span style=\"color: #008080; text-decoration-color: #008080; font-weight: bold\">277</span> - <span style=\"font-weight: bold\">{</span>pytorch_tabular.tabular_model:<span style=\"color: #008080; text-decoration-color: #008080; font-weight: bold\">340</span><span style=\"font-weight: bold\">}</span> - INFO - Preparing the Trainer                       \n",
       "</pre>\n"
      ],
      "text/plain": [
       "\u001b[1;36m2024\u001b[0m-\u001b[1;36m03\u001b[0m-\u001b[1;36m13\u001b[0m \u001b[1;92m01:35:31\u001b[0m,\u001b[1;36m277\u001b[0m - \u001b[1m{\u001b[0mpytorch_tabular.tabular_model:\u001b[1;36m340\u001b[0m\u001b[1m}\u001b[0m - INFO - Preparing the Trainer                       \n"
      ]
     },
     "metadata": {},
     "output_type": "display_data"
    },
    {
     "name": "stderr",
     "output_type": "stream",
     "text": [
      "Trainer already configured with model summary callbacks: [<class 'pytorch_lightning.callbacks.rich_model_summary.RichModelSummary'>]. Skipping setting a default `ModelSummary` callback.\n",
      "GPU available: True (cuda), used: True\n",
      "TPU available: False, using: 0 TPU cores\n",
      "IPU available: False, using: 0 IPUs\n",
      "HPU available: False, using: 0 HPUs\n"
     ]
    },
    {
     "name": "stdout",
     "output_type": "stream",
     "text": [
      "2022 R2: 0.41781363520246395\n"
     ]
    }
   ],
   "source": [
    "df = pd.read_csv('hdb_price_prediction.csv')\n",
    "\n",
    "# TODO: Enter your code here\n",
    "import pytorch_tabular\n",
    "from sklearn.metrics import r2_score\n",
    "\n",
    "# load model\n",
    "model = pytorch_tabular.tabular_model.TabularModel.load_model('b1')\n",
    "\n",
    "# load data\n",
    "test_data_2022 = df[df['year'] == 2022]\n",
    "\n",
    "# test data\n",
    "pred_2022 = model.predict(test_data_2022)\n",
    "r2_2022 = r2_score(test_data_2022['resale_price'], pred_2022['resale_price_prediction'])\n",
    "\n",
    "print(f\"2022 R2: {r2_2022}\")"
   ]
  },
  {
   "cell_type": "markdown",
   "metadata": {
    "id": "Gsbs0iMiaUy-"
   },
   "source": [
    "2.Evaluate your model from B1 on data from year 2023 and report the test R2."
   ]
  },
  {
   "cell_type": "code",
   "execution_count": 8,
   "metadata": {
    "id": "B4FLRQfBaRS-"
   },
   "outputs": [
    {
     "name": "stdout",
     "output_type": "stream",
     "text": [
      "2023 R2: 0.13473505427989907\n"
     ]
    }
   ],
   "source": [
    "# TODO: Enter your code here\n",
    "test_data_2023 = df[df['year'] == 2023]\n",
    "\n",
    "# test data\n",
    "pred_2023 = model.predict(test_data_2023)\n",
    "r2_2023 = r2_score(test_data_2023['resale_price'], pred_2023['resale_price_prediction'])\n",
    "\n",
    "print(f\"2023 R2: {r2_2023}\")"
   ]
  },
  {
   "cell_type": "markdown",
   "metadata": {
    "id": "11mU8sxcaSAP"
   },
   "source": [
    "3.Did model degradation occur for the deep learning model?\n"
   ]
  },
  {
   "cell_type": "code",
   "execution_count": null,
   "metadata": {
    "id": "nviGacm6aSlf"
   },
   "outputs": [],
   "source": [
    "# YOUR ANSWER HERE"
   ]
  },
  {
   "cell_type": "markdown",
   "metadata": {},
   "source": []
  },
  {
   "cell_type": "markdown",
   "metadata": {
    "id": "KyiP8gBAcABD"
   },
   "source": [
    "\n",
    "\n",
    "---\n",
    "\n",
    "\n",
    "\n",
    "---\n",
    "\n"
   ]
  },
  {
   "cell_type": "markdown",
   "metadata": {
    "id": "ruldtSTDcYzt"
   },
   "source": [
    "4.Model degradation could be caused by [various data distribution shifts](https://huyenchip.com/2022/02/07/data-distribution-shifts-and-monitoring.html#data-shift-types): covariate shift (features), label shift and/or concept drift (altered relationship between features and labels).\n",
    "There are various conflicting terminologies in the [literature](https://www.sciencedirect.com/science/article/pii/S0950705122002854#tbl1). Let’s stick to this reference for this assignment.\n",
    "\n",
    "> Using the **Alibi Detect** library, apply the **TabularDrift** function with the training data (year 2019 and before) used as the reference and **detect which features have drifted** in the 2023 test dataset. Before running the statistical tests, ensure you **sample 1000 data points** each from the train and test data. Do not use the whole train/test data. (Hint: use this example as a guide https://docs.seldon.io/projects/alibi-detect/en/stable/examples/cd_chi2ks_adult.html)\n"
   ]
  },
  {
   "cell_type": "code",
   "execution_count": 2,
   "metadata": {
    "id": "nGbdZc3ocYbB"
   },
   "outputs": [],
   "source": [
    "# YOUR CODE HERE"
   ]
  },
  {
   "cell_type": "markdown",
   "metadata": {
    "id": "Xmj3qq3PkJUf"
   },
   "source": [
    "5.Assuming that the flurry of housing measures have made an impact on the relationship between all the features and resale_price (i.e. P(Y|X) changes), which type of data distribution shift possibly led to model degradation?\n"
   ]
  },
  {
   "cell_type": "code",
   "execution_count": 3,
   "metadata": {
    "id": "5UOsX4JqkZ9S"
   },
   "outputs": [],
   "source": [
    "# YOUR ANSWER HERE"
   ]
  },
  {
   "cell_type": "markdown",
   "metadata": {},
   "source": []
  },
  {
   "cell_type": "markdown",
   "metadata": {
    "id": "DM2OoOJdkZj1"
   },
   "source": [
    "6.From your analysis via TabularDrift, which features contribute to this shift?\n"
   ]
  },
  {
   "cell_type": "code",
   "execution_count": 5,
   "metadata": {
    "id": "V3licBjskdLL"
   },
   "outputs": [],
   "source": [
    "# YOUR ANSWER HERE"
   ]
  },
  {
   "cell_type": "markdown",
   "metadata": {},
   "source": []
  },
  {
   "cell_type": "markdown",
   "metadata": {
    "id": "yB3fSvKskhEJ"
   },
   "source": [
    "7.Suggest 1 way to address model degradation and implement it, showing improved test R2 for year 2023.\n"
   ]
  },
  {
   "cell_type": "code",
   "execution_count": null,
   "metadata": {
    "id": "EqFinZObcYXu"
   },
   "outputs": [],
   "source": [
    "# YOUR CODE HERE"
   ]
  },
  {
   "cell_type": "code",
   "execution_count": null,
   "metadata": {},
   "outputs": [],
   "source": []
  },
  {
   "cell_type": "markdown",
   "metadata": {
    "id": "wQG9hZvAaq5g"
   },
   "source": [
    "### Appendix A\n",
    "\n"
   ]
  },
  {
   "cell_type": "markdown",
   "metadata": {
    "id": "G_ARi2OxbDuZ"
   },
   "source": [
    "Here are our results from a linear regression model. We used StandardScaler for continuous variables and OneHotEncoder for categorical variables.\n",
    "\n",
    "While 2021 data can be predicted well, test R2 dropped rapidly for 2022 and 2023.\n",
    "\n",
    "| Training set | Test set | Test R2 |\n",
    "|--------------|----------|---------|\n",
    "| Year <= 2020 | 2021     | 0.76    |\n",
    "| Year <= 2020 | **2022**     | 0.41    |\n",
    "| Year <= 2020 | **2023**     | **0.10**   |\n",
    "\n"
   ]
  },
  {
   "cell_type": "markdown",
   "metadata": {
    "id": "vmv91FqgbI8h"
   },
   "source": [
    "Similarly, a model trained on 2017 data can predict 2018-2021 well (with slight degradation in performance for 2021), but drops drastically in 2022 and 2023.\n",
    "\n",
    "| Training set | Test set | Test R2 |\n",
    "|--------------|----------|---------|\n",
    "| 2017         | 2018     | 0.90    |\n",
    "|              | 2019     | 0.89    |\n",
    "|              | 2020     | 0.87    |\n",
    "|              | 2021     | 0.72    |\n",
    "|              | **2022**     | **0.37**    |\n",
    "|              | **2023**     | **0.09**    |"
   ]
  },
  {
   "cell_type": "markdown",
   "metadata": {
    "id": "ayKGs106bI6S"
   },
   "source": [
    "With the test set fixed at year 2021, training on data from 2017-2020 still works well on the test data, with minimal degradation. Training sets closer to year 2021 generally do better.\n",
    "\n",
    "| Training set | Test set | Test R2 |\n",
    "|--------------|----------|---------|\n",
    "| 2020         | 2021     | 0.81    |\n",
    "| 2019         | 2021     | 0.75    |\n",
    "| 2018         | 2021     | 0.73    |\n",
    "| 2017         | 2021     | 0.72    |"
   ]
  }
 ],
 "metadata": {
  "colab": {
   "authorship_tag": "ABX9TyNWUKTcEICJ0j/YcXkGkr53",
   "collapsed_sections": [
    "wQG9hZvAaq5g"
   ],
   "provenance": []
  },
  "kernelspec": {
   "display_name": "Python 3 (ipykernel)",
   "language": "python",
   "name": "python3"
  },
  "language_info": {
   "codemirror_mode": {
    "name": "ipython",
    "version": 3
   },
   "file_extension": ".py",
   "mimetype": "text/x-python",
   "name": "python",
   "nbconvert_exporter": "python",
   "pygments_lexer": "ipython3",
   "version": "3.10.11"
  }
 },
 "nbformat": 4,
 "nbformat_minor": 1
}
