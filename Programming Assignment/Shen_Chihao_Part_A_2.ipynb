{
 "cells": [
  {
   "cell_type": "markdown",
   "metadata": {},
   "source": [
    "# Question A2 (10 marks)"
   ]
  },
  {
   "cell_type": "markdown",
   "metadata": {},
   "source": [
    "### In this question, we will determine the optimal batch size for mini-batch gradient descent. Find the optimal batch size for mini-batch gradient descent by training the neural network and evaluating the performances for different batch sizes. Note: Use 5-fold cross-validation on training partition to perform hyperparameter selection. You will have to reconsider the scaling of the dataset during the 5-fold cross validation.\n"
   ]
  },
  {
   "cell_type": "markdown",
   "metadata": {},
   "source": [
    "#### Plot mean cross-validation accuracies on the final epoch for different batch sizes as a scatter plot. Limit search space to batch sizes {64, 128, 256, 512, 1024}. Next, create a table of time taken to train the network on the last epoch against different batch sizes. Finally, select the optimal batch size and state a reason for your selection.\n",
    "\n",
    "This might take a while to run, so plan your time carefully."
   ]
  },
  {
   "cell_type": "code",
   "execution_count": 1,
   "metadata": {},
   "outputs": [],
   "source": [
    "import tqdm\n",
    "import time\n",
    "import random\n",
    "import numpy as np\n",
    "import pandas as pd\n",
    "import matplotlib.pyplot as plt\n",
    "\n",
    "import torch\n",
    "from torch import nn\n",
    "from torch.utils.data import Dataset\n",
    "from torch.utils.data import DataLoader\n",
    "\n",
    "from scipy.io import wavfile as wav\n",
    "\n",
    "from sklearn import preprocessing\n",
    "from sklearn.model_selection import KFold\n",
    "from sklearn.model_selection import train_test_split\n",
    "from sklearn.metrics import f1_score, precision_score, recall_score, confusion_matrix\n",
    "\n",
    "from common_utils import set_seed\n",
    "\n",
    "# setting seed\n",
    "set_seed()"
   ]
  },
  {
   "cell_type": "markdown",
   "metadata": {},
   "source": [
    "1.To reduce repeated code, place your\n",
    "\n",
    "- network (MLP defined in QA1)\n",
    "\n",
    "- torch datasets (CustomDataset defined in QA1)\n",
    "- loss function (loss_fn defined in QA1)\n",
    "in a separate file called common_utils.py\n",
    "\n",
    "Import them into this file. You will not be repenalised for any error in QA1 here as the code in QA1 will not be remarked.\n",
    "\n",
    "The following code cell will not be marked."
   ]
  },
  {
   "cell_type": "code",
   "execution_count": 2,
   "metadata": {},
   "outputs": [],
   "source": [
    "# YOUR CODE HERE\n",
    "from common_utils import MLP, CustomDataset, loss_fn"
   ]
  },
  {
   "cell_type": "code",
   "execution_count": null,
   "metadata": {},
   "outputs": [],
   "source": []
  },
  {
   "cell_type": "markdown",
   "metadata": {},
   "source": [
    "2.Define different folds for different batch sizes to get a dictionary of training and validation datasets. Preprocess your datasets accordingly."
   ]
  },
  {
   "cell_type": "code",
   "execution_count": 3,
   "metadata": {},
   "outputs": [],
   "source": [
    "def generate_cv_folds_for_batch_sizes(parameters, X_train, y_train):\n",
    "    \"\"\"\n",
    "    returns:\n",
    "    X_train_scaled_dict(dict) where X_train_scaled_dict[batch_size] is a list of the preprocessed training matrix for the different folds.\n",
    "    X_val_scaled_dict(dict) where X_val_scaled_dict[batch_size] is a list of the processed validation matrix for the different folds.\n",
    "    y_train_dict(dict) where y_train_dict[batch_size] is a list of labels for the different folds\n",
    "    y_val_dict(dict) where y_val_dict[batch_size] is a list of labels for the different folds\n",
    "    \"\"\"\n",
    "    # YOUR CODE HERE\n",
    "    X_train_scaled_dict, X_val_scaled_dict, y_train_dict, y_val_dict = {}, {}, {}, {}\n",
    "    \n",
    "    # perform 5 fold cross validation\n",
    "    kf = KFold(n_splits=5, shuffle=True, random_state=100)\n",
    "    for b in parameters:\n",
    "        X_train_scaled_list, X_val_scaled_list, y_train_list, y_val_list = [], [], [], []\n",
    "\n",
    "        for train_index, val_index in kf.split(X_train):\n",
    "            # split training and validation set\n",
    "            X_train_fold, X_val_fold, y_train_fold, y_val_fold = X_train[train_index], X_train[val_index], y_train[train_index], y_train[val_index]\n",
    "            scaler = preprocessing.StandardScaler()\n",
    "            \n",
    "            # do scaling independently on each cross validation set\n",
    "            X_train_scaled_fold = scaler.fit_transform(X_train_fold)\n",
    "            X_val_scaled_fold = scaler.transform(X_val_fold)\n",
    "            \n",
    "            # add to the list\n",
    "            X_train_scaled_list.append(X_train_scaled_fold)\n",
    "            X_val_scaled_list.append(X_val_scaled_fold)\n",
    "            y_train_list.append(y_train_fold)\n",
    "            y_val_list.append(y_val_fold)\n",
    "        \n",
    "        # add to the dict\n",
    "        X_train_scaled_dict[b] = X_train_scaled_list\n",
    "        X_val_scaled_dict[b] = X_val_scaled_list\n",
    "        y_train_dict[b] = y_train_list\n",
    "        y_val_dict[b] = y_val_list\n",
    "\n",
    "            \n",
    "    return X_train_scaled_dict, X_val_scaled_dict, y_train_dict, y_val_dict\n",
    "\n",
    "from common_utils import split_dataset\n",
    "# load data\n",
    "df = pd.read_csv('simplified.csv')\n",
    "df['label'] = df['filename'].str.split('_').str[-2]\n",
    "columns_to_drop = ['filename', 'label']\n",
    "\n",
    "# perform data splitting first\n",
    "X_train, y_train, X_test, y_test = split_dataset(df, columns_to_drop=columns_to_drop, test_size=0.25, random_state=100)\n",
    "\n",
    "# do 5-fold split\n",
    "batch_sizes = [64, 128, 256, 512, 1024]\n",
    "X_train_scaled_dict, X_val_scaled_dict, y_train_dict, y_val_dict = generate_cv_folds_for_batch_sizes(batch_sizes, X_train.to_numpy(), y_train)\n"
   ]
  },
  {
   "cell_type": "code",
   "execution_count": null,
   "metadata": {},
   "outputs": [],
   "source": []
  },
  {
   "cell_type": "code",
   "execution_count": null,
   "metadata": {},
   "outputs": [],
   "source": []
  },
  {
   "cell_type": "markdown",
   "metadata": {},
   "source": [
    "3.Perform hyperparameter tuning for the different batch sizes with 5-fold cross validation."
   ]
  },
  {
   "cell_type": "code",
   "execution_count": 4,
   "metadata": {},
   "outputs": [
    {
     "name": "stdout",
     "output_type": "stream",
     "text": [
      "batch size: 64\n"
     ]
    },
    {
     "name": "stderr",
     "output_type": "stream",
     "text": [
      "D:\\Program Files\\Python310\\lib\\site-packages\\tqdm\\auto.py:21: TqdmWarning: IProgress not found. Please update jupyter and ipywidgets. See https://ipywidgets.readthedocs.io/en/stable/user_install.html\n",
      "  from .autonotebook import tqdm as notebook_tqdm\n"
     ]
    },
    {
     "name": "stdout",
     "output_type": "stream",
     "text": [
      "Early stopping at epoch 24!\n",
      "experiment 1: accuracy: 0.736871; last epoch time 0.617354\n",
      "Early stopping at epoch 14!\n",
      "experiment 2: accuracy: 0.712548; last epoch time 0.604116\n",
      "Early stopping at epoch 26!\n",
      "experiment 3: accuracy: 0.740597; last epoch time 0.570712\n",
      "Early stopping at epoch 20!\n",
      "experiment 4: accuracy: 0.710730; last epoch time 0.719841\n",
      "Early stopping at epoch 29!\n",
      "experiment 5: accuracy: 0.755531; last epoch time 0.659094\n",
      "batch size 64: mean accuracy: 0.731256; mean last epoch time 0.634224\n",
      "batch size: 128\n",
      "Early stopping at epoch 26!\n",
      "experiment 1: accuracy: 0.739635; last epoch time 0.389210\n",
      "Early stopping at epoch 25!\n",
      "experiment 2: accuracy: 0.746269; last epoch time 0.366104\n",
      "Early stopping at epoch 25!\n",
      "experiment 3: accuracy: 0.726217; last epoch time 0.380426\n",
      "Early stopping at epoch 20!\n",
      "experiment 4: accuracy: 0.721792; last epoch time 0.399664\n",
      "Early stopping at epoch 33!\n",
      "experiment 5: accuracy: 0.768252; last epoch time 0.362040\n",
      "batch size 128: mean accuracy: 0.740433; mean last epoch time 0.379489\n",
      "batch size: 256\n",
      "Early stopping at epoch 26!\n",
      "experiment 1: accuracy: 0.723051; last epoch time 0.287470\n",
      "Early stopping at epoch 26!\n",
      "experiment 2: accuracy: 0.745163; last epoch time 0.289089\n",
      "Early stopping at epoch 31!\n",
      "experiment 3: accuracy: 0.740597; last epoch time 0.271108\n",
      "Early stopping at epoch 32!\n",
      "experiment 4: accuracy: 0.738938; last epoch time 0.282562\n",
      "Early stopping at epoch 42!\n",
      "experiment 5: accuracy: 0.766593; last epoch time 0.277288\n",
      "batch size 256: mean accuracy: 0.742869; mean last epoch time 0.281504\n",
      "batch size: 512\n",
      "Early stopping at epoch 26!\n",
      "experiment 1: accuracy: 0.696517; last epoch time 0.346480\n",
      "Early stopping at epoch 37!\n",
      "experiment 2: accuracy: 0.735766; last epoch time 0.230151\n",
      "Early stopping at epoch 25!\n",
      "experiment 3: accuracy: 0.694137; last epoch time 0.223933\n",
      "Early stopping at epoch 25!\n",
      "experiment 4: accuracy: 0.699115; last epoch time 0.243658\n",
      "Early stopping at epoch 45!\n",
      "experiment 5: accuracy: 0.754978; last epoch time 0.237887\n",
      "batch size 512: mean accuracy: 0.716103; mean last epoch time 0.256422\n",
      "batch size: 1024\n",
      "Early stopping at epoch 38!\n",
      "experiment 1: accuracy: 0.695412; last epoch time 0.820647\n",
      "Early stopping at epoch 45!\n",
      "experiment 2: accuracy: 0.703704; last epoch time 0.529458\n",
      "Early stopping at epoch 40!\n",
      "experiment 3: accuracy: 0.679204; last epoch time 0.414204\n",
      "Early stopping at epoch 27!\n",
      "experiment 4: accuracy: 0.664270; last epoch time 0.527585\n",
      "Early stopping at epoch 33!\n",
      "experiment 5: accuracy: 0.684181; last epoch time 0.546786\n",
      "batch size 1024: mean accuracy: 0.685354; mean last epoch time 0.567736\n"
     ]
    }
   ],
   "source": [
    "# YOUR CODE HERE\n",
    "from common_utils import EarlyStopper\n",
    "\n",
    "# training function\n",
    "def train_loop(dataloader, model, loss_fn, optimizer):\n",
    "    model.train()  # inform Dropout layer to work\n",
    "    for X, y in dataloader:\n",
    "        # forward pass and compute loss\n",
    "        pred = model(X).reshape(-1)\n",
    "        loss = loss_fn(pred, y.float())\n",
    "\n",
    "        # back-prop and update parameters\n",
    "        optimizer.zero_grad()\n",
    "        loss.backward()\n",
    "        optimizer.step()\n",
    "\n",
    "# validation function\n",
    "def val_loop(dataloader, model, loss_fn):\n",
    "    size = len(dataloader.dataset)\n",
    "    val_loss, correct = 0, 0\n",
    "    model.eval()  # inform no dropout during validation\n",
    "\n",
    "    with torch.no_grad():\n",
    "        for X, y in dataloader:\n",
    "            # forward pass\n",
    "            pred = model(X).reshape(-1)\n",
    "            val_loss += loss_fn(pred, y.float()).item() * X.size(0)\n",
    "            \n",
    "            correct += ((pred > 0.5).long() == y).type(torch.float).sum().item()\n",
    "\n",
    "    val_loss /= size\n",
    "    val_acc = correct / size\n",
    "    return val_loss, val_acc\n",
    "\n",
    "def find_optimal_hyperparameter(X_train_scaled_dict, X_val_scaled_dict, y_train_dict, y_val_dict, batch_sizes, para_name='batch_size'):\n",
    "    no_features = 77 # feature number\n",
    "    no_hidden = 128  # neuron number of hidden layers\n",
    "    no_labels = 1  # output label number\n",
    "    lr = 0.001  # learning rate\n",
    "\n",
    "    accuracies = {}\n",
    "    last_epoch_times = {}\n",
    "\n",
    "    for b in batch_sizes:\n",
    "        accuracy = []\n",
    "        last_epoch_time = []\n",
    "        print(f\"batch size: {b}\")\n",
    "\n",
    "        for i in range(5):\n",
    "            no_epochs = 100  # set epoch number\n",
    "\n",
    "            # initialize model\n",
    "            model = MLP(no_features, no_hidden, no_labels)\n",
    "\n",
    "            # set Adam optimizer\n",
    "            optimizer = torch.optim.Adam(model.parameters(), lr=lr)\n",
    "\n",
    "            # set DataLoader\n",
    "            train_dataset = CustomDataset(X_train_scaled_dict[b][i], y_train_dict[b][i])\n",
    "            val_dataset = CustomDataset(X_val_scaled_dict[b][i], y_val_dict[b][i])\n",
    "            train_dataloader = DataLoader(train_dataset, batch_size=b, shuffle=True)\n",
    "            val_dataloader = DataLoader(val_dataset, batch_size=b, shuffle=True)\n",
    "\n",
    "            # initialize early stopper\n",
    "            early_stopper = EarlyStopper(patience=3, min_delta=0)\n",
    "\n",
    "            # start training\n",
    "            for epoch in range(no_epochs):\n",
    "                start_time = time.time()\n",
    "\n",
    "                train_loop(train_dataloader, model, loss_fn, optimizer)\n",
    "        \n",
    "                val_loss, val_acc = val_loop(val_dataloader, model, loss_fn)\n",
    "\n",
    "                end_time = time.time()\n",
    "\n",
    "                # early stop setting\n",
    "                if early_stopper.early_stop(val_loss): \n",
    "                    print(f\"Early stopping at epoch {epoch + 1}!\")\n",
    "                    break\n",
    "            \n",
    "            # update accuracy and time\n",
    "            accuracy.append(val_acc)\n",
    "            last_epoch_time.append(end_time - start_time)\n",
    "            print(f\"experiment {i + 1}: accuracy: {val_acc:>4f}; last epoch time {end_time - start_time:>4f}\")\n",
    "\n",
    "        accuracies[b] = accuracy \n",
    "        last_epoch_times[b] = last_epoch_time\n",
    "        print(f\"batch size {b}: mean accuracy: {sum(accuracies[b]) / 5:>4f}; mean last epoch time {sum(last_epoch_times[b]) / 5:>4f}\")\n",
    "\n",
    "    return accuracies, last_epoch_times\n",
    "\n",
    "\n",
    "batch_sizes = [64, 128, 256, 512, 1024]\n",
    "cross_validation_accuracies, cross_validation_times = find_optimal_hyperparameter(X_train_scaled_dict, X_val_scaled_dict, y_train_dict, y_val_dict, batch_sizes, 'batch_size')\n"
   ]
  },
  {
   "cell_type": "code",
   "execution_count": null,
   "metadata": {},
   "outputs": [],
   "source": []
  },
  {
   "cell_type": "code",
   "execution_count": null,
   "metadata": {},
   "outputs": [],
   "source": []
  },
  {
   "cell_type": "markdown",
   "metadata": {},
   "source": [
    "4.Plot scatterplot of mean cross validation accuracies for the different batch sizes."
   ]
  },
  {
   "cell_type": "code",
   "execution_count": 5,
   "metadata": {},
   "outputs": [
    {
     "data": {
      "image/png": "[encoded data removed]",
      "text/plain": [
       "<Figure size 640x480 with 1 Axes>"
      ]
     },
     "metadata": {},
     "output_type": "display_data"
    }
   ],
   "source": [
    "# YOUR CODE HERE\n",
    "# plot accuracies\n",
    "batch_sizes_list = list(cross_validation_accuracies.keys())\n",
    "mean_accuracies = [sum(cross_validation_accuracies[batch_size]) / len(cross_validation_accuracies[batch_size]) for batch_size in batch_sizes_list]\n",
    "mean_last_epoch_times = [sum(cross_validation_times[batch_size]) / len(cross_validation_times[batch_size]) for batch_size in batch_sizes_list]\n",
    "plt.xlabel('batch Sizes')\n",
    "plt.xticks(batch_sizes_list)\n",
    "plt.ylabel('mean cross validation accuracy')\n",
    "plt.title('Mean Cross Validation Accuracy w.r.t. Batch Size')\n",
    "plt.scatter(batch_sizes_list, mean_accuracies)\n",
    "\n",
    "for i, txt in enumerate(zip(batch_sizes_list, mean_accuracies)):\n",
    "    plt.annotate(f'{txt[1]:.4f}', (batch_sizes_list[i], mean_accuracies[i]), textcoords=\"offset points\", xytext=(1, 4), ha='center')"
   ]
  },
  {
   "cell_type": "markdown",
   "metadata": {},
   "source": [
    "4.Create a table of time taken to train the network on the last epoch against different batch sizes. Select the optimal batch size and state a reason for your selection."
   ]
  },
  {
   "cell_type": "code",
   "execution_count": 6,
   "metadata": {},
   "outputs": [
    {
     "data": {
      "text/html": [
       "<div>\n",
       "<style scoped>\n",
       "    .dataframe tbody tr th:only-of-type {\n",
       "        vertical-align: middle;\n",
       "    }\n",
       "\n",
       "    .dataframe tbody tr th {\n",
       "        vertical-align: top;\n",
       "    }\n",
       "\n",
       "    .dataframe thead th {\n",
       "        text-align: right;\n",
       "    }\n",
       "</style>\n",
       "<table border=\"1\" class=\"dataframe\">\n",
       "  <thead>\n",
       "    <tr style=\"text-align: right;\">\n",
       "      <th></th>\n",
       "      <th>Batch Size</th>\n",
       "      <th>Last Epoch Time</th>\n",
       "    </tr>\n",
       "  </thead>\n",
       "  <tbody>\n",
       "    <tr>\n",
       "      <th>0</th>\n",
       "      <td>64</td>\n",
       "      <td>0.634224</td>\n",
       "    </tr>\n",
       "    <tr>\n",
       "      <th>1</th>\n",
       "      <td>128</td>\n",
       "      <td>0.379489</td>\n",
       "    </tr>\n",
       "    <tr>\n",
       "      <th>2</th>\n",
       "      <td>256</td>\n",
       "      <td>0.281504</td>\n",
       "    </tr>\n",
       "    <tr>\n",
       "      <th>3</th>\n",
       "      <td>512</td>\n",
       "      <td>0.256422</td>\n",
       "    </tr>\n",
       "    <tr>\n",
       "      <th>4</th>\n",
       "      <td>1024</td>\n",
       "      <td>0.567736</td>\n",
       "    </tr>\n",
       "  </tbody>\n",
       "</table>\n",
       "</div>"
      ],
      "text/plain": [
       "   Batch Size  Last Epoch Time\n",
       "0          64         0.634224\n",
       "1         128         0.379489\n",
       "2         256         0.281504\n",
       "3         512         0.256422\n",
       "4        1024         0.567736"
      ]
     },
     "execution_count": 6,
     "metadata": {},
     "output_type": "execute_result"
    }
   ],
   "source": [
    "\n",
    "\n",
    "df = pd.DataFrame({'Batch Size': batch_sizes_list,\n",
    "                   'Last Epoch Time': mean_last_epoch_times\n",
    "                  })\n",
    "\n",
    "df"
   ]
  },
  {
   "cell_type": "code",
   "execution_count": null,
   "metadata": {},
   "outputs": [],
   "source": []
  },
  {
   "cell_type": "code",
   "execution_count": 7,
   "metadata": {},
   "outputs": [],
   "source": [
    "# YOUR CODE HERE\n",
    "optimal_batch_size = 256\n",
    "reason = \"We choose 256 to be the optimal batch size is because it has the highest mean cross validation accuracy on the validation set across all batcch sizes.\"\\\n",
    "         \"Also, the mean last epoch time is relatively small comparing to other batch sizes, which leads to a relatively short training time and high efficiency.\"\\\n",
    "         \"Therefore, it offers the best trade-off between the performance and training speed.\""
   ]
  },
  {
   "cell_type": "code",
   "execution_count": null,
   "metadata": {},
   "outputs": [],
   "source": []
  }
 ],
 "metadata": {
  "kernelspec": {
   "display_name": "Python 3 (ipykernel)",
   "language": "python",
   "name": "python3"
  },
  "language_info": {
   "codemirror_mode": {
    "name": "ipython",
    "version": 3
   },
   "file_extension": ".py",
   "mimetype": "text/x-python",
   "name": "python",
   "nbconvert_exporter": "python",
   "pygments_lexer": "ipython3",
   "version": "3.10.11"
  }
 },
 "nbformat": 4,
 "nbformat_minor": 2
}
