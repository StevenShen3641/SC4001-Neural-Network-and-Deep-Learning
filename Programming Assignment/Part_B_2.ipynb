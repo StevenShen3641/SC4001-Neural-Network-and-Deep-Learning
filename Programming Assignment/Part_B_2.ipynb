{
 "cells": [
  {
   "cell_type": "markdown",
   "metadata": {
    "id": "NFVxWZGJxprU"
   },
   "source": [
    "# Question B2 (10 marks)\n",
    "In Question B1, we used the Category Embedding model. This creates a feedforward neural network in which the categorical features get learnable embeddings. In this question, we will make use of a library called Pytorch-WideDeep. This library makes it easy to work with multimodal deep-learning problems combining images, text, and tables. We will just be utilizing the deeptabular component of this library through the TabMlp network:"
   ]
  },
  {
   "cell_type": "code",
   "execution_count": 1,
   "metadata": {
    "id": "EycCozG06Duu"
   },
   "outputs": [
    {
     "name": "stdout",
     "output_type": "stream",
     "text": [
      "Requirement already satisfied: pytorch-widedeep in d:\\program files\\python310\\lib\\site-packages (1.5.0)\n",
      "Requirement already satisfied: pandas>=1.3.5 in d:\\program files\\python310\\lib\\site-packages (from pytorch-widedeep) (2.0.1)\n",
      "Requirement already satisfied: opencv-contrib-python in d:\\program files\\python310\\lib\\site-packages (from pytorch-widedeep) (4.9.0.80)\n",
      "Requirement already satisfied: imutils in d:\\program files\\python310\\lib\\site-packages (from pytorch-widedeep) (0.5.4)\n",
      "Requirement already satisfied: torchvision>=0.15.0 in d:\\program files\\python310\\lib\\site-packages (from pytorch-widedeep) (0.16.2+cu121)\n",
      "Requirement already satisfied: torch>=2.0.0 in d:\\program files\\python310\\lib\\site-packages (from pytorch-widedeep) (2.1.2+cu121)\n",
      "Requirement already satisfied: numpy>=1.21.6 in d:\\program files\\python310\\lib\\site-packages (from pytorch-widedeep) (1.24.3)\n",
      "Requirement already satisfied: tqdm in d:\\program files\\python310\\lib\\site-packages (from pytorch-widedeep) (4.65.0)\n",
      "Requirement already satisfied: pyarrow in d:\\program files\\python310\\lib\\site-packages (from pytorch-widedeep) (13.0.0)\n",
      "Requirement already satisfied: scipy>=1.7.3 in d:\\program files\\python310\\lib\\site-packages (from pytorch-widedeep) (1.10.1)\n",
      "Requirement already satisfied: torchmetrics in d:\\program files\\python310\\lib\\site-packages (from pytorch-widedeep) (1.2.1)\n",
      "Requirement already satisfied: fastparquet>=0.8.1 in d:\\program files\\python310\\lib\\site-packages (from pytorch-widedeep) (2024.2.0)\n",
      "Requirement already satisfied: spacy in d:\\program files\\python310\\lib\\site-packages (from pytorch-widedeep) (3.7.4)\n",
      "Requirement already satisfied: einops in d:\\program files\\python310\\lib\\site-packages (from pytorch-widedeep) (0.7.0)\n",
      "Requirement already satisfied: wrapt in d:\\program files\\python310\\lib\\site-packages (from pytorch-widedeep) (1.15.0)\n",
      "Requirement already satisfied: scikit-learn>=1.0.2 in d:\\program files\\python310\\lib\\site-packages (from pytorch-widedeep) (1.4.1.post1)\n",
      "Requirement already satisfied: gensim in d:\\program files\\python310\\lib\\site-packages (from pytorch-widedeep) (4.3.2)\n",
      "Requirement already satisfied: packaging in d:\\program files\\python310\\lib\\site-packages (from fastparquet>=0.8.1->pytorch-widedeep) (23.1)\n",
      "Requirement already satisfied: cramjam>=2.3 in d:\\program files\\python310\\lib\\site-packages (from fastparquet>=0.8.1->pytorch-widedeep) (2.8.2)\n",
      "Requirement already satisfied: fsspec in d:\\program files\\python310\\lib\\site-packages (from fastparquet>=0.8.1->pytorch-widedeep) (2023.6.0)\n",
      "Requirement already satisfied: tzdata>=2022.1 in d:\\program files\\python310\\lib\\site-packages (from pandas>=1.3.5->pytorch-widedeep) (2023.3)\n",
      "Requirement already satisfied: pytz>=2020.1 in d:\\program files\\python310\\lib\\site-packages (from pandas>=1.3.5->pytorch-widedeep) (2023.3)\n",
      "Requirement already satisfied: python-dateutil>=2.8.2 in d:\\program files\\python310\\lib\\site-packages (from pandas>=1.3.5->pytorch-widedeep) (2.8.2)\n",
      "Requirement already satisfied: joblib>=1.2.0 in d:\\program files\\python310\\lib\\site-packages (from scikit-learn>=1.0.2->pytorch-widedeep) (1.2.0)\n",
      "Requirement already satisfied: threadpoolctl>=2.0.0 in d:\\program files\\python310\\lib\\site-packages (from scikit-learn>=1.0.2->pytorch-widedeep) (3.1.0)\n",
      "Requirement already satisfied: jinja2 in d:\\program files\\python310\\lib\\site-packages (from torch>=2.0.0->pytorch-widedeep) (3.1.2)\n",
      "Requirement already satisfied: typing-extensions in d:\\program files\\python310\\lib\\site-packages (from torch>=2.0.0->pytorch-widedeep) (4.4.0)\n",
      "Requirement already satisfied: filelock in d:\\program files\\python310\\lib\\site-packages (from torch>=2.0.0->pytorch-widedeep) (3.9.0)\n",
      "Requirement already satisfied: networkx in d:\\program files\\python310\\lib\\site-packages (from torch>=2.0.0->pytorch-widedeep) (3.0)\n",
      "Requirement already satisfied: sympy in d:\\program files\\python310\\lib\\site-packages (from torch>=2.0.0->pytorch-widedeep) (1.11.1)\n",
      "Requirement already satisfied: pillow!=8.3.*,>=5.3.0 in d:\\program files\\python310\\lib\\site-packages (from torchvision>=0.15.0->pytorch-widedeep) (9.5.0)\n",
      "Requirement already satisfied: requests in d:\\program files\\python310\\lib\\site-packages (from torchvision>=0.15.0->pytorch-widedeep) (2.28.1)\n",
      "Requirement already satisfied: smart-open>=1.8.1 in d:\\program files\\python310\\lib\\site-packages (from gensim->pytorch-widedeep) (6.4.0)\n",
      "Requirement already satisfied: srsly<3.0.0,>=2.4.3 in d:\\program files\\python310\\lib\\site-packages (from spacy->pytorch-widedeep) (2.4.8)\n",
      "Requirement already satisfied: catalogue<2.1.0,>=2.0.6 in d:\\program files\\python310\\lib\\site-packages (from spacy->pytorch-widedeep) (2.0.10)\n",
      "Requirement already satisfied: setuptools in d:\\program files\\python310\\lib\\site-packages (from spacy->pytorch-widedeep) (69.0.3)\n",
      "Requirement already satisfied: spacy-legacy<3.1.0,>=3.0.11 in d:\\program files\\python310\\lib\\site-packages (from spacy->pytorch-widedeep) (3.0.12)\n",
      "Requirement already satisfied: cymem<2.1.0,>=2.0.2 in d:\\program files\\python310\\lib\\site-packages (from spacy->pytorch-widedeep) (2.0.8)\n",
      "Requirement already satisfied: wasabi<1.2.0,>=0.9.1 in d:\\program files\\python310\\lib\\site-packages (from spacy->pytorch-widedeep) (1.1.2)\n",
      "Requirement already satisfied: spacy-loggers<2.0.0,>=1.0.0 in d:\\program files\\python310\\lib\\site-packages (from spacy->pytorch-widedeep) (1.0.5)\n",
      "Requirement already satisfied: murmurhash<1.1.0,>=0.28.0 in d:\\program files\\python310\\lib\\site-packages (from spacy->pytorch-widedeep) (1.0.10)\n",
      "Requirement already satisfied: pydantic!=1.8,!=1.8.1,<3.0.0,>=1.7.4 in d:\\program files\\python310\\lib\\site-packages (from spacy->pytorch-widedeep) (1.10.14)\n",
      "Requirement already satisfied: weasel<0.4.0,>=0.1.0 in d:\\program files\\python310\\lib\\site-packages (from spacy->pytorch-widedeep) (0.3.4)\n",
      "Requirement already satisfied: typer<0.10.0,>=0.3.0 in d:\\program files\\python310\\lib\\site-packages (from spacy->pytorch-widedeep) (0.9.0)\n",
      "Requirement already satisfied: langcodes<4.0.0,>=3.2.0 in d:\\program files\\python310\\lib\\site-packages (from spacy->pytorch-widedeep) (3.3.0)\n",
      "Requirement already satisfied: preshed<3.1.0,>=3.0.2 in d:\\program files\\python310\\lib\\site-packages (from spacy->pytorch-widedeep) (3.0.9)\n",
      "Requirement already satisfied: thinc<8.3.0,>=8.2.2 in d:\\program files\\python310\\lib\\site-packages (from spacy->pytorch-widedeep) (8.2.3)\n",
      "Requirement already satisfied: colorama in d:\\program files\\python310\\lib\\site-packages (from tqdm->pytorch-widedeep) (0.4.6)\n",
      "Requirement already satisfied: lightning-utilities>=0.8.0 in d:\\program files\\python310\\lib\\site-packages (from torchmetrics->pytorch-widedeep) (0.10.1)\n",
      "Requirement already satisfied: six>=1.5 in d:\\program files\\python310\\lib\\site-packages (from python-dateutil>=2.8.2->pandas>=1.3.5->pytorch-widedeep) (1.16.0)\n",
      "Requirement already satisfied: idna<4,>=2.5 in d:\\program files\\python310\\lib\\site-packages (from requests->torchvision>=0.15.0->pytorch-widedeep) (3.4)\n",
      "Requirement already satisfied: urllib3<1.27,>=1.21.1 in d:\\program files\\python310\\lib\\site-packages (from requests->torchvision>=0.15.0->pytorch-widedeep) (1.26.13)\n",
      "Requirement already satisfied: certifi>=2017.4.17 in d:\\program files\\python310\\lib\\site-packages (from requests->torchvision>=0.15.0->pytorch-widedeep) (2022.12.7)\n",
      "Requirement already satisfied: charset-normalizer<3,>=2 in d:\\program files\\python310\\lib\\site-packages (from requests->torchvision>=0.15.0->pytorch-widedeep) (2.1.1)\n",
      "Requirement already satisfied: blis<0.8.0,>=0.7.8 in d:\\program files\\python310\\lib\\site-packages (from thinc<8.3.0,>=8.2.2->spacy->pytorch-widedeep) (0.7.11)\n",
      "Requirement already satisfied: confection<1.0.0,>=0.0.1 in d:\\program files\\python310\\lib\\site-packages (from thinc<8.3.0,>=8.2.2->spacy->pytorch-widedeep) (0.1.4)\n",
      "Requirement already satisfied: click<9.0.0,>=7.1.1 in d:\\program files\\python310\\lib\\site-packages (from typer<0.10.0,>=0.3.0->spacy->pytorch-widedeep) (8.1.3)\n",
      "Requirement already satisfied: cloudpathlib<0.17.0,>=0.7.0 in d:\\program files\\python310\\lib\\site-packages (from weasel<0.4.0,>=0.1.0->spacy->pytorch-widedeep) (0.16.0)\n",
      "Requirement already satisfied: MarkupSafe>=2.0 in d:\\program files\\python310\\lib\\site-packages (from jinja2->torch>=2.0.0->pytorch-widedeep) (2.1.2)\n",
      "Requirement already satisfied: mpmath>=0.19 in d:\\program files\\python310\\lib\\site-packages (from sympy->torch>=2.0.0->pytorch-widedeep) (1.2.1)\n"
     ]
    },
    {
     "name": "stderr",
     "output_type": "stream",
     "text": [
      "\n",
      "[notice] A new release of pip is available: 23.0.1 -> 24.0\n",
      "[notice] To update, run: python.exe -m pip install --upgrade pip\n"
     ]
    }
   ],
   "source": [
    "!pip install pytorch-widedeep"
   ]
  },
  {
   "cell_type": "code",
   "execution_count": null,
   "metadata": {
    "id": "lq0elU0J53Yo"
   },
   "outputs": [],
   "source": [
    "SEED = 42\n",
    "\n",
    "import os\n",
    "\n",
    "import random\n",
    "random.seed(SEED)\n",
    "\n",
    "import numpy as np\n",
    "np.random.seed(SEED)\n",
    "\n",
    "import pandas as pd\n",
    "\n",
    "from pytorch_widedeep.preprocessing import TabPreprocessor\n",
    "from pytorch_widedeep.models import TabMlp, WideDeep\n",
    "from pytorch_widedeep import Trainer\n",
    "from pytorch_widedeep.metrics import R2Score"
   ]
  },
  {
   "cell_type": "markdown",
   "metadata": {
    "id": "aU3xdVpwzuLx"
   },
   "source": [
    "1.Divide the dataset (‘hdb_price_prediction.csv’) into train and test sets by using entries from the year 2020 and before as training data, and entries from 2021 and after as the test data."
   ]
  },
  {
   "cell_type": "code",
   "execution_count": null,
   "metadata": {
    "id": "_oYG6lNIh7Mp"
   },
   "outputs": [],
   "source": [
    "df = pd.read_csv('hdb_price_prediction.csv')\n",
    "\n",
    "# YOUR CODE HERE"
   ]
  },
  {
   "cell_type": "code",
   "execution_count": null,
   "metadata": {},
   "outputs": [],
   "source": []
  },
  {
   "cell_type": "markdown",
   "metadata": {
    "id": "m_q9PoR50JAA"
   },
   "source": [
    "2.Refer to the documentation of Pytorch-WideDeep and perform the following tasks:\n",
    "https://pytorch-widedeep.readthedocs.io/en/latest/index.html\n",
    "* Use [**TabPreprocessor**](https://pytorch-widedeep.readthedocs.io/en/latest/examples/01_preprocessors_and_utils.html#2-tabpreprocessor) to create the deeptabular component using the continuous\n",
    "features and the categorical features. Use this component to transform the training dataset.\n",
    "* Create the [**TabMlp**](https://pytorch-widedeep.readthedocs.io/en/latest/pytorch-widedeep/model_components.html#pytorch_widedeep.models.tabular.mlp.tab_mlp.TabMlp) model with 2 linear layers in the MLP, with 200 and 100 neurons respectively.\n",
    "* Create a [**Trainer**](https://pytorch-widedeep.readthedocs.io/en/latest/pytorch-widedeep/trainer.html#pytorch_widedeep.training.Trainer) for the training of the created TabMlp model with the root mean squared error (RMSE) cost function. Train the model for 100 epochs using this trainer, keeping a batch size of 64. (Note: set the *num_workers* parameter to 0.)"
   ]
  },
  {
   "cell_type": "code",
   "execution_count": null,
   "metadata": {
    "id": "ZBY1iqUXtYWn"
   },
   "outputs": [],
   "source": [
    "# YOUR CODE & RESULT HERE"
   ]
  },
  {
   "cell_type": "code",
   "execution_count": null,
   "metadata": {},
   "outputs": [],
   "source": []
  },
  {
   "cell_type": "markdown",
   "metadata": {
    "id": "V46s-MdM0y5c"
   },
   "source": [
    "3.Report the test RMSE and the test R2 value that you obtained."
   ]
  },
  {
   "cell_type": "code",
   "execution_count": null,
   "metadata": {
    "id": "KAhAgvMC07g6"
   },
   "outputs": [],
   "source": [
    "# YOUR CODE & RESULT HERE"
   ]
  },
  {
   "cell_type": "code",
   "execution_count": null,
   "metadata": {},
   "outputs": [],
   "source": []
  }
 ],
 "metadata": {
  "colab": {
   "provenance": []
  },
  "kernelspec": {
   "display_name": "Python 3",
   "language": "python",
   "name": "python3"
  },
  "language_info": {
   "codemirror_mode": {
    "name": "ipython",
    "version": 3
   },
   "file_extension": ".py",
   "mimetype": "text/x-python",
   "name": "python",
   "nbconvert_exporter": "python",
   "pygments_lexer": "ipython3",
   "version": "3.10.11"
  }
 },
 "nbformat": 4,
 "nbformat_minor": 1
}
