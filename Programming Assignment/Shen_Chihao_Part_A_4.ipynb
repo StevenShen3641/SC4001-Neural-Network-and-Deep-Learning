{
 "cells": [
  {
   "cell_type": "markdown",
   "id": "18aa39ef",
   "metadata": {
    "deletable": false,
    "editable": false,
    "id": "c5cb62ac-8e88-43e6-bce9-da20fabf38ff",
    "nbgrader": {
     "cell_type": "markdown",
     "checksum": "987c7c95a0c7dc71b3d85e154cc3a9be",
     "grade": false,
     "grade_id": "cell-6ebb8bd2f22353d3",
     "locked": true,
     "schema_version": 3,
     "solution": false,
     "task": false
    }
   },
   "source": [
    "# Question A4"
   ]
  },
  {
   "cell_type": "markdown",
   "id": "fc39865f",
   "metadata": {
    "deletable": false,
    "editable": false,
    "id": "5c8f824c",
    "nbgrader": {
     "cell_type": "markdown",
     "checksum": "17d770ae590711dc06f03d150970a3f1",
     "grade": false,
     "grade_id": "cell-e34b0415c38ebac4",
     "locked": true,
     "schema_version": 3,
     "solution": false,
     "task": false
    }
   },
   "source": [
    "In this section, we will understand the utility of such a neural network in real world scenarios."
   ]
  },
  {
   "cell_type": "markdown",
   "id": "fa74e86d",
   "metadata": {
    "deletable": false,
    "editable": false,
    "id": "fb9411ad-2324-400e-852e-ff5c0ca716f0",
    "nbgrader": {
     "cell_type": "markdown",
     "checksum": "287259c58079728b66dae175c6082400",
     "grade": false,
     "grade_id": "cell-4f74b97314b65ea1",
     "locked": true,
     "schema_version": 3,
     "solution": false,
     "task": false
    },
    "tags": []
   },
   "source": [
    "#### Please use the real record data named ‘record.wav’  as a test sample. Preprocess the data using the provided preprocessing script (data_preprocess.ipynb) and prepare the dataset.\n",
    "Do a model prediction on the sample test dataset and obtain the predicted label using a threshold of 0.5. The model used is the optimized pretrained model using the selected optimal batch size and optimal number of neurons.\n",
    "Find the most important features on the model prediction for the test sample using SHAP. Plot the local feature importance with a force plot and explain your observations.  (Refer to the documentation and these three useful references:\n",
    "https://christophm.github.io/interpretable-ml-book/shap.html#examples-5,\n",
    "https://towardsdatascience.com/deep-learning-model-interpretation-using-shap-a21786e91d16,  \n",
    "https://medium.com/mlearning-ai/shap-force-plots-for-classification-d30be430e195)\n",
    "\n"
   ]
  },
  {
   "cell_type": "markdown",
   "id": "f37595e5",
   "metadata": {
    "deletable": false,
    "editable": false,
    "id": "981c85ca-9a14-4d0a-b44d-814f02c0f8e1",
    "nbgrader": {
     "cell_type": "markdown",
     "checksum": "30c3b93836aad148380e15933e7dd786",
     "grade": false,
     "grade_id": "cell-b8a265bf37e3b271",
     "locked": true,
     "schema_version": 3,
     "solution": false,
     "task": false
    }
   },
   "source": [
    "1. Firstly, we import relevant libraries."
   ]
  },
  {
   "cell_type": "code",
   "execution_count": 1,
   "id": "9166a77e",
   "metadata": {
    "deletable": false,
    "editable": false,
    "id": "58c50f4f",
    "nbgrader": {
     "cell_type": "code",
     "checksum": "8f6af6091e2832c850b00e735d1cff11",
     "grade": false,
     "grade_id": "libraries",
     "locked": true,
     "schema_version": 3,
     "solution": false,
     "task": false
    }
   },
   "outputs": [],
   "source": [
    "import tqdm\n",
    "import time\n",
    "import random\n",
    "import numpy as np\n",
    "import pandas as pd\n",
    "import matplotlib.pyplot as plt\n",
    "\n",
    "import torch\n",
    "from torch import nn\n",
    "from torch.utils.data import Dataset\n",
    "from torch.utils.data import DataLoader\n",
    "\n",
    "from scipy.io import wavfile as wav\n",
    "\n",
    "from sklearn import preprocessing\n",
    "from sklearn.model_selection import KFold\n",
    "from sklearn.model_selection import train_test_split\n",
    "from sklearn.metrics import f1_score, precision_score, recall_score, confusion_matrix\n",
    "from common_utils import set_seed\n",
    "\n",
    "# setting seed\n",
    "set_seed()"
   ]
  },
  {
   "cell_type": "markdown",
   "id": "533a42e8",
   "metadata": {
    "deletable": false,
    "editable": false,
    "id": "d3444c83",
    "nbgrader": {
     "cell_type": "markdown",
     "checksum": "d796a3a33dd56bd5afb55de45b642449",
     "grade": false,
     "grade_id": "cell-293c9e85ad81d29a",
     "locked": true,
     "schema_version": 3,
     "solution": false,
     "task": false
    }
   },
   "source": [
    "To reduce repeated code, place your\n",
    "network (MLP defined in QA1)\n",
    "torch datasets (CustomDataset defined in QA1)\n",
    "loss function (loss_fn defined in QA1)\n",
    "in a separate file called common_utils.py\n",
    "\n",
    "Import them into this file. You will not be repenalised for any error in QA1 here as the code in QA1 will not be remarked.\n",
    "\n",
    "The following code cell will not be marked.\n"
   ]
  },
  {
   "cell_type": "code",
   "execution_count": 2,
   "id": "cea38998",
   "metadata": {
    "deletable": false,
    "id": "72e8e840",
    "nbgrader": {
     "cell_type": "code",
     "checksum": "0c623c0417cb6065d1bbb049f211cf1c",
     "grade": false,
     "grade_id": "cell-29dace0045a28b89",
     "locked": false,
     "schema_version": 3,
     "solution": true,
     "task": false
    }
   },
   "outputs": [],
   "source": [
    "# YOUR CODE HERE\n",
    "from common_utils import MLP, CustomDataset, loss_fn\n",
    "class MLP(MLP):\n",
    "    def __init__(self):\n",
    "        nn.Module.__init__(self)\n",
    "        self.mlp_stack = nn.Sequential()\n",
    "\n",
    "    def add_layer(self, name, layer):\n",
    "        self.mlp_stack.add_module(name, layer)"
   ]
  },
  {
   "cell_type": "code",
   "execution_count": null,
   "id": "b2195bee",
   "metadata": {
    "deletable": false,
    "editable": false,
    "id": "b12f3ced-a6a1-4628-a409-1ca7bdfd1cfa",
    "nbgrader": {
     "cell_type": "code",
     "checksum": "8dbab024c3394801484199efdbbdb269",
     "grade": true,
     "grade_id": "corrected",
     "locked": true,
     "points": 0,
     "schema_version": 3,
     "solution": false,
     "task": false
    }
   },
   "outputs": [],
   "source": []
  },
  {
   "cell_type": "markdown",
   "id": "bc881a8e",
   "metadata": {
    "deletable": false,
    "editable": false,
    "id": "18fd5d5e",
    "nbgrader": {
     "cell_type": "markdown",
     "checksum": "7da5539e4fe97549a11c7d61be647167",
     "grade": false,
     "grade_id": "cell-1c5bf554b8f89a3d",
     "locked": true,
     "schema_version": 3,
     "solution": false,
     "task": false
    }
   },
   "source": [
    "2. Install and import shap"
   ]
  },
  {
   "cell_type": "code",
   "execution_count": 3,
   "id": "edd85a83",
   "metadata": {
    "deletable": false,
    "id": "e49be1fc",
    "nbgrader": {
     "cell_type": "code",
     "checksum": "f58a0104d88201d0af7de9fc3a6ca035",
     "grade": false,
     "grade_id": "import_shap",
     "locked": false,
     "schema_version": 3,
     "solution": true,
     "task": false
    }
   },
   "outputs": [
    {
     "name": "stderr",
     "output_type": "stream",
     "text": [
      "\n",
      "[notice] A new release of pip is available: 23.0.1 -> 24.0\n",
      "[notice] To update, run: D:\\Program Files\\Python310\\python.exe -m pip install --upgrade pip\n"
     ]
    },
    {
     "name": "stdout",
     "output_type": "stream",
     "text": [
      "Requirement already satisfied: shap in d:\\program files\\python310\\lib\\site-packages (0.45.0)\n",
      "Requirement already satisfied: slicer==0.0.7 in d:\\program files\\python310\\lib\\site-packages (from shap) (0.0.7)\n",
      "Requirement already satisfied: numpy in d:\\program files\\python310\\lib\\site-packages (from shap) (1.24.3)\n",
      "Requirement already satisfied: scipy in d:\\program files\\python310\\lib\\site-packages (from shap) (1.10.1)\n",
      "Requirement already satisfied: pandas in d:\\program files\\python310\\lib\\site-packages (from shap) (2.0.1)\n",
      "Requirement already satisfied: numba in d:\\program files\\python310\\lib\\site-packages (from shap) (0.58.1)\n",
      "Requirement already satisfied: cloudpickle in d:\\program files\\python310\\lib\\site-packages (from shap) (3.0.0)\n",
      "Requirement already satisfied: tqdm>=4.27.0 in d:\\program files\\python310\\lib\\site-packages (from shap) (4.65.0)\n",
      "Requirement already satisfied: packaging>20.9 in d:\\program files\\python310\\lib\\site-packages (from shap) (23.1)\n",
      "Requirement already satisfied: scikit-learn in d:\\program files\\python310\\lib\\site-packages (from shap) (1.4.1.post1)\n",
      "Requirement already satisfied: colorama in d:\\program files\\python310\\lib\\site-packages (from tqdm>=4.27.0->shap) (0.4.6)\n",
      "Requirement already satisfied: llvmlite<0.42,>=0.41.0dev0 in d:\\program files\\python310\\lib\\site-packages (from numba->shap) (0.41.1)\n",
      "Requirement already satisfied: python-dateutil>=2.8.2 in d:\\program files\\python310\\lib\\site-packages (from pandas->shap) (2.8.2)\n",
      "Requirement already satisfied: tzdata>=2022.1 in d:\\program files\\python310\\lib\\site-packages (from pandas->shap) (2023.3)\n",
      "Requirement already satisfied: pytz>=2020.1 in d:\\program files\\python310\\lib\\site-packages (from pandas->shap) (2023.3)\n",
      "Requirement already satisfied: threadpoolctl>=2.0.0 in d:\\program files\\python310\\lib\\site-packages (from scikit-learn->shap) (3.1.0)\n",
      "Requirement already satisfied: joblib>=1.2.0 in d:\\program files\\python310\\lib\\site-packages (from scikit-learn->shap) (1.2.0)\n",
      "Requirement already satisfied: six>=1.5 in d:\\program files\\python310\\lib\\site-packages (from python-dateutil>=2.8.2->pandas->shap) (1.16.0)\n"
     ]
    }
   ],
   "source": [
    "# YOUR CODE HERE\n",
    "!pip install shap\n",
    "import shap"
   ]
  },
  {
   "cell_type": "code",
   "execution_count": null,
   "id": "82bb1320",
   "metadata": {
    "deletable": false,
    "editable": false,
    "id": "ef497933-2108-4aa5-8ec8-5729214cb1cd",
    "nbgrader": {
     "cell_type": "code",
     "checksum": "4cf4df5a01325e8ea1f585dcfc81b01b",
     "grade": true,
     "grade_id": "import_shap_correct",
     "locked": true,
     "points": 1,
     "schema_version": 3,
     "solution": false,
     "task": false
    }
   },
   "outputs": [],
   "source": []
  },
  {
   "cell_type": "markdown",
   "id": "a6621d33",
   "metadata": {
    "deletable": false,
    "editable": false,
    "id": "c5fde60a",
    "nbgrader": {
     "cell_type": "markdown",
     "checksum": "b8877105a451813ab23b45e9a180bc36",
     "grade": false,
     "grade_id": "cell-82dd5a271bf5af4b",
     "locked": true,
     "schema_version": 3,
     "solution": false,
     "task": false
    }
   },
   "source": [
    "3. Read the csv data preprocessed from 'record.wav', using variable name 'df', and fill the size of 'df' in 'size_row' and 'size_column'."
   ]
  },
  {
   "cell_type": "code",
   "execution_count": 4,
   "id": "9a2ad69e",
   "metadata": {
    "deletable": false,
    "id": "81a54d47",
    "nbgrader": {
     "cell_type": "code",
     "checksum": "c35348846173e5c042d78be10546ae86",
     "grade": false,
     "grade_id": "cell-01d5f7ef70e69e09",
     "locked": false,
     "schema_version": 3,
     "solution": true,
     "task": false
    }
   },
   "outputs": [],
   "source": [
    "df = 0\n",
    "size_row = 0\n",
    "size_column = 0\n",
    "# YOUR CODE HERE\n",
    "df = pd.read_csv('new_record.csv')\n",
    "size_row = df.shape[0]\n",
    "size_column = df.shape[1]"
   ]
  },
  {
   "cell_type": "code",
   "execution_count": null,
   "id": "746d82d4",
   "metadata": {
    "deletable": false,
    "editable": false,
    "id": "571b0b06-1750-4228-88af-67d8c52035dc",
    "nbgrader": {
     "cell_type": "code",
     "checksum": "4d137f7e21ec2ea9ad7a57f4411b513a",
     "grade": true,
     "grade_id": "cell-01d5f7ef70e69e0988",
     "locked": true,
     "points": 1,
     "schema_version": 3,
     "solution": false,
     "task": false
    }
   },
   "outputs": [],
   "source": []
  },
  {
   "cell_type": "markdown",
   "id": "1548a4d8",
   "metadata": {
    "deletable": false,
    "editable": false,
    "id": "558aa470-6d7e-454c-9cda-9ad881d58c53",
    "nbgrader": {
     "cell_type": "markdown",
     "checksum": "d3d13eea6f0ed0d345e10f33dd3a26da",
     "grade": false,
     "grade_id": "cell-7096e580d10284df",
     "locked": true,
     "schema_version": 3,
     "solution": false,
     "task": false
    }
   },
   "source": [
    " 4.  Preprocess to obtain the test data, save the test data as numpy array."
   ]
  },
  {
   "cell_type": "code",
   "execution_count": 5,
   "id": "899c404e",
   "metadata": {
    "deletable": false,
    "id": "8c77bd18-c546-473e-8c2f-643b4281d9ba",
    "nbgrader": {
     "cell_type": "code",
     "checksum": "b19be33055efd5fc5d562a9c671b6eb2",
     "grade": false,
     "grade_id": "cell-b1e392e8ecab207a",
     "locked": false,
     "schema_version": 3,
     "solution": true,
     "task": false
    },
    "tags": []
   },
   "outputs": [],
   "source": [
    "\n",
    "def preprocess(X_train, df):\n",
    "    \"\"\"preprocess your dataset to obtain your test dataset, remember to remove the 'filename' as Q1\n",
    "    \"\"\"\n",
    "    # YOUR CODE HERE\n",
    "    # drop useless columns for df\n",
    "    columns_to_drop = ['filename']\n",
    "    df = df.drop(columns=columns_to_drop)\n",
    "\n",
    "    # scale the data\n",
    "    scaler = preprocessing.StandardScaler()\n",
    "\n",
    "    scaler.fit(X_train)\n",
    "    X_test_scaled_eg = scaler.transform(df)\n",
    "\n",
    "    return X_test_scaled_eg\n",
    "\n",
    "from common_utils import split_dataset\n",
    "\n",
    "# preprocess old training and testing data\n",
    "old_df = pd.read_csv('simplified.csv')\n",
    "old_df['label'] = old_df['filename'].str.split('_').str[-2]\n",
    "columns_to_drop = ['filename', 'label']\n",
    "\n",
    "# perform data splitting first\n",
    "X_train, y_train, X_test, y_test = split_dataset(old_df, columns_to_drop=columns_to_drop, test_size=0.25, random_state=100)\n",
    "\n",
    "X_test_scaled_eg = preprocess(X_train, df)"
   ]
  },
  {
   "cell_type": "code",
   "execution_count": null,
   "id": "2393f276",
   "metadata": {
    "deletable": false,
    "editable": false,
    "id": "e49ee8a7-d9b2-499d-8394-d6cb86f4cb60",
    "nbgrader": {
     "cell_type": "code",
     "checksum": "b0c0b2a92c7d501f1ac652e11f948461",
     "grade": true,
     "grade_id": "cell-fbe8ba077fb74598",
     "locked": true,
     "points": 1,
     "schema_version": 3,
     "solution": false,
     "task": false
    },
    "tags": []
   },
   "outputs": [],
   "source": []
  },
  {
   "cell_type": "markdown",
   "id": "0dc7a043",
   "metadata": {
    "deletable": false,
    "editable": false,
    "id": "b6756ab6-92e0-4a5e-b4b9-aebe009f5480",
    "nbgrader": {
     "cell_type": "markdown",
     "checksum": "96d2e019d65c49ba15b3089c2184f021",
     "grade": false,
     "grade_id": "cell-48b4edbfec330f39",
     "locked": true,
     "schema_version": 3,
     "solution": false,
     "task": false
    }
   },
   "source": [
    "5. Do a model prediction on the sample test dataset and obtain the predicted label using a threshold of 0.5. The model used is the optimized pretrained model using the selected optimal batch size and optimal number of neurons. Note: Please define the variable of your final predicted label as 'pred_label'."
   ]
  },
  {
   "cell_type": "code",
   "execution_count": 6,
   "id": "85a17430",
   "metadata": {
    "deletable": false,
    "id": "8fa3afdf-eed6-47b9-9acc-bc2304c46ec3",
    "nbgrader": {
     "cell_type": "code",
     "checksum": "276ec9575db4ca701823a459809ea810",
     "grade": true,
     "grade_id": "cell-e83cb49660edc2b7",
     "locked": false,
     "points": 4,
     "schema_version": 3,
     "solution": true,
     "task": false
    },
    "tags": []
   },
   "outputs": [],
   "source": [
    "# YOUR CODE HERE\n",
    "# set path\n",
    "model_path = 'model.pth'\n",
    "\n",
    "# initialize model\n",
    "optimal_combination = [256, 256, 128]\n",
    "no_features = 77 # feature number\n",
    "no_labels = 1  # output label number\n",
    "lr = 0.001  # learning rate\n",
    "\n",
    "# initialize model\n",
    "model = MLP()\n",
    "para_list = []\n",
    "optimal_combination.insert(0, no_features)\n",
    "optimal_combination.append(no_labels)\n",
    "for i in range(len(optimal_combination) - 1):\n",
    "    para_list.append((optimal_combination[i], optimal_combination[i + 1]))\n",
    "for j in range(len(para_list)):\n",
    "    if j == len(para_list) - 1:\n",
    "        model.add_layer(f\"Linear{j}\", nn.Linear(*para_list[j]))\n",
    "        model.add_layer(f\"Sigmoid{j}\", nn.Sigmoid())\n",
    "    else:\n",
    "        model.add_layer(f\"Linear{j}\", nn.Linear(*para_list[j]))\n",
    "        model.add_layer(f\"ReLU{j}\", nn.ReLU())\n",
    "        model.add_layer(f\"Dropout{j}\", nn.Dropout(0.2))\n",
    "\n",
    "# load model\n",
    "model.load_state_dict(torch.load(model_path))\n",
    "model.eval()\n",
    "\n",
    "# test\n",
    "X_test_scaled = torch.tensor(X_test_scaled_eg, dtype=torch.float)\n",
    "res = model(X_test_scaled).squeeze()\n",
    "pred_label = int(res > 0.5)"
   ]
  },
  {
   "cell_type": "code",
   "execution_count": 7,
   "id": "2eda64d5",
   "metadata": {
    "deletable": false,
    "editable": false,
    "id": "da2fc2cc-b89f-4fc3-af16-e30b4e5315a3",
    "nbgrader": {
     "cell_type": "code",
     "checksum": "704df2be8fbd85ba163a89cd2e0431f0",
     "grade": true,
     "grade_id": "predict_value",
     "locked": true,
     "points": 1,
     "schema_version": 3,
     "solution": false,
     "task": false
    }
   },
   "outputs": [
    {
     "name": "stdout",
     "output_type": "stream",
     "text": [
      "0.04047171398997307\n",
      "predicted result: 0\n"
     ]
    }
   ],
   "source": [
    "print(float(res))\n",
    "print(f\"predicted result: {pred_label}\")"
   ]
  },
  {
   "cell_type": "markdown",
   "id": "05411419",
   "metadata": {
    "deletable": false,
    "editable": false,
    "id": "baab6e4d-4e8b-4358-a68d-682f60db4a06",
    "nbgrader": {
     "cell_type": "markdown",
     "checksum": "eac3438866b5ebd40f5fb20a676059bd",
     "grade": false,
     "grade_id": "cell-896f18b6b0b948ea",
     "locked": true,
     "schema_version": 3,
     "solution": false,
     "task": false
    }
   },
   "source": [
    "6. Find the most important features on the model prediction for your test sample using SHAP. Create an instance of the DeepSHAP which is called DeepExplainer using traianing dataset: https://shap-lrjball.readthedocs.io/en/latest/generated/shap.DeepExplainer.html.\n",
    "\n",
    "Plot the local feature importance with a force plot and explain your observations.  (Refer to the documentation and these three useful references:\n",
    "https://christophm.github.io/interpretable-ml-book/shap.html#examples-5,\n",
    "https://towardsdatascience.com/deep-learning-model-interpretation-using-shap-a21786e91d16,  \n",
    "https://medium.com/mlearning-ai/shap-force-plots-for-classification-d30be430e195)\n"
   ]
  },
  {
   "cell_type": "code",
   "execution_count": 8,
   "id": "03f42d6f",
   "metadata": {
    "deletable": false,
    "id": "081aa567-cd92-4749-93fd-fc6608a1f6ae",
    "nbgrader": {
     "cell_type": "code",
     "checksum": "db46b1b26fd45359768421987104ac3e",
     "grade": true,
     "grade_id": "importance_weight",
     "locked": false,
     "points": 2,
     "schema_version": 3,
     "solution": true,
     "task": false
    },
    "tags": []
   },
   "outputs": [
    {
     "data": {
      "image/png": "[encoded data removed]",
      "text/plain": [
       "<Figure size 2000x300 with 1 Axes>"
      ]
     },
     "metadata": {},
     "output_type": "display_data"
    },
    {
     "data": {
      "image/png": "[encoded data removed]",
      "text/plain": [
       "<Figure size 800x350 with 1 Axes>"
      ]
     },
     "metadata": {},
     "output_type": "display_data"
    }
   ],
   "source": [
    "'''\n",
    "Fit the explainer on a subset of the data (you can try all but then gets slower)\n",
    "Return approximate SHAP values for the model applied to the data given by X.\n",
    "Plot the local feature importance with a force plot and explain your observations.\n",
    "'''\n",
    "# YOUR CODE HERE\n",
    "col_names = old_df.drop(columns=columns_to_drop).columns.tolist()\n",
    "X_test_scaled_df = pd.DataFrame(X_test_scaled_eg, columns=col_names)\n",
    "\n",
    "# scale the training data\n",
    "scaler = preprocessing.StandardScaler()\n",
    "X_train_scaled = scaler.fit_transform(X_train)\n",
    "\n",
    "# compute SHAP values for the test data\n",
    "\n",
    "e = shap.DeepExplainer(model, torch.tensor(X_train_scaled, dtype=torch.float))\n",
    "values = e.shap_values(torch.tensor(X_test_scaled_eg, dtype=torch.float)).reshape(-1)\n",
    "\n",
    "# force plot\n",
    "shap.force_plot(e.expected_value, values, X_test_scaled_df.round(4), feature_names=col_names, matplotlib=True)\n",
    "\n",
    "# find the top 5 most important features\n",
    "top_5_idx = np.argsort(np.abs(np.array(values)))[::-1][:5]\n",
    "top_5_names = [col_names[i] for i in top_5_idx]\n",
    "top_5_values = [values[i] for i in top_5_idx]\n",
    "feature_names = [i + \": \" + str(j.round(4)) for i, j in zip(top_5_names, top_5_values)]\n",
    "\n",
    "shap.summary_plot(np.array(values[top_5_idx]).reshape(1, -1), plot_type='bar', feature_names=feature_names)"
   ]
  },
  {
   "cell_type": "markdown",
   "id": "788eb3e3",
   "metadata": {},
   "source": [
    "Explanation:\n",
    "The force plot gives the direction and tendency of how different variables contribute to the output of a test data comparing to the base value. The blue one means the corresponding variable pushes the value in the negative direction, while the red one means it adds up the output value to make it positive.\n",
    "\n",
    "We can see the final predicted value of the test record sound is 0.04. Therefore, the predicted label is 0, which means the sound presents negative emotions. Since the value is near zero, it shows the prediction is relatively solid.\n",
    "\n",
    "Top 5 most important features:\n",
    "1. cent_var (-0.3031): Variance of Spectral Centroid. It measures how close the sound is to the average frequency of the sound, or to the \"center of mass\" of a sound's spectrum. It is mostly used to capture the change of the brightness or sharpness of the sound. The value of this variable pushes the prediction in the negative direction about 0.3031 from the base value, which means this variable contributes a lot to the implication of the sound to have negative emotions.\n",
    "\n",
    "2. contrast_var (-0.2151): Variance of Spectral Contrast. It means the variance in the difference in energy between peaks and valleys in the frequency spectrum, which represents how frequent and large the sound energy changes. The value of this variable pushes the prediction in the negative direction about 0.2151, which also means this variable contributes a lot to the implication of the sound to have negative emotions.\n",
    "\n",
    "3. spec_bw_var (0.1681): Variance of Spectral Bandwidth. It measures how much the spectral bandwidth values deviate from the average, which indicates how diverse and rich the sound is like. The value of this variable pushes the prediction in the positive direction about 0.2151, implying the clue of the sound to be a little positive.\n",
    "\n",
    "4. mfcc11_var (-0.155): Variance of the Eleventh Mel-frequency Cepstral Coefficient. It is one of the coefficients extracted from the Mel-frequency cepstral analysis of an audio signal. The value of this variable pushes the prediction in the negative direction about 0.155 from the base value, indicating the sound to be a bit more negative.\n",
    "\n",
    "5. mfcc1_mean (0.1328): Mean of the First Mel-frequency Cepstral Coefficient. It is also one of the coefficients extracted from the Mel-frequency cepstral analysis of an audio signal. The value of this variable pushes the prediction in the positive direction about 0.1328, indicating the sound to be a bit more positive.\n",
    "\n",
    "We can know from the plot that some features contribute to the positive side, while others push the predicted value to the negative part of this record sample. The prediction that the model made is the result of aggregating all these features. Finally, the predicted label is negative in this case, implying the sound having negative emotions."
   ]
  }
 ],
 "metadata": {
  "colab": {
   "provenance": []
  },
  "kernelspec": {
   "display_name": "Python 3 (ipykernel)",
   "language": "python",
   "name": "python3"
  },
  "language_info": {
   "codemirror_mode": {
    "name": "ipython",
    "version": 3
   },
   "file_extension": ".py",
   "mimetype": "text/x-python",
   "name": "python",
   "nbconvert_exporter": "python",
   "pygments_lexer": "ipython3",
   "version": "3.10.11"
  }
 },
 "nbformat": 4,
 "nbformat_minor": 5
}
