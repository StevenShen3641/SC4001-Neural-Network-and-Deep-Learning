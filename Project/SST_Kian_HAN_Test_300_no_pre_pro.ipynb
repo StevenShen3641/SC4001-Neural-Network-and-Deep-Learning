{
 "cells": [
  {
   "cell_type": "code",
   "execution_count": 1,
   "metadata": {},
   "outputs": [
    {
     "name": "stderr",
     "output_type": "stream",
     "text": [
      "[nltk_data] Downloading package stopwords to\n",
      "[nltk_data]     C:\\Users\\Kiann\\AppData\\Roaming\\nltk_data...\n",
      "[nltk_data]   Package stopwords is already up-to-date!\n"
     ]
    }
   ],
   "source": [
    "import numpy as np\n",
    "import pandas as pd\n",
    "import gensim.downloader as api\n",
    "import text_hammer as th\n",
    "import matplotlib.pyplot as plt\n",
    "\n",
    "from keras.preprocessing.text import Tokenizer,  text_to_word_sequence\n",
    "from keras.layers import Embedding, Dense, Bidirectional, Embedding, LSTM, Bidirectional, TimeDistributed, Dense, Input\n",
    "from keras.models import Model\n",
    "from keras.utils import to_categorical\n",
    "from keras.callbacks import EarlyStopping, ModelCheckpoint\n",
    "from tensorflow.train import latest_checkpoint\n",
    "\n",
    "import nltk\n",
    "from nltk.corpus import stopwords\n",
    "from nltk.tokenize import sent_tokenize\n",
    "nltk.download('stopwords')\n",
    "\n",
    "from data_preprocessing import load_sst"
   ]
  },
  {
   "cell_type": "code",
   "execution_count": 2,
   "metadata": {},
   "outputs": [
    {
     "name": "stderr",
     "output_type": "stream",
     "text": [
      "INFO: SST-2 loaded\n"
     ]
    }
   ],
   "source": [
    "# Load SST dataset\n",
    "train_data, train_labels, test_data, test_labels, dev_data, dev_labels = load_sst()\n"
   ]
  },
  {
   "cell_type": "code",
   "execution_count": 3,
   "metadata": {},
   "outputs": [
    {
     "data": {
      "text/html": [
       "<div>\n",
       "<style scoped>\n",
       "    .dataframe tbody tr th:only-of-type {\n",
       "        vertical-align: middle;\n",
       "    }\n",
       "\n",
       "    .dataframe tbody tr th {\n",
       "        vertical-align: top;\n",
       "    }\n",
       "\n",
       "    .dataframe thead th {\n",
       "        text-align: right;\n",
       "    }\n",
       "</style>\n",
       "<table border=\"1\" class=\"dataframe\">\n",
       "  <thead>\n",
       "    <tr style=\"text-align: right;\">\n",
       "      <th></th>\n",
       "      <th>content</th>\n",
       "      <th>sentiment</th>\n",
       "    </tr>\n",
       "  </thead>\n",
       "  <tbody>\n",
       "    <tr>\n",
       "      <th>0</th>\n",
       "      <td>One of the other reviewers has mentioned that ...</td>\n",
       "      <td>1</td>\n",
       "    </tr>\n",
       "    <tr>\n",
       "      <th>1</th>\n",
       "      <td>A wonderful little production. &lt;br /&gt;&lt;br /&gt;The...</td>\n",
       "      <td>1</td>\n",
       "    </tr>\n",
       "    <tr>\n",
       "      <th>2</th>\n",
       "      <td>I thought this was a wonderful way to spend ti...</td>\n",
       "      <td>1</td>\n",
       "    </tr>\n",
       "    <tr>\n",
       "      <th>3</th>\n",
       "      <td>Basically there's a family where a little boy ...</td>\n",
       "      <td>0</td>\n",
       "    </tr>\n",
       "    <tr>\n",
       "      <th>4</th>\n",
       "      <td>Petter Mattei's \"Love in the Time of Money\" is...</td>\n",
       "      <td>1</td>\n",
       "    </tr>\n",
       "  </tbody>\n",
       "</table>\n",
       "</div>"
      ],
      "text/plain": [
       "                                             content  sentiment\n",
       "0  One of the other reviewers has mentioned that ...          1\n",
       "1  A wonderful little production. <br /><br />The...          1\n",
       "2  I thought this was a wonderful way to spend ti...          1\n",
       "3  Basically there's a family where a little boy ...          0\n",
       "4  Petter Mattei's \"Love in the Time of Money\" is...          1"
      ]
     },
     "execution_count": 3,
     "metadata": {},
     "output_type": "execute_result"
    }
   ],
   "source": [
    "# Load into dataframes\n",
    "\n",
    "df_train = pd.DataFrame({'content':train_data, 'sentiment':train_labels})\n",
    "df_train.reset_index(drop=True, inplace=True)\n",
    "\n",
    "df_test = pd.DataFrame({'content':dev_data, 'sentiment':dev_labels})\n",
    "df_test.reset_index(drop=True, inplace=True)\n",
    "\n",
    "df_imdb = pd.read_csv(\"data/IMDB Dataset.csv\")\n",
    "df_imdb = df_imdb.rename(columns={\"review\": \"content\"})\n",
    "df_imdb['sentiment'] = df_imdb['sentiment'].map({\"positive\":1, \"negative\":0})\n",
    "df_imdb.head(5)"
   ]
  },
  {
   "cell_type": "code",
   "execution_count": 4,
   "metadata": {},
   "outputs": [],
   "source": [
    "# Preprocessing\n",
    "\n",
    "STOPWORDS = set(stopwords.words('english'))\n",
    "def remove_stopwords(text):\n",
    "    \"\"\"custom function to remove the stopwords\"\"\"\n",
    "    return \" \".join([word for word in str(text).split() if word not in STOPWORDS])\n",
    "\n",
    "def pre_processing(df):\n",
    "    # Preprocessing using Text-Hammer library\n",
    "    df['content'] = df['content'].progress_apply(lambda x: th.cont_exp(x)) #you're -> you are; i'm -> i am\n",
    "    df['content'] = df['content'].progress_apply(lambda x: th.remove_emails(x))\n",
    "    df['content'] = df['content'].progress_apply(lambda x: th.remove_html_tags(x))\n",
    "    df['content'] = df['content'].progress_apply(lambda x: th.remove_urls(x))\n",
    "\n",
    "    df['content'] = df['content'].progress_apply(lambda x: th.remove_special_chars(x))\n",
    "    df['content'] = df['content'].progress_apply(lambda x: th.remove_accented_chars(x))\n",
    "    df['content'] = df['content'].progress_apply(lambda x: th.make_base(x)) #ran -> run, \n",
    "    # df['content'] = df['content'].progress_apply(lambda x: th.spelling_correction(x).raw_sentences[0]) #seplling -> spelling\n",
    "    print(\"Number of words with stopwords:\",df['content'].str.split().str.len().sum())\n",
    "    df[\"content\"] = df['content'].progress_apply(lambda x: remove_stopwords(x))\n",
    "    print(\"Number of words without stopwords:\",df['content'].str.split().str.len().sum())\n",
    "\n",
    "# pre_processing(df_train)\n",
    "# pre_processing(df_test)\n",
    "# pre_processing(df_imdb)"
   ]
  },
  {
   "cell_type": "code",
   "execution_count": 5,
   "metadata": {},
   "outputs": [
    {
     "name": "stderr",
     "output_type": "stream",
     "text": [
      "INFO: loading projection weights from C:\\Users\\Kiann/gensim-data\\word2vec-google-news-300\\word2vec-google-news-300.gz\n",
      "INFO: KeyedVectors lifecycle event {'msg': 'loaded (3000000, 300) matrix of type float32 from C:\\\\Users\\\\Kiann/gensim-data\\\\word2vec-google-news-300\\\\word2vec-google-news-300.gz', 'binary': True, 'encoding': 'utf8', 'datetime': '2024-04-07T11:59:08.894989', 'gensim': '4.3.2', 'python': '3.9.19 (main, Mar 21 2024, 17:21:27) [MSC v.1916 64 bit (AMD64)]', 'platform': 'Windows-10-10.0.19045-SP0', 'event': 'load_word2vec_format'}\n"
     ]
    }
   ],
   "source": [
    "# Load word2Vec\n",
    "# model_type = 'glove-wiki-gigaword-200'  # 25 100 200 word2vec 300 \n",
    "model_type = 'word2vec-google-news-300'  # 25 100 200 word2vec 300 \n",
    "\n",
    "w2vModel = api.load(model_type)\n",
    "GLOVE_DIM = int(model_type.split('-')[-1])"
   ]
  },
  {
   "cell_type": "code",
   "execution_count": 6,
   "metadata": {},
   "outputs": [],
   "source": [
    "# Configs\n",
    "max_sent_length = 50\n",
    "max_number_of_sent = 50\n",
    "max_number_of_words = 50000\n",
    "np.random.seed(123)\n"
   ]
  },
  {
   "cell_type": "code",
   "execution_count": 7,
   "metadata": {},
   "outputs": [],
   "source": [
    "def Tokenize(texts, max_sent_length, max_number_of_sent, max_number_of_words, tokenizer, word_index):\n",
    "    articles = texts.map(lambda x: sent_tokenize(x))\n",
    "\n",
    "    data = np.zeros((len(texts), max_number_of_sent, max_sent_length), dtype='int32')\n",
    "    failCount = 0\n",
    "    for i, sentences in enumerate(articles):\n",
    "        for j, sent in enumerate(sentences):\n",
    "            if j< max_number_of_sent:\n",
    "                wordTokens = text_to_word_sequence(sent)\n",
    "                k=0\n",
    "                for _, word in enumerate(wordTokens):\n",
    "                    try:\n",
    "                      if k<max_sent_length and tokenizer.word_index[word]<max_number_of_words:\n",
    "                            data[i,j,k] = tokenizer.word_index[word]\n",
    "                            k=k+1\n",
    "                    except:\n",
    "                      data[i,j,k] = 0\n",
    "                      k=k+1\n",
    "                      failCount+=1\n",
    "    print('No. of %s unique tokens.' % len(word_index))\n",
    "    print(f'Failed to tokenize {failCount} words')\n",
    "    return data"
   ]
  },
  {
   "cell_type": "code",
   "execution_count": 10,
   "metadata": {},
   "outputs": [
    {
     "name": "stdout",
     "output_type": "stream",
     "text": [
      "No. of 13822 unique tokens.\n",
      "Failed to tokenize 0 words\n",
      "No. of 13822 unique tokens.\n",
      "Failed to tokenize 842 words\n",
      "No. of 124252 unique tokens.\n",
      "Failed to tokenize 1218545 words\n"
     ]
    }
   ],
   "source": [
    "# Tokenize all data for HAN\n",
    "\n",
    "texts = df_train['content']\n",
    "test_text = df_test['content']\n",
    "imdb_text = df_imdb['content']\n",
    "\n",
    "# Get all sentences\n",
    "test_articles = test_text.map(lambda x: sent_tokenize(x))\n",
    "\n",
    "# Create 3D data with tokenizer word_index. Neglect words which are not in word_index\n",
    "tokenizer = Tokenizer(num_words=max_number_of_words)\n",
    "tokenizer.fit_on_texts(texts)\n",
    "word_index = tokenizer.word_index\n",
    "\n",
    "# Tokenize train test data\n",
    "data = Tokenize(texts, max_sent_length, max_number_of_sent, max_number_of_words, tokenizer, word_index)\n",
    "test_data = Tokenize(test_text, max_sent_length, max_number_of_sent, max_number_of_words, tokenizer, word_index)\n",
    "\n",
    "# Just to get the unique token count, still use original tokenizer\n",
    "imdb_tokenizer = Tokenizer(num_words=max_number_of_words)\n",
    "imdb_tokenizer.fit_on_texts(imdb_text)\n",
    "imdb_word_index = imdb_tokenizer.word_index\n",
    "\n",
    "imdb_data = Tokenize(imdb_text, max_sent_length, max_number_of_sent, max_number_of_words, tokenizer, imdb_word_index)"
   ]
  },
  {
   "cell_type": "code",
   "execution_count": 11,
   "metadata": {},
   "outputs": [
    {
     "name": "stdout",
     "output_type": "stream",
     "text": [
      "Shape of data tensor: (67349, 50, 50)\n",
      "Shape of label tensor: (67349, 2)\n",
      "Shape of data tensor: (872, 50, 50)\n",
      "Shape of label tensor: (872, 2)\n",
      "Shape of data tensor: (50000, 50, 50)\n",
      "Shape of label tensor: (50000, 2)\n"
     ]
    }
   ],
   "source": [
    "def Train_Val_Split(data, ori_df, val_size = 0.2):\n",
    "    # Encode labels\n",
    "    labels = to_categorical(np.asarray(ori_df['sentiment']))\n",
    "    print('Shape of data tensor:', data.shape)\n",
    "    print('Shape of label tensor:', labels.shape)\n",
    "\n",
    "    # Shuffle data\n",
    "    indices = np.arange(data.shape[0])\n",
    "    np.random.shuffle(indices)\n",
    "    data = data[indices]\n",
    "    labels = labels[indices]\n",
    "    \n",
    "    # Split dataset\n",
    "    if(val_size == 0):\n",
    "        return data, labels, None, None\n",
    "    \n",
    "    nb_validation_samples = int(val_size * data.shape[0])\n",
    "\n",
    "    xtrain = data[:-nb_validation_samples]\n",
    "    ytrain = labels[:-nb_validation_samples]\n",
    "    xval = data[-nb_validation_samples:]\n",
    "    yval = labels[-nb_validation_samples:]\n",
    "    return xtrain, ytrain, xval, yval\n",
    "\n",
    "xtrain, ytrain, xval, yval = Train_Val_Split(data,df_train)\n",
    "xtest, ytest, _, _ = Train_Val_Split(test_data,df_test, 0)\n",
    "xtrain_imdb, ytrain_imdb, _, _ = Train_Val_Split(imdb_data,df_imdb,0)"
   ]
  },
  {
   "cell_type": "code",
   "execution_count": 12,
   "metadata": {},
   "outputs": [
    {
     "data": {
      "text/plain": [
       "13823"
      ]
     },
     "execution_count": 12,
     "metadata": {},
     "output_type": "execute_result"
    }
   ],
   "source": [
    "wordLen = len(tokenizer.word_index)+1\n",
    "wordLen"
   ]
  },
  {
   "cell_type": "code",
   "execution_count": 13,
   "metadata": {},
   "outputs": [
    {
     "name": "stdout",
     "output_type": "stream",
     "text": [
      "Converted 12733 words (1089 misses)\n"
     ]
    }
   ],
   "source": [
    "## Create an embedding weight matrix based on word2vec that used in a Keras Embedding layer. \n",
    "\n",
    "def embed(model, tokenizer):\n",
    "    embed_size = GLOVE_DIM\n",
    "    embedding_matrix = np.zeros((len(tokenizer.word_index)+1, embed_size))\n",
    "\n",
    "    hits = 0\n",
    "    misses = 0\n",
    "\n",
    "    # embedding matrix\n",
    "    for word, i in tokenizer.word_index.items():\n",
    "        try:\n",
    "            embedding_vector = model.get_vector(word)\n",
    "            if embedding_vector is not None:\n",
    "                embedding_matrix[i] = embedding_vector\n",
    "                hits += 1\n",
    "            else:\n",
    "                misses += 1\n",
    "        except:\n",
    "            misses += 1\n",
    "        \n",
    "            \n",
    "    print(\"Converted %d words (%d misses)\" % (hits, misses))\n",
    "    return embedding_matrix\n",
    "\n",
    "\n",
    "embedding_matrix = embed (w2vModel, tokenizer)\n",
    "# embedding_matrix"
   ]
  },
  {
   "cell_type": "code",
   "execution_count": 14,
   "metadata": {},
   "outputs": [
    {
     "name": "stdout",
     "output_type": "stream",
     "text": [
      "Model: \"model_1\"\n",
      "_________________________________________________________________\n",
      " Layer (type)                Output Shape              Param #   \n",
      "=================================================================\n",
      " input_2 (InputLayer)        [(None, 50, 50)]          0         \n",
      "                                                                 \n",
      " time_distributed (TimeDistr  (None, 50, 200)          4467700   \n",
      " ibuted)                                                         \n",
      "                                                                 \n",
      " bidirectional_1 (Bidirectio  (None, 200)              240800    \n",
      " nal)                                                            \n",
      "                                                                 \n",
      " dense (Dense)               (None, 2)                 402       \n",
      "                                                                 \n",
      "=================================================================\n",
      "Total params: 4,708,902\n",
      "Trainable params: 562,002\n",
      "Non-trainable params: 4,146,900\n",
      "_________________________________________________________________\n",
      "None\n",
      "Epoch 1/200\n",
      "842/842 [==============================] - ETA: 0s - loss: 0.3899 - acc: 0.8259\n",
      "Epoch 1: saving model to training_1\\cp.ckpt\n",
      "842/842 [==============================] - 142s 163ms/step - loss: 0.3899 - acc: 0.8259 - val_loss: 0.3361 - val_acc: 0.8567\n",
      "Epoch 2/200\n",
      "842/842 [==============================] - ETA: 0s - loss: 0.3311 - acc: 0.8543\n",
      "Epoch 2: saving model to training_1\\cp.ckpt\n",
      "842/842 [==============================] - 137s 162ms/step - loss: 0.3311 - acc: 0.8543 - val_loss: 0.3108 - val_acc: 0.8666\n",
      "Epoch 3/200\n",
      "842/842 [==============================] - ETA: 0s - loss: 0.2987 - acc: 0.8718\n",
      "Epoch 3: saving model to training_1\\cp.ckpt\n",
      "842/842 [==============================] - 134s 159ms/step - loss: 0.2987 - acc: 0.8718 - val_loss: 0.2802 - val_acc: 0.8839\n",
      "Epoch 4/200\n",
      "842/842 [==============================] - ETA: 0s - loss: 0.2760 - acc: 0.8836\n",
      "Epoch 4: saving model to training_1\\cp.ckpt\n",
      "842/842 [==============================] - 133s 158ms/step - loss: 0.2760 - acc: 0.8836 - val_loss: 0.2628 - val_acc: 0.8912\n",
      "Epoch 5/200\n",
      "842/842 [==============================] - ETA: 0s - loss: 0.2565 - acc: 0.8930\n",
      "Epoch 5: saving model to training_1\\cp.ckpt\n",
      "842/842 [==============================] - 137s 163ms/step - loss: 0.2565 - acc: 0.8930 - val_loss: 0.2449 - val_acc: 0.9004\n",
      "Epoch 6/200\n",
      "842/842 [==============================] - ETA: 0s - loss: 0.2383 - acc: 0.9026\n",
      "Epoch 6: saving model to training_1\\cp.ckpt\n",
      "842/842 [==============================] - 137s 163ms/step - loss: 0.2383 - acc: 0.9026 - val_loss: 0.2251 - val_acc: 0.9101\n",
      "Epoch 7/200\n",
      "842/842 [==============================] - ETA: 0s - loss: 0.2201 - acc: 0.9122\n",
      "Epoch 7: saving model to training_1\\cp.ckpt\n",
      "842/842 [==============================] - 132s 156ms/step - loss: 0.2201 - acc: 0.9122 - val_loss: 0.2165 - val_acc: 0.9150\n",
      "Epoch 8/200\n",
      "842/842 [==============================] - ETA: 0s - loss: 0.2072 - acc: 0.9168\n",
      "Epoch 8: saving model to training_1\\cp.ckpt\n",
      "842/842 [==============================] - 109s 129ms/step - loss: 0.2072 - acc: 0.9168 - val_loss: 0.2096 - val_acc: 0.9200\n",
      "Epoch 9/200\n",
      "842/842 [==============================] - ETA: 0s - loss: 0.1939 - acc: 0.9244\n",
      "Epoch 9: saving model to training_1\\cp.ckpt\n",
      "842/842 [==============================] - 85s 101ms/step - loss: 0.1939 - acc: 0.9244 - val_loss: 0.2119 - val_acc: 0.9207\n",
      "Epoch 10/200\n",
      "842/842 [==============================] - ETA: 0s - loss: 0.1858 - acc: 0.9272\n",
      "Epoch 10: saving model to training_1\\cp.ckpt\n",
      "842/842 [==============================] - 79s 94ms/step - loss: 0.1858 - acc: 0.9272 - val_loss: 0.1985 - val_acc: 0.9264\n",
      "Epoch 11/200\n",
      "842/842 [==============================] - ETA: 0s - loss: 0.1749 - acc: 0.9323\n",
      "Epoch 11: saving model to training_1\\cp.ckpt\n",
      "842/842 [==============================] - 80s 95ms/step - loss: 0.1749 - acc: 0.9323 - val_loss: 0.1919 - val_acc: 0.9271\n",
      "Epoch 12/200\n",
      "842/842 [==============================] - ETA: 0s - loss: 0.1639 - acc: 0.9370\n",
      "Epoch 12: saving model to training_1\\cp.ckpt\n",
      "842/842 [==============================] - 87s 103ms/step - loss: 0.1639 - acc: 0.9370 - val_loss: 0.2104 - val_acc: 0.9263\n",
      "Epoch 13/200\n",
      "842/842 [==============================] - ETA: 0s - loss: 0.1556 - acc: 0.9403\n",
      "Epoch 13: saving model to training_1\\cp.ckpt\n",
      "842/842 [==============================] - 87s 103ms/step - loss: 0.1556 - acc: 0.9403 - val_loss: 0.2031 - val_acc: 0.9266\n",
      "Epoch 14/200\n",
      "842/842 [==============================] - ETA: 0s - loss: 0.1481 - acc: 0.9434\n",
      "Epoch 14: saving model to training_1\\cp.ckpt\n",
      "842/842 [==============================] - 83s 99ms/step - loss: 0.1481 - acc: 0.9434 - val_loss: 0.1885 - val_acc: 0.9311\n",
      "Epoch 15/200\n",
      "842/842 [==============================] - ETA: 0s - loss: 0.1441 - acc: 0.9454\n",
      "Epoch 15: saving model to training_1\\cp.ckpt\n",
      "842/842 [==============================] - 82s 97ms/step - loss: 0.1441 - acc: 0.9454 - val_loss: 0.2026 - val_acc: 0.9300\n",
      "Epoch 16/200\n",
      "842/842 [==============================] - ETA: 0s - loss: 0.1373 - acc: 0.9492\n",
      "Epoch 16: saving model to training_1\\cp.ckpt\n",
      "842/842 [==============================] - 83s 99ms/step - loss: 0.1373 - acc: 0.9492 - val_loss: 0.1906 - val_acc: 0.9349\n",
      "Epoch 17/200\n",
      "842/842 [==============================] - ETA: 0s - loss: 0.1319 - acc: 0.9500\n",
      "Epoch 17: saving model to training_1\\cp.ckpt\n",
      "842/842 [==============================] - 83s 99ms/step - loss: 0.1319 - acc: 0.9500 - val_loss: 0.1988 - val_acc: 0.9330\n",
      "Epoch 18/200\n",
      "842/842 [==============================] - ETA: 0s - loss: 0.1266 - acc: 0.9527\n",
      "Epoch 18: saving model to training_1\\cp.ckpt\n",
      "842/842 [==============================] - 88s 105ms/step - loss: 0.1266 - acc: 0.9527 - val_loss: 0.1946 - val_acc: 0.9365\n",
      "Epoch 19/200\n",
      "842/842 [==============================] - ETA: 0s - loss: 0.1208 - acc: 0.9555\n",
      "Epoch 19: saving model to training_1\\cp.ckpt\n",
      "842/842 [==============================] - 99s 117ms/step - loss: 0.1208 - acc: 0.9555 - val_loss: 0.1968 - val_acc: 0.9370\n",
      "Epoch 19: early stopping\n"
     ]
    }
   ],
   "source": [
    "# Loads the weights\n",
    "embedding_layer = Embedding(wordLen, output_dim=GLOVE_DIM, input_length=max_sent_length, weights=[embedding_matrix],trainable=False)\n",
    "\n",
    "# Hierarchal Attention Network word-sentence layers\n",
    "# Word\n",
    "sentence_input = Input(shape=(max_sent_length,), dtype='int32')\n",
    "embedded_sequences = embedding_layer(sentence_input)\n",
    "lstm_layer = Bidirectional(layer=LSTM(100,dropout=.3))(embedded_sequences)\n",
    "sentEncoder = Model(sentence_input, lstm_layer)\n",
    "\n",
    "# Sentence\n",
    "article_input = Input(shape=(max_number_of_sent,max_sent_length), dtype='int32')\n",
    "article_encoder = TimeDistributed(sentEncoder)(article_input)\n",
    "lstm_layer_sent = Bidirectional(LSTM(100,dropout=.3))(article_encoder)\n",
    "preds = Dense(len(df_train['sentiment'].unique()), activation='softmax')(lstm_layer_sent)\n",
    "han_model = Model(article_input, preds)\n",
    "\n",
    "\n",
    "han_model.compile(loss='categorical_crossentropy',\n",
    "              optimizer='rmsprop',\n",
    "              metrics=['acc'])\n",
    "print(han_model.summary())\n",
    "\n",
    "# Create early stopping callback\n",
    "es = EarlyStopping(monitor = 'val_loss', mode = 'min', verbose = 1, patience = 5)\n",
    "# Create model checkpoint callback \n",
    "cp_callback = ModelCheckpoint(filepath=\"training_1/cp.ckpt\",save_weights_only=True,verbose=1)\n",
    "\n",
    "\n",
    "# Fit training model to SST dataset\n",
    "\n",
    "# if not os.listdir(checkpoint_path.split(\"/\")[0]):\n",
    "history = han_model.fit(xtrain, ytrain, epochs=200, batch_size=64, verbose=1,validation_data=(xval,yval),callbacks= [es, cp_callback])\n",
    "# else:\n",
    "#   latest = latest_checkpoint(checkpoint_path.split(\"/\")[0])\n",
    "#   han_model.load_weights(latest)\n",
    "#   history = han_model.evaluate(xval, yval, verbose=2)"
   ]
  },
  {
   "cell_type": "code",
   "execution_count": 15,
   "metadata": {},
   "outputs": [
    {
     "name": "stdout",
     "output_type": "stream",
     "text": [
      "Training Accuracy: 0.956\n"
     ]
    }
   ],
   "source": [
    "last_accuracy = \"{:.3f}\".format(history.history['acc'][-1])\n",
    "print(\"Training Accuracy:\", last_accuracy)"
   ]
  },
  {
   "cell_type": "code",
   "execution_count": 16,
   "metadata": {},
   "outputs": [
    {
     "data": {
      "image/png": "[encoded data removed]",
      "text/plain": [
       "<Figure size 640x480 with 1 Axes>"
      ]
     },
     "metadata": {},
     "output_type": "display_data"
    }
   ],
   "source": [
    "plt.plot(history.history['acc'])\n",
    "plt.plot(history.history['val_acc'])\n",
    "plt.title('Training Accuracy vs Validation Accuracy')\n",
    "plt.ylabel('Accuracy')\n",
    "plt.xlabel('Epoch')\n",
    "plt.legend(['Train', 'Validation'], loc='upper left')\n",
    "plt.show()"
   ]
  },
  {
   "cell_type": "code",
   "execution_count": 17,
   "metadata": {},
   "outputs": [
    {
     "data": {
      "image/png": "[encoded data removed]",
      "text/plain": [
       "<Figure size 640x480 with 1 Axes>"
      ]
     },
     "metadata": {},
     "output_type": "display_data"
    }
   ],
   "source": [
    "plt.plot(history.history['loss'])\n",
    "plt.plot(history.history['val_loss'])\n",
    "plt.title('Training Loss vs Validation Loss')\n",
    "plt.ylabel('Loss')\n",
    "plt.xlabel('Epoch')\n",
    "plt.legend(['Train', 'Validation'], loc='upper left')\n",
    "plt.show()"
   ]
  },
  {
   "cell_type": "code",
   "execution_count": 18,
   "metadata": {},
   "outputs": [
    {
     "name": "stdout",
     "output_type": "stream",
     "text": [
      "28/28 - 1s - loss: 0.5281 - acc: 0.8372 - 885ms/epoch - 32ms/step\n"
     ]
    }
   ],
   "source": [
    "# Evaluate model on sst test dataset\n",
    "\n",
    "result = han_model.evaluate(xtest, ytest, verbose=2)\n"
   ]
  },
  {
   "cell_type": "code",
   "execution_count": 19,
   "metadata": {},
   "outputs": [
    {
     "name": "stdout",
     "output_type": "stream",
     "text": [
      "(50000, 50, 50)\n",
      "(50000, 2)\n",
      "1563/1563 - 48s - loss: 0.9520 - acc: 0.7685 - 48s/epoch - 31ms/step\n"
     ]
    }
   ],
   "source": [
    "# Evaluate model on imdb dataset\n",
    "print(xtrain_imdb.shape)\n",
    "print(ytrain_imdb.shape)\n",
    "\n",
    "result = han_model.evaluate(xtrain_imdb, ytrain_imdb, verbose=2)\n"
   ]
  }
 ],
 "metadata": {
  "kernelspec": {
   "display_name": "Python 3",
   "language": "python",
   "name": "python3"
  },
  "language_info": {
   "codemirror_mode": {
    "name": "ipython",
    "version": 3
   },
   "file_extension": ".py",
   "mimetype": "text/x-python",
   "name": "python",
   "nbconvert_exporter": "python",
   "pygments_lexer": "ipython3",
   "version": "3.9.19"
  }
 },
 "nbformat": 4,
 "nbformat_minor": 2
}
