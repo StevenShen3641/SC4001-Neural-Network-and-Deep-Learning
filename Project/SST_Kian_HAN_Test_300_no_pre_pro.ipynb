{
 "cells": [
  {
   "cell_type": "code",
   "execution_count": 1,
   "metadata": {},
   "outputs": [
    {
     "name": "stderr",
     "output_type": "stream",
     "text": [
      "[nltk_data] Downloading package stopwords to C:\\Users\\Chihao\n",
      "[nltk_data]     Shen\\AppData\\Roaming\\nltk_data...\n",
      "[nltk_data]   Package stopwords is already up-to-date!\n",
      "[nltk_data] Downloading package stopwords to C:\\Users\\Chihao\n",
      "[nltk_data]     Shen\\AppData\\Roaming\\nltk_data...\n",
      "[nltk_data]   Package stopwords is already up-to-date!\n"
     ]
    }
   ],
   "source": [
    "import numpy as np\n",
    "import pandas as pd\n",
    "import gensim.downloader as api\n",
    "import text_hammer as th\n",
    "import matplotlib.pyplot as plt\n",
    "\n",
    "from keras.preprocessing.text import Tokenizer,  text_to_word_sequence\n",
    "from keras.layers import Embedding, Dense, Bidirectional, Embedding, LSTM, Bidirectional, TimeDistributed, Dense, Input\n",
    "from keras.models import Model\n",
    "from keras.utils import to_categorical\n",
    "from keras.callbacks import EarlyStopping, ModelCheckpoint\n",
    "from tensorflow.train import latest_checkpoint\n",
    "\n",
    "import nltk\n",
    "from nltk.corpus import stopwords\n",
    "from nltk.tokenize import sent_tokenize\n",
    "nltk.download('stopwords')\n",
    "\n",
    "from data_preprocessing import load_sst"
   ]
  },
  {
   "cell_type": "code",
   "execution_count": 2,
   "metadata": {},
   "outputs": [
    {
     "name": "stderr",
     "output_type": "stream",
     "text": [
      "INFO: SST-2 loaded\n"
     ]
    }
   ],
   "source": [
    "# Load SST dataset\n",
    "train_data, train_labels, test_data, test_labels, dev_data, dev_labels = load_sst()\n"
   ]
  },
  {
   "cell_type": "code",
   "execution_count": 3,
   "metadata": {},
   "outputs": [
    {
     "data": {
      "text/html": [
       "<div>\n",
       "<style scoped>\n",
       "    .dataframe tbody tr th:only-of-type {\n",
       "        vertical-align: middle;\n",
       "    }\n",
       "\n",
       "    .dataframe tbody tr th {\n",
       "        vertical-align: top;\n",
       "    }\n",
       "\n",
       "    .dataframe thead th {\n",
       "        text-align: right;\n",
       "    }\n",
       "</style>\n",
       "<table border=\"1\" class=\"dataframe\">\n",
       "  <thead>\n",
       "    <tr style=\"text-align: right;\">\n",
       "      <th></th>\n",
       "      <th>content</th>\n",
       "      <th>sentiment</th>\n",
       "    </tr>\n",
       "  </thead>\n",
       "  <tbody>\n",
       "    <tr>\n",
       "      <th>39316</th>\n",
       "      <td>\"The Brak Show \" is good .Probably not in the ...</td>\n",
       "      <td>1</td>\n",
       "    </tr>\n",
       "    <tr>\n",
       "      <th>41352</th>\n",
       "      <td>What could have been some majorly creepy stuff...</td>\n",
       "      <td>0</td>\n",
       "    </tr>\n",
       "    <tr>\n",
       "      <th>36509</th>\n",
       "      <td>I have been an environmentalist for years and ...</td>\n",
       "      <td>0</td>\n",
       "    </tr>\n",
       "    <tr>\n",
       "      <th>29755</th>\n",
       "      <td>When Precious Bane aired in America, I was stu...</td>\n",
       "      <td>1</td>\n",
       "    </tr>\n",
       "    <tr>\n",
       "      <th>21144</th>\n",
       "      <td>I read the comment of Chris_m_grant from Unite...</td>\n",
       "      <td>0</td>\n",
       "    </tr>\n",
       "  </tbody>\n",
       "</table>\n",
       "</div>"
      ],
      "text/plain": [
       "                                                 content  sentiment\n",
       "39316  \"The Brak Show \" is good .Probably not in the ...          1\n",
       "41352  What could have been some majorly creepy stuff...          0\n",
       "36509  I have been an environmentalist for years and ...          0\n",
       "29755  When Precious Bane aired in America, I was stu...          1\n",
       "21144  I read the comment of Chris_m_grant from Unite...          0"
      ]
     },
     "execution_count": 3,
     "metadata": {},
     "output_type": "execute_result"
    }
   ],
   "source": [
    "# Load into dataframes\n",
    "\n",
    "df_train = pd.DataFrame({'content':train_data, 'sentiment':train_labels})\n",
    "df_train.reset_index(drop=True, inplace=True)\n",
    "\n",
    "df_test = pd.DataFrame({'content':dev_data, 'sentiment':dev_labels})\n",
    "df_test.reset_index(drop=True, inplace=True)\n",
    "\n",
    "df_imdb = pd.read_csv(\"data/IMDB Dataset.csv\")\n",
    "df_imdb = df_imdb.rename(columns={\"review\": \"content\"})\n",
    "df_imdb['sentiment'] = df_imdb['sentiment'].map({\"positive\":1, \"negative\":0})\n",
    "df_imdb = df_imdb.sample(n=1000)\n",
    "df_imdb.head(5)"
   ]
  },
  {
   "cell_type": "code",
   "execution_count": 4,
   "metadata": {},
   "outputs": [],
   "source": [
    "# Preprocessing\n",
    "\n",
    "STOPWORDS = set(stopwords.words('english'))\n",
    "def remove_stopwords(text):\n",
    "    \"\"\"custom function to remove the stopwords\"\"\"\n",
    "    return \" \".join([word for word in str(text).split() if word not in STOPWORDS])\n",
    "\n",
    "def pre_processing(df):\n",
    "    # Preprocessing using Text-Hammer library\n",
    "    df['content'] = df['content'].progress_apply(lambda x: th.cont_exp(x)) #you're -> you are; i'm -> i am\n",
    "    df['content'] = df['content'].progress_apply(lambda x: th.remove_emails(x))\n",
    "    df['content'] = df['content'].progress_apply(lambda x: th.remove_html_tags(x))\n",
    "    df['content'] = df['content'].progress_apply(lambda x: th.remove_urls(x))\n",
    "\n",
    "    df['content'] = df['content'].progress_apply(lambda x: th.remove_special_chars(x))\n",
    "    df['content'] = df['content'].progress_apply(lambda x: th.remove_accented_chars(x))\n",
    "    df['content'] = df['content'].progress_apply(lambda x: th.make_base(x)) #ran -> run, \n",
    "    # df['content'] = df['content'].progress_apply(lambda x: th.spelling_correction(x).raw_sentences[0]) #seplling -> spelling\n",
    "    print(\"Number of words with stopwords:\",df['content'].str.split().str.len().sum())\n",
    "    df[\"content\"] = df['content'].progress_apply(lambda x: remove_stopwords(x))\n",
    "    print(\"Number of words without stopwords:\",df['content'].str.split().str.len().sum())\n",
    "\n",
    "# pre_processing(df_train)\n",
    "# pre_processing(df_test)\n",
    "# pre_processing(df_imdb)"
   ]
  },
  {
   "cell_type": "code",
   "execution_count": 5,
   "metadata": {},
   "outputs": [
    {
     "name": "stderr",
     "output_type": "stream",
     "text": [
      "INFO: loading projection weights from C:\\Users\\Chihao Shen/gensim-data\\word2vec-google-news-300\\word2vec-google-news-300.gz\n",
      "INFO: KeyedVectors lifecycle event {'msg': 'loaded (3000000, 300) matrix of type float32 from C:\\\\Users\\\\Chihao Shen/gensim-data\\\\word2vec-google-news-300\\\\word2vec-google-news-300.gz', 'binary': True, 'encoding': 'utf8', 'datetime': '2024-04-07T20:46:36.184789', 'gensim': '4.3.2', 'python': '3.10.11 (tags/v3.10.11:7d4cc5a, Apr  5 2023, 00:38:17) [MSC v.1929 64 bit (AMD64)]', 'platform': 'Windows-10-10.0.22631-SP0', 'event': 'load_word2vec_format'}\n"
     ]
    }
   ],
   "source": [
    "# Load word2Vec\n",
    "# model_type = 'glove-wiki-gigaword-200'  # 25 100 200 word2vec 300 \n",
    "model_type = 'word2vec-google-news-300'  # 25 100 200 word2vec 300 \n",
    "\n",
    "w2vModel = api.load(model_type)\n",
    "GLOVE_DIM = int(model_type.split('-')[-1])"
   ]
  },
  {
   "cell_type": "code",
   "execution_count": 6,
   "metadata": {},
   "outputs": [],
   "source": [
    "# Configs\n",
    "max_sent_length = 50\n",
    "max_number_of_sent = 50\n",
    "max_number_of_words = 50000\n",
    "np.random.seed(123)\n"
   ]
  },
  {
   "cell_type": "code",
   "execution_count": 7,
   "metadata": {},
   "outputs": [],
   "source": [
    "def Tokenize(texts, max_sent_length, max_number_of_sent, max_number_of_words, tokenizer, word_index):\n",
    "    articles = texts.map(lambda x: sent_tokenize(x))\n",
    "\n",
    "    data = np.zeros((len(texts), max_number_of_sent, max_sent_length), dtype='int32')\n",
    "    failCount = 0\n",
    "    for i, sentences in enumerate(articles):\n",
    "        for j, sent in enumerate(sentences):\n",
    "            if j< max_number_of_sent:\n",
    "                wordTokens = text_to_word_sequence(sent)\n",
    "                k=0\n",
    "                for _, word in enumerate(wordTokens):\n",
    "                    try:\n",
    "                      if k<max_sent_length and tokenizer.word_index[word]<max_number_of_words:\n",
    "                            data[i,j,k] = tokenizer.word_index[word]\n",
    "                            k=k+1\n",
    "                    except:\n",
    "                      data[i,j,k] = 0\n",
    "                      k=k+1\n",
    "                      failCount+=1\n",
    "    print('No. of %s unique tokens.' % len(word_index))\n",
    "    print(f'Failed to tokenize {failCount} words')\n",
    "    return data"
   ]
  },
  {
   "cell_type": "code",
   "execution_count": 8,
   "metadata": {},
   "outputs": [
    {
     "name": "stdout",
     "output_type": "stream",
     "text": [
      "No. of 773164 unique tokens.\n",
      "Failed to tokenize 3066 words\n",
      "No. of 773164 unique tokens.\n",
      "Failed to tokenize 77 words\n",
      "No. of 19027 unique tokens.\n",
      "Failed to tokenize 2794 words\n"
     ]
    },
    {
     "ename": "",
     "evalue": "",
     "output_type": "error",
     "traceback": [
      "\u001b[1;31mThe Kernel crashed while executing code in the the current cell or a previous cell. Please review the code in the cell(s) to identify a possible cause of the failure. Click <a href='https://aka.ms/vscodeJupyterKernelCrash'>here</a> for more info. View Jupyter <a href='command:jupyter.viewOutput'>log</a> for further details."
     ]
    }
   ],
   "source": [
    "# Tokenize all data for HAN\n",
    "\n",
    "texts = df_train['content']\n",
    "test_text = df_test['content']\n",
    "imdb_text = df_imdb['content']\n",
    "\n",
    "# Get all sentences\n",
    "test_articles = test_text.map(lambda x: sent_tokenize(x))\n",
    "\n",
    "# Create 3D data with tokenizer word_index. Neglect words which are not in word_index\n",
    "tokenizer = Tokenizer(num_words=max_number_of_words)\n",
    "\n",
    "# Fit word2vec vocab list onto tokenizer\n",
    "words = list(w2vModel.index_to_key)\n",
    "tokenizer.fit_on_texts(words)\n",
    "\n",
    "\n",
    "# tokenizer.fit_on_texts(texts)\n",
    "word_index = tokenizer.word_index\n",
    "\n",
    "# Tokenize train test data\n",
    "data = Tokenize(texts, max_sent_length, max_number_of_sent, max_number_of_words, tokenizer, word_index)\n",
    "test_data = Tokenize(test_text, max_sent_length, max_number_of_sent, max_number_of_words, tokenizer, word_index)\n",
    "\n",
    "# Just to get the unique token count, still use original tokenizer\n",
    "imdb_tokenizer = Tokenizer(num_words=max_number_of_words)\n",
    "imdb_tokenizer.fit_on_texts(imdb_text)\n",
    "imdb_word_index = imdb_tokenizer.word_index\n",
    "\n",
    "imdb_data = Tokenize(imdb_text, max_sent_length, max_number_of_sent, max_number_of_words, tokenizer, imdb_word_index)"
   ]
  },
  {
   "cell_type": "code",
   "execution_count": 55,
   "metadata": {},
   "outputs": [
    {
     "name": "stdout",
     "output_type": "stream",
     "text": [
      "Shape of data tensor: (67349, 50, 50)\n",
      "Shape of label tensor: (67349, 2)\n",
      "(13469, 50, 50)\n",
      "Shape of data tensor: (872, 50, 50)\n",
      "Shape of label tensor: (872, 2)\n",
      "Shape of data tensor: (1000, 50, 50)\n",
      "Shape of label tensor: (1000, 2)\n"
     ]
    }
   ],
   "source": [
    "def Train_Val_Split(data, ori_df, val_size = 0.2):\n",
    "    # Encode labels\n",
    "    labels = to_categorical(np.asarray(ori_df['sentiment']))\n",
    "    print('Shape of data tensor:', data.shape)\n",
    "    print('Shape of label tensor:', labels.shape)\n",
    "\n",
    "    # Shuffle data\n",
    "    indices = np.arange(data.shape[0])\n",
    "    np.random.shuffle(indices)\n",
    "    data = data[indices]\n",
    "    labels = labels[indices]\n",
    "    \n",
    "    # Split dataset\n",
    "    if(val_size == 0):\n",
    "        return data, labels, None, None\n",
    "    \n",
    "    nb_validation_samples = int(val_size * data.shape[0])\n",
    "\n",
    "    xtrain = data[:-nb_validation_samples]\n",
    "    ytrain = labels[:-nb_validation_samples]\n",
    "    xval = data[-nb_validation_samples:]\n",
    "    yval = labels[-nb_validation_samples:]\n",
    "    return xtrain, ytrain, xval, yval\n",
    "\n",
    "xtrain, ytrain, xval, yval = Train_Val_Split(data,df_train)\n",
    "print(xval.shape)\n",
    "xtest, ytest, _, _ = Train_Val_Split(test_data,df_test, 0)\n",
    "xtrain_imdb, ytrain_imdb, _, _ = Train_Val_Split(imdb_data,df_imdb,0)"
   ]
  },
  {
   "cell_type": "code",
   "execution_count": 56,
   "metadata": {},
   "outputs": [
    {
     "data": {
      "text/plain": [
       "773165"
      ]
     },
     "execution_count": 56,
     "metadata": {},
     "output_type": "execute_result"
    }
   ],
   "source": [
    "wordLen = len(tokenizer.word_index)+1\n",
    "wordLen"
   ]
  },
  {
   "cell_type": "code",
   "execution_count": 57,
   "metadata": {},
   "outputs": [
    {
     "name": "stdout",
     "output_type": "stream",
     "text": [
      "Converted 159622 words (613542 misses)\n"
     ]
    }
   ],
   "source": [
    "## Create an embedding weight matrix based on word2vec that used in a Keras Embedding layer. \n",
    "\n",
    "def embed(model, tokenizer):\n",
    "    embed_size = GLOVE_DIM\n",
    "    embedding_matrix = np.zeros((len(tokenizer.word_index)+1, embed_size))\n",
    "\n",
    "    hits = 0\n",
    "    misses = 0\n",
    "\n",
    "    # embedding matrix\n",
    "    for word, i in tokenizer.word_index.items():\n",
    "        try:\n",
    "            embedding_vector = model.get_vector(word)\n",
    "            if embedding_vector is not None:\n",
    "                embedding_matrix[i] = embedding_vector\n",
    "                hits += 1\n",
    "            else:\n",
    "                misses += 1\n",
    "        except:\n",
    "            misses += 1\n",
    "        \n",
    "            \n",
    "    print(\"Converted %d words (%d misses)\" % (hits, misses))\n",
    "    return embedding_matrix\n",
    "\n",
    "\n",
    "embedding_matrix = embed (w2vModel, tokenizer)\n",
    "# embedding_matrix"
   ]
  },
  {
   "cell_type": "code",
   "execution_count": 58,
   "metadata": {},
   "outputs": [
    {
     "name": "stdout",
     "output_type": "stream",
     "text": [
      "Model: \"model_11\"\n",
      "_________________________________________________________________\n",
      " Layer (type)                Output Shape              Param #   \n",
      "=================================================================\n",
      " input_12 (InputLayer)       [(None, 50, 50)]          0         \n",
      "                                                                 \n",
      " time_distributed_5 (TimeDis  (None, 50, 200)          232270300 \n",
      " tributed)                                                       \n",
      "                                                                 \n",
      " bidirectional_11 (Bidirecti  (None, 200)              240800    \n",
      " onal)                                                           \n",
      "                                                                 \n",
      " dense_5 (Dense)             (None, 2)                 402       \n",
      "                                                                 \n",
      "=================================================================\n",
      "Total params: 232,511,502\n",
      "Trainable params: 562,002\n",
      "Non-trainable params: 231,949,500\n",
      "_________________________________________________________________\n",
      "None\n",
      "Epoch 1/200\n",
      "842/842 [==============================] - ETA: 0s - loss: 0.4801 - acc: 0.7607\n",
      "Epoch 1: saving model to training_1\\cp.ckpt\n",
      "842/842 [==============================] - 175s 203ms/step - loss: 0.4801 - acc: 0.7607 - val_loss: 0.4222 - val_acc: 0.8003\n",
      "Epoch 2/200\n",
      "842/842 [==============================] - ETA: 0s - loss: 0.4336 - acc: 0.7903\n",
      "Epoch 2: saving model to training_1\\cp.ckpt\n",
      "842/842 [==============================] - 88s 104ms/step - loss: 0.4336 - acc: 0.7903 - val_loss: 0.4008 - val_acc: 0.8141\n",
      "Epoch 3/200\n",
      "842/842 [==============================] - ETA: 0s - loss: 0.4077 - acc: 0.8061\n",
      "Epoch 3: saving model to training_1\\cp.ckpt\n",
      "842/842 [==============================] - 90s 106ms/step - loss: 0.4077 - acc: 0.8061 - val_loss: 0.3890 - val_acc: 0.8195\n",
      "Epoch 4/200\n",
      "842/842 [==============================] - ETA: 0s - loss: 0.3872 - acc: 0.8191\n",
      "Epoch 4: saving model to training_1\\cp.ckpt\n",
      "842/842 [==============================] - 108s 128ms/step - loss: 0.3872 - acc: 0.8191 - val_loss: 0.3743 - val_acc: 0.8228\n",
      "Epoch 5/200\n",
      "842/842 [==============================] - ETA: 0s - loss: 0.3666 - acc: 0.8306\n",
      "Epoch 5: saving model to training_1\\cp.ckpt\n",
      "842/842 [==============================] - 143s 169ms/step - loss: 0.3666 - acc: 0.8306 - val_loss: 0.3512 - val_acc: 0.8384\n",
      "Epoch 6/200\n",
      "842/842 [==============================] - ETA: 0s - loss: 0.3462 - acc: 0.8409\n",
      "Epoch 6: saving model to training_1\\cp.ckpt\n",
      "842/842 [==============================] - 102s 121ms/step - loss: 0.3462 - acc: 0.8409 - val_loss: 0.3505 - val_acc: 0.8435\n",
      "Epoch 7/200\n",
      "842/842 [==============================] - ETA: 0s - loss: 0.3291 - acc: 0.8505\n",
      "Epoch 7: saving model to training_1\\cp.ckpt\n",
      "842/842 [==============================] - 159s 189ms/step - loss: 0.3291 - acc: 0.8505 - val_loss: 0.3194 - val_acc: 0.8575\n",
      "Epoch 8/200\n",
      "842/842 [==============================] - ETA: 0s - loss: 0.3138 - acc: 0.8595\n",
      "Epoch 8: saving model to training_1\\cp.ckpt\n",
      "842/842 [==============================] - 103s 122ms/step - loss: 0.3138 - acc: 0.8595 - val_loss: 0.3169 - val_acc: 0.8600\n",
      "Epoch 9/200\n",
      "842/842 [==============================] - ETA: 0s - loss: 0.2998 - acc: 0.8664\n",
      "Epoch 9: saving model to training_1\\cp.ckpt\n",
      "842/842 [==============================] - 101s 119ms/step - loss: 0.2998 - acc: 0.8664 - val_loss: 0.2995 - val_acc: 0.8679\n",
      "Epoch 10/200\n",
      "842/842 [==============================] - ETA: 0s - loss: 0.2851 - acc: 0.8727\n",
      "Epoch 10: saving model to training_1\\cp.ckpt\n",
      "842/842 [==============================] - 103s 123ms/step - loss: 0.2851 - acc: 0.8727 - val_loss: 0.3013 - val_acc: 0.8699\n",
      "Epoch 11/200\n",
      "842/842 [==============================] - ETA: 0s - loss: 0.2738 - acc: 0.8790\n",
      "Epoch 11: saving model to training_1\\cp.ckpt\n",
      "842/842 [==============================] - 96s 114ms/step - loss: 0.2738 - acc: 0.8790 - val_loss: 0.2877 - val_acc: 0.8753\n",
      "Epoch 12/200\n",
      "842/842 [==============================] - ETA: 0s - loss: 0.2622 - acc: 0.8833\n",
      "Epoch 12: saving model to training_1\\cp.ckpt\n",
      "842/842 [==============================] - 105s 125ms/step - loss: 0.2622 - acc: 0.8833 - val_loss: 0.3041 - val_acc: 0.8725\n",
      "Epoch 13/200\n",
      "842/842 [==============================] - ETA: 0s - loss: 0.2537 - acc: 0.8886\n",
      "Epoch 13: saving model to training_1\\cp.ckpt\n",
      "842/842 [==============================] - 103s 122ms/step - loss: 0.2537 - acc: 0.8886 - val_loss: 0.2834 - val_acc: 0.8804\n",
      "Epoch 14/200\n",
      "842/842 [==============================] - ETA: 0s - loss: 0.2423 - acc: 0.8937\n",
      "Epoch 14: saving model to training_1\\cp.ckpt\n",
      "842/842 [==============================] - 112s 134ms/step - loss: 0.2423 - acc: 0.8937 - val_loss: 0.2870 - val_acc: 0.8778\n",
      "Epoch 15/200\n",
      "842/842 [==============================] - ETA: 0s - loss: 0.2334 - acc: 0.8984\n",
      "Epoch 15: saving model to training_1\\cp.ckpt\n",
      "842/842 [==============================] - 100s 119ms/step - loss: 0.2334 - acc: 0.8984 - val_loss: 0.2823 - val_acc: 0.8831\n",
      "Epoch 16/200\n",
      "842/842 [==============================] - ETA: 0s - loss: 0.2257 - acc: 0.9007\n",
      "Epoch 16: saving model to training_1\\cp.ckpt\n",
      "842/842 [==============================] - 144s 171ms/step - loss: 0.2257 - acc: 0.9007 - val_loss: 0.2710 - val_acc: 0.8881\n",
      "Epoch 17/200\n",
      "842/842 [==============================] - ETA: 0s - loss: 0.2198 - acc: 0.9040\n",
      "Epoch 17: saving model to training_1\\cp.ckpt\n",
      "842/842 [==============================] - 139s 165ms/step - loss: 0.2198 - acc: 0.9040 - val_loss: 0.2716 - val_acc: 0.8848\n",
      "Epoch 18/200\n",
      "842/842 [==============================] - ETA: 0s - loss: 0.2118 - acc: 0.9075\n",
      "Epoch 18: saving model to training_1\\cp.ckpt\n",
      "842/842 [==============================] - 141s 167ms/step - loss: 0.2118 - acc: 0.9075 - val_loss: 0.2747 - val_acc: 0.8882\n",
      "Epoch 19/200\n",
      "842/842 [==============================] - ETA: 0s - loss: 0.2078 - acc: 0.9083\n",
      "Epoch 19: saving model to training_1\\cp.ckpt\n",
      "842/842 [==============================] - 135s 160ms/step - loss: 0.2078 - acc: 0.9083 - val_loss: 0.2749 - val_acc: 0.8878\n",
      "Epoch 20/200\n",
      "842/842 [==============================] - ETA: 0s - loss: 0.2023 - acc: 0.9130\n",
      "Epoch 20: saving model to training_1\\cp.ckpt\n",
      "842/842 [==============================] - 136s 162ms/step - loss: 0.2023 - acc: 0.9130 - val_loss: 0.2635 - val_acc: 0.8900\n",
      "Epoch 21/200\n",
      "842/842 [==============================] - ETA: 0s - loss: 0.1981 - acc: 0.9140\n",
      "Epoch 21: saving model to training_1\\cp.ckpt\n",
      "842/842 [==============================] - 144s 171ms/step - loss: 0.1981 - acc: 0.9140 - val_loss: 0.2778 - val_acc: 0.8929\n",
      "Epoch 22/200\n",
      "842/842 [==============================] - ETA: 0s - loss: 0.1935 - acc: 0.9156\n",
      "Epoch 22: saving model to training_1\\cp.ckpt\n",
      "842/842 [==============================] - 142s 168ms/step - loss: 0.1935 - acc: 0.9156 - val_loss: 0.2758 - val_acc: 0.8934\n",
      "Epoch 23/200\n",
      "842/842 [==============================] - ETA: 0s - loss: 0.1837 - acc: 0.9201\n",
      "Epoch 23: saving model to training_1\\cp.ckpt\n",
      "842/842 [==============================] - 140s 167ms/step - loss: 0.1837 - acc: 0.9201 - val_loss: 0.2659 - val_acc: 0.8913\n",
      "Epoch 24/200\n",
      "842/842 [==============================] - ETA: 0s - loss: 0.1843 - acc: 0.9210\n",
      "Epoch 24: saving model to training_1\\cp.ckpt\n",
      "842/842 [==============================] - 135s 160ms/step - loss: 0.1843 - acc: 0.9210 - val_loss: 0.2714 - val_acc: 0.8909\n",
      "Epoch 25/200\n",
      "842/842 [==============================] - ETA: 0s - loss: 0.1792 - acc: 0.9223\n",
      "Epoch 25: saving model to training_1\\cp.ckpt\n",
      "842/842 [==============================] - 135s 160ms/step - loss: 0.1792 - acc: 0.9223 - val_loss: 0.2793 - val_acc: 0.8909\n",
      "Epoch 25: early stopping\n"
     ]
    }
   ],
   "source": [
    "# Loads the weights\n",
    "embedding_layer = Embedding(wordLen, output_dim=GLOVE_DIM, input_length=max_sent_length, weights=[embedding_matrix],trainable=False)\n",
    "\n",
    "# Hierarchal Attention Network word-sentence layers\n",
    "# Word\n",
    "sentence_input = Input(shape=(max_sent_length,), dtype='int32')\n",
    "embedded_sequences = embedding_layer(sentence_input)\n",
    "lstm_layer = Bidirectional(layer=LSTM(100,dropout=.3))(embedded_sequences)\n",
    "sentEncoder = Model(sentence_input, lstm_layer)\n",
    "\n",
    "# Sentence\n",
    "article_input = Input(shape=(max_number_of_sent,max_sent_length), dtype='int32')\n",
    "article_encoder = TimeDistributed(sentEncoder)(article_input)\n",
    "lstm_layer_sent = Bidirectional(LSTM(100,dropout=.3))(article_encoder)\n",
    "preds = Dense(len(df_train['sentiment'].unique()), activation='softmax')(lstm_layer_sent)\n",
    "han_model = Model(article_input, preds)\n",
    "\n",
    "\n",
    "han_model.compile(loss='categorical_crossentropy',\n",
    "              optimizer='rmsprop',\n",
    "              metrics=['acc'])\n",
    "print(han_model.summary())\n",
    "\n",
    "# Create early stopping callback\n",
    "es = EarlyStopping(monitor = 'val_loss', mode = 'min', verbose = 1, patience = 5)\n",
    "# Create model checkpoint callback \n",
    "checkpoint_path = \"training_1/cp.ckpt\"\n",
    "cp_callback = ModelCheckpoint(filepath=checkpoint_path,save_weights_only=True,verbose=1)\n",
    "\n",
    "\n",
    "# Fit training model to SST dataset\n",
    "import os\n",
    "# if not os.listdir(checkpoint_path.split(\"/\")[0]):\n",
    "history = han_model.fit(xtrain, ytrain, epochs=200, batch_size=64, verbose=1,validation_data=(xval,yval),callbacks= [es, cp_callback])\n",
    "# else:\n",
    "#    latest = latest_checkpoint(checkpoint_path.split(\"/\")[0])\n",
    "#    han_model.load_weights(latest)\n",
    "#    history = han_model.evaluate(xval, yval, verbose=2)"
   ]
  },
  {
   "cell_type": "code",
   "execution_count": 59,
   "metadata": {},
   "outputs": [
    {
     "name": "stdout",
     "output_type": "stream",
     "text": [
      "Training Accuracy: 0.922\n"
     ]
    }
   ],
   "source": [
    "last_accuracy = \"{:.3f}\".format(history.history['acc'][-1])\n",
    "print(\"Training Accuracy:\", last_accuracy)"
   ]
  },
  {
   "cell_type": "code",
   "execution_count": 60,
   "metadata": {},
   "outputs": [
    {
     "data": {
      "image/png": "[encoded data removed]",
      "text/plain": [
       "<Figure size 640x480 with 1 Axes>"
      ]
     },
     "metadata": {},
     "output_type": "display_data"
    }
   ],
   "source": [
    "plt.plot(history.history['acc'])\n",
    "plt.plot(history.history['val_acc'])\n",
    "plt.title('Training Accuracy vs Validation Accuracy')\n",
    "plt.ylabel('Accuracy')\n",
    "plt.xlabel('Epoch')\n",
    "plt.legend(['Train', 'Validation'], loc='upper left')\n",
    "plt.show()"
   ]
  },
  {
   "cell_type": "code",
   "execution_count": 61,
   "metadata": {},
   "outputs": [
    {
     "data": {
      "image/png": "[encoded data removed]",
      "text/plain": [
       "<Figure size 640x480 with 1 Axes>"
      ]
     },
     "metadata": {},
     "output_type": "display_data"
    }
   ],
   "source": [
    "plt.plot(history.history['loss'])\n",
    "plt.plot(history.history['val_loss'])\n",
    "plt.title('Training Loss vs Validation Loss')\n",
    "plt.ylabel('Loss')\n",
    "plt.xlabel('Epoch')\n",
    "plt.legend(['Train', 'Validation'], loc='upper left')\n",
    "plt.show()"
   ]
  },
  {
   "cell_type": "code",
   "execution_count": 62,
   "metadata": {},
   "outputs": [
    {
     "name": "stdout",
     "output_type": "stream",
     "text": [
      "28/28 - 1s - loss: 0.5942 - acc: 0.8108 - 1s/epoch - 48ms/step\n"
     ]
    }
   ],
   "source": [
    "# Evaluate model on sst test dataset\n",
    "\n",
    "result = han_model.evaluate(xtest, ytest, verbose=2)\n"
   ]
  },
  {
   "cell_type": "code",
   "execution_count": 63,
   "metadata": {},
   "outputs": [
    {
     "name": "stdout",
     "output_type": "stream",
     "text": [
      "(1000, 50, 50)\n",
      "(1000, 2)\n",
      "32/32 - 1s - loss: 0.8218 - acc: 0.7850 - 1s/epoch - 37ms/step\n"
     ]
    }
   ],
   "source": [
    "# Evaluate model on imdb dataset\n",
    "print(xtrain_imdb.shape)\n",
    "print(ytrain_imdb.shape)\n",
    "\n",
    "result = han_model.evaluate(xtrain_imdb, ytrain_imdb, verbose=2)\n"
   ]
  }
 ],
 "metadata": {
  "kernelspec": {
   "display_name": "Python 3",
   "language": "python",
   "name": "python3"
  },
  "language_info": {
   "codemirror_mode": {
    "name": "ipython",
    "version": 3
   },
   "file_extension": ".py",
   "mimetype": "text/x-python",
   "name": "python",
   "nbconvert_exporter": "python",
   "pygments_lexer": "ipython3",
   "version": "3.10.11"
  }
 },
 "nbformat": 4,
 "nbformat_minor": 2
}
