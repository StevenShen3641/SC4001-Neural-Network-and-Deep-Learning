{
 "cells": [
  {
   "cell_type": "code",
   "execution_count": 9,
   "metadata": {},
   "outputs": [
    {
     "name": "stderr",
     "output_type": "stream",
     "text": [
      "[nltk_data] Downloading package stopwords to C:\\Users\\Chihao\n",
      "[nltk_data]     Shen\\AppData\\Roaming\\nltk_data...\n",
      "[nltk_data]   Package stopwords is already up-to-date!\n"
     ]
    },
    {
     "data": {
      "text/plain": [
       "<torch._C.Generator at 0x150abfe3c50>"
      ]
     },
     "execution_count": 9,
     "metadata": {},
     "output_type": "execute_result"
    }
   ],
   "source": [
    "import os\n",
    "import pickle\n",
    "from tqdm import tqdm\n",
    "import numpy as np\n",
    "import torch\n",
    "from torch import nn\n",
    "from torch.utils.data import Dataset\n",
    "from torch.utils.data import DataLoader\n",
    "from torchtext.vocab import build_vocab_from_iterator\n",
    "import string\n",
    "from data_preprocessing import load_sst\n",
    "from utils import remove_special_content, replace_punct, preprocess\n",
    "import numpy as np\n",
    "import pandas as pd\n",
    "import gensim.downloader as api\n",
    "import matplotlib.pyplot as plt\n",
    "import nltk\n",
    "from nltk.corpus import stopwords\n",
    "from nltk.tokenize import word_tokenize\n",
    "from keras.preprocessing.text import text_to_word_sequence\n",
    "nltk.download('stopwords')\n",
    "SEED = 42\n",
    "\n",
    "torch.manual_seed(SEED)"
   ]
  },
  {
   "cell_type": "code",
   "execution_count": 10,
   "metadata": {},
   "outputs": [
    {
     "name": "stderr",
     "output_type": "stream",
     "text": [
      "INFO: SST-2 loaded\n"
     ]
    }
   ],
   "source": [
    "train_data, train_labels, test_data, test_labels, dev_data, dev_labels = load_sst()"
   ]
  },
  {
   "cell_type": "code",
   "execution_count": 11,
   "metadata": {},
   "outputs": [],
   "source": [
    "df_train = pd.DataFrame({'content':train_data, 'sentiment':train_labels})\n",
    "df_train.reset_index(drop=True, inplace=True)\n",
    "df_test = pd.DataFrame({'content':dev_data, 'sentiment':dev_labels})\n",
    "df_test.reset_index(drop=True, inplace=True)\n",
    "df_imdb = pd.read_csv(\"data/IMDB Dataset.csv\")\n",
    "df_imdb = df_imdb.rename(columns={\"review\": \"content\"})\n",
    "df_imdb['sentiment'] = df_imdb['sentiment'].map({\"positive\":1, \"negative\":0})"
   ]
  },
  {
   "cell_type": "code",
   "execution_count": 12,
   "metadata": {},
   "outputs": [
    {
     "name": "stderr",
     "output_type": "stream",
     "text": [
      "INFO: loading projection weights from C:\\Users\\Chihao Shen/gensim-data\\word2vec-google-news-300\\word2vec-google-news-300.gz\n"
     ]
    },
    {
     "name": "stderr",
     "output_type": "stream",
     "text": [
      "INFO: KeyedVectors lifecycle event {'msg': 'loaded (3000000, 300) matrix of type float32 from C:\\\\Users\\\\Chihao Shen/gensim-data\\\\word2vec-google-news-300\\\\word2vec-google-news-300.gz', 'binary': True, 'encoding': 'utf8', 'datetime': '2024-04-09T17:01:02.451207', 'gensim': '4.3.2', 'python': '3.10.11 (tags/v3.10.11:7d4cc5a, Apr  5 2023, 00:38:17) [MSC v.1929 64 bit (AMD64)]', 'platform': 'Windows-10-10.0.22631-SP0', 'event': 'load_word2vec_format'}\n"
     ]
    }
   ],
   "source": [
    "model_type = 'word2vec-google-news-300'  # 25 100 200 word2vec 300 \n",
    "w2vModel = api.load(model_type)"
   ]
  },
  {
   "cell_type": "code",
   "execution_count": 13,
   "metadata": {},
   "outputs": [],
   "source": [
    "remove = False  # to remove stop words or not\n",
    "if remove:\n",
    "    remove_special_content(df_train)\n",
    "    remove_special_content(df_test)\n",
    "    remove_special_content(df_imdb)\n",
    "    punct = word_tokenize(string.punctuation) + ['``', '...', '..', '\\'s', '--', '-', 'n\\'t', '\\'', '(', ')',\n",
    "                                                    '[',\n",
    "                                                    ']', '{', '}']\n",
    "    texts = preprocess(df_train['content']).map(lambda x: '. '.join(x)).map(lambda x: replace_punct(x, punct))\n",
    "    test_text = preprocess(df_test['content']).map(lambda x: '. '.join(x)).map(lambda x: replace_punct(x, punct))\n",
    "    imdb_text = preprocess(df_imdb['content']).map(lambda x: '. '.join(x)).map(lambda x: replace_punct(x, punct))\n",
    "else:\n",
    "    texts = df_train['content']\n",
    "    test_text = df_test['content']\n",
    "    imdb_text = df_imdb['content']"
   ]
  },
  {
   "cell_type": "code",
   "execution_count": 14,
   "metadata": {},
   "outputs": [],
   "source": [
    "def tokenize(texts, max_length, tokenizer):\n",
    "    texts = [s.lower() for s in texts]\n",
    "    data = torch.zeros((len(texts), max_length), dtype=torch.int)\n",
    "    for i, sentences in enumerate(texts):\n",
    "        word_sequence = text_to_word_sequence(sentences)\n",
    "        j = 0\n",
    "        for word in word_sequence:\n",
    "            try:\n",
    "                if j < max_length:\n",
    "                    data[i, j] = tokenizer[word]\n",
    "                    j += 1\n",
    "            except:\n",
    "                data[i, j] = 0\n",
    "                j += 1\n",
    "    return data"
   ]
  },
  {
   "cell_type": "code",
   "execution_count": 15,
   "metadata": {},
   "outputs": [],
   "source": [
    "words = list(w2vModel.key_to_index.keys())\n",
    "\n",
    "def yield_tokens(data_iter):\n",
    "    for text in data_iter:\n",
    "        yield text_to_word_sequence(text)\n",
    "\n",
    "vocab = build_vocab_from_iterator(yield_tokens(words))"
   ]
  },
  {
   "cell_type": "code",
   "execution_count": 16,
   "metadata": {},
   "outputs": [],
   "source": [
    "max_length_1 = 56\n",
    "max_length_2 = 1506\n",
    "\n",
    "word_to_idx = {word: idx for idx, word in enumerate(vocab.get_itos())}\n",
    "data = tokenize(texts, max_length_1, word_to_idx)\n",
    "test_data = tokenize(test_text, max_length_1, word_to_idx)\n",
    "imdb_data = tokenize(imdb_text, max_length_2, word_to_idx)\n"
   ]
  },
  {
   "cell_type": "code",
   "execution_count": 17,
   "metadata": {},
   "outputs": [
    {
     "name": "stdout",
     "output_type": "stream",
     "text": [
      "Shape of data tensor: torch.Size([67349, 56])\n",
      "Shape of label tensor: (67349,)\n",
      "Shape of data tensor: torch.Size([872, 56])\n",
      "Shape of label tensor: (872,)\n",
      "Shape of data tensor: torch.Size([50000, 1506])\n",
      "Shape of label tensor: (50000,)\n"
     ]
    }
   ],
   "source": [
    "def process(data, ori_df):\n",
    "    labels = ori_df['sentiment'].values\n",
    "    print('Shape of data tensor:', data.shape)\n",
    "    print('Shape of label tensor:', labels.shape)\n",
    "    \n",
    "    return data, labels\n",
    "\n",
    "X_train_tensor, y_train= process(data,df_train)\n",
    "X_test_tensor, y_test = process(test_data,df_test)\n",
    "imdb_tensor, imdb_label = process(imdb_data,df_imdb)\n",
    "with open('./.temp/imdb.pkl', 'wb') as f:\n",
    "    pickle.dump(imdb_tensor, f)\n",
    "with open('./.temp/labels.pkl', 'wb') as f:\n",
    "    pickle.dump(imdb_label, f)"
   ]
  },
  {
   "cell_type": "code",
   "execution_count": 18,
   "metadata": {},
   "outputs": [
    {
     "name": "stdout",
     "output_type": "stream",
     "text": [
      "Converted 159622 words (613542 misses)\n"
     ]
    }
   ],
   "source": [
    "GLOVE_DIM = int(model_type.split('-')[-1])\n",
    "\n",
    "def embed(model, word_to_idx):\n",
    "    embed_size = GLOVE_DIM\n",
    "    embedding_matrix = np.zeros((len(word_to_idx)+1, embed_size), dtype=np.float32)\n",
    "\n",
    "    hits = 0\n",
    "    misses = 0\n",
    "\n",
    "    for word, i in word_to_idx.items():\n",
    "        try:\n",
    "            embedding_vector = model.get_vector(word)\n",
    "            if embedding_vector is not None:\n",
    "                embedding_matrix[i] = embedding_vector\n",
    "                hits += 1\n",
    "            else:\n",
    "                misses += 1\n",
    "        except:\n",
    "            misses += 1\n",
    "            \n",
    "    print(\"Converted %d words (%d misses)\" % (hits, misses))\n",
    "    return torch.tensor(embedding_matrix)\n",
    "\n",
    "\n",
    "embedding_matrix = embed (w2vModel, word_to_idx)\n",
    "with open('./.temp/em.pkl', 'wb') as f:\n",
    "    pickle.dump(embedding_matrix, f)"
   ]
  },
  {
   "cell_type": "code",
   "execution_count": 19,
   "metadata": {},
   "outputs": [
    {
     "name": "stderr",
     "output_type": "stream",
     "text": [
      "C:\\Users\\Chihao Shen\\AppData\\Local\\Temp\\ipykernel_31072\\176866557.py:5: UserWarning: To copy construct from a tensor, it is recommended to use sourceTensor.clone().detach() or sourceTensor.clone().detach().requires_grad_(True), rather than torch.tensor(sourceTensor).\n",
      "  self.X =torch.tensor(X, dtype=torch.int)\n"
     ]
    }
   ],
   "source": [
    "torch.manual_seed(SEED)\n",
    "device = torch.device(\"cuda\" if torch.cuda.is_available() else \"cpu\")\n",
    "class CustomDataset(Dataset):\n",
    "    def __init__(self, X, y):\n",
    "        self.X =torch.tensor(X, dtype=torch.int)\n",
    "        self.y =torch.tensor(y, dtype=torch.long)\n",
    "\n",
    "    def __len__(self):\n",
    "        return len(self.y)\n",
    "\n",
    "    def __getitem__(self,idx):\n",
    "        return self.X[idx], self.y[idx]\n",
    "\n",
    "def initialize_loader(X_train_tensor, X_test_tensor, y_train, y_test, batch_size=128):\n",
    "    # no need to do the scale since original wv already did\n",
    "    train_data = CustomDataset(X_train_tensor, y_train)\n",
    "    test_data = CustomDataset(X_test_tensor, y_test)\n",
    "\n",
    "    # convert to DataLoader for batch processing and shuffling\n",
    "    train_dataloader = DataLoader(train_data, batch_size=batch_size, shuffle=True)\n",
    "    for inputs, targets in train_dataloader:\n",
    "        inputs, targets = inputs.to(device), targets.to(device)\n",
    "    test_dataloader = DataLoader(test_data, batch_size=batch_size, shuffle=False)\n",
    "    for inputs, targets in test_dataloader:\n",
    "        inputs, targets = inputs.to(device), targets.to(device)\n",
    "    return train_dataloader, test_dataloader\n",
    "\n",
    "train_dataloader, test_dataloader = initialize_loader(X_train_tensor, X_test_tensor, y_train, y_test)"
   ]
  },
  {
   "cell_type": "code",
   "execution_count": 20,
   "metadata": {},
   "outputs": [],
   "source": [
    "# model\n",
    "class CNN(nn.Module):\n",
    "    def __init__(self, embedding_matrix, dim_in, dim_conv, dim_out, dropout_rate=0.5, max_length=max_length_1):\n",
    "        super(CNN, self).__init__()\n",
    "        self.embedding = nn.Embedding(embedding_matrix.shape[0], dim_in).from_pretrained(embedding_matrix, freeze=True)\n",
    "        self.conv1_1 = nn.Conv1d(dim_in, dim_conv, 3, padding=5)\n",
    "        self.conv1_2 = nn.Conv1d(dim_in, dim_conv, 4, padding=5)\n",
    "        self.conv1_3 = nn.Conv1d(dim_in, dim_conv, 5, padding=5)\n",
    "        self.conv1_4 = nn.Conv1d(dim_in, dim_conv, 6, padding=5)\n",
    "        self.ReLU = nn.ReLU()\n",
    "        self.maxpool_1 = nn.MaxPool1d(kernel_size=max_length+8)\n",
    "        self.maxpool_2 = nn.MaxPool1d(kernel_size=max_length+7)\n",
    "        self.maxpool_3 = nn.MaxPool1d(kernel_size=max_length+6)\n",
    "        self.maxpool_4 = nn.MaxPool1d(kernel_size=max_length+5)\n",
    "        self.fc_1 = nn.Linear(dim_conv * 4, dim_out)\n",
    "        self.dropout = nn.Dropout(p=dropout_rate)\n",
    "        self.softmax = nn.Softmax()\n",
    "\n",
    "\n",
    "    def forward(self, x):\n",
    "        x = self.embedding(x).transpose(1, 2)\n",
    "        x1 = self.conv1_1(x)\n",
    "        x1 = self.ReLU(x1)\n",
    "        x1 = self.maxpool_1(x1)\n",
    "\n",
    "\n",
    "        x2 = self.conv1_2(x)\n",
    "        x2 = self.ReLU(x2)\n",
    "        x2 = self.maxpool_2(x2)\n",
    "\n",
    "        x3 = self.conv1_3(x)\n",
    "        x3 = self.ReLU(x3)\n",
    "        x3 = self.maxpool_3(x3)\n",
    "\n",
    "        x4 = self.conv1_4(x)\n",
    "        x4 = self.ReLU(x4)\n",
    "        x4 = self.maxpool_4(x4)\n",
    "\n",
    "        x = torch.cat((x1, x2, x3, x4), dim=1)\n",
    "        x = torch.flatten(x, 1)\n",
    "        x = self.fc_1(x)\n",
    "        x = self.dropout(x)\n",
    "        x = self.softmax(x)\n",
    "        return x"
   ]
  },
  {
   "cell_type": "code",
   "execution_count": 21,
   "metadata": {},
   "outputs": [],
   "source": [
    "torch.manual_seed(SEED)\n",
    "dim_in = GLOVE_DIM\n",
    "dim_conv = 256\n",
    "dim_out = 2\n",
    "lr = 0.0005\n",
    "model = CNN(embedding_matrix, dim_in, dim_conv, dim_out)\n",
    "model.to(device)\n",
    "\n",
    "loss_fn = nn.CrossEntropyLoss()\n",
    "optimizer = torch.optim.Adam(model.parameters(), lr=lr)"
   ]
  },
  {
   "cell_type": "code",
   "execution_count": 22,
   "metadata": {},
   "outputs": [],
   "source": [
    "# training\n",
    "max_norm = 3\n",
    "def train_loop(dataloader, model, loss_fn, optimizer):\n",
    "    size = len(dataloader.dataset)\n",
    "    optimizer.zero_grad()\n",
    "    train_loss, correct_num = 0, 0\n",
    "    model.train()\n",
    "    for X, y in dataloader:\n",
    "        X, y = X.to(device), y.to(device)\n",
    "        optimizer.zero_grad()\n",
    "        pred = model(X)\n",
    "        loss = loss_fn(pred, y)\n",
    "\n",
    "        loss.backward()\n",
    "\n",
    "        for _, module in model.named_modules():\n",
    "            if isinstance(module, nn.Linear):\n",
    "                for _, param in module.named_parameters():\n",
    "                    param_norm = param.data.norm(2)\n",
    "                    if param_norm > max_norm:\n",
    "                        param.data.mul_(max_norm / (param_norm + 1e-6))\n",
    "\n",
    "        optimizer.step()\n",
    "        model.eval()\n",
    "        with torch.no_grad():\n",
    "            pred = model(X)\n",
    "            loss = loss_fn(pred, y)\n",
    "            train_loss += loss.item() * X.size(0)\n",
    "            correct_num += (torch.eq(torch.argmax(pred, dim=1), y)).type(torch.float).sum().item()\n",
    "\n",
    "    train_loss /= size\n",
    "    train_acc = correct_num / size\n",
    "    return train_loss, train_acc\n",
    "\n",
    "def test_loop(dataloader, model, loss_fn):\n",
    "    size = len(dataloader.dataset)\n",
    "    test_loss, correct_num = 0, 0\n",
    "    model.eval()  # inform no dropout and fix bn during testing\n",
    "\n",
    "    with torch.no_grad():\n",
    "        for X, y in dataloader:\n",
    "            X, y = X.to(device), y.to(device)\n",
    "\n",
    "            pred = model(X)\n",
    "            test_loss += loss_fn(pred, y).item() * X.size(0)\n",
    "            correct_num += (torch.eq(torch.argmax(pred, dim=1), y)).type(torch.float).sum().item()\n",
    "\n",
    "    test_loss /= size\n",
    "    test_acc = correct_num / size\n",
    "    return test_loss, test_acc\n",
    "        "
   ]
  },
  {
   "cell_type": "code",
   "execution_count": 23,
   "metadata": {},
   "outputs": [
    {
     "name": "stderr",
     "output_type": "stream",
     "text": [
      "  0%|          | 0/100 [00:00<?, ?it/s]e:\\git\\SC4001\\Project\\venv\\lib\\site-packages\\torch\\nn\\modules\\module.py:1511: UserWarning: Implicit dimension choice for softmax has been deprecated. Change the call to include dim=X as an argument.\n",
      "  return self._call_impl(*args, **kwargs)\n",
      "  1%|          | 1/100 [00:07<12:09,  7.36s/it]"
     ]
    },
    {
     "name": "stdout",
     "output_type": "stream",
     "text": [
      "epoch 1, train_loss 0.444608 train_acc 0.875277, test_loss 0.476385, test_acc 0.830275\n"
     ]
    },
    {
     "name": "stderr",
     "output_type": "stream",
     "text": [
      "  2%|▏         | 2/100 [00:13<11:10,  6.84s/it]"
     ]
    },
    {
     "name": "stdout",
     "output_type": "stream",
     "text": [
      "epoch 2, train_loss 0.388051 train_acc 0.929487, test_loss 0.456423, test_acc 0.846330\n"
     ]
    },
    {
     "name": "stderr",
     "output_type": "stream",
     "text": [
      "  3%|▎         | 3/100 [00:20<10:39,  6.60s/it]"
     ]
    },
    {
     "name": "stdout",
     "output_type": "stream",
     "text": [
      "epoch 3, train_loss 0.369559 train_acc 0.948849, test_loss 0.462124, test_acc 0.840596\n"
     ]
    },
    {
     "name": "stderr",
     "output_type": "stream",
     "text": [
      "  4%|▍         | 4/100 [00:26<10:05,  6.31s/it]"
     ]
    },
    {
     "name": "stdout",
     "output_type": "stream",
     "text": [
      "epoch 4, train_loss 0.359069 train_acc 0.959777, test_loss 0.457867, test_acc 0.849771\n"
     ]
    },
    {
     "name": "stderr",
     "output_type": "stream",
     "text": [
      "  5%|▌         | 5/100 [00:31<09:34,  6.05s/it]"
     ]
    },
    {
     "name": "stdout",
     "output_type": "stream",
     "text": [
      "epoch 5, train_loss 0.352612 train_acc 0.966087, test_loss 0.454952, test_acc 0.849771\n"
     ]
    },
    {
     "name": "stderr",
     "output_type": "stream",
     "text": [
      "  6%|▌         | 6/100 [00:37<09:26,  6.03s/it]"
     ]
    },
    {
     "name": "stdout",
     "output_type": "stream",
     "text": [
      "epoch 6, train_loss 0.347823 train_acc 0.970348, test_loss 0.460447, test_acc 0.848624\n"
     ]
    },
    {
     "name": "stderr",
     "output_type": "stream",
     "text": [
      "  7%|▋         | 7/100 [00:43<09:07,  5.89s/it]"
     ]
    },
    {
     "name": "stdout",
     "output_type": "stream",
     "text": [
      "epoch 7, train_loss 0.344939 train_acc 0.972947, test_loss 0.456304, test_acc 0.846330\n"
     ]
    },
    {
     "name": "stderr",
     "output_type": "stream",
     "text": [
      "  8%|▊         | 8/100 [00:49<09:02,  5.89s/it]"
     ]
    },
    {
     "name": "stdout",
     "output_type": "stream",
     "text": [
      "epoch 8, train_loss 0.342222 train_acc 0.974966, test_loss 0.455642, test_acc 0.844037\n"
     ]
    },
    {
     "name": "stderr",
     "output_type": "stream",
     "text": [
      "  9%|▉         | 9/100 [00:55<08:57,  5.90s/it]"
     ]
    },
    {
     "name": "stdout",
     "output_type": "stream",
     "text": [
      "epoch 9, train_loss 0.340108 train_acc 0.976882, test_loss 0.452491, test_acc 0.852064\n"
     ]
    },
    {
     "name": "stderr",
     "output_type": "stream",
     "text": [
      " 10%|█         | 10/100 [01:00<08:47,  5.86s/it]"
     ]
    },
    {
     "name": "stdout",
     "output_type": "stream",
     "text": [
      "epoch 10, train_loss 0.338285 train_acc 0.978426, test_loss 0.452842, test_acc 0.848624\n"
     ]
    },
    {
     "name": "stderr",
     "output_type": "stream",
     "text": [
      " 11%|█         | 11/100 [01:06<08:40,  5.85s/it]"
     ]
    },
    {
     "name": "stdout",
     "output_type": "stream",
     "text": [
      "epoch 11, train_loss 0.337063 train_acc 0.979599, test_loss 0.451764, test_acc 0.855505\n"
     ]
    },
    {
     "name": "stderr",
     "output_type": "stream",
     "text": [
      " 12%|█▏        | 12/100 [01:12<08:32,  5.82s/it]"
     ]
    },
    {
     "name": "stdout",
     "output_type": "stream",
     "text": [
      "epoch 12, train_loss 0.335797 train_acc 0.980089, test_loss 0.456754, test_acc 0.849771\n"
     ]
    },
    {
     "name": "stderr",
     "output_type": "stream",
     "text": [
      " 13%|█▎        | 13/100 [01:18<08:24,  5.80s/it]"
     ]
    },
    {
     "name": "stdout",
     "output_type": "stream",
     "text": [
      "epoch 13, train_loss 0.334981 train_acc 0.980757, test_loss 0.452618, test_acc 0.858945\n"
     ]
    },
    {
     "name": "stderr",
     "output_type": "stream",
     "text": [
      " 14%|█▍        | 14/100 [01:23<08:19,  5.80s/it]"
     ]
    },
    {
     "name": "stdout",
     "output_type": "stream",
     "text": [
      "epoch 14, train_loss 0.334049 train_acc 0.981678, test_loss 0.453371, test_acc 0.854358\n"
     ]
    },
    {
     "name": "stderr",
     "output_type": "stream",
     "text": [
      " 15%|█▌        | 15/100 [01:29<08:15,  5.83s/it]"
     ]
    },
    {
     "name": "stdout",
     "output_type": "stream",
     "text": [
      "epoch 15, train_loss 0.333362 train_acc 0.982019, test_loss 0.454886, test_acc 0.847477\n"
     ]
    },
    {
     "name": "stderr",
     "output_type": "stream",
     "text": [
      " 16%|█▌        | 16/100 [01:35<08:09,  5.83s/it]"
     ]
    },
    {
     "name": "stdout",
     "output_type": "stream",
     "text": [
      "epoch 16, train_loss 0.332649 train_acc 0.982331, test_loss 0.453782, test_acc 0.860092\n"
     ]
    },
    {
     "name": "stderr",
     "output_type": "stream",
     "text": [
      " 17%|█▋        | 17/100 [01:41<08:04,  5.83s/it]"
     ]
    },
    {
     "name": "stdout",
     "output_type": "stream",
     "text": [
      "epoch 17, train_loss 0.332165 train_acc 0.982851, test_loss 0.450890, test_acc 0.858945\n"
     ]
    },
    {
     "name": "stderr",
     "output_type": "stream",
     "text": [
      " 18%|█▊        | 18/100 [01:47<07:58,  5.83s/it]"
     ]
    },
    {
     "name": "stdout",
     "output_type": "stream",
     "text": [
      "epoch 18, train_loss 0.331669 train_acc 0.983088, test_loss 0.450228, test_acc 0.854358\n"
     ]
    },
    {
     "name": "stderr",
     "output_type": "stream",
     "text": [
      " 19%|█▉        | 19/100 [01:53<07:52,  5.83s/it]"
     ]
    },
    {
     "name": "stdout",
     "output_type": "stream",
     "text": [
      "epoch 19, train_loss 0.331465 train_acc 0.983281, test_loss 0.479781, test_acc 0.823394\n"
     ]
    },
    {
     "name": "stderr",
     "output_type": "stream",
     "text": [
      " 20%|██        | 20/100 [01:58<07:46,  5.83s/it]"
     ]
    },
    {
     "name": "stdout",
     "output_type": "stream",
     "text": [
      "epoch 20, train_loss 0.330946 train_acc 0.983741, test_loss 0.451509, test_acc 0.861239\n"
     ]
    },
    {
     "name": "stderr",
     "output_type": "stream",
     "text": [
      " 21%|██        | 21/100 [02:04<07:41,  5.85s/it]"
     ]
    },
    {
     "name": "stdout",
     "output_type": "stream",
     "text": [
      "epoch 21, train_loss 0.330690 train_acc 0.983697, test_loss 0.451212, test_acc 0.854358\n"
     ]
    },
    {
     "name": "stderr",
     "output_type": "stream",
     "text": [
      " 22%|██▏       | 22/100 [02:10<07:37,  5.87s/it]"
     ]
    },
    {
     "name": "stdout",
     "output_type": "stream",
     "text": [
      "epoch 22, train_loss 0.330510 train_acc 0.983905, test_loss 0.448994, test_acc 0.856651\n"
     ]
    },
    {
     "name": "stderr",
     "output_type": "stream",
     "text": [
      " 23%|██▎       | 23/100 [02:16<07:31,  5.86s/it]"
     ]
    },
    {
     "name": "stdout",
     "output_type": "stream",
     "text": [
      "epoch 23, train_loss 0.330202 train_acc 0.984083, test_loss 0.454205, test_acc 0.850917\n"
     ]
    },
    {
     "name": "stderr",
     "output_type": "stream",
     "text": [
      " 24%|██▍       | 24/100 [02:22<07:24,  5.85s/it]"
     ]
    },
    {
     "name": "stdout",
     "output_type": "stream",
     "text": [
      "epoch 24, train_loss 0.329957 train_acc 0.984365, test_loss 0.446067, test_acc 0.860092\n"
     ]
    },
    {
     "name": "stderr",
     "output_type": "stream",
     "text": [
      " 25%|██▌       | 25/100 [02:28<07:18,  5.85s/it]"
     ]
    },
    {
     "name": "stdout",
     "output_type": "stream",
     "text": [
      "epoch 25, train_loss 0.329655 train_acc 0.984514, test_loss 0.447130, test_acc 0.870413\n"
     ]
    },
    {
     "name": "stderr",
     "output_type": "stream",
     "text": [
      " 26%|██▌       | 26/100 [02:34<07:13,  5.85s/it]"
     ]
    },
    {
     "name": "stdout",
     "output_type": "stream",
     "text": [
      "epoch 26, train_loss 0.329826 train_acc 0.984231, test_loss 0.450902, test_acc 0.858945\n"
     ]
    },
    {
     "name": "stderr",
     "output_type": "stream",
     "text": [
      " 27%|██▋       | 27/100 [02:40<07:07,  5.85s/it]"
     ]
    },
    {
     "name": "stdout",
     "output_type": "stream",
     "text": [
      "epoch 27, train_loss 0.329594 train_acc 0.984469, test_loss 0.452094, test_acc 0.856651\n"
     ]
    },
    {
     "name": "stderr",
     "output_type": "stream",
     "text": [
      " 28%|██▊       | 28/100 [02:45<07:01,  5.85s/it]"
     ]
    },
    {
     "name": "stdout",
     "output_type": "stream",
     "text": [
      "epoch 28, train_loss 0.329448 train_acc 0.984514, test_loss 0.448599, test_acc 0.856651\n"
     ]
    },
    {
     "name": "stderr",
     "output_type": "stream",
     "text": [
      " 29%|██▉       | 29/100 [02:51<06:55,  5.85s/it]"
     ]
    },
    {
     "name": "stdout",
     "output_type": "stream",
     "text": [
      "epoch 29, train_loss 0.329340 train_acc 0.984632, test_loss 0.451896, test_acc 0.854358\n"
     ]
    },
    {
     "name": "stderr",
     "output_type": "stream",
     "text": [
      " 30%|███       | 30/100 [02:57<06:49,  5.85s/it]"
     ]
    },
    {
     "name": "stdout",
     "output_type": "stream",
     "text": [
      "epoch 30, train_loss 0.329380 train_acc 0.984291, test_loss 0.449060, test_acc 0.855505\n"
     ]
    },
    {
     "name": "stderr",
     "output_type": "stream",
     "text": [
      " 31%|███       | 31/100 [03:03<06:43,  5.85s/it]"
     ]
    },
    {
     "name": "stdout",
     "output_type": "stream",
     "text": [
      "epoch 31, train_loss 0.329066 train_acc 0.984707, test_loss 0.450590, test_acc 0.855505\n"
     ]
    },
    {
     "name": "stderr",
     "output_type": "stream",
     "text": [
      " 32%|███▏      | 32/100 [03:09<06:37,  5.85s/it]"
     ]
    },
    {
     "name": "stdout",
     "output_type": "stream",
     "text": [
      "epoch 32, train_loss 0.328998 train_acc 0.984825, test_loss 0.450826, test_acc 0.852064\n"
     ]
    },
    {
     "name": "stderr",
     "output_type": "stream",
     "text": [
      " 33%|███▎      | 33/100 [03:15<06:31,  5.84s/it]"
     ]
    },
    {
     "name": "stdout",
     "output_type": "stream",
     "text": [
      "epoch 33, train_loss 0.328905 train_acc 0.984900, test_loss 0.458585, test_acc 0.847477\n"
     ]
    },
    {
     "name": "stderr",
     "output_type": "stream",
     "text": [
      " 34%|███▍      | 34/100 [03:20<06:25,  5.85s/it]"
     ]
    },
    {
     "name": "stdout",
     "output_type": "stream",
     "text": [
      "epoch 34, train_loss 0.328974 train_acc 0.984929, test_loss 0.455298, test_acc 0.849771\n"
     ]
    },
    {
     "name": "stderr",
     "output_type": "stream",
     "text": [
      " 35%|███▌      | 35/100 [03:26<06:20,  5.85s/it]"
     ]
    },
    {
     "name": "stdout",
     "output_type": "stream",
     "text": [
      "epoch 35, train_loss 0.328864 train_acc 0.984929, test_loss 0.450932, test_acc 0.852064\n"
     ]
    },
    {
     "name": "stderr",
     "output_type": "stream",
     "text": [
      " 36%|███▌      | 36/100 [03:32<06:14,  5.85s/it]"
     ]
    },
    {
     "name": "stdout",
     "output_type": "stream",
     "text": [
      "epoch 36, train_loss 0.328444 train_acc 0.985375, test_loss 0.464339, test_acc 0.839450\n"
     ]
    },
    {
     "name": "stderr",
     "output_type": "stream",
     "text": [
      " 37%|███▋      | 37/100 [03:38<06:14,  5.94s/it]"
     ]
    },
    {
     "name": "stdout",
     "output_type": "stream",
     "text": [
      "epoch 37, train_loss 0.328491 train_acc 0.985167, test_loss 0.446682, test_acc 0.861239\n"
     ]
    },
    {
     "name": "stderr",
     "output_type": "stream",
     "text": [
      " 38%|███▊      | 38/100 [03:44<06:09,  5.96s/it]"
     ]
    },
    {
     "name": "stdout",
     "output_type": "stream",
     "text": [
      "epoch 38, train_loss 0.328569 train_acc 0.985048, test_loss 0.449531, test_acc 0.856651\n"
     ]
    },
    {
     "name": "stderr",
     "output_type": "stream",
     "text": [
      " 38%|███▊      | 38/100 [03:50<06:16,  6.08s/it]"
     ]
    },
    {
     "name": "stdout",
     "output_type": "stream",
     "text": [
      "early stopping after 39 epochs\n",
      "best test loss: 0.44606703301088524\n",
      "best accuracy on test set: 0.8704128440366973\n"
     ]
    },
    {
     "name": "stderr",
     "output_type": "stream",
     "text": [
      "\n"
     ]
    }
   ],
   "source": [
    "patience = 15\n",
    "best_test_loss = np.Inf\n",
    "best_acc = 0\n",
    "train_loss_, train_acc_, test_loss_, test_acc_ = [], [], [], []\n",
    "no_epochs = 100\n",
    "\n",
    "# start training\n",
    "for epoch in tqdm(range(no_epochs)):\n",
    "    train_loss, train_acc = train_loop(train_dataloader, model, loss_fn, optimizer)\n",
    "    test_loss, test_acc = test_loop(test_dataloader, model, loss_fn)\n",
    "\n",
    "    train_loss_.append(train_loss), train_acc_.append(train_acc)\n",
    "    test_loss_.append(test_loss), test_acc_.append(test_acc)\n",
    "\n",
    "    if test_acc > best_acc:\n",
    "        best_acc = test_acc\n",
    "    # early stopping\n",
    "    if test_loss < best_test_loss:\n",
    "        best_test_loss = test_loss\n",
    "        epochs_without_improvement = 0\n",
    "        best_model = model.state_dict()\n",
    "    else:\n",
    "        epochs_without_improvement += 1\n",
    "        if epochs_without_improvement >= patience:\n",
    "            print(f'early stopping after {epoch+1} epochs')\n",
    "            print(f'best test loss: {best_test_loss}')\n",
    "            print(f'best accuracy on test set: {best_acc}')\n",
    "            break\n",
    "\n",
    "\n",
    "    print(f\"epoch {epoch+1}, train_loss {train_loss:>7f} train_acc {train_acc:>4f}, test_loss {test_loss:>7f}, test_acc {test_acc:>4f}\")\n",
    "os.makedirs(\"./model\", exist_ok=True)\n",
    "torch.save(best_model, './model/CNN_vector_model.pth')"
   ]
  },
  {
   "cell_type": "code",
   "execution_count": 24,
   "metadata": {},
   "outputs": [
    {
     "data": {
      "image/png": "[encoded data removed]",
      "text/plain": [
       "<Figure size 600x400 with 1 Axes>"
      ]
     },
     "metadata": {},
     "output_type": "display_data"
    }
   ],
   "source": [
    "plt.figure(figsize=(6, 4))\n",
    "plt.plot(train_acc_, marker='o', linestyle='-', color='blue', label='Train', linewidth=2, markersize=8)\n",
    "plt.plot(test_acc_, marker='o', linestyle='-', color='orange', label='Test', linewidth=2, markersize=8)\n",
    "plt.title('Training Accuracy vs Testing Accuracy', fontsize=16)\n",
    "plt.ylabel('Accuracy', fontsize=14)\n",
    "plt.xlabel('Epoch', fontsize=14)\n",
    "plt.grid(True)\n",
    "plt.legend(loc='upper left', bbox_to_anchor=(1, 1), fontsize=12)\n",
    "plt.tight_layout()\n",
    "plt.show()"
   ]
  },
  {
   "cell_type": "code",
   "execution_count": 25,
   "metadata": {},
   "outputs": [
    {
     "data": {
      "image/png": "[encoded data removed]",
      "text/plain": [
       "<Figure size 600x400 with 1 Axes>"
      ]
     },
     "metadata": {},
     "output_type": "display_data"
    }
   ],
   "source": [
    "plt.figure(figsize=(6, 4))\n",
    "plt.plot(train_loss_, marker='o', linestyle='-', color='blue', label='Train', linewidth=2, markersize=8)\n",
    "plt.plot(test_loss_, marker='o', linestyle='-', color='orange', label='Test', linewidth=2, markersize=8)\n",
    "plt.title('Training Loss vs Testing Loss', fontsize=16)\n",
    "plt.ylabel('Cross-entropy Loss', fontsize=14)\n",
    "plt.xlabel('Epoch', fontsize=14)\n",
    "plt.grid(True)\n",
    "plt.legend(loc='upper left', bbox_to_anchor=(1, 1), fontsize=12)\n",
    "plt.tight_layout()\n",
    "plt.show()"
   ]
  }
 ],
 "metadata": {
  "kernelspec": {
   "display_name": "Python 3 (ipykernel)",
   "language": "python",
   "name": "python3"
  },
  "language_info": {
   "codemirror_mode": {
    "name": "ipython",
    "version": 3
   },
   "file_extension": ".py",
   "mimetype": "text/x-python",
   "name": "python",
   "nbconvert_exporter": "python",
   "pygments_lexer": "ipython3",
   "version": "3.10.11"
  }
 },
 "nbformat": 4,
 "nbformat_minor": 4
}
