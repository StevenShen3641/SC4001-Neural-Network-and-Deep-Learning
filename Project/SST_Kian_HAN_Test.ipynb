{
 "cells": [
  {
   "cell_type": "code",
   "execution_count": 1,
   "metadata": {},
   "outputs": [
    {
     "name": "stderr",
     "output_type": "stream",
     "text": [
      "[nltk_data] Downloading package stopwords to\n",
      "[nltk_data]     C:\\Users\\Kiann\\AppData\\Roaming\\nltk_data...\n",
      "[nltk_data]   Package stopwords is already up-to-date!\n"
     ]
    }
   ],
   "source": [
    "import os\n",
    "import numpy as np\n",
    "import pandas as pd\n",
    "from sklearn.model_selection import train_test_split\n",
    "from keras.preprocessing.text import Tokenizer\n",
    "from keras.layers import Embedding, Dense, Bidirectional, Convolution2D, MaxPooling2D, Embedding, Dropout, LSTM, GRU, Bidirectional, TimeDistributed, Dense, Dropout, Activation, Flatten, Input\n",
    "from keras.preprocessing.text import Tokenizer\n",
    "from keras.models import Sequential, Model, load_model\n",
    "from keras.optimizers import Adam\n",
    "from keras.utils import to_categorical, pad_sequences\n",
    "import nltk\n",
    "from nltk.corpus import stopwords\n",
    "nltk.download('stopwords')\n",
    "\n",
    "import gensim.downloader as api\n",
    "import pytreebank\n",
    "from data_preprocessing import load_sst\n",
    "\n",
    "from keras.layers import CuDNNLSTM, SpatialDropout1D, Conv1D, Layer\n",
    "from keras.callbacks import EarlyStopping\n",
    "from keras_preprocessing.sequence import pad_sequences\n",
    "from keras import backend as K\n",
    "from keras import initializers\n"
   ]
  },
  {
   "cell_type": "code",
   "execution_count": 2,
   "metadata": {},
   "outputs": [
    {
     "name": "stderr",
     "output_type": "stream",
     "text": [
      "INFO: SST-2 loaded\n"
     ]
    }
   ],
   "source": [
    "train_data, train_labels, test_data, test_labels, dev_data, dev_labels = load_sst()\n",
    "# data = pytreebank.load_sst(\"data/stanfordSentimentTreebank/trees\")\n",
    "\n",
    "\n",
    "# for item in data['train']:\n",
    "#     print(item.to_labeled_lines()[0][0],item.to_labeled_lines()[0][1])\n",
    "#     break"
   ]
  },
  {
   "cell_type": "code",
   "execution_count": 3,
   "metadata": {},
   "outputs": [],
   "source": [
    "# out_path = os.path.join(\"data/stanfordSentimentTreebank/working/sst_{}.txt\")# new file format\n",
    "# for cat in ['train','test','dev']:\n",
    "#     with open(out_path.format(cat),\"w\") as file:\n",
    "#         for item in data[cat]:\n",
    "#             file.write(\"__label__{}\\t{}\\n\".format(\n",
    "#                 item.to_labeled_lines()[0][0] +1,\n",
    "#                 item.to_labeled_lines()[0][1]\n",
    "#             ))\n",
    "    \n",
    "#     print(\"done with {}\".format(file))"
   ]
  },
  {
   "cell_type": "code",
   "execution_count": 4,
   "metadata": {},
   "outputs": [],
   "source": [
    "df_train = pd.DataFrame({'content':train_data, 'sentiment':train_labels})\n",
    "df_val = pd.DataFrame({'content':test_data, 'sentiment':test_labels})"
   ]
  },
  {
   "cell_type": "code",
   "execution_count": 5,
   "metadata": {},
   "outputs": [
    {
     "data": {
      "text/plain": [
       "sentiment\n",
       "1    37569\n",
       "0    29780\n",
       "Name: count, dtype: int64"
      ]
     },
     "execution_count": 5,
     "metadata": {},
     "output_type": "execute_result"
    }
   ],
   "source": [
    "# df_train = pd.read_csv('data/stanfordSentimentTreebank/working/sst_train.txt', sep='\\t',header=None,names=['sentiment','content'])\n",
    "# df_train['sentiment'] = df_train['sentiment'].str.replace(\"__label__\",\"\")\n",
    "# df_train['sentiment'] = df_train['sentiment'].astype(int)#.astype(\"category\")\n",
    "# df_train['sentiment'] = df_train['sentiment'] - 1\n",
    "# df_train\n",
    "\n",
    "# df_val = pd.read_csv('data/stanfordSentimentTreebank/working/sst_test.txt', sep='\\t',header=None,names=['sentiment','content'])\n",
    "# df_val['sentiment'] = df_val['sentiment'].str.replace(\"__label__\",\"\")\n",
    "# df_val['sentiment'] = df_val['sentiment'].astype(int)#.astype(\"category\")\n",
    "# df_val['sentiment'] = df_val['sentiment'] - 1\n",
    "# df_val\n",
    "df_train['sentiment'].value_counts()"
   ]
  },
  {
   "cell_type": "code",
   "execution_count": 6,
   "metadata": {},
   "outputs": [
    {
     "data": {
      "text/html": [
       "<div>\n",
       "<style scoped>\n",
       "    .dataframe tbody tr th:only-of-type {\n",
       "        vertical-align: middle;\n",
       "    }\n",
       "\n",
       "    .dataframe tbody tr th {\n",
       "        vertical-align: top;\n",
       "    }\n",
       "\n",
       "    .dataframe thead th {\n",
       "        text-align: right;\n",
       "    }\n",
       "</style>\n",
       "<table border=\"1\" class=\"dataframe\">\n",
       "  <thead>\n",
       "    <tr style=\"text-align: right;\">\n",
       "      <th></th>\n",
       "      <th>content</th>\n",
       "      <th>sentiment</th>\n",
       "    </tr>\n",
       "  </thead>\n",
       "  <tbody>\n",
       "    <tr>\n",
       "      <th>0</th>\n",
       "      <td>hide new secretions from the parental units</td>\n",
       "      <td>0</td>\n",
       "    </tr>\n",
       "    <tr>\n",
       "      <th>1</th>\n",
       "      <td>contains no wit , only labored gags</td>\n",
       "      <td>0</td>\n",
       "    </tr>\n",
       "    <tr>\n",
       "      <th>2</th>\n",
       "      <td>that loves its characters and communicates som...</td>\n",
       "      <td>1</td>\n",
       "    </tr>\n",
       "    <tr>\n",
       "      <th>3</th>\n",
       "      <td>remains utterly satisfied to remain the same t...</td>\n",
       "      <td>0</td>\n",
       "    </tr>\n",
       "    <tr>\n",
       "      <th>4</th>\n",
       "      <td>on the worst revenge-of-the-nerds clichés the ...</td>\n",
       "      <td>0</td>\n",
       "    </tr>\n",
       "  </tbody>\n",
       "</table>\n",
       "</div>"
      ],
      "text/plain": [
       "                                             content  sentiment\n",
       "0       hide new secretions from the parental units           0\n",
       "1               contains no wit , only labored gags           0\n",
       "2  that loves its characters and communicates som...          1\n",
       "3  remains utterly satisfied to remain the same t...          0\n",
       "4  on the worst revenge-of-the-nerds clichés the ...          0"
      ]
     },
     "execution_count": 6,
     "metadata": {},
     "output_type": "execute_result"
    }
   ],
   "source": [
    "df_train.reset_index(drop=True, inplace=True)\n",
    "df_train.head(5)\n",
    "# df_val.reset_index(drop=True, inplace=True)\n",
    "# df_val.head(5)\n"
   ]
  },
  {
   "cell_type": "code",
   "execution_count": 7,
   "metadata": {},
   "outputs": [
    {
     "data": {
      "text/plain": [
       "array([0, 1], dtype=int64)"
      ]
     },
     "execution_count": 7,
     "metadata": {},
     "output_type": "execute_result"
    }
   ],
   "source": [
    "df_train['sentiment'].unique()"
   ]
  },
  {
   "cell_type": "code",
   "execution_count": 8,
   "metadata": {},
   "outputs": [
    {
     "data": {
      "application/vnd.jupyter.widget-view+json": {
       "model_id": "72e41a7bb61d4c57b7b679ced715ca13",
       "version_major": 2,
       "version_minor": 0
      },
      "text/plain": [
       "  0%|          | 0/67349 [00:00<?, ?it/s]"
      ]
     },
     "metadata": {},
     "output_type": "display_data"
    },
    {
     "data": {
      "application/vnd.jupyter.widget-view+json": {
       "model_id": "a6c18980063d4716b3ffd60a63b87958",
       "version_major": 2,
       "version_minor": 0
      },
      "text/plain": [
       "  0%|          | 0/67349 [00:00<?, ?it/s]"
      ]
     },
     "metadata": {},
     "output_type": "display_data"
    },
    {
     "data": {
      "application/vnd.jupyter.widget-view+json": {
       "model_id": "d66d96c4599242d28cacfdf98cc073f5",
       "version_major": 2,
       "version_minor": 0
      },
      "text/plain": [
       "  0%|          | 0/67349 [00:00<?, ?it/s]"
      ]
     },
     "metadata": {},
     "output_type": "display_data"
    },
    {
     "name": "stderr",
     "output_type": "stream",
     "text": [
      "c:\\Users\\Kiann\\miniconda3\\envs\\tf\\lib\\site-packages\\bs4\\__init__.py:329: MarkupResemblesLocatorWarning: \"con \" looks like a filename, not markup. You should probably open this file and pass the filehandle into Beautiful Soup.\n",
      "  warnings.warn(\n"
     ]
    },
    {
     "data": {
      "application/vnd.jupyter.widget-view+json": {
       "model_id": "38eee4e538fa4158b957c804614656c6",
       "version_major": 2,
       "version_minor": 0
      },
      "text/plain": [
       "  0%|          | 0/67349 [00:00<?, ?it/s]"
      ]
     },
     "metadata": {},
     "output_type": "display_data"
    },
    {
     "data": {
      "application/vnd.jupyter.widget-view+json": {
       "model_id": "85685510c8db4998a619c83f7930ce7f",
       "version_major": 2,
       "version_minor": 0
      },
      "text/plain": [
       "  0%|          | 0/67349 [00:00<?, ?it/s]"
      ]
     },
     "metadata": {},
     "output_type": "display_data"
    },
    {
     "data": {
      "application/vnd.jupyter.widget-view+json": {
       "model_id": "73b5a532fb6a4d3583081e3251675df1",
       "version_major": 2,
       "version_minor": 0
      },
      "text/plain": [
       "  0%|          | 0/67349 [00:00<?, ?it/s]"
      ]
     },
     "metadata": {},
     "output_type": "display_data"
    },
    {
     "data": {
      "application/vnd.jupyter.widget-view+json": {
       "model_id": "bc1f56041b4d4a45aa6c7604f0f29cd4",
       "version_major": 2,
       "version_minor": 0
      },
      "text/plain": [
       "  0%|          | 0/67349 [00:00<?, ?it/s]"
      ]
     },
     "metadata": {},
     "output_type": "display_data"
    },
    {
     "name": "stdout",
     "output_type": "stream",
     "text": [
      "Number of words with stopwords: 583810\n"
     ]
    },
    {
     "data": {
      "application/vnd.jupyter.widget-view+json": {
       "model_id": "7492ad4bc3304a578e408147c47418c7",
       "version_major": 2,
       "version_minor": 0
      },
      "text/plain": [
       "  0%|          | 0/67349 [00:00<?, ?it/s]"
      ]
     },
     "metadata": {},
     "output_type": "display_data"
    },
    {
     "name": "stdout",
     "output_type": "stream",
     "text": [
      "Number of words without stopwords: 338193\n"
     ]
    },
    {
     "data": {
      "application/vnd.jupyter.widget-view+json": {
       "model_id": "fd666ffcfe8144e18579877c888b478b",
       "version_major": 2,
       "version_minor": 0
      },
      "text/plain": [
       "  0%|          | 0/1821 [00:00<?, ?it/s]"
      ]
     },
     "metadata": {},
     "output_type": "display_data"
    },
    {
     "data": {
      "application/vnd.jupyter.widget-view+json": {
       "model_id": "2f2cb24cb547412080482bad89d4c4cf",
       "version_major": 2,
       "version_minor": 0
      },
      "text/plain": [
       "  0%|          | 0/1821 [00:00<?, ?it/s]"
      ]
     },
     "metadata": {},
     "output_type": "display_data"
    },
    {
     "data": {
      "application/vnd.jupyter.widget-view+json": {
       "model_id": "92efcca3d55643bfb2a88b2cb890ec9e",
       "version_major": 2,
       "version_minor": 0
      },
      "text/plain": [
       "  0%|          | 0/1821 [00:00<?, ?it/s]"
      ]
     },
     "metadata": {},
     "output_type": "display_data"
    },
    {
     "data": {
      "application/vnd.jupyter.widget-view+json": {
       "model_id": "d74df98625694dff88e600878c2cc090",
       "version_major": 2,
       "version_minor": 0
      },
      "text/plain": [
       "  0%|          | 0/1821 [00:00<?, ?it/s]"
      ]
     },
     "metadata": {},
     "output_type": "display_data"
    },
    {
     "data": {
      "application/vnd.jupyter.widget-view+json": {
       "model_id": "2ea4db7a3df8401f814a255ebcb60558",
       "version_major": 2,
       "version_minor": 0
      },
      "text/plain": [
       "  0%|          | 0/1821 [00:00<?, ?it/s]"
      ]
     },
     "metadata": {},
     "output_type": "display_data"
    },
    {
     "data": {
      "application/vnd.jupyter.widget-view+json": {
       "model_id": "f9e71a6a586745d2953e124dc3feda21",
       "version_major": 2,
       "version_minor": 0
      },
      "text/plain": [
       "  0%|          | 0/1821 [00:00<?, ?it/s]"
      ]
     },
     "metadata": {},
     "output_type": "display_data"
    },
    {
     "data": {
      "application/vnd.jupyter.widget-view+json": {
       "model_id": "99e19ccd364a45369b770f0d85d84ee3",
       "version_major": 2,
       "version_minor": 0
      },
      "text/plain": [
       "  0%|          | 0/1821 [00:00<?, ?it/s]"
      ]
     },
     "metadata": {},
     "output_type": "display_data"
    },
    {
     "name": "stdout",
     "output_type": "stream",
     "text": [
      "Number of words with stopwords: 31071\n"
     ]
    },
    {
     "data": {
      "application/vnd.jupyter.widget-view+json": {
       "model_id": "1ad718e123f847148d7dcc31fc0d306d",
       "version_major": 2,
       "version_minor": 0
      },
      "text/plain": [
       "  0%|          | 0/1821 [00:00<?, ?it/s]"
      ]
     },
     "metadata": {},
     "output_type": "display_data"
    },
    {
     "name": "stdout",
     "output_type": "stream",
     "text": [
      "Number of words without stopwords: 17251\n"
     ]
    }
   ],
   "source": [
    "import torch\n",
    "import tqdm\n",
    "import text_hammer as th\n",
    "STOPWORDS = set(stopwords.words('english'))\n",
    "def remove_stopwords(text):\n",
    "    \"\"\"custom function to remove the stopwords\"\"\"\n",
    "    return \" \".join([word for word in str(text).split() if word not in STOPWORDS])\n",
    "\n",
    "def pre_pro(df):\n",
    "    # These are series of preprocessing\n",
    "    df['content'] = df['content'].progress_apply(lambda x: th.cont_exp(x)) #you're -> you are; i'm -> i am\n",
    "    df['content'] = df['content'].progress_apply(lambda x: th.remove_emails(x))\n",
    "    df['content'] = df['content'].progress_apply(lambda x: th.remove_html_tags(x))\n",
    "    df['content'] = df['content'].progress_apply(lambda x: th.remove_urls(x))\n",
    "\n",
    "    df['content'] = df['content'].progress_apply(lambda x: th.remove_special_chars(x))\n",
    "    df['content'] = df['content'].progress_apply(lambda x: th.remove_accented_chars(x))\n",
    "    df['content'] = df['content'].progress_apply(lambda x: th.make_base(x)) #ran -> run, \n",
    "    # df['content'] = df['content'].progress_apply(lambda x: th.spelling_correction(x).raw_sentences[0]) #seplling -> spelling\n",
    "    print(\"Number of words with stopwords:\",df['content'].str.split().str.len().sum())\n",
    "    df[\"content\"] = df['content'].progress_apply(lambda x: remove_stopwords(x))\n",
    "    print(\"Number of words without stopwords:\",df['content'].str.split().str.len().sum())\n",
    "\n",
    "pre_pro(df_train)\n",
    "pre_pro(df_val)\n",
    "\n",
    "\n"
   ]
  },
  {
   "cell_type": "code",
   "execution_count": 9,
   "metadata": {},
   "outputs": [
    {
     "name": "stderr",
     "output_type": "stream",
     "text": [
      "INFO: loading projection weights from C:\\Users\\Kiann/gensim-data\\glove-wiki-gigaword-200\\glove-wiki-gigaword-200.gz\n",
      "INFO: KeyedVectors lifecycle event {'msg': 'loaded (400000, 200) matrix of type float32 from C:\\\\Users\\\\Kiann/gensim-data\\\\glove-wiki-gigaword-200\\\\glove-wiki-gigaword-200.gz', 'binary': False, 'encoding': 'utf8', 'datetime': '2024-04-03T01:27:18.784463', 'gensim': '4.3.2', 'python': '3.9.19 (main, Mar 21 2024, 17:21:27) [MSC v.1916 64 bit (AMD64)]', 'platform': 'Windows-10-10.0.19045-SP0', 'event': 'load_word2vec_format'}\n"
     ]
    }
   ],
   "source": [
    "model_type = 'glove-wiki-gigaword-200'  # 25 100 200 word2vec 300 \n",
    "wv_path = ['./data/train_data/train', './data/test_data/test']\n",
    "\n",
    "w2vModel = api.load(model_type)"
   ]
  },
  {
   "cell_type": "code",
   "execution_count": 10,
   "metadata": {},
   "outputs": [],
   "source": [
    "GLOVE_DIM = int(model_type.split('-')[-1])"
   ]
  },
  {
   "cell_type": "code",
   "execution_count": 11,
   "metadata": {},
   "outputs": [
    {
     "name": "stderr",
     "output_type": "stream",
     "text": [
      "<>:7: SyntaxWarning: \"is not\" with a literal. Did you mean \"!=\"?\n",
      "<>:7: SyntaxWarning: \"is not\" with a literal. Did you mean \"!=\"?\n",
      "C:\\Users\\Kiann\\AppData\\Local\\Temp\\ipykernel_28520\\1943377199.py:7: SyntaxWarning: \"is not\" with a literal. Did you mean \"!=\"?\n",
      "  return X.map(lambda x: x.lower().split(\"\\n\")).map(lambda x: [y.split(\". \") for y in x]).map(lambda x: [i.replace('\\'','') for sl in x for i in sl if i is not ''])\n"
     ]
    },
    {
     "name": "stdout",
     "output_type": "stream",
     "text": [
      "No. of 12613 unique tokens.\n"
     ]
    }
   ],
   "source": [
    "from nltk.tokenize import word_tokenize,sent_tokenize\n",
    "from nltk import tokenize\n",
    "from bs4 import BeautifulSoup\n",
    "from keras.preprocessing.text import text_to_word_sequence\n",
    "import string\n",
    "def preprocess(X):\n",
    "  return X.map(lambda x: x.lower().split(\"\\n\")).map(lambda x: [y.split(\". \") for y in x]).map(lambda x: [i.replace('\\'','') for sl in x for i in sl if i is not ''])\n",
    "#Preprocess both train and test separately. Remove punctuations and other unwanted characters\n",
    "def replace_punct(st,punct):\n",
    "  for i in punct:\n",
    "    if i==\"..\":\n",
    "      st = st.replace(\"..\",'.')\n",
    "    elif i==\"--\" or i == '-':\n",
    "      st = st.replace(i,' ')\n",
    "    else:\n",
    "      st = st.replace(i,'')\n",
    "  return st\n",
    "punct = word_tokenize(string.punctuation) + ['``','...','..','\\'s','--','-','n\\'t','\\'','(',')','[',']','{','}']\n",
    "texts = preprocess(df_train['content']).map(lambda x: '. '.join(x)).map(lambda x: replace_punct(x,punct))\n",
    "test_text = preprocess(df_val['content']).map(lambda x: '. '.join(x)).map(lambda x: replace_punct(x,punct))\n",
    "\n",
    "MAX_SEQUENCE_LENGTH = 1000\n",
    "MAX_SENT_LENGTH = 50\n",
    "MAX_SENTS = 50\n",
    "MAX_NB_WORDS = 50000\n",
    "\n",
    "#Get all sentences for all news\n",
    "articles = texts.map(lambda x: sent_tokenize(x))\n",
    "test_articles = test_text.map(lambda x: sent_tokenize(x))\n",
    "\n",
    "#Create 3D data with tokenizer word_index. Neglect words which are not in word_index\n",
    "tokenizer = Tokenizer(num_words=MAX_NB_WORDS)\n",
    "tokenizer.fit_on_texts(texts)\n",
    "\n",
    "data = np.zeros((len(texts), MAX_SENTS, MAX_SENT_LENGTH), dtype='int32')\n",
    "\n",
    "for i, sentences in enumerate(articles):\n",
    "    for j, sent in enumerate(sentences):\n",
    "        if j< MAX_SENTS:\n",
    "            wordTokens = text_to_word_sequence(sent)\n",
    "            k=0\n",
    "            for _, word in enumerate(wordTokens):\n",
    "                if k<MAX_SENT_LENGTH and tokenizer.word_index[word]<MAX_NB_WORDS:\n",
    "                    data[i,j,k] = tokenizer.word_index[word]\n",
    "                    k=k+1\n",
    "                    \n",
    "word_index = tokenizer.word_index\n",
    "print('No. of %s unique tokens.' % len(word_index))"
   ]
  },
  {
   "cell_type": "code",
   "execution_count": 12,
   "metadata": {},
   "outputs": [],
   "source": [
    "#Do the same for test data with the same tokenizer (fit on train data). Neglect words which are not in word_index\n",
    "test_data = np.zeros((len(test_text), MAX_SENTS, MAX_SENT_LENGTH), dtype='int32')\n",
    "\n",
    "for i, sentences in enumerate(test_articles):\n",
    "    for j, sent in enumerate(sentences):\n",
    "        if j< MAX_SENTS:\n",
    "            wordTokens = text_to_word_sequence(sent)\n",
    "            k=0\n",
    "            for _, word in enumerate(wordTokens):\n",
    "                if k<MAX_SENT_LENGTH and word in tokenizer.word_index and tokenizer.word_index[word]<MAX_NB_WORDS:\n",
    "                    test_data[i,j,k] = tokenizer.word_index[word]\n",
    "                    k=k+1"
   ]
  },
  {
   "cell_type": "code",
   "execution_count": 13,
   "metadata": {},
   "outputs": [
    {
     "name": "stdout",
     "output_type": "stream",
     "text": [
      "Shape of data tensor: (67349, 50, 50)\n",
      "Shape of label tensor: (67349, 2)\n"
     ]
    }
   ],
   "source": [
    "#Split training and validation data with 20% split. So final is training 64%, validation 16% and test 20% of whole data\n",
    "labels = to_categorical(np.asarray(df_train['sentiment']))\n",
    "print('Shape of data tensor:', data.shape)\n",
    "print('Shape of label tensor:', labels.shape)\n",
    "\n",
    "np.random.seed(123)\n",
    "indices = np.arange(data.shape[0])\n",
    "np.random.shuffle(indices)\n",
    "data = data[indices]\n",
    "labels = labels[indices]\n",
    "nb_validation_samples = int(0.2 * data.shape[0])\n",
    "\n",
    "xtrain = data[:-nb_validation_samples]\n",
    "ytrain = labels[:-nb_validation_samples]\n",
    "xval = data[-nb_validation_samples:]\n",
    "yval = labels[-nb_validation_samples:]"
   ]
  },
  {
   "cell_type": "code",
   "execution_count": 14,
   "metadata": {},
   "outputs": [
    {
     "data": {
      "text/plain": [
       "12614"
      ]
     },
     "execution_count": 14,
     "metadata": {},
     "output_type": "execute_result"
    }
   ],
   "source": [
    "wordLen = len(tokenizer.word_index)+1\n",
    "wordLen"
   ]
  },
  {
   "cell_type": "code",
   "execution_count": 15,
   "metadata": {},
   "outputs": [
    {
     "name": "stdout",
     "output_type": "stream",
     "text": [
      "Converted 10931 words (1682 misses)\n"
     ]
    },
    {
     "data": {
      "text/plain": [
       "array([[ 0.        ,  0.        ,  0.        , ...,  0.        ,\n",
       "         0.        ,  0.        ],\n",
       "       [ 0.18889   ,  0.19302   , -0.86576003, ...,  0.03805   ,\n",
       "         0.23120999,  0.35679001],\n",
       "       [ 0.33201   ,  0.30195001, -0.88213003, ...,  0.075378  ,\n",
       "         0.39153999,  0.57608998],\n",
       "       ...,\n",
       "       [-0.028945  ,  0.31018001,  0.04713   , ...,  0.13456   ,\n",
       "         0.1165    , -0.22330999],\n",
       "       [ 0.        ,  0.        ,  0.        , ...,  0.        ,\n",
       "         0.        ,  0.        ],\n",
       "       [-0.82804   , -0.27252001, -0.3486    , ..., -0.26808   ,\n",
       "         0.099554  , -0.54202002]])"
      ]
     },
     "execution_count": 15,
     "metadata": {},
     "output_type": "execute_result"
    }
   ],
   "source": [
    "## prepare a corresponding embedding matrix that used in a Keras Embedding layer. \n",
    "## It's a simple NumPy matrix where entry at index i is the pre-trained vector for the word of index i in our vectorizer's vocabulary.\n",
    "\n",
    "def embed(model, tokenizer):\n",
    "    embed_size = GLOVE_DIM\n",
    "    embedding_matrix = np.zeros((len(tokenizer.word_index)+1, embed_size))\n",
    "\n",
    "    hits = 0\n",
    "    misses = 0\n",
    "\n",
    "    # embedding matrix\n",
    "    for word, i in tokenizer.word_index.items():\n",
    "        try:\n",
    "            embedding_vector = model.get_vector(word)\n",
    "            if embedding_vector is not None:\n",
    "                embedding_matrix[i] = embedding_vector\n",
    "                hits += 1\n",
    "            else:\n",
    "                misses += 1\n",
    "        except:\n",
    "            misses += 1\n",
    "        \n",
    "            \n",
    "    print(\"Converted %d words (%d misses)\" % (hits, misses))\n",
    "    return embedding_matrix\n",
    "\n",
    "\n",
    "embedding_matrix = embed (w2vModel, tokenizer)\n",
    "embedding_matrix"
   ]
  },
  {
   "cell_type": "code",
   "execution_count": 16,
   "metadata": {},
   "outputs": [],
   "source": [
    "# class defining the custom attention layer\n",
    "class HierarchicalAttentionNetwork(Layer):\n",
    "    def __init__(self, attention_dim):\n",
    "        self.init = initializers.get('normal')\n",
    "        self.supports_masking = True\n",
    "        self.attention_dim = attention_dim\n",
    "        super(HierarchicalAttentionNetwork, self).__init__()\n",
    "\n",
    "    def build(self, input_shape):\n",
    "        assert len(input_shape) == 3\n",
    "        self.W = K.variable(self.init((input_shape[-1], self.attention_dim)))\n",
    "        self.b = K.variable(self.init((self.attention_dim,)))\n",
    "        self.u = K.variable(self.init((self.attention_dim, 1)))\n",
    "        self._trainable_weights = [self.W, self.b, self.u]\n",
    "        super(HierarchicalAttentionNetwork, self).build(input_shape)\n",
    "\n",
    "    def compute_mask(self, inputs, mask=None):\n",
    "        return mask\n",
    "\n",
    "    def call(self, x, mask=None):\n",
    "        # size of x :[batch_size, sel_len, attention_dim]\n",
    "        # size of u :[batch_size, attention_dim]\n",
    "        # uit = tanh(xW+b)\n",
    "        uit = K.tanh(K.bias_add(K.dot(x, self.W), self.b))\n",
    "\n",
    "        ait = K.exp(K.squeeze(K.dot(uit, self.u), -1))\n",
    "\n",
    "        if mask is not None:\n",
    "            # Cast the mask to floatX to avoid float64 upcasting\n",
    "            ait *= K.cast(mask, K.floatx())\n",
    "        ait /= K.cast(K.sum(ait, axis=1, keepdims=True) + K.epsilon(), K.floatx())\n",
    "        weighted_input = x * K.expand_dims(ait)\n",
    "        output = K.sum(weighted_input, axis=1)\n",
    "\n",
    "        return output\n",
    "\n",
    "    def compute_output_shape(self, input_shape):\n",
    "        return input_shape[0], input_shape[-1]\n",
    "\n"
   ]
  },
  {
   "cell_type": "code",
   "execution_count": 18,
   "metadata": {},
   "outputs": [
    {
     "name": "stdout",
     "output_type": "stream",
     "text": [
      "Model: \"model_3\"\n",
      "_________________________________________________________________\n",
      " Layer (type)                Output Shape              Param #   \n",
      "=================================================================\n",
      " input_4 (InputLayer)        [(None, 50, 50)]          0         \n",
      "                                                                 \n",
      " time_distributed_1 (TimeDis  (None, 50, 200)          2763600   \n",
      " tributed)                                                       \n",
      "                                                                 \n",
      " bidirectional_3 (Bidirectio  (None, 200)              240800    \n",
      " nal)                                                            \n",
      "                                                                 \n",
      " dense_1 (Dense)             (None, 2)                 402       \n",
      "                                                                 \n",
      "=================================================================\n",
      "Total params: 3,004,802\n",
      "Trainable params: 482,002\n",
      "Non-trainable params: 2,522,800\n",
      "_________________________________________________________________\n",
      "None\n",
      "Epoch 1/200\n",
      "842/842 [==============================] - 115s 131ms/step - loss: 0.4481 - acc: 0.7868 - val_loss: 0.3859 - val_acc: 0.8269\n",
      "Epoch 2/200\n",
      "842/842 [==============================] - 62s 73ms/step - loss: 0.3957 - acc: 0.8180 - val_loss: 0.3560 - val_acc: 0.8439\n",
      "Epoch 3/200\n",
      "842/842 [==============================] - 65s 77ms/step - loss: 0.3659 - acc: 0.8354 - val_loss: 0.3275 - val_acc: 0.8596\n",
      "Epoch 4/200\n",
      "842/842 [==============================] - 83s 98ms/step - loss: 0.3390 - acc: 0.8495 - val_loss: 0.3126 - val_acc: 0.8664\n",
      "Epoch 5/200\n",
      "842/842 [==============================] - 80s 95ms/step - loss: 0.3187 - acc: 0.8605 - val_loss: 0.2957 - val_acc: 0.8747\n",
      "Epoch 6/200\n",
      "842/842 [==============================] - 62s 73ms/step - loss: 0.3007 - acc: 0.8693 - val_loss: 0.2835 - val_acc: 0.8798\n",
      "Epoch 7/200\n",
      "842/842 [==============================] - 62s 74ms/step - loss: 0.2877 - acc: 0.8764 - val_loss: 0.2721 - val_acc: 0.8851\n",
      "Epoch 8/200\n",
      "842/842 [==============================] - 62s 73ms/step - loss: 0.2723 - acc: 0.8840 - val_loss: 0.2637 - val_acc: 0.8903\n",
      "Epoch 9/200\n",
      "842/842 [==============================] - 62s 74ms/step - loss: 0.2637 - acc: 0.8883 - val_loss: 0.2583 - val_acc: 0.8960\n",
      "Epoch 10/200\n",
      "842/842 [==============================] - 61s 73ms/step - loss: 0.2554 - acc: 0.8912 - val_loss: 0.2553 - val_acc: 0.8952\n",
      "Epoch 11/200\n",
      "842/842 [==============================] - 62s 74ms/step - loss: 0.2448 - acc: 0.8979 - val_loss: 0.2488 - val_acc: 0.8970\n",
      "Epoch 12/200\n",
      "842/842 [==============================] - 61s 72ms/step - loss: 0.2370 - acc: 0.9017 - val_loss: 0.2428 - val_acc: 0.9006\n",
      "Epoch 13/200\n",
      "842/842 [==============================] - 67s 79ms/step - loss: 0.2318 - acc: 0.9035 - val_loss: 0.2471 - val_acc: 0.9022\n",
      "Epoch 14/200\n",
      "842/842 [==============================] - 63s 75ms/step - loss: 0.2276 - acc: 0.9054 - val_loss: 0.2402 - val_acc: 0.9040\n",
      "Epoch 15/200\n",
      "842/842 [==============================] - 63s 75ms/step - loss: 0.2210 - acc: 0.9080 - val_loss: 0.2444 - val_acc: 0.9055\n",
      "Epoch 16/200\n",
      "842/842 [==============================] - 61s 73ms/step - loss: 0.2209 - acc: 0.9083 - val_loss: 0.2412 - val_acc: 0.9059\n",
      "Epoch 17/200\n",
      "842/842 [==============================] - 61s 72ms/step - loss: 0.2112 - acc: 0.9120 - val_loss: 0.2433 - val_acc: 0.9070\n",
      "Epoch 18/200\n",
      "842/842 [==============================] - 61s 72ms/step - loss: 0.2085 - acc: 0.9138 - val_loss: 0.2354 - val_acc: 0.9099\n",
      "Epoch 19/200\n",
      "842/842 [==============================] - 61s 72ms/step - loss: 0.2061 - acc: 0.9151 - val_loss: 0.2378 - val_acc: 0.9104\n",
      "Epoch 20/200\n",
      "842/842 [==============================] - 61s 73ms/step - loss: 0.2009 - acc: 0.9166 - val_loss: 0.2328 - val_acc: 0.9114\n",
      "Epoch 21/200\n",
      "842/842 [==============================] - 61s 72ms/step - loss: 0.2007 - acc: 0.9184 - val_loss: 0.2382 - val_acc: 0.9062\n",
      "Epoch 22/200\n",
      "842/842 [==============================] - 62s 73ms/step - loss: 0.1971 - acc: 0.9187 - val_loss: 0.2326 - val_acc: 0.9103\n",
      "Epoch 23/200\n",
      "842/842 [==============================] - 66s 78ms/step - loss: 0.1913 - acc: 0.9217 - val_loss: 0.2379 - val_acc: 0.9123\n",
      "Epoch 24/200\n",
      "842/842 [==============================] - 65s 77ms/step - loss: 0.1893 - acc: 0.9224 - val_loss: 0.2447 - val_acc: 0.9102\n",
      "Epoch 25/200\n",
      "842/842 [==============================] - 68s 80ms/step - loss: 0.1859 - acc: 0.9236 - val_loss: 0.2407 - val_acc: 0.9154\n",
      "Epoch 26/200\n",
      "842/842 [==============================] - 63s 74ms/step - loss: 0.1866 - acc: 0.9242 - val_loss: 0.2463 - val_acc: 0.9106\n",
      "Epoch 27/200\n",
      "842/842 [==============================] - 66s 78ms/step - loss: 0.1835 - acc: 0.9236 - val_loss: 0.2427 - val_acc: 0.9116\n",
      "Epoch 27: early stopping\n",
      "<keras.engine.functional.Functional object at 0x000001574D9BF370>\n"
     ]
    }
   ],
   "source": [
    "\n",
    "embedding_layer = Embedding(wordLen, output_dim=GLOVE_DIM, input_length=MAX_SENT_LENGTH, weights=[embedding_matrix],trainable=False)\n",
    "# Word\n",
    "sentence_input = Input(shape=(MAX_SENT_LENGTH,), dtype='int32')\n",
    "embedded_sequences = embedding_layer(sentence_input)\n",
    "lstm_layer = Bidirectional(LSTM(100,dropout=.3))(embedded_sequences)\n",
    "sentEncoder = Model(sentence_input, lstm_layer)\n",
    "\n",
    "# Sentence\n",
    "article_input = Input(shape=(MAX_SENTS,MAX_SENT_LENGTH), dtype='int32')\n",
    "article_encoder = TimeDistributed(sentEncoder)(article_input)\n",
    "lstm_layer_sent = Bidirectional(LSTM(100,dropout=.3))(article_encoder)\n",
    "preds = Dense(len(df_train['sentiment'].unique()), activation='softmax')(lstm_layer_sent)\n",
    "han_model = Model(article_input, preds)\n",
    "\n",
    "han_model.compile(loss='categorical_crossentropy',\n",
    "              optimizer='rmsprop',\n",
    "              metrics=['acc'])\n",
    "print(han_model.summary())\n",
    "es = EarlyStopping(monitor = 'val_loss', mode = 'min', verbose = 1, patience = 5)\n",
    "history = han_model.fit(xtrain, ytrain, epochs=200, batch_size=64, verbose=1,validation_data=(xval,yval),callbacks= [es])\n",
    "\n",
    "print(han_model)"
   ]
  },
  {
   "cell_type": "code",
   "execution_count": null,
   "metadata": {},
   "outputs": [],
   "source": []
  },
  {
   "cell_type": "code",
   "execution_count": 22,
   "metadata": {},
   "outputs": [
    {
     "name": "stdout",
     "output_type": "stream",
     "text": [
      "Training Accuracy: 0.924\n"
     ]
    }
   ],
   "source": [
    "import matplotlib.pyplot as plt\n",
    "last_accuracy = \"{:.3f}\".format(history.history['acc'][-1])\n",
    "print(\"Training Accuracy:\", last_accuracy)"
   ]
  },
  {
   "cell_type": "code",
   "execution_count": 23,
   "metadata": {},
   "outputs": [
    {
     "data": {
      "image/png": "[encoded data removed]",
      "text/plain": [
       "<Figure size 640x480 with 1 Axes>"
      ]
     },
     "metadata": {},
     "output_type": "display_data"
    }
   ],
   "source": [
    "plt.plot(history.history['acc'])\n",
    "plt.plot(history.history['val_acc'])\n",
    "plt.title('Training Accuracy vs Validation Accuracy')\n",
    "plt.ylabel('Accuracy')\n",
    "plt.xlabel('Epoch')\n",
    "plt.legend(['Train', 'Validation'], loc='upper left')\n",
    "plt.show()"
   ]
  },
  {
   "cell_type": "code",
   "execution_count": 24,
   "metadata": {},
   "outputs": [
    {
     "data": {
      "image/png": "[encoded data removed]",
      "text/plain": [
       "<Figure size 640x480 with 1 Axes>"
      ]
     },
     "metadata": {},
     "output_type": "display_data"
    }
   ],
   "source": [
    "plt.plot(history.history['loss'])\n",
    "plt.plot(history.history['val_loss'])\n",
    "plt.title('Training Loss vs Validation Loss')\n",
    "plt.ylabel('Loss')\n",
    "plt.xlabel('Epoch')\n",
    "plt.legend(['Train', 'Validation'], loc='upper left')\n",
    "plt.show()"
   ]
  }
 ],
 "metadata": {
  "kernelspec": {
   "display_name": "Python 3",
   "language": "python",
   "name": "python3"
  },
  "language_info": {
   "codemirror_mode": {
    "name": "ipython",
    "version": 3
   },
   "file_extension": ".py",
   "mimetype": "text/x-python",
   "name": "python",
   "nbconvert_exporter": "python",
   "pygments_lexer": "ipython3",
   "version": "3.9.19"
  }
 },
 "nbformat": 4,
 "nbformat_minor": 2
}
