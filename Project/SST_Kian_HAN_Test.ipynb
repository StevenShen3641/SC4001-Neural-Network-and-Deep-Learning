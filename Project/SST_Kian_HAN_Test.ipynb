{
 "cells": [
  {
   "cell_type": "code",
   "execution_count": 1,
   "metadata": {},
   "outputs": [
    {
     "name": "stderr",
     "output_type": "stream",
     "text": [
      "[nltk_data] Downloading package stopwords to\n",
      "[nltk_data]     C:\\Users\\Kiann\\AppData\\Roaming\\nltk_data...\n",
      "[nltk_data]   Package stopwords is already up-to-date!\n"
     ]
    }
   ],
   "source": [
    "import os\n",
    "import numpy as np\n",
    "import pandas as pd\n",
    "from sklearn.model_selection import train_test_split\n",
    "from keras.preprocessing.text import Tokenizer\n",
    "from keras.layers import Embedding, Dense, Bidirectional, Convolution2D, MaxPooling2D, Embedding, Dropout, LSTM, GRU, Bidirectional, TimeDistributed, Dense, Dropout, Activation, Flatten, Input\n",
    "from keras.preprocessing.text import Tokenizer\n",
    "from keras.models import Sequential, Model, load_model\n",
    "from keras.optimizers import Adam\n",
    "from keras.utils import to_categorical, pad_sequences\n",
    "import nltk\n",
    "from nltk.corpus import stopwords\n",
    "nltk.download('stopwords')\n",
    "\n",
    "import gensim.downloader as api\n",
    "import pytreebank\n",
    "\n",
    "from keras.layers import CuDNNLSTM, SpatialDropout1D, Conv1D, Layer\n",
    "from keras.callbacks import EarlyStopping\n",
    "from keras_preprocessing.sequence import pad_sequences\n",
    "from keras import backend as K\n",
    "from keras import initializers\n"
   ]
  },
  {
   "cell_type": "code",
   "execution_count": 2,
   "metadata": {},
   "outputs": [
    {
     "name": "stdout",
     "output_type": "stream",
     "text": [
      "3 The Rock is destined to be the 21st Century 's new `` Conan '' and that he 's going to make a splash even greater than Arnold Schwarzenegger , Jean-Claud Van Damme or Steven Segal .\n"
     ]
    }
   ],
   "source": [
    "data = pytreebank.load_sst(\"data/stanfordSentimentTreebank/trees\")\n",
    "\n",
    "\n",
    "for item in data['train']:\n",
    "    print(item.to_labeled_lines()[0][0],item.to_labeled_lines()[0][1])\n",
    "    break"
   ]
  },
  {
   "cell_type": "code",
   "execution_count": 3,
   "metadata": {},
   "outputs": [
    {
     "name": "stdout",
     "output_type": "stream",
     "text": [
      "done with <_io.TextIOWrapper name='data/stanfordSentimentTreebank/working/sst_train.txt' mode='w' encoding='UTF-8'>\n",
      "done with <_io.TextIOWrapper name='data/stanfordSentimentTreebank/working/sst_test.txt' mode='w' encoding='UTF-8'>\n",
      "done with <_io.TextIOWrapper name='data/stanfordSentimentTreebank/working/sst_dev.txt' mode='w' encoding='UTF-8'>\n"
     ]
    }
   ],
   "source": [
    "out_path = os.path.join(\"data/stanfordSentimentTreebank/working/sst_{}.txt\")# new file format\n",
    "for cat in ['train','test','dev']:\n",
    "    with open(out_path.format(cat),\"w\") as file:\n",
    "        for item in data[cat]:\n",
    "            file.write(\"__label__{}\\t{}\\n\".format(\n",
    "                item.to_labeled_lines()[0][0] +1,\n",
    "                item.to_labeled_lines()[0][1]\n",
    "            ))\n",
    "    \n",
    "    print(\"done with {}\".format(file))"
   ]
  },
  {
   "cell_type": "code",
   "execution_count": 4,
   "metadata": {},
   "outputs": [
    {
     "data": {
      "text/html": [
       "<div>\n",
       "<style scoped>\n",
       "    .dataframe tbody tr th:only-of-type {\n",
       "        vertical-align: middle;\n",
       "    }\n",
       "\n",
       "    .dataframe tbody tr th {\n",
       "        vertical-align: top;\n",
       "    }\n",
       "\n",
       "    .dataframe thead th {\n",
       "        text-align: right;\n",
       "    }\n",
       "</style>\n",
       "<table border=\"1\" class=\"dataframe\">\n",
       "  <thead>\n",
       "    <tr style=\"text-align: right;\">\n",
       "      <th></th>\n",
       "      <th>sentiment</th>\n",
       "      <th>content</th>\n",
       "    </tr>\n",
       "  </thead>\n",
       "  <tbody>\n",
       "    <tr>\n",
       "      <th>0</th>\n",
       "      <td>2</td>\n",
       "      <td>Effective but too-tepid biopic</td>\n",
       "    </tr>\n",
       "    <tr>\n",
       "      <th>1</th>\n",
       "      <td>3</td>\n",
       "      <td>If you sometimes like to go to the movies to h...</td>\n",
       "    </tr>\n",
       "    <tr>\n",
       "      <th>2</th>\n",
       "      <td>4</td>\n",
       "      <td>Emerges as something rare , an issue movie tha...</td>\n",
       "    </tr>\n",
       "    <tr>\n",
       "      <th>3</th>\n",
       "      <td>2</td>\n",
       "      <td>The film provides some great insight into the ...</td>\n",
       "    </tr>\n",
       "    <tr>\n",
       "      <th>4</th>\n",
       "      <td>4</td>\n",
       "      <td>Offers that rare combination of entertainment ...</td>\n",
       "    </tr>\n",
       "    <tr>\n",
       "      <th>...</th>\n",
       "      <td>...</td>\n",
       "      <td>...</td>\n",
       "    </tr>\n",
       "    <tr>\n",
       "      <th>2205</th>\n",
       "      <td>3</td>\n",
       "      <td>An imaginative comedy/thriller .</td>\n",
       "    </tr>\n",
       "    <tr>\n",
       "      <th>2206</th>\n",
       "      <td>4</td>\n",
       "      <td>( A ) rare , beautiful film .</td>\n",
       "    </tr>\n",
       "    <tr>\n",
       "      <th>2207</th>\n",
       "      <td>4</td>\n",
       "      <td>( An ) hilarious romantic comedy .</td>\n",
       "    </tr>\n",
       "    <tr>\n",
       "      <th>2208</th>\n",
       "      <td>3</td>\n",
       "      <td>Never ( sinks ) into exploitation .</td>\n",
       "    </tr>\n",
       "    <tr>\n",
       "      <th>2209</th>\n",
       "      <td>0</td>\n",
       "      <td>( U ) nrelentingly stupid .</td>\n",
       "    </tr>\n",
       "  </tbody>\n",
       "</table>\n",
       "<p>2210 rows × 2 columns</p>\n",
       "</div>"
      ],
      "text/plain": [
       "      sentiment                                            content\n",
       "0             2                     Effective but too-tepid biopic\n",
       "1             3  If you sometimes like to go to the movies to h...\n",
       "2             4  Emerges as something rare , an issue movie tha...\n",
       "3             2  The film provides some great insight into the ...\n",
       "4             4  Offers that rare combination of entertainment ...\n",
       "...         ...                                                ...\n",
       "2205          3                   An imaginative comedy/thriller .\n",
       "2206          4                      ( A ) rare , beautiful film .\n",
       "2207          4                 ( An ) hilarious romantic comedy .\n",
       "2208          3                Never ( sinks ) into exploitation .\n",
       "2209          0                        ( U ) nrelentingly stupid .\n",
       "\n",
       "[2210 rows x 2 columns]"
      ]
     },
     "execution_count": 4,
     "metadata": {},
     "output_type": "execute_result"
    }
   ],
   "source": [
    "df_train = pd.read_csv('data/stanfordSentimentTreebank/working/sst_train.txt', sep='\\t',header=None,names=['sentiment','content'])\n",
    "df_train['sentiment'] = df_train['sentiment'].str.replace(\"__label__\",\"\")\n",
    "df_train['sentiment'] = df_train['sentiment'].astype(int)#.astype(\"category\")\n",
    "df_train['sentiment'] = df_train['sentiment'] - 1\n",
    "df_train\n",
    "\n",
    "df_val = pd.read_csv('data/stanfordSentimentTreebank/working/sst_test.txt', sep='\\t',header=None,names=['sentiment','content'])\n",
    "df_val['sentiment'] = df_val['sentiment'].str.replace(\"__label__\",\"\")\n",
    "df_val['sentiment'] = df_val['sentiment'].astype(int)#.astype(\"category\")\n",
    "df_val['sentiment'] = df_val['sentiment'] - 1\n",
    "df_val"
   ]
  },
  {
   "cell_type": "code",
   "execution_count": 5,
   "metadata": {},
   "outputs": [
    {
     "data": {
      "text/html": [
       "<div>\n",
       "<style scoped>\n",
       "    .dataframe tbody tr th:only-of-type {\n",
       "        vertical-align: middle;\n",
       "    }\n",
       "\n",
       "    .dataframe tbody tr th {\n",
       "        vertical-align: top;\n",
       "    }\n",
       "\n",
       "    .dataframe thead th {\n",
       "        text-align: right;\n",
       "    }\n",
       "</style>\n",
       "<table border=\"1\" class=\"dataframe\">\n",
       "  <thead>\n",
       "    <tr style=\"text-align: right;\">\n",
       "      <th></th>\n",
       "      <th>sentiment</th>\n",
       "      <th>content</th>\n",
       "    </tr>\n",
       "  </thead>\n",
       "  <tbody>\n",
       "    <tr>\n",
       "      <th>0</th>\n",
       "      <td>2</td>\n",
       "      <td>Effective but too-tepid biopic</td>\n",
       "    </tr>\n",
       "    <tr>\n",
       "      <th>1</th>\n",
       "      <td>3</td>\n",
       "      <td>If you sometimes like to go to the movies to h...</td>\n",
       "    </tr>\n",
       "    <tr>\n",
       "      <th>2</th>\n",
       "      <td>4</td>\n",
       "      <td>Emerges as something rare , an issue movie tha...</td>\n",
       "    </tr>\n",
       "    <tr>\n",
       "      <th>3</th>\n",
       "      <td>2</td>\n",
       "      <td>The film provides some great insight into the ...</td>\n",
       "    </tr>\n",
       "    <tr>\n",
       "      <th>4</th>\n",
       "      <td>4</td>\n",
       "      <td>Offers that rare combination of entertainment ...</td>\n",
       "    </tr>\n",
       "  </tbody>\n",
       "</table>\n",
       "</div>"
      ],
      "text/plain": [
       "   sentiment                                            content\n",
       "0          2                     Effective but too-tepid biopic\n",
       "1          3  If you sometimes like to go to the movies to h...\n",
       "2          4  Emerges as something rare , an issue movie tha...\n",
       "3          2  The film provides some great insight into the ...\n",
       "4          4  Offers that rare combination of entertainment ..."
      ]
     },
     "execution_count": 5,
     "metadata": {},
     "output_type": "execute_result"
    }
   ],
   "source": [
    "df_train.reset_index(drop=True, inplace=True)\n",
    "df_train.head(5)\n",
    "df_val.reset_index(drop=True, inplace=True)\n",
    "df_val.head(5)\n"
   ]
  },
  {
   "cell_type": "code",
   "execution_count": 6,
   "metadata": {},
   "outputs": [
    {
     "data": {
      "text/plain": [
       "array([3, 4, 2, 1, 0])"
      ]
     },
     "execution_count": 6,
     "metadata": {},
     "output_type": "execute_result"
    }
   ],
   "source": [
    "df_train['sentiment'].unique()"
   ]
  },
  {
   "cell_type": "code",
   "execution_count": 8,
   "metadata": {},
   "outputs": [
    {
     "data": {
      "application/vnd.jupyter.widget-view+json": {
       "model_id": "1a9a48c8e5df4e1cb1cae0f0fdc6e429",
       "version_major": 2,
       "version_minor": 0
      },
      "text/plain": [
       "  0%|          | 0/8544 [00:00<?, ?it/s]"
      ]
     },
     "metadata": {},
     "output_type": "display_data"
    },
    {
     "data": {
      "application/vnd.jupyter.widget-view+json": {
       "model_id": "1580e485282f432bad8bfd90fd0d2457",
       "version_major": 2,
       "version_minor": 0
      },
      "text/plain": [
       "  0%|          | 0/8544 [00:00<?, ?it/s]"
      ]
     },
     "metadata": {},
     "output_type": "display_data"
    },
    {
     "data": {
      "application/vnd.jupyter.widget-view+json": {
       "model_id": "4a4ae363c28e448f9ce96debe2e32364",
       "version_major": 2,
       "version_minor": 0
      },
      "text/plain": [
       "  0%|          | 0/8544 [00:00<?, ?it/s]"
      ]
     },
     "metadata": {},
     "output_type": "display_data"
    },
    {
     "data": {
      "application/vnd.jupyter.widget-view+json": {
       "model_id": "ff258918ff5242888b775be903d6a110",
       "version_major": 2,
       "version_minor": 0
      },
      "text/plain": [
       "  0%|          | 0/8544 [00:00<?, ?it/s]"
      ]
     },
     "metadata": {},
     "output_type": "display_data"
    },
    {
     "data": {
      "application/vnd.jupyter.widget-view+json": {
       "model_id": "1a2b2c488b4242dfbc55a4cc39e6858c",
       "version_major": 2,
       "version_minor": 0
      },
      "text/plain": [
       "  0%|          | 0/8544 [00:00<?, ?it/s]"
      ]
     },
     "metadata": {},
     "output_type": "display_data"
    },
    {
     "data": {
      "application/vnd.jupyter.widget-view+json": {
       "model_id": "b40c99a007ec495ab0e1b26351bfc5b4",
       "version_major": 2,
       "version_minor": 0
      },
      "text/plain": [
       "  0%|          | 0/8544 [00:00<?, ?it/s]"
      ]
     },
     "metadata": {},
     "output_type": "display_data"
    },
    {
     "data": {
      "application/vnd.jupyter.widget-view+json": {
       "model_id": "727d21bdee9240ae8e37957b231b68c6",
       "version_major": 2,
       "version_minor": 0
      },
      "text/plain": [
       "  0%|          | 0/8544 [00:00<?, ?it/s]"
      ]
     },
     "metadata": {},
     "output_type": "display_data"
    },
    {
     "name": "stdout",
     "output_type": "stream",
     "text": [
      "Number of words with stopwords: 144703\n"
     ]
    },
    {
     "data": {
      "application/vnd.jupyter.widget-view+json": {
       "model_id": "a90d79f12e8249028aeb2092c712fc9e",
       "version_major": 2,
       "version_minor": 0
      },
      "text/plain": [
       "  0%|          | 0/8544 [00:00<?, ?it/s]"
      ]
     },
     "metadata": {},
     "output_type": "display_data"
    },
    {
     "name": "stdout",
     "output_type": "stream",
     "text": [
      "Number of words without stopwords: 80579\n"
     ]
    },
    {
     "data": {
      "application/vnd.jupyter.widget-view+json": {
       "model_id": "e030f40f9e934617ab6c5bc9756c014b",
       "version_major": 2,
       "version_minor": 0
      },
      "text/plain": [
       "  0%|          | 0/2210 [00:00<?, ?it/s]"
      ]
     },
     "metadata": {},
     "output_type": "display_data"
    },
    {
     "data": {
      "application/vnd.jupyter.widget-view+json": {
       "model_id": "97328acbff5f4520bf4c31f69898f5ff",
       "version_major": 2,
       "version_minor": 0
      },
      "text/plain": [
       "  0%|          | 0/2210 [00:00<?, ?it/s]"
      ]
     },
     "metadata": {},
     "output_type": "display_data"
    },
    {
     "data": {
      "application/vnd.jupyter.widget-view+json": {
       "model_id": "3086e11958c246e2ae4d278e88fe6b3e",
       "version_major": 2,
       "version_minor": 0
      },
      "text/plain": [
       "  0%|          | 0/2210 [00:00<?, ?it/s]"
      ]
     },
     "metadata": {},
     "output_type": "display_data"
    },
    {
     "data": {
      "application/vnd.jupyter.widget-view+json": {
       "model_id": "f8f7f939c34641c3bd53ff82c4cbc415",
       "version_major": 2,
       "version_minor": 0
      },
      "text/plain": [
       "  0%|          | 0/2210 [00:00<?, ?it/s]"
      ]
     },
     "metadata": {},
     "output_type": "display_data"
    },
    {
     "data": {
      "application/vnd.jupyter.widget-view+json": {
       "model_id": "9d7d2d32dd624c04977e37ea5ac46d5c",
       "version_major": 2,
       "version_minor": 0
      },
      "text/plain": [
       "  0%|          | 0/2210 [00:00<?, ?it/s]"
      ]
     },
     "metadata": {},
     "output_type": "display_data"
    },
    {
     "data": {
      "application/vnd.jupyter.widget-view+json": {
       "model_id": "9a6120b8d1984818a2fb86dfc1f20ace",
       "version_major": 2,
       "version_minor": 0
      },
      "text/plain": [
       "  0%|          | 0/2210 [00:00<?, ?it/s]"
      ]
     },
     "metadata": {},
     "output_type": "display_data"
    },
    {
     "data": {
      "application/vnd.jupyter.widget-view+json": {
       "model_id": "6974dd9551714559a7de663045ad5754",
       "version_major": 2,
       "version_minor": 0
      },
      "text/plain": [
       "  0%|          | 0/2210 [00:00<?, ?it/s]"
      ]
     },
     "metadata": {},
     "output_type": "display_data"
    },
    {
     "name": "stdout",
     "output_type": "stream",
     "text": [
      "Number of words with stopwords: 37613\n"
     ]
    },
    {
     "data": {
      "application/vnd.jupyter.widget-view+json": {
       "model_id": "5c5a4c0c83a44295bc2c46a5217c9fb5",
       "version_major": 2,
       "version_minor": 0
      },
      "text/plain": [
       "  0%|          | 0/2210 [00:00<?, ?it/s]"
      ]
     },
     "metadata": {},
     "output_type": "display_data"
    },
    {
     "name": "stdout",
     "output_type": "stream",
     "text": [
      "Number of words without stopwords: 20837\n"
     ]
    }
   ],
   "source": [
    "import torch\n",
    "import tqdm\n",
    "import text_hammer as th\n",
    "STOPWORDS = set(stopwords.words('english'))\n",
    "def remove_stopwords(text):\n",
    "    \"\"\"custom function to remove the stopwords\"\"\"\n",
    "    return \" \".join([word for word in str(text).split() if word not in STOPWORDS])\n",
    "\n",
    "def pre_pro(df):\n",
    "    # These are series of preprocessing\n",
    "    df['content'] = df['content'].progress_apply(lambda x: th.cont_exp(x)) #you're -> you are; i'm -> i am\n",
    "    df['content'] = df['content'].progress_apply(lambda x: th.remove_emails(x))\n",
    "    df['content'] = df['content'].progress_apply(lambda x: th.remove_html_tags(x))\n",
    "    df['content'] = df['content'].progress_apply(lambda x: th.remove_urls(x))\n",
    "\n",
    "    df['content'] = df['content'].progress_apply(lambda x: th.remove_special_chars(x))\n",
    "    df['content'] = df['content'].progress_apply(lambda x: th.remove_accented_chars(x))\n",
    "    df['content'] = df['content'].progress_apply(lambda x: th.make_base(x)) #ran -> run, \n",
    "    # df['content'] = df['content'].progress_apply(lambda x: th.spelling_correction(x).raw_sentences[0]) #seplling -> spelling\n",
    "    print(\"Number of words with stopwords:\",df['content'].str.split().str.len().sum())\n",
    "    df[\"content\"] = df['content'].progress_apply(lambda x: remove_stopwords(x))\n",
    "    print(\"Number of words without stopwords:\",df['content'].str.split().str.len().sum())\n",
    "\n",
    "pre_pro(df_train)\n",
    "pre_pro(df_val)\n",
    "\n",
    "\n"
   ]
  },
  {
   "cell_type": "code",
   "execution_count": 9,
   "metadata": {},
   "outputs": [],
   "source": [
    "model_type = 'glove-wiki-gigaword-200'  # 25 100 200 word2vec 300 \n",
    "wv_path = ['./data/train_data/train', './data/test_data/test']\n",
    "\n",
    "w2vModel = api.load(model_type)"
   ]
  },
  {
   "cell_type": "code",
   "execution_count": 10,
   "metadata": {},
   "outputs": [],
   "source": [
    "GLOVE_DIM = int(model_type.split('-')[-1])"
   ]
  },
  {
   "cell_type": "code",
   "execution_count": 29,
   "metadata": {},
   "outputs": [
    {
     "name": "stderr",
     "output_type": "stream",
     "text": [
      "<>:7: SyntaxWarning: \"is not\" with a literal. Did you mean \"!=\"?\n",
      "<>:7: SyntaxWarning: \"is not\" with a literal. Did you mean \"!=\"?\n",
      "C:\\Users\\Kiann\\AppData\\Local\\Temp\\ipykernel_27300\\1943377199.py:7: SyntaxWarning: \"is not\" with a literal. Did you mean \"!=\"?\n",
      "  return X.map(lambda x: x.lower().split(\"\\n\")).map(lambda x: [y.split(\". \") for y in x]).map(lambda x: [i.replace('\\'','') for sl in x for i in sl if i is not ''])\n"
     ]
    },
    {
     "name": "stdout",
     "output_type": "stream",
     "text": [
      "No. of 13871 unique tokens.\n"
     ]
    }
   ],
   "source": [
    "from nltk.tokenize import word_tokenize,sent_tokenize\n",
    "from nltk import tokenize\n",
    "from bs4 import BeautifulSoup\n",
    "from keras.preprocessing.text import text_to_word_sequence\n",
    "import string\n",
    "def preprocess(X):\n",
    "  return X.map(lambda x: x.lower().split(\"\\n\")).map(lambda x: [y.split(\". \") for y in x]).map(lambda x: [i.replace('\\'','') for sl in x for i in sl if i is not ''])\n",
    "#Preprocess both train and test separately. Remove punctuations and other unwanted characters\n",
    "def replace_punct(st,punct):\n",
    "  for i in punct:\n",
    "    if i==\"..\":\n",
    "      st = st.replace(\"..\",'.')\n",
    "    elif i==\"--\" or i == '-':\n",
    "      st = st.replace(i,' ')\n",
    "    else:\n",
    "      st = st.replace(i,'')\n",
    "  return st\n",
    "punct = word_tokenize(string.punctuation) + ['``','...','..','\\'s','--','-','n\\'t','\\'','(',')','[',']','{','}']\n",
    "texts = preprocess(df_train['content']).map(lambda x: '. '.join(x)).map(lambda x: replace_punct(x,punct))\n",
    "test_text = preprocess(df_val['content']).map(lambda x: '. '.join(x)).map(lambda x: replace_punct(x,punct))\n",
    "\n",
    "MAX_SEQUENCE_LENGTH = 1000\n",
    "MAX_SENT_LENGTH = 50\n",
    "MAX_SENTS = 50\n",
    "MAX_NB_WORDS = 50000\n",
    "\n",
    "#Get all sentences for all news\n",
    "articles = texts.map(lambda x: sent_tokenize(x))\n",
    "test_articles = test_text.map(lambda x: sent_tokenize(x))\n",
    "\n",
    "#Create 3D data with tokenizer word_index. Neglect words which are not in word_index\n",
    "tokenizer = Tokenizer(num_words=MAX_NB_WORDS)\n",
    "tokenizer.fit_on_texts(texts)\n",
    "\n",
    "data = np.zeros((len(texts), MAX_SENTS, MAX_SENT_LENGTH), dtype='int32')\n",
    "\n",
    "for i, sentences in enumerate(articles):\n",
    "    for j, sent in enumerate(sentences):\n",
    "        if j< MAX_SENTS:\n",
    "            wordTokens = text_to_word_sequence(sent)\n",
    "            k=0\n",
    "            for _, word in enumerate(wordTokens):\n",
    "                if k<MAX_SENT_LENGTH and tokenizer.word_index[word]<MAX_NB_WORDS:\n",
    "                    data[i,j,k] = tokenizer.word_index[word]\n",
    "                    k=k+1\n",
    "                    \n",
    "word_index = tokenizer.word_index\n",
    "print('No. of %s unique tokens.' % len(word_index))"
   ]
  },
  {
   "cell_type": "code",
   "execution_count": 30,
   "metadata": {},
   "outputs": [],
   "source": [
    "#Do the same for test data with the same tokenizer (fit on train data). Neglect words which are not in word_index\n",
    "test_data = np.zeros((len(test_text), MAX_SENTS, MAX_SENT_LENGTH), dtype='int32')\n",
    "\n",
    "for i, sentences in enumerate(test_articles):\n",
    "    for j, sent in enumerate(sentences):\n",
    "        if j< MAX_SENTS:\n",
    "            wordTokens = text_to_word_sequence(sent)\n",
    "            k=0\n",
    "            for _, word in enumerate(wordTokens):\n",
    "                if k<MAX_SENT_LENGTH and word in tokenizer.word_index and tokenizer.word_index[word]<MAX_NB_WORDS:\n",
    "                    test_data[i,j,k] = tokenizer.word_index[word]\n",
    "                    k=k+1"
   ]
  },
  {
   "cell_type": "code",
   "execution_count": 31,
   "metadata": {},
   "outputs": [
    {
     "name": "stdout",
     "output_type": "stream",
     "text": [
      "Shape of data tensor: (8544, 50, 50)\n",
      "Shape of label tensor: (8544, 5)\n"
     ]
    }
   ],
   "source": [
    "#Split training and validation data with 20% split. So final is training 64%, validation 16% and test 20% of whole data\n",
    "labels = to_categorical(np.asarray(df_train['sentiment']))\n",
    "print('Shape of data tensor:', data.shape)\n",
    "print('Shape of label tensor:', labels.shape)\n",
    "\n",
    "np.random.seed(123)\n",
    "indices = np.arange(data.shape[0])\n",
    "np.random.shuffle(indices)\n",
    "data = data[indices]\n",
    "labels = labels[indices]\n",
    "nb_validation_samples = int(0.2 * data.shape[0])\n",
    "\n",
    "xtrain = data[:-nb_validation_samples]\n",
    "ytrain = labels[:-nb_validation_samples]\n",
    "xval = data[-nb_validation_samples:]\n",
    "yval = labels[-nb_validation_samples:]"
   ]
  },
  {
   "cell_type": "code",
   "execution_count": 32,
   "metadata": {},
   "outputs": [
    {
     "data": {
      "text/plain": [
       "13872"
      ]
     },
     "execution_count": 32,
     "metadata": {},
     "output_type": "execute_result"
    }
   ],
   "source": [
    "wordLen = len(tokenizer.word_index)+1\n",
    "wordLen"
   ]
  },
  {
   "cell_type": "code",
   "execution_count": 33,
   "metadata": {},
   "outputs": [
    {
     "name": "stdout",
     "output_type": "stream",
     "text": [
      "Converted 12047 words (1824 misses)\n"
     ]
    },
    {
     "data": {
      "text/plain": [
       "array([[ 0.        ,  0.        ,  0.        , ...,  0.        ,\n",
       "         0.        ,  0.        ],\n",
       "       [ 0.18889   ,  0.19302   , -0.86576003, ...,  0.03805   ,\n",
       "         0.23120999,  0.35679001],\n",
       "       [ 0.33201   ,  0.30195001, -0.88213003, ...,  0.075378  ,\n",
       "         0.39153999,  0.57608998],\n",
       "       ...,\n",
       "       [ 0.        ,  0.        ,  0.        , ...,  0.        ,\n",
       "         0.        ,  0.        ],\n",
       "       [ 0.        ,  0.        ,  0.        , ...,  0.        ,\n",
       "         0.        ,  0.        ],\n",
       "       [ 0.31294   , -0.078469  ,  0.002469  , ...,  0.28196999,\n",
       "        -0.26561999,  0.033496  ]])"
      ]
     },
     "execution_count": 33,
     "metadata": {},
     "output_type": "execute_result"
    }
   ],
   "source": [
    "## prepare a corresponding embedding matrix that used in a Keras Embedding layer. \n",
    "## It's a simple NumPy matrix where entry at index i is the pre-trained vector for the word of index i in our vectorizer's vocabulary.\n",
    "\n",
    "def embed(model, tokenizer):\n",
    "    embed_size = GLOVE_DIM\n",
    "    embedding_matrix = np.zeros((len(tokenizer.word_index)+1, embed_size))\n",
    "\n",
    "    hits = 0\n",
    "    misses = 0\n",
    "\n",
    "    # embedding matrix\n",
    "    for word, i in tokenizer.word_index.items():\n",
    "        try:\n",
    "            embedding_vector = model.get_vector(word)\n",
    "            if embedding_vector is not None:\n",
    "                embedding_matrix[i] = embedding_vector\n",
    "                hits += 1\n",
    "            else:\n",
    "                misses += 1\n",
    "        except:\n",
    "            misses += 1\n",
    "        \n",
    "            \n",
    "    print(\"Converted %d words (%d misses)\" % (hits, misses))\n",
    "    return embedding_matrix\n",
    "\n",
    "\n",
    "embedding_matrix = embed (w2vModel, tokenizer)\n",
    "embedding_matrix"
   ]
  },
  {
   "cell_type": "code",
   "execution_count": 34,
   "metadata": {},
   "outputs": [],
   "source": [
    "# class defining the custom attention layer\n",
    "class HierarchicalAttentionNetwork(Layer):\n",
    "    def __init__(self, attention_dim):\n",
    "        self.init = initializers.get('normal')\n",
    "        self.supports_masking = True\n",
    "        self.attention_dim = attention_dim\n",
    "        super(HierarchicalAttentionNetwork, self).__init__()\n",
    "\n",
    "    def build(self, input_shape):\n",
    "        assert len(input_shape) == 3\n",
    "        self.W = K.variable(self.init((input_shape[-1], self.attention_dim)))\n",
    "        self.b = K.variable(self.init((self.attention_dim,)))\n",
    "        self.u = K.variable(self.init((self.attention_dim, 1)))\n",
    "        self._trainable_weights = [self.W, self.b, self.u]\n",
    "        super(HierarchicalAttentionNetwork, self).build(input_shape)\n",
    "\n",
    "    def compute_mask(self, inputs, mask=None):\n",
    "        return mask\n",
    "\n",
    "    def call(self, x, mask=None):\n",
    "        # size of x :[batch_size, sel_len, attention_dim]\n",
    "        # size of u :[batch_size, attention_dim]\n",
    "        # uit = tanh(xW+b)\n",
    "        uit = K.tanh(K.bias_add(K.dot(x, self.W), self.b))\n",
    "\n",
    "        ait = K.exp(K.squeeze(K.dot(uit, self.u), -1))\n",
    "\n",
    "        if mask is not None:\n",
    "            # Cast the mask to floatX to avoid float64 upcasting\n",
    "            ait *= K.cast(mask, K.floatx())\n",
    "        ait /= K.cast(K.sum(ait, axis=1, keepdims=True) + K.epsilon(), K.floatx())\n",
    "        weighted_input = x * K.expand_dims(ait)\n",
    "        output = K.sum(weighted_input, axis=1)\n",
    "\n",
    "        return output\n",
    "\n",
    "    def compute_output_shape(self, input_shape):\n",
    "        return input_shape[0], input_shape[-1]\n",
    "\n"
   ]
  },
  {
   "cell_type": "code",
   "execution_count": 39,
   "metadata": {},
   "outputs": [
    {
     "name": "stdout",
     "output_type": "stream",
     "text": [
      "Model: \"model_9\"\n",
      "_________________________________________________________________\n",
      " Layer (type)                Output Shape              Param #   \n",
      "=================================================================\n",
      " input_10 (InputLayer)       [(None, 50, 50)]          0         \n",
      "                                                                 \n",
      " time_distributed_4 (TimeDis  (None, 50, 200)          3015200   \n",
      " tributed)                                                       \n",
      "                                                                 \n",
      " bidirectional_9 (Bidirectio  (None, 200)              240800    \n",
      " nal)                                                            \n",
      "                                                                 \n",
      " dense_4 (Dense)             (None, 5)                 1005      \n",
      "                                                                 \n",
      "=================================================================\n",
      "Total params: 3,257,005\n",
      "Trainable params: 482,605\n",
      "Non-trainable params: 2,774,400\n",
      "_________________________________________________________________\n",
      "None\n",
      "Epoch 1/200\n",
      "107/107 [==============================] - 16s 106ms/step - loss: 1.4787 - acc: 0.3489 - val_loss: 1.3982 - val_acc: 0.3759\n",
      "Epoch 2/200\n",
      "107/107 [==============================] - 18s 166ms/step - loss: 1.3791 - acc: 0.3920 - val_loss: 1.4005 - val_acc: 0.3823\n",
      "Epoch 3/200\n",
      "107/107 [==============================] - 12s 113ms/step - loss: 1.3429 - acc: 0.4152 - val_loss: 1.3533 - val_acc: 0.4005\n",
      "Epoch 4/200\n",
      "107/107 [==============================] - 10s 92ms/step - loss: 1.3216 - acc: 0.4197 - val_loss: 1.3523 - val_acc: 0.3981\n",
      "Epoch 5/200\n",
      "107/107 [==============================] - 9s 89ms/step - loss: 1.3059 - acc: 0.4323 - val_loss: 1.3398 - val_acc: 0.4093\n",
      "Epoch 6/200\n",
      "107/107 [==============================] - 12s 116ms/step - loss: 1.2742 - acc: 0.4497 - val_loss: 1.3384 - val_acc: 0.4093\n",
      "Epoch 7/200\n",
      "107/107 [==============================] - 16s 148ms/step - loss: 1.2488 - acc: 0.4601 - val_loss: 1.3475 - val_acc: 0.4011\n",
      "Epoch 8/200\n",
      "107/107 [==============================] - 11s 102ms/step - loss: 1.2350 - acc: 0.4653 - val_loss: 1.3345 - val_acc: 0.4057\n",
      "Epoch 9/200\n",
      "107/107 [==============================] - 22s 202ms/step - loss: 1.2063 - acc: 0.4810 - val_loss: 1.4149 - val_acc: 0.3899\n",
      "Epoch 10/200\n",
      "107/107 [==============================] - 21s 196ms/step - loss: 1.1787 - acc: 0.4950 - val_loss: 1.3661 - val_acc: 0.4192\n",
      "Epoch 11/200\n",
      "107/107 [==============================] - 22s 203ms/step - loss: 1.1554 - acc: 0.5085 - val_loss: 1.3539 - val_acc: 0.4063\n",
      "Epoch 12/200\n",
      "107/107 [==============================] - 22s 203ms/step - loss: 1.1216 - acc: 0.5246 - val_loss: 1.4031 - val_acc: 0.4133\n",
      "Epoch 13/200\n",
      "107/107 [==============================] - 22s 207ms/step - loss: 1.0959 - acc: 0.5335 - val_loss: 1.4023 - val_acc: 0.4011\n",
      "Epoch 14/200\n",
      "107/107 [==============================] - 22s 206ms/step - loss: 1.0624 - acc: 0.5480 - val_loss: 1.4148 - val_acc: 0.3952\n",
      "Epoch 15/200\n",
      "107/107 [==============================] - 22s 207ms/step - loss: 1.0316 - acc: 0.5686 - val_loss: 1.4391 - val_acc: 0.4016\n",
      "Epoch 16/200\n",
      "107/107 [==============================] - 18s 173ms/step - loss: 1.0088 - acc: 0.5777 - val_loss: 1.4118 - val_acc: 0.3934\n",
      "Epoch 17/200\n",
      "107/107 [==============================] - 10s 98ms/step - loss: 0.9766 - acc: 0.5929 - val_loss: 1.4694 - val_acc: 0.3987\n",
      "Epoch 18/200\n",
      "107/107 [==============================] - 10s 94ms/step - loss: 0.9522 - acc: 0.6063 - val_loss: 1.4760 - val_acc: 0.4022\n",
      "Epoch 18: early stopping\n",
      "<keras.engine.functional.Functional object at 0x00000246C0028370>\n"
     ]
    }
   ],
   "source": [
    "\n",
    "embedding_layer = Embedding(wordLen, output_dim=GLOVE_DIM, input_length=MAX_SENT_LENGTH, weights=[embedding_matrix],trainable=False)\n",
    "# Word\n",
    "sentence_input = Input(shape=(MAX_SENT_LENGTH,), dtype='int32')\n",
    "embedded_sequences = embedding_layer(sentence_input)\n",
    "lstm_layer = Bidirectional(LSTM(100,dropout=.3))(embedded_sequences)\n",
    "sentEncoder = Model(sentence_input, lstm_layer)\n",
    "\n",
    "# Sentence\n",
    "article_input = Input(shape=(MAX_SENTS,MAX_SENT_LENGTH), dtype='int32')\n",
    "article_encoder = TimeDistributed(sentEncoder)(article_input)\n",
    "lstm_layer_sent = Bidirectional(LSTM(100,dropout=.3))(article_encoder)\n",
    "preds = Dense(len(df_train['sentiment'].unique()), activation='softmax')(lstm_layer_sent)\n",
    "han_model = Model(article_input, preds)\n",
    "\n",
    "han_model.compile(loss='categorical_crossentropy',\n",
    "              optimizer='rmsprop',\n",
    "              metrics=['acc'])\n",
    "print(han_model.summary())\n",
    "es = EarlyStopping(monitor = 'val_loss', mode = 'min', verbose = 1, patience = 10)\n",
    "history = han_model.fit(xtrain, ytrain, epochs=200, batch_size=64, verbose=1,validation_data=(xval,yval),callbacks= [es])\n",
    "\n",
    "print(han_model)"
   ]
  },
  {
   "cell_type": "code",
   "execution_count": null,
   "metadata": {},
   "outputs": [],
   "source": []
  },
  {
   "cell_type": "code",
   "execution_count": null,
   "metadata": {},
   "outputs": [],
   "source": []
  },
  {
   "cell_type": "code",
   "execution_count": null,
   "metadata": {},
   "outputs": [
    {
     "name": "stdout",
     "output_type": "stream",
     "text": [
      "Training Accuracy: 0.450\n"
     ]
    }
   ],
   "source": [
    "import matplotlib.pyplot as plt\n",
    "last_accuracy = \"{:.3f}\".format(history.history['accuracy'][-1])\n",
    "print(\"Training Accuracy:\", last_accuracy)"
   ]
  },
  {
   "cell_type": "code",
   "execution_count": null,
   "metadata": {},
   "outputs": [
    {
     "data": {
      "image/png": "[encoded data removed]",
      "text/plain": [
       "<Figure size 640x480 with 1 Axes>"
      ]
     },
     "metadata": {},
     "output_type": "display_data"
    }
   ],
   "source": [
    "plt.plot(history.history['accuracy'])\n",
    "plt.plot(history.history['val_accuracy'])\n",
    "plt.title('Training Accuracy vs Validation Accuracy')\n",
    "plt.ylabel('Accuracy')\n",
    "plt.xlabel('Epoch')\n",
    "plt.legend(['Train', 'Validation'], loc='upper left')\n",
    "plt.show()"
   ]
  },
  {
   "cell_type": "code",
   "execution_count": null,
   "metadata": {},
   "outputs": [
    {
     "data": {
      "image/png": "[encoded data removed]",
      "text/plain": [
       "<Figure size 640x480 with 1 Axes>"
      ]
     },
     "metadata": {},
     "output_type": "display_data"
    }
   ],
   "source": [
    "plt.plot(history.history['loss'])\n",
    "plt.plot(history.history['val_loss'])\n",
    "plt.title('Training Loss vs Validation Loss')\n",
    "plt.ylabel('Loss')\n",
    "plt.xlabel('Epoch')\n",
    "plt.legend(['Train', 'Validation'], loc='upper left')\n",
    "plt.show()"
   ]
  }
 ],
 "metadata": {
  "kernelspec": {
   "display_name": "Python 3",
   "language": "python",
   "name": "python3"
  },
  "language_info": {
   "codemirror_mode": {
    "name": "ipython",
    "version": 3
   },
   "file_extension": ".py",
   "mimetype": "text/x-python",
   "name": "python",
   "nbconvert_exporter": "python",
   "pygments_lexer": "ipython3",
   "version": "3.9.19"
  }
 },
 "nbformat": 4,
 "nbformat_minor": 2
}
