{
 "cells": [
  {
   "cell_type": "code",
   "execution_count": 1,
   "metadata": {},
   "outputs": [],
   "source": [
    "import pickle\n",
    "import numpy as np\n",
    "import os\n",
    "\n",
    "from tqdm import tqdm\n",
    "import torch\n",
    "from torch import nn\n",
    "\n",
    "SEED = 42"
   ]
  },
  {
   "cell_type": "code",
   "execution_count": 2,
   "metadata": {},
   "outputs": [],
   "source": [
    "with open('./data/test_data/test' + f'_onehot_IMDB.pkl', 'rb') as f:\n",
    "    imdb_tensor, imdb_label = pickle.load(f)"
   ]
  },
  {
   "cell_type": "code",
   "execution_count": 3,
   "metadata": {},
   "outputs": [],
   "source": [
    "# model\n",
    "class CNN(nn.Module):\n",
    "    def __init__(self, dim_input, dim_out):\n",
    "        super(CNN, self).__init__()\n",
    "        self.model = nn.Sequential(\n",
    "            nn.Conv1d(in_channels=dim_input, out_channels=1024, kernel_size=7, stride=1),\n",
    "            nn.MaxPool1d(kernel_size=3, stride=3),\n",
    "            nn.Conv1d(in_channels=1024, out_channels=1024, kernel_size=7, stride=1),\n",
    "            nn.MaxPool1d(kernel_size=3, stride=3),\n",
    "            nn.Conv1d(in_channels=1024, out_channels=1024, kernel_size=3, stride=1),\n",
    "            nn.Conv1d(in_channels=1024, out_channels=1024, kernel_size=3, stride=1),\n",
    "            nn.Conv1d(in_channels=1024, out_channels=1024, kernel_size=3, stride=1),\n",
    "            nn.MaxPool1d(kernel_size=3, stride=3),\n",
    "            nn.Flatten(),\n",
    "\n",
    "            nn.Linear(7168, 2048),\n",
    "            nn.ReLU(),\n",
    "            nn.Dropout(p=0.5),\n",
    "            nn.Linear(2048, 2048),\n",
    "            nn.ReLU(),\n",
    "            nn.Dropout(p=0.5),\n",
    "            nn.Linear(2048, dim_out),\n",
    "            nn.Softmax()\n",
    "        )\n",
    "\n",
    "        # para initialization\n",
    "\n",
    "    def forward(self, x):\n",
    "        x = self.model(x)\n",
    "        return x"
   ]
  },
  {
   "cell_type": "code",
   "execution_count": 4,
   "metadata": {},
   "outputs": [
    {
     "name": "stderr",
     "output_type": "stream",
     "text": [
      "  0%|          | 0/50 [00:00<?, ?it/s]e:\\git\\SC4001\\Project\\venv\\lib\\site-packages\\torch\\nn\\modules\\module.py:1511: UserWarning: Implicit dimension choice for softmax has been deprecated. Change the call to include dim=X as an argument.\n",
      "  return self._call_impl(*args, **kwargs)\n",
      "  2%|▏         | 1/50 [00:12<09:55, 12.16s/it]"
     ]
    },
    {
     "ename": "",
     "evalue": "",
     "output_type": "error",
     "traceback": [
      "\u001b[1;31mCannot execute code, session has been disposed. Please try restarting the Kernel."
     ]
    },
    {
     "ename": "",
     "evalue": "",
     "output_type": "error",
     "traceback": [
      "\u001b[1;31mThe Kernel crashed while executing code in the the current cell or a previous cell. Please review the code in the cell(s) to identify a possible cause of the failure. Click <a href='https://aka.ms/vscodeJupyterKernelCrash'>here</a> for more info. View Jupyter <a href='command:jupyter.viewOutput'>log</a> for further details."
     ]
    }
   ],
   "source": [
    "torch.manual_seed(SEED)\n",
    "dim_in = 69\n",
    "dim_out = 2\n",
    "lr = 0.0001\n",
    "model = CNN(dim_in, dim_out)\n",
    "\n",
    "model.load_state_dict(torch.load(\"./model/CNN_onehot_model.pth\"))\n",
    "\n",
    "model.eval()\n",
    "\n",
    "acc = 0\n",
    "\n",
    "for i in tqdm(range(50)):\n",
    "    pred = model(imdb_tensor[1000 * i : 1000 * (i + 1)])\n",
    "    label = imdb_label[1000 * i : 1000 * (i + 1)]\n",
    "    correct_num = (torch.eq(torch.argmax(pred, dim=1), torch.tensor(label))).type(torch.float).sum().item()\n",
    "    test_acc = correct_num / 1000\n",
    "    acc += test_acc\n",
    "print(f\"Accuracy: {acc / 50}\")"
   ]
  }
 ],
 "metadata": {
  "kernelspec": {
   "display_name": "venv",
   "language": "python",
   "name": "python3"
  },
  "language_info": {
   "codemirror_mode": {
    "name": "ipython",
    "version": 3
   },
   "file_extension": ".py",
   "mimetype": "text/x-python",
   "name": "python",
   "nbconvert_exporter": "python",
   "pygments_lexer": "ipython3",
   "version": "3.10.11"
  },
  "orig_nbformat": 4
 },
 "nbformat": 4,
 "nbformat_minor": 2
}
