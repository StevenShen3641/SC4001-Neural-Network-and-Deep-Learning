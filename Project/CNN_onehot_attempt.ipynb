{
 "cells": [
  {
   "cell_type": "code",
   "execution_count": 1,
   "metadata": {},
   "outputs": [],
   "source": [
    "import pickle\n",
    "import numpy as np\n",
    "import os\n",
    "\n",
    "from tqdm import tqdm\n",
    "import torch\n",
    "from torch import nn\n",
    "from torch.utils.data import Dataset\n",
    "from torch.utils.data import DataLoader \n",
    "\n",
    "SEED = 42"
   ]
  },
  {
   "cell_type": "code",
   "execution_count": 2,
   "metadata": {},
   "outputs": [],
   "source": [
    "remove_stop_words = False # to remove stop words or not"
   ]
  },
  {
   "cell_type": "code",
   "execution_count": 3,
   "metadata": {},
   "outputs": [],
   "source": [
    "wv_path = ['./data/train_data/train', './data/test_data/test', './data/dev_data/dev']\n",
    "\n",
    "if remove_stop_words:\n",
    "    with open(wv_path[0] + f'_onehot_sst2_nonstop.pkl', 'rb') as f:\n",
    "        X_train_tensor, y_train = pickle.load(f)\n",
    "    with open(wv_path[2] + f'_onehot_sst2_nonstop.pkl', 'rb') as f:\n",
    "        X_dev_tensor, y_dev = pickle.load(f)\n",
    "else:\n",
    "    with open(wv_path[0] + f'_onehot_sst2.pkl', 'rb') as f:\n",
    "        X_train_tensor, y_train = pickle.load(f)\n",
    "    with open(wv_path[2] + f'_onehot_sst2.pkl', 'rb') as f:\n",
    "        X_dev_tensor, y_dev = pickle.load(f)"
   ]
  },
  {
   "cell_type": "code",
   "execution_count": 4,
   "metadata": {},
   "outputs": [],
   "source": [
    "wv_num = X_train_tensor.shape[1]"
   ]
  },
  {
   "cell_type": "code",
   "execution_count": 5,
   "metadata": {},
   "outputs": [
    {
     "name": "stdout",
     "output_type": "stream",
     "text": [
      "Shape of training data [67349, 69, 268]\n",
      "Shape of training data [872, 69, 268]\n"
     ]
    }
   ],
   "source": [
    "print(f\"Shape of training data {[X_train_tensor.shape[i] for i in range(3)]}\")\n",
    "print(f\"Shape of training data {[X_dev_tensor.shape[i] for i in range(3)]}\")"
   ]
  },
  {
   "cell_type": "code",
   "execution_count": 6,
   "metadata": {},
   "outputs": [
    {
     "name": "stdout",
     "output_type": "stream",
     "text": [
      "Number of label types: 2\n"
     ]
    }
   ],
   "source": [
    "# process labels\n",
    "labels = list(set(y_train + y_dev))\n",
    "label_num = len(labels)\n",
    "print(f\"Number of label types: {label_num}\")"
   ]
  },
  {
   "cell_type": "code",
   "execution_count": 7,
   "metadata": {},
   "outputs": [
    {
     "name": "stderr",
     "output_type": "stream",
     "text": [
      "C:\\Users\\Chihao Shen\\AppData\\Local\\Temp\\ipykernel_8376\\2952365461.py:5: UserWarning: To copy construct from a tensor, it is recommended to use sourceTensor.clone().detach() or sourceTensor.clone().detach().requires_grad_(True), rather than torch.tensor(sourceTensor).\n",
      "  self.X =torch.tensor(X, dtype=torch.float)\n"
     ]
    }
   ],
   "source": [
    "torch.manual_seed(SEED)\n",
    "device = torch.device(\"cuda\" if torch.cuda.is_available() else \"cpu\")\n",
    "class CustomDataset(Dataset):\n",
    "    def __init__(self, X, y):\n",
    "        self.X =torch.tensor(X, dtype=torch.float)\n",
    "        self.y =torch.tensor(y, dtype=torch.long)\n",
    "\n",
    "    def __len__(self):\n",
    "        return len(self.y)\n",
    "\n",
    "    def __getitem__(self,idx):\n",
    "        return self.X[idx], self.y[idx]\n",
    "\n",
    "def initialize_loader(X_train_tensor, X_dev_tensor, y_train, y_dev, batch_size=64):\n",
    "    # no need to do the scale since original wv already did\n",
    "    train_data = CustomDataset(X_train_tensor, y_train)\n",
    "    dev_data = CustomDataset(X_dev_tensor, y_dev)\n",
    "\n",
    "    # convert to DataLoader for batch processing and shuffling\n",
    "    train_dataloader = DataLoader(train_data, batch_size=batch_size, shuffle=True)\n",
    "    for inputs, targets in train_dataloader:\n",
    "        inputs, targets = inputs.to(device), targets.to(device)\n",
    "    dev_dataloader = DataLoader(dev_data, batch_size=batch_size, shuffle=False)\n",
    "    for inputs, targets in dev_dataloader:\n",
    "        inputs, targets = inputs.to(device), targets.to(device)\n",
    "    return train_dataloader, dev_dataloader\n",
    "\n",
    "train_dataloader, test_dataloader = initialize_loader(X_train_tensor, X_dev_tensor, y_train, y_dev)"
   ]
  },
  {
   "cell_type": "code",
   "execution_count": 8,
   "metadata": {},
   "outputs": [],
   "source": [
    "# model\n",
    "class CNN(nn.Module):\n",
    "    def __init__(self, dim_input, dim_out):\n",
    "        super(CNN, self).__init__()\n",
    "        self.model = nn.Sequential(\n",
    "            nn.Conv1d(in_channels=dim_input, out_channels=1024, kernel_size=7, stride=1),\n",
    "            nn.MaxPool1d(kernel_size=3, stride=3),\n",
    "            nn.Conv1d(in_channels=1024, out_channels=1024, kernel_size=7, stride=1),\n",
    "            nn.MaxPool1d(kernel_size=3, stride=3),\n",
    "            nn.Conv1d(in_channels=1024, out_channels=1024, kernel_size=3, stride=1),\n",
    "            nn.Conv1d(in_channels=1024, out_channels=1024, kernel_size=3, stride=1),\n",
    "            nn.Conv1d(in_channels=1024, out_channels=1024, kernel_size=3, stride=1),\n",
    "            nn.MaxPool1d(kernel_size=3, stride=3),\n",
    "            nn.Flatten(),\n",
    "\n",
    "            nn.Linear(7168, 2048),\n",
    "            nn.ReLU(),\n",
    "            nn.Dropout(p=0.5),\n",
    "            nn.Linear(2048, 2048),\n",
    "            nn.ReLU(),\n",
    "            nn.Dropout(p=0.5),\n",
    "            nn.Linear(2048, dim_out),\n",
    "            nn.Softmax()\n",
    "        )\n",
    "\n",
    "        # para initialization\n",
    "\n",
    "    def forward(self, x):\n",
    "        x = self.model(x)\n",
    "        return x"
   ]
  },
  {
   "cell_type": "code",
   "execution_count": 9,
   "metadata": {},
   "outputs": [],
   "source": [
    "torch.manual_seed(SEED)\n",
    "dim_in = wv_num\n",
    "dim_out = label_num\n",
    "lr = 0.0001\n",
    "model = CNN(dim_in, dim_out)\n",
    "model.to(device)\n",
    "\n",
    "loss_fn = nn.CrossEntropyLoss()\n",
    "optimizer = torch.optim.Adam(model.parameters(), lr=lr)"
   ]
  },
  {
   "cell_type": "code",
   "execution_count": 10,
   "metadata": {},
   "outputs": [],
   "source": [
    "# training\n",
    "def train_loop(dataloader, model, loss_fn, optimizer):\n",
    "    size = len(dataloader.dataset)\n",
    "    optimizer.zero_grad()\n",
    "    train_loss, correct_num = 0, 0\n",
    "    model.train()\n",
    "    for X, y in dataloader:\n",
    "        X, y = X.to(device), y.to(device)\n",
    "        optimizer.zero_grad()\n",
    "        pred = model(X)\n",
    "        loss = loss_fn(pred, y)\n",
    "        loss.backward()\n",
    "        optimizer.step()\n",
    "        model.eval()\n",
    "        \n",
    "        train_loss += loss.item() * X.size(0)\n",
    "        correct_num += (torch.eq(torch.argmax(pred, dim=1), y)).type(torch.float).sum().item()\n",
    "\n",
    "    train_loss /= size\n",
    "    train_acc = correct_num / size\n",
    "    return train_loss, train_acc\n",
    "\n",
    "def test_loop(dataloader, model, loss_fn):\n",
    "    size = len(dataloader.dataset)\n",
    "    test_loss, correct_num = 0, 0\n",
    "    model.eval()  # inform no dropout\n",
    "\n",
    "    with torch.no_grad():\n",
    "        for X, y in dataloader:\n",
    "            X, y = X.to(device), y.to(device)\n",
    "\n",
    "            pred = model(X)\n",
    "            test_loss += loss_fn(pred, y).item() * X.size(0)\n",
    "            correct_num += (torch.eq(torch.argmax(pred, dim=1), y)).type(torch.float).sum().item()\n",
    "\n",
    "    test_loss /= size\n",
    "    test_acc = correct_num / size\n",
    "    return test_loss, test_acc\n",
    "        "
   ]
  },
  {
   "cell_type": "code",
   "execution_count": 11,
   "metadata": {},
   "outputs": [
    {
     "name": "stderr",
     "output_type": "stream",
     "text": [
      "  0%|          | 0/100 [00:00<?, ?it/s]e:\\git\\SC4001\\Project\\venv\\lib\\site-packages\\torch\\nn\\modules\\module.py:1511: UserWarning: Implicit dimension choice for softmax has been deprecated. Change the call to include dim=X as an argument.\n",
      "  return self._call_impl(*args, **kwargs)\n",
      "  1%|          | 1/100 [00:53<1:27:52, 53.25s/it]"
     ]
    },
    {
     "name": "stdout",
     "output_type": "stream",
     "text": [
      "Epoch 1, train_loss 0.671050 train_acc 0.579697, test_loss 0.695254, test_acc 0.565367\n"
     ]
    },
    {
     "name": "stderr",
     "output_type": "stream",
     "text": [
      "  2%|▏         | 2/100 [01:48<1:29:11, 54.61s/it]"
     ]
    },
    {
     "name": "stdout",
     "output_type": "stream",
     "text": [
      "Epoch 2, train_loss 0.569457 train_acc 0.723366, test_loss 0.588622, test_acc 0.708716\n"
     ]
    },
    {
     "name": "stderr",
     "output_type": "stream",
     "text": [
      "  3%|▎         | 3/100 [02:44<1:28:52, 54.97s/it]"
     ]
    },
    {
     "name": "stdout",
     "output_type": "stream",
     "text": [
      "Epoch 3, train_loss 0.495706 train_acc 0.807154, test_loss 0.591498, test_acc 0.696101\n"
     ]
    },
    {
     "name": "stderr",
     "output_type": "stream",
     "text": [
      "  4%|▍         | 4/100 [03:40<1:28:31, 55.33s/it]"
     ]
    },
    {
     "name": "stdout",
     "output_type": "stream",
     "text": [
      "Epoch 4, train_loss 0.455932 train_acc 0.849872, test_loss 0.559062, test_acc 0.731651\n"
     ]
    },
    {
     "name": "stderr",
     "output_type": "stream",
     "text": [
      "  5%|▌         | 5/100 [04:34<1:27:03, 54.98s/it]"
     ]
    },
    {
     "name": "stdout",
     "output_type": "stream",
     "text": [
      "Epoch 5, train_loss 0.429691 train_acc 0.879092, test_loss 0.586046, test_acc 0.715596\n"
     ]
    },
    {
     "name": "stderr",
     "output_type": "stream",
     "text": [
      "  6%|▌         | 6/100 [05:28<1:25:23, 54.51s/it]"
     ]
    },
    {
     "name": "stdout",
     "output_type": "stream",
     "text": [
      "Epoch 6, train_loss 0.416683 train_acc 0.893554, test_loss 0.594981, test_acc 0.707569\n"
     ]
    },
    {
     "name": "stderr",
     "output_type": "stream",
     "text": [
      "  7%|▋         | 7/100 [06:21<1:24:11, 54.32s/it]"
     ]
    },
    {
     "name": "stdout",
     "output_type": "stream",
     "text": [
      "Epoch 7, train_loss 0.404557 train_acc 0.904898, test_loss 0.616937, test_acc 0.686927\n"
     ]
    },
    {
     "name": "stderr",
     "output_type": "stream",
     "text": [
      "  8%|▊         | 8/100 [07:20<1:25:25, 55.71s/it]"
     ]
    },
    {
     "name": "stdout",
     "output_type": "stream",
     "text": [
      "Epoch 8, train_loss 0.399715 train_acc 0.910956, test_loss 0.560475, test_acc 0.743119\n"
     ]
    },
    {
     "name": "stderr",
     "output_type": "stream",
     "text": [
      "  9%|▉         | 9/100 [08:19<1:26:00, 56.71s/it]"
     ]
    },
    {
     "name": "stdout",
     "output_type": "stream",
     "text": [
      "Epoch 9, train_loss 0.392623 train_acc 0.918796, test_loss 0.584037, test_acc 0.717890\n"
     ]
    },
    {
     "name": "stderr",
     "output_type": "stream",
     "text": [
      " 10%|█         | 10/100 [09:18<1:26:13, 57.48s/it]"
     ]
    },
    {
     "name": "stdout",
     "output_type": "stream",
     "text": [
      "Epoch 10, train_loss 0.388914 train_acc 0.922419, test_loss 0.589726, test_acc 0.717890\n"
     ]
    },
    {
     "name": "stderr",
     "output_type": "stream",
     "text": [
      " 11%|█         | 11/100 [10:16<1:25:35, 57.70s/it]"
     ]
    },
    {
     "name": "stdout",
     "output_type": "stream",
     "text": [
      "Epoch 11, train_loss 0.386368 train_acc 0.925225, test_loss 0.588388, test_acc 0.716743\n"
     ]
    },
    {
     "name": "stderr",
     "output_type": "stream",
     "text": [
      " 12%|█▏        | 12/100 [11:21<1:27:50, 59.89s/it]"
     ]
    },
    {
     "name": "stdout",
     "output_type": "stream",
     "text": [
      "Epoch 12, train_loss 0.381516 train_acc 0.930006, test_loss 0.610885, test_acc 0.697248\n"
     ]
    },
    {
     "name": "stderr",
     "output_type": "stream",
     "text": [
      " 13%|█▎        | 13/100 [12:22<1:27:12, 60.15s/it]"
     ]
    },
    {
     "name": "stdout",
     "output_type": "stream",
     "text": [
      "Epoch 13, train_loss 0.384536 train_acc 0.927170, test_loss 0.580231, test_acc 0.724771\n"
     ]
    },
    {
     "name": "stderr",
     "output_type": "stream",
     "text": [
      " 13%|█▎        | 13/100 [13:21<1:29:23, 61.65s/it]"
     ]
    },
    {
     "name": "stdout",
     "output_type": "stream",
     "text": [
      "Early stopping after 14 epochs\n",
      "Best test loss: 0.559062366091877\n",
      "Best test accuracy: 0.7431192660550459\n"
     ]
    },
    {
     "name": "stderr",
     "output_type": "stream",
     "text": [
      "\n"
     ]
    }
   ],
   "source": [
    "patience = 10\n",
    "best_test_loss = np.Inf\n",
    "best_test_acc = 0\n",
    "train_loss_, train_acc_, test_loss_, test_acc_ = [], [], [], []\n",
    "no_epochs = 100\n",
    "\n",
    "# start training\n",
    "for epoch in tqdm(range(no_epochs)):\n",
    "    train_loss, train_acc = train_loop(train_dataloader, model, loss_fn, optimizer)\n",
    "    test_loss, test_acc = test_loop(test_dataloader, model, loss_fn)\n",
    "\n",
    "    train_loss_.append(train_loss), train_acc_.append(train_acc)\n",
    "    test_loss_.append(test_loss), test_acc_.append(test_acc)\n",
    "\n",
    "    # early stopping\n",
    "    if test_acc > best_test_acc:\n",
    "        best_test_acc = test_acc\n",
    "    if test_loss < best_test_loss:\n",
    "        best_test_loss = test_loss\n",
    "        epochs_without_improvement = 0\n",
    "        best_model = model.state_dict()\n",
    "    else:\n",
    "        epochs_without_improvement += 1\n",
    "        if epochs_without_improvement >= patience:\n",
    "            print(f'Early stopping after {epoch+1} epochs')\n",
    "            print(f'Best test loss: {best_test_loss}')\n",
    "            print(f'Best test accuracy: {best_test_acc}')\n",
    "            break\n",
    "\n",
    "\n",
    "    print(f\"Epoch {epoch+1}, train_loss {train_loss:>7f} train_acc {train_acc:>4f}, test_loss {test_loss:>7f}, test_acc {test_acc:>4f}\")\n",
    "os.makedirs(\"./model\", exist_ok=True)\n",
    "torch.save(best_model, './model/CNN_onehot_model.pth')"
   ]
  },
  {
   "cell_type": "code",
   "execution_count": 12,
   "metadata": {},
   "outputs": [
    {
     "data": {
      "image/png": "[encoded data removed]",
      "text/plain": [
       "<Figure size 400x300 with 1 Axes>"
      ]
     },
     "metadata": {},
     "output_type": "display_data"
    }
   ],
   "source": [
    "import matplotlib.pyplot as plt\n",
    "\n",
    "epochs = [i*2 for i in range(0, len(train_acc_)//2 + 1)]\n",
    "plt.figure(figsize=(4, 3))\n",
    "plt.plot(train_acc_, marker='o', linestyle='-', color='blue', label='Train', linewidth=2, markersize=5)\n",
    "plt.plot(test_acc_, marker='o', linestyle='-', color='orange', label='Test', linewidth=2, markersize=5)\n",
    "# plt.ylabel('Accuracy', fontsize=12)\n",
    "# plt.xlabel('Epoch', fontsize=12)\n",
    "plt.xticks(epochs)\n",
    "plt.xlim(-1, len(train_acc_)) \n",
    "# plt.legend(loc='upper left', bbox_to_anchor=(1, 1), fontsize=10)\n",
    "plt.tight_layout()\n",
    "plt.show()"
   ]
  },
  {
   "cell_type": "code",
   "execution_count": 13,
   "metadata": {},
   "outputs": [
    {
     "data": {
      "image/png": "[encoded data removed]",
      "text/plain": [
       "<Figure size 400x300 with 1 Axes>"
      ]
     },
     "metadata": {},
     "output_type": "display_data"
    }
   ],
   "source": [
    "epochs = [i*2 for i in range(0, len(train_acc_)//2 + 1)]\n",
    "plt.figure(figsize=(4, 3))\n",
    "plt.plot(train_loss_, marker='o', linestyle='-', color='blue', label='Train', linewidth=2, markersize=5)\n",
    "plt.plot(test_loss_, marker='o', linestyle='-', color='orange', label='Test', linewidth=2, markersize=5)\n",
    "# plt.ylabel('Loss', fontsize=12)\n",
    "# plt.xlabel('Epoch', fontsize=12)\n",
    "plt.xticks(epochs)\n",
    "plt.xlim(-1, len(train_acc_)) \n",
    "# plt.legend(loc='upper left', bbox_to_anchor=(1, 1), fontsize=10)\n",
    "plt.tight_layout()\n",
    "plt.show()"
   ]
  }
 ],
 "metadata": {
  "kernelspec": {
   "display_name": "venv",
   "language": "python",
   "name": "python3"
  },
  "language_info": {
   "codemirror_mode": {
    "name": "ipython",
    "version": 3
   },
   "file_extension": ".py",
   "mimetype": "text/x-python",
   "name": "python",
   "nbconvert_exporter": "python",
   "pygments_lexer": "ipython3",
   "version": "3.10.11"
  },
  "orig_nbformat": 4
 },
 "nbformat": 4,
 "nbformat_minor": 2
}
