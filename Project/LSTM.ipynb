{
 "cells": [
  {
   "cell_type": "code",
   "execution_count": 1,
   "id": "7648be8e",
   "metadata": {},
   "outputs": [],
   "source": [
    "import pandas as pd\n",
    "import numpy as np\n",
    "from array import array\n",
    "\n",
    "import torch\n",
    "import torch.nn as nn\n",
    "import torch.nn.functional as F\n",
    "import torch.optim as optim\n",
    "import gensim.downloader as api\n",
    "import nltk\n",
    "\n",
    "from sklearn.preprocessing import LabelEncoder\n",
    "from sklearn.model_selection import train_test_split\n",
    "from torch.utils.data import DataLoader, TensorDataset\n",
    "\n",
    "import tensorflow as tf\n",
    "from tensorflow.keras.models import Sequential\n",
    "from tensorflow.keras.layers import LSTM, Dense, Dropout, Embedding, Input, TimeDistributed\n",
    "from tensorflow.keras.preprocessing.text import Tokenizer\n",
    "from tensorflow.keras.preprocessing.sequence import pad_sequences\n",
    "from tensorflow.keras.models import Sequential\n",
    "\n",
    "from sklearn.preprocessing import LabelBinarizer\n",
    "\n",
    "from keras.layers import Bidirectional\n",
    "\n",
    "from keras.callbacks import EarlyStopping\n",
    "\n",
    "from nltk.corpus import stopwords"
   ]
  },
  {
   "cell_type": "markdown",
   "id": "d79666c7",
   "metadata": {},
   "source": [
    "### Load Dataset"
   ]
  },
  {
   "cell_type": "code",
   "execution_count": 2,
   "id": "9999d421",
   "metadata": {},
   "outputs": [
    {
     "name": "stderr",
     "output_type": "stream",
     "text": [
      "Found cached dataset parquet (C:/Users/umar/.cache/huggingface/datasets/stanfordnlp___parquet/stanfordnlp--sst2-c614fb49d6bf6d65/0.0.0/2a3b91fbd88a2c90d1dbbb32b460cf621d31bd5b05b934492fdef7d8d6f236ec)\n"
     ]
    },
    {
     "data": {
      "application/vnd.jupyter.widget-view+json": {
       "model_id": "bca9aace99e24f19be0e800b43da0b15",
       "version_major": 2,
       "version_minor": 0
      },
      "text/plain": [
       "  0%|          | 0/3 [00:00<?, ?it/s]"
      ]
     },
     "metadata": {},
     "output_type": "display_data"
    }
   ],
   "source": [
    "from datasets import load_dataset\n",
    "\n",
    "dataset = load_dataset(\"stanfordnlp/sst2\")"
   ]
  },
  {
   "cell_type": "code",
   "execution_count": 3,
   "id": "a31655c3",
   "metadata": {},
   "outputs": [
    {
     "data": {
      "text/plain": [
       "DatasetDict({\n",
       "    train: Dataset({\n",
       "        features: ['idx', 'sentence', 'label'],\n",
       "        num_rows: 67349\n",
       "    })\n",
       "    validation: Dataset({\n",
       "        features: ['idx', 'sentence', 'label'],\n",
       "        num_rows: 872\n",
       "    })\n",
       "    test: Dataset({\n",
       "        features: ['idx', 'sentence', 'label'],\n",
       "        num_rows: 1821\n",
       "    })\n",
       "})"
      ]
     },
     "execution_count": 3,
     "metadata": {},
     "output_type": "execute_result"
    }
   ],
   "source": [
    "dataset"
   ]
  },
  {
   "cell_type": "code",
   "execution_count": 4,
   "id": "7572ec81",
   "metadata": {},
   "outputs": [],
   "source": [
    "train_df = pd.DataFrame(dataset['train'])\n",
    "test_df = pd.DataFrame(dataset['validation'])"
   ]
  },
  {
   "cell_type": "markdown",
   "id": "539834a2",
   "metadata": {},
   "source": [
    "### Remove Duplicates "
   ]
  },
  {
   "cell_type": "code",
   "execution_count": 5,
   "id": "c60e0cc0",
   "metadata": {},
   "outputs": [],
   "source": [
    "train_df = train_df.drop_duplicates(subset='sentence')"
   ]
  },
  {
   "cell_type": "markdown",
   "id": "976d78ee",
   "metadata": {},
   "source": [
    "### Pre-Processing\n",
    "\n",
    "#### - Vectorizing (word2vec-google-news-300)\n",
    "#### - removing stopwords"
   ]
  },
  {
   "cell_type": "code",
   "execution_count": 6,
   "id": "3522833c",
   "metadata": {
    "scrolled": false
   },
   "outputs": [
    {
     "name": "stderr",
     "output_type": "stream",
     "text": [
      "[nltk_data] Downloading package stopwords to\n",
      "[nltk_data]     C:\\Users\\umar/nltk_data...\n",
      "[nltk_data]   Package stopwords is already up-to-date!\n"
     ]
    }
   ],
   "source": [
    "nltk.download('stopwords')\n",
    "stop_words = set(stopwords.words('english'))"
   ]
  },
  {
   "cell_type": "code",
   "execution_count": 7,
   "id": "c3802f7a",
   "metadata": {},
   "outputs": [],
   "source": [
    "def remove_stopwords(sentence):\n",
    "    words = sentence.split()\n",
    "    filtered_words = [word for word in words if word.lower() not in stop_words]\n",
    "    filtered_sentence = ' '.join(filtered_words)\n",
    "    return filtered_sentence\n",
    "\n",
    "def vectorize(sentences, model_type='word2vec-google-news-300', wv_type='zero_padding'):\n",
    "    tokens = [nltk.word_tokenize(s.lower()) for s in sentences]\n",
    "    try:\n",
    "        model = api.load(model_type)\n",
    "        dimension = int(model_type.split('-')[-1])\n",
    "    except Exception as e:\n",
    "        logging.warning(f\"An error occurred: {e}\")\n",
    "        exit(1)\n",
    "    wvs = []\n",
    "    for t in tokens:\n",
    "        wv = []\n",
    "        for w in t:\n",
    "            if wv_type == 'zero_padding':\n",
    "                try:\n",
    "                    wv.append(model[w])\n",
    "                except KeyError:\n",
    "                    wv.append(np.zeros(dimension))\n",
    "        wvs.append(wv)\n",
    "    return wvs"
   ]
  },
  {
   "cell_type": "code",
   "execution_count": 8,
   "id": "26b70a8c",
   "metadata": {},
   "outputs": [],
   "source": [
    "train_df_noStopWords = train_df.copy()\n",
    "test_df_noStopWords = test_df.copy()"
   ]
  },
  {
   "cell_type": "code",
   "execution_count": 9,
   "id": "36011986",
   "metadata": {},
   "outputs": [],
   "source": [
    "train_df_noStopWords['sentence'] = train_df['sentence'].apply(remove_stopwords)\n",
    "test_df_noStopWords['sentence'] = test_df['sentence'].apply(remove_stopwords)"
   ]
  },
  {
   "cell_type": "code",
   "execution_count": 10,
   "id": "7a6d1d5a",
   "metadata": {},
   "outputs": [],
   "source": [
    "train_feature = train_df['sentence'].values\n",
    "test_feature = test_df['sentence'].values\n",
    "\n",
    "train_ns_feature = train_df_noStopWords['sentence'].values\n",
    "test_ns_feature = test_df_noStopWords['sentence'].values"
   ]
  },
  {
   "cell_type": "code",
   "execution_count": 11,
   "id": "22e9aae2",
   "metadata": {},
   "outputs": [],
   "source": [
    "train = vectorize(train_feature)\n",
    "test = vectorize(test_feature)\n",
    "\n",
    "train_ns = vectorize(train_ns_feature)\n",
    "test_ns = vectorize(test_ns_feature)"
   ]
  },
  {
   "cell_type": "code",
   "execution_count": 12,
   "id": "e559d5f2",
   "metadata": {},
   "outputs": [],
   "source": [
    "train_labels = train_df['label']\n",
    "test_labels = test_df['label']"
   ]
  },
  {
   "cell_type": "code",
   "execution_count": 13,
   "id": "a71b44fe",
   "metadata": {},
   "outputs": [],
   "source": [
    "train_y = train_labels.values\n",
    "test_y = test_labels.values"
   ]
  },
  {
   "cell_type": "markdown",
   "id": "aead0e87",
   "metadata": {},
   "source": [
    "#### Padding"
   ]
  },
  {
   "cell_type": "code",
   "execution_count": 14,
   "id": "fbce5f51",
   "metadata": {},
   "outputs": [],
   "source": [
    "sequence_lengths_train = [len(seq) for seq in train]\n",
    "max_length_train = max(sequence_lengths_train)\n",
    "\n",
    "sequence_lengths_test = [len(seq) for seq in test]\n",
    "max_length_test = max(sequence_lengths_test)\n",
    "\n",
    "sequence_lengths_train_ns = [len(seq) for seq in train_ns]\n",
    "max_length_train_ns = max(sequence_lengths_train_ns)\n",
    "\n",
    "sequence_lengths_test_ns = [len(seq) for seq in test_ns]\n",
    "max_length_test_ns = max(sequence_lengths_test_ns)"
   ]
  },
  {
   "cell_type": "code",
   "execution_count": 15,
   "id": "a046eae5",
   "metadata": {},
   "outputs": [],
   "source": [
    "padded_train = [seq + [[0.0] * len(train[0][0])] * (max_length_train - len(seq)) for seq in train]\n",
    "padded_test = [seq + [[0.0] * len(test[0][0])] * (max_length_test - len(seq)) for seq in test]\n",
    "\n",
    "padded_train_ns = [seq + [[0.0] * len(train_ns[0][0])] * (max_length_train_ns - len(seq)) for seq in train_ns]\n",
    "padded_test_ns = [seq + [[0.0] * len(test_ns[0][0])] * (max_length_test_ns - len(seq)) for seq in test_ns]"
   ]
  },
  {
   "cell_type": "code",
   "execution_count": 16,
   "id": "3c339499",
   "metadata": {},
   "outputs": [],
   "source": [
    "X_train = np.array(padded_train)\n",
    "X_test = np.array(padded_test)\n",
    "\n",
    "X_train_ns = np.array(padded_train_ns) # no stop words\n",
    "X_test_ns = np.array(padded_test_ns)\n",
    "\n",
    "y_train = np.array(train_y)\n",
    "y_test = np.array(test_y)"
   ]
  },
  {
   "cell_type": "markdown",
   "id": "dd1c5ddd",
   "metadata": {},
   "source": [
    "### Model training for data with stopwords"
   ]
  },
  {
   "cell_type": "code",
   "execution_count": 17,
   "id": "de9f4d3d",
   "metadata": {
    "scrolled": true
   },
   "outputs": [
    {
     "name": "stderr",
     "output_type": "stream",
     "text": [
      "C:\\Users\\umar\\anaconda3\\Lib\\site-packages\\keras\\src\\layers\\core\\wrapper.py:27: UserWarning: Do not pass an `input_shape`/`input_dim` argument to a layer. When using Sequential models, prefer using an `Input(shape)` object as the first layer in the model instead.\n",
      "  super().__init__(**kwargs)\n"
     ]
    }
   ],
   "source": [
    "# Define input shape\n",
    "input_shape = (X_train.shape[1], X_train.shape[2])\n",
    "\n",
    "# Define input layer\n",
    "input_layer = Input(shape=input_shape)\n",
    "\n",
    "# Define the LSTM model with multiple layers\n",
    "model3 = Sequential([\n",
    "    Bidirectional(LSTM(128, return_sequences=True), input_shape=input_shape),\n",
    "    LSTM(64, return_sequences=True),\n",
    "    Bidirectional(LSTM(128)),\n",
    "    Dense(1, activation='sigmoid')  # Change activation to sigmoid\n",
    "])"
   ]
  },
  {
   "cell_type": "code",
   "execution_count": 18,
   "id": "7620c679",
   "metadata": {
    "scrolled": true
   },
   "outputs": [
    {
     "name": "stdout",
     "output_type": "stream",
     "text": [
      "Epoch 1/20\n",
      "\u001b[1m419/419\u001b[0m \u001b[32m━━━━━━━━━━━━━━━━━━━━\u001b[0m\u001b[37m\u001b[0m \u001b[1m52s\u001b[0m 114ms/step - accuracy: 0.7972 - loss: 0.4163 - val_accuracy: 0.8446 - val_loss: 0.3411\n",
      "Epoch 2/20\n",
      "\u001b[1m419/419\u001b[0m \u001b[32m━━━━━━━━━━━━━━━━━━━━\u001b[0m\u001b[37m\u001b[0m \u001b[1m46s\u001b[0m 111ms/step - accuracy: 0.8683 - loss: 0.3015 - val_accuracy: 0.8773 - val_loss: 0.2873\n",
      "Epoch 3/20\n",
      "\u001b[1m419/419\u001b[0m \u001b[32m━━━━━━━━━━━━━━━━━━━━\u001b[0m\u001b[37m\u001b[0m \u001b[1m46s\u001b[0m 111ms/step - accuracy: 0.8886 - loss: 0.2591 - val_accuracy: 0.8896 - val_loss: 0.2592\n",
      "Epoch 4/20\n",
      "\u001b[1m419/419\u001b[0m \u001b[32m━━━━━━━━━━━━━━━━━━━━\u001b[0m\u001b[37m\u001b[0m \u001b[1m46s\u001b[0m 111ms/step - accuracy: 0.9118 - loss: 0.2155 - val_accuracy: 0.9019 - val_loss: 0.2391\n",
      "Epoch 5/20\n",
      "\u001b[1m419/419\u001b[0m \u001b[32m━━━━━━━━━━━━━━━━━━━━\u001b[0m\u001b[37m\u001b[0m \u001b[1m47s\u001b[0m 112ms/step - accuracy: 0.9225 - loss: 0.1908 - val_accuracy: 0.9133 - val_loss: 0.2227\n",
      "Epoch 6/20\n",
      "\u001b[1m419/419\u001b[0m \u001b[32m━━━━━━━━━━━━━━━━━━━━\u001b[0m\u001b[37m\u001b[0m \u001b[1m47s\u001b[0m 112ms/step - accuracy: 0.9353 - loss: 0.1617 - val_accuracy: 0.9097 - val_loss: 0.2268\n",
      "Epoch 7/20\n",
      "\u001b[1m419/419\u001b[0m \u001b[32m━━━━━━━━━━━━━━━━━━━━\u001b[0m\u001b[37m\u001b[0m \u001b[1m47s\u001b[0m 112ms/step - accuracy: 0.9446 - loss: 0.1415 - val_accuracy: 0.9168 - val_loss: 0.2197\n",
      "Epoch 8/20\n",
      "\u001b[1m419/419\u001b[0m \u001b[32m━━━━━━━━━━━━━━━━━━━━\u001b[0m\u001b[37m\u001b[0m \u001b[1m47s\u001b[0m 113ms/step - accuracy: 0.9518 - loss: 0.1255 - val_accuracy: 0.9210 - val_loss: 0.2183\n",
      "Epoch 9/20\n",
      "\u001b[1m419/419\u001b[0m \u001b[32m━━━━━━━━━━━━━━━━━━━━\u001b[0m\u001b[37m\u001b[0m \u001b[1m48s\u001b[0m 115ms/step - accuracy: 0.9569 - loss: 0.1123 - val_accuracy: 0.9214 - val_loss: 0.2332\n",
      "Epoch 10/20\n",
      "\u001b[1m419/419\u001b[0m \u001b[32m━━━━━━━━━━━━━━━━━━━━\u001b[0m\u001b[37m\u001b[0m \u001b[1m48s\u001b[0m 114ms/step - accuracy: 0.9610 - loss: 0.1012 - val_accuracy: 0.9245 - val_loss: 0.2365\n",
      "Epoch 11/20\n",
      "\u001b[1m419/419\u001b[0m \u001b[32m━━━━━━━━━━━━━━━━━━━━\u001b[0m\u001b[37m\u001b[0m \u001b[1m48s\u001b[0m 114ms/step - accuracy: 0.9660 - loss: 0.0892 - val_accuracy: 0.9183 - val_loss: 0.2301\n"
     ]
    }
   ],
   "source": [
    "model3.compile(loss='binary_crossentropy', optimizer='adam', metrics=['accuracy'])  # Change loss to binary_crossentropy\n",
    "early_stopping = EarlyStopping(monitor='val_loss', patience=3, restore_best_weights=True)\n",
    "# Train the model with validation data\n",
    "history = model3.fit(X_train, y_train, epochs=20, batch_size=128, validation_split=0.2, callbacks=[early_stopping])"
   ]
  },
  {
   "cell_type": "markdown",
   "id": "b868e660",
   "metadata": {},
   "source": [
    "### Model training for data with no stopwords"
   ]
  },
  {
   "cell_type": "code",
   "execution_count": 19,
   "id": "4f071b79",
   "metadata": {},
   "outputs": [],
   "source": [
    "# Define input shape\n",
    "input_shape = (X_train_ns.shape[1], X_train_ns.shape[2])\n",
    "\n",
    "# Define input layer\n",
    "input_layer = Input(shape=input_shape)\n",
    "\n",
    "# Define the LSTM model with multiple layers\n",
    "model4 = Sequential([\n",
    "    Bidirectional(LSTM(128, return_sequences=True), input_shape=input_shape),\n",
    "    LSTM(64, return_sequences=True),\n",
    "    Bidirectional(LSTM(128)),\n",
    "    Dense(1, activation='sigmoid')  # Change activation to sigmoid\n",
    "])"
   ]
  },
  {
   "cell_type": "code",
   "execution_count": 20,
   "id": "63d66926",
   "metadata": {},
   "outputs": [
    {
     "name": "stdout",
     "output_type": "stream",
     "text": [
      "Epoch 1/20\n",
      "\u001b[1m419/419\u001b[0m \u001b[32m━━━━━━━━━━━━━━━━━━━━\u001b[0m\u001b[37m\u001b[0m \u001b[1m41s\u001b[0m 88ms/step - accuracy: 0.7912 - loss: 0.4367 - val_accuracy: 0.8458 - val_loss: 0.3483\n",
      "Epoch 2/20\n",
      "\u001b[1m419/419\u001b[0m \u001b[32m━━━━━━━━━━━━━━━━━━━━\u001b[0m\u001b[37m\u001b[0m \u001b[1m35s\u001b[0m 85ms/step - accuracy: 0.8608 - loss: 0.3181 - val_accuracy: 0.8630 - val_loss: 0.3118\n",
      "Epoch 3/20\n",
      "\u001b[1m419/419\u001b[0m \u001b[32m━━━━━━━━━━━━━━━━━━━━\u001b[0m\u001b[37m\u001b[0m \u001b[1m35s\u001b[0m 85ms/step - accuracy: 0.8802 - loss: 0.2844 - val_accuracy: 0.8713 - val_loss: 0.2985\n"
     ]
    }
   ],
   "source": [
    "model4.compile(loss='binary_crossentropy', optimizer='adam', metrics=['accuracy'])  # Change loss to binary_crossentropy\n",
    "history2 = model4.fit(X_train_ns, y_train, epochs=20, batch_size=128, validation_split=0.2, callbacks=[early_stopping])"
   ]
  },
  {
   "cell_type": "markdown",
   "id": "9ee1713e",
   "metadata": {},
   "source": [
    "### Loss and accuracy plot for model trained with data with stop words"
   ]
  },
  {
   "cell_type": "code",
   "execution_count": 21,
   "id": "f83b4408",
   "metadata": {},
   "outputs": [
    {
     "data": {
      "image/png": "[encoded data removed]",
      "text/plain": [
       "<Figure size 640x480 with 1 Axes>"
      ]
     },
     "metadata": {},
     "output_type": "display_data"
    },
    {
     "data": {
      "image/png": "[encoded data removed]",
      "text/plain": [
       "<Figure size 640x480 with 1 Axes>"
      ]
     },
     "metadata": {},
     "output_type": "display_data"
    }
   ],
   "source": [
    "import matplotlib.pyplot as plt\n",
    "\n",
    "# Assuming 'history' contains training history returned by model.fit()\n",
    "\n",
    "# Plot training & validation loss values\n",
    "plt.plot(history.history['loss'])\n",
    "plt.plot(history.history['val_loss'])\n",
    "plt.title('Model loss')\n",
    "plt.ylabel('Loss')\n",
    "plt.xlabel('Epoch')\n",
    "plt.legend(['Train', 'Validation'], loc='upper left')\n",
    "plt.show()\n",
    "\n",
    "# Plot training & validation accuracy values\n",
    "plt.plot(history.history['accuracy'])\n",
    "plt.plot(history.history['val_accuracy'])\n",
    "plt.title('Model accuracy')\n",
    "plt.ylabel('Accuracy')\n",
    "plt.xlabel('Epoch')\n",
    "plt.legend(['Train', 'Validation'], loc='upper left')\n",
    "plt.show()"
   ]
  },
  {
   "cell_type": "markdown",
   "id": "75c84ce8",
   "metadata": {},
   "source": [
    "### Loss and accuracy plot for model trained with data with no stop words"
   ]
  },
  {
   "cell_type": "code",
   "execution_count": 22,
   "id": "5aec250f",
   "metadata": {},
   "outputs": [
    {
     "data": {
      "image/png": "[encoded data removed]",
      "text/plain": [
       "<Figure size 640x480 with 1 Axes>"
      ]
     },
     "metadata": {},
     "output_type": "display_data"
    },
    {
     "data": {
      "image/png": "[encoded data removed]",
      "text/plain": [
       "<Figure size 640x480 with 1 Axes>"
      ]
     },
     "metadata": {},
     "output_type": "display_data"
    }
   ],
   "source": [
    "import matplotlib.pyplot as plt\n",
    "\n",
    "# Assuming 'history' contains training history returned by model.fit()\n",
    "\n",
    "# Plot training & validation loss values\n",
    "plt.plot(history2.history['loss'])\n",
    "plt.plot(history2.history['val_loss'])\n",
    "plt.title('Model loss - No stop words')\n",
    "plt.ylabel('Loss')\n",
    "plt.xlabel('Epoch')\n",
    "plt.legend(['Train', 'Validation'], loc='upper left')\n",
    "plt.show()\n",
    "\n",
    "# Plot training & validation accuracy values\n",
    "plt.plot(history2.history['accuracy'])\n",
    "plt.plot(history2.history['val_accuracy'])\n",
    "plt.title('Model accuracy - No stop words')\n",
    "plt.ylabel('Accuracy')\n",
    "plt.xlabel('Epoch')\n",
    "plt.legend(['Train', 'Validation'], loc='upper left')\n",
    "plt.show()"
   ]
  },
  {
   "cell_type": "markdown",
   "id": "1adbe49f",
   "metadata": {},
   "source": [
    "### Accuracy for test set -- data with stop words"
   ]
  },
  {
   "cell_type": "code",
   "execution_count": 23,
   "id": "15628726",
   "metadata": {},
   "outputs": [
    {
     "name": "stdout",
     "output_type": "stream",
     "text": [
      "\u001b[1m28/28\u001b[0m \u001b[32m━━━━━━━━━━━━━━━━━━━━\u001b[0m\u001b[37m\u001b[0m \u001b[1m1s\u001b[0m 14ms/step - accuracy: 0.8503 - loss: 0.4619\n",
      "Test Loss: 0.5019938349723816\n",
      "Test Accuracy: 0.8451834917068481\n"
     ]
    }
   ],
   "source": [
    "test_loss, test_accuracy = model3.evaluate(X_test, y_test)\n",
    "\n",
    "\n",
    "print(\"Test Loss:\", test_loss)\n",
    "print(\"Test Accuracy:\", test_accuracy)"
   ]
  },
  {
   "cell_type": "markdown",
   "id": "7d4281c9",
   "metadata": {},
   "source": [
    "### Accuracy for test set -- data with no stop words"
   ]
  },
  {
   "cell_type": "code",
   "execution_count": 24,
   "id": "08c34894",
   "metadata": {},
   "outputs": [
    {
     "name": "stdout",
     "output_type": "stream",
     "text": [
      "\u001b[1m28/28\u001b[0m \u001b[32m━━━━━━━━━━━━━━━━━━━━\u001b[0m\u001b[37m\u001b[0m \u001b[1m1s\u001b[0m 15ms/step - accuracy: 0.7803 - loss: 0.4683\n",
      "Test Loss: 0.4623233377933502\n",
      "Test Accuracy: 0.7786697149276733\n"
     ]
    }
   ],
   "source": [
    "test_loss, test_accuracy = model4.evaluate(X_test, y_test)\n",
    "\n",
    "\n",
    "print(\"Test Loss:\", test_loss)\n",
    "print(\"Test Accuracy:\", test_accuracy)"
   ]
  },
  {
   "cell_type": "markdown",
   "id": "5ae681ee",
   "metadata": {},
   "source": [
    "### Result from SST2 dataset::\n",
    "\n",
    "### Data with stop words seem give the model a higher accuracy than the one without stop words."
   ]
  },
  {
   "cell_type": "markdown",
   "id": "11af79af",
   "metadata": {},
   "source": [
    "## Testing model with the IMDB Dataset"
   ]
  },
  {
   "cell_type": "code",
   "execution_count": 25,
   "id": "a052c44d",
   "metadata": {},
   "outputs": [],
   "source": [
    "IMDB_test = pd.read_csv('IMDB Dataset.csv')"
   ]
  },
  {
   "cell_type": "code",
   "execution_count": 26,
   "id": "59e7fe87",
   "metadata": {},
   "outputs": [
    {
     "data": {
      "text/html": [
       "<div>\n",
       "<style scoped>\n",
       "    .dataframe tbody tr th:only-of-type {\n",
       "        vertical-align: middle;\n",
       "    }\n",
       "\n",
       "    .dataframe tbody tr th {\n",
       "        vertical-align: top;\n",
       "    }\n",
       "\n",
       "    .dataframe thead th {\n",
       "        text-align: right;\n",
       "    }\n",
       "</style>\n",
       "<table border=\"1\" class=\"dataframe\">\n",
       "  <thead>\n",
       "    <tr style=\"text-align: right;\">\n",
       "      <th></th>\n",
       "      <th>review</th>\n",
       "      <th>sentiment</th>\n",
       "    </tr>\n",
       "  </thead>\n",
       "  <tbody>\n",
       "    <tr>\n",
       "      <th>0</th>\n",
       "      <td>One of the other reviewers has mentioned that ...</td>\n",
       "      <td>positive</td>\n",
       "    </tr>\n",
       "    <tr>\n",
       "      <th>1</th>\n",
       "      <td>A wonderful little production. &lt;br /&gt;&lt;br /&gt;The...</td>\n",
       "      <td>positive</td>\n",
       "    </tr>\n",
       "    <tr>\n",
       "      <th>2</th>\n",
       "      <td>I thought this was a wonderful way to spend ti...</td>\n",
       "      <td>positive</td>\n",
       "    </tr>\n",
       "    <tr>\n",
       "      <th>3</th>\n",
       "      <td>Basically there's a family where a little boy ...</td>\n",
       "      <td>negative</td>\n",
       "    </tr>\n",
       "    <tr>\n",
       "      <th>4</th>\n",
       "      <td>Petter Mattei's \"Love in the Time of Money\" is...</td>\n",
       "      <td>positive</td>\n",
       "    </tr>\n",
       "    <tr>\n",
       "      <th>...</th>\n",
       "      <td>...</td>\n",
       "      <td>...</td>\n",
       "    </tr>\n",
       "    <tr>\n",
       "      <th>49995</th>\n",
       "      <td>I thought this movie did a down right good job...</td>\n",
       "      <td>positive</td>\n",
       "    </tr>\n",
       "    <tr>\n",
       "      <th>49996</th>\n",
       "      <td>Bad plot, bad dialogue, bad acting, idiotic di...</td>\n",
       "      <td>negative</td>\n",
       "    </tr>\n",
       "    <tr>\n",
       "      <th>49997</th>\n",
       "      <td>I am a Catholic taught in parochial elementary...</td>\n",
       "      <td>negative</td>\n",
       "    </tr>\n",
       "    <tr>\n",
       "      <th>49998</th>\n",
       "      <td>I'm going to have to disagree with the previou...</td>\n",
       "      <td>negative</td>\n",
       "    </tr>\n",
       "    <tr>\n",
       "      <th>49999</th>\n",
       "      <td>No one expects the Star Trek movies to be high...</td>\n",
       "      <td>negative</td>\n",
       "    </tr>\n",
       "  </tbody>\n",
       "</table>\n",
       "<p>50000 rows × 2 columns</p>\n",
       "</div>"
      ],
      "text/plain": [
       "                                                  review sentiment\n",
       "0      One of the other reviewers has mentioned that ...  positive\n",
       "1      A wonderful little production. <br /><br />The...  positive\n",
       "2      I thought this was a wonderful way to spend ti...  positive\n",
       "3      Basically there's a family where a little boy ...  negative\n",
       "4      Petter Mattei's \"Love in the Time of Money\" is...  positive\n",
       "...                                                  ...       ...\n",
       "49995  I thought this movie did a down right good job...  positive\n",
       "49996  Bad plot, bad dialogue, bad acting, idiotic di...  negative\n",
       "49997  I am a Catholic taught in parochial elementary...  negative\n",
       "49998  I'm going to have to disagree with the previou...  negative\n",
       "49999  No one expects the Star Trek movies to be high...  negative\n",
       "\n",
       "[50000 rows x 2 columns]"
      ]
     },
     "execution_count": 26,
     "metadata": {},
     "output_type": "execute_result"
    }
   ],
   "source": [
    "IMDB_test"
   ]
  },
  {
   "cell_type": "markdown",
   "id": "f95bbcef",
   "metadata": {},
   "source": [
    "### Preprocessing -- Vectorizing and padding (similar to the sst2 dataset)"
   ]
  },
  {
   "cell_type": "code",
   "execution_count": 27,
   "id": "acc86e6c",
   "metadata": {},
   "outputs": [],
   "source": [
    "IMDB_test_sample = IMDB_test.sample(n=10000, random_state=42)"
   ]
  },
  {
   "cell_type": "code",
   "execution_count": 28,
   "id": "d7c4445a",
   "metadata": {},
   "outputs": [],
   "source": [
    "IMDB_test_sample['sentiment'] = IMDB_test_sample['sentiment'].apply(lambda x: 1 if x == 'positive' else 0)"
   ]
  },
  {
   "cell_type": "code",
   "execution_count": 29,
   "id": "da089e40",
   "metadata": {},
   "outputs": [],
   "source": [
    "IMDB_test_feature = IMDB_test_sample['review'].values\n",
    "IMDB_test_label = IMDB_test_sample['sentiment'].values"
   ]
  },
  {
   "cell_type": "code",
   "execution_count": 30,
   "id": "cd991584",
   "metadata": {},
   "outputs": [],
   "source": [
    "IMDB_test = vectorize(IMDB_test_feature)"
   ]
  },
  {
   "cell_type": "code",
   "execution_count": 31,
   "id": "ef76ac24",
   "metadata": {},
   "outputs": [],
   "source": [
    "IMDB_sequence_lengths_test = [len(seq) for seq in IMDB_test]\n",
    "IMDB_max_length_test = max(IMDB_sequence_lengths_test)"
   ]
  },
  {
   "cell_type": "code",
   "execution_count": 32,
   "id": "6109c21e",
   "metadata": {},
   "outputs": [],
   "source": [
    "IMDB_padded_test = [seq + [[0.0] * len(IMDB_test[0][0])] * (IMDB_max_length_test - len(seq)) for seq in IMDB_test]"
   ]
  },
  {
   "cell_type": "code",
   "execution_count": 33,
   "id": "ce407c2c",
   "metadata": {},
   "outputs": [],
   "source": [
    "X_IMDB_test = np.array(IMDB_padded_test)\n",
    "y_IMDB_test = np.array(IMDB_test_label)"
   ]
  },
  {
   "cell_type": "markdown",
   "id": "a11d446e",
   "metadata": {},
   "source": [
    "### Testing the model trained with sst2 (with stop words)"
   ]
  },
  {
   "cell_type": "code",
   "execution_count": 34,
   "id": "81a00e6a",
   "metadata": {},
   "outputs": [
    {
     "name": "stdout",
     "output_type": "stream",
     "text": [
      "\u001b[1m313/313\u001b[0m \u001b[32m━━━━━━━━━━━━━━━━━━━━\u001b[0m\u001b[37m\u001b[0m \u001b[1m185s\u001b[0m 590ms/step - accuracy: 0.7395 - loss: 0.8630\n",
      "Test Loss: 0.8497645258903503\n",
      "Test Accuracy: 0.7426000237464905\n"
     ]
    }
   ],
   "source": [
    "test_loss, test_accuracy = model3.evaluate(X_IMDB_test, y_IMDB_test)\n",
    "print(\"Test Loss:\", test_loss)\n",
    "print(\"Test Accuracy:\", test_accuracy)"
   ]
  },
  {
   "cell_type": "markdown",
   "id": "2b423070",
   "metadata": {},
   "source": [
    "### Testing the model trained with sst2 (without stop words)"
   ]
  },
  {
   "cell_type": "code",
   "execution_count": 35,
   "id": "29e7b9cb",
   "metadata": {},
   "outputs": [
    {
     "name": "stdout",
     "output_type": "stream",
     "text": [
      "\u001b[1m313/313\u001b[0m \u001b[32m━━━━━━━━━━━━━━━━━━━━\u001b[0m\u001b[37m\u001b[0m \u001b[1m186s\u001b[0m 592ms/step - accuracy: 0.6446 - loss: 0.6430\n",
      "Test Loss: 0.6424870491027832\n",
      "Test Accuracy: 0.6463000178337097\n"
     ]
    }
   ],
   "source": [
    "test_loss, test_accuracy = model4.evaluate(X_IMDB_test, y_IMDB_test)\n",
    "print(\"Test Loss:\", test_loss)\n",
    "print(\"Test Accuracy:\", test_accuracy)"
   ]
  },
  {
   "cell_type": "markdown",
   "id": "a5dfc594",
   "metadata": {},
   "source": [
    "### Result from testing with IMDB dataset ::\n",
    "\n",
    "### Model trained with data that has stopwords seem to have a higher accuracy compared to the data trained without stopwords"
   ]
  }
 ],
 "metadata": {
  "kernelspec": {
   "display_name": "Python 3 (ipykernel)",
   "language": "python",
   "name": "python3"
  },
  "language_info": {
   "codemirror_mode": {
    "name": "ipython",
    "version": 3
   },
   "file_extension": ".py",
   "mimetype": "text/x-python",
   "name": "python",
   "nbconvert_exporter": "python",
   "pygments_lexer": "ipython3",
   "version": "3.11.5"
  }
 },
 "nbformat": 4,
 "nbformat_minor": 5
}
