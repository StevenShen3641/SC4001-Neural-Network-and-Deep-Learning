{
 "cells": [
  {
   "cell_type": "code",
   "execution_count": null,
   "metadata": {},
   "outputs": [],
   "source": [
    "from sklearn.manifold import TSNE\n",
    "import numpy as np\n",
    "\n",
    "X = np.random.random((100, 20))\n",
    "\n",
    "n_components = 2  \n",
    "perplexity = 30 \n",
    "\n",
    "tsne = TSNE(n_components=n_components, perplexity=perplexity)\n",
    "X_embedded = tsne.fit_transform(X)\n",
    "\n",
    "import matplotlib.pyplot as plt\n",
    "\n",
    "plt.figure(figsize=(10, 8))\n",
    "plt.scatter(X_embedded[:, 0], X_embedded[:, 1], marker='.')\n",
    "plt.title('t-SNE Visualization')\n",
    "plt.xlabel('Dimension 1')\n",
    "plt.ylabel('Dimension 2')\n",
    "plt.show()"
   ]
  }
 ],
 "metadata": {
  "language_info": {
   "name": "python"
  },
  "orig_nbformat": 4
 },
 "nbformat": 4,
 "nbformat_minor": 2
}
