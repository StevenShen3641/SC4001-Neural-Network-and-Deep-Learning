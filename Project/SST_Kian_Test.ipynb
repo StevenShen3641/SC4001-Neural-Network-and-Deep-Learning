{
 "cells": [
  {
   "cell_type": "code",
   "execution_count": 2,
   "metadata": {},
   "outputs": [
    {
     "name": "stderr",
     "output_type": "stream",
     "text": [
      "[nltk_data] Downloading package stopwords to\n",
      "[nltk_data]     C:\\Users\\Kiann\\AppData\\Roaming\\nltk_data...\n",
      "[nltk_data]   Package stopwords is already up-to-date!\n"
     ]
    }
   ],
   "source": [
    "import os\n",
    "import numpy as np\n",
    "import pandas as pd\n",
    "from sklearn.model_selection import train_test_split\n",
    "from keras.preprocessing.text import Tokenizer\n",
    "from keras.layers import Embedding, Dense, Bidirectional\n",
    "from keras.preprocessing.text import Tokenizer\n",
    "from keras.models import Sequential\n",
    "from keras.optimizers import Adam\n",
    "from keras.utils import to_categorical, pad_sequences\n",
    "import nltk\n",
    "from nltk.corpus import stopwords\n",
    "nltk.download('stopwords')\n",
    "\n",
    "from data_preprocessing import load_sst\n",
    "import gensim.downloader as api\n",
    "import pytreebank\n",
    "\n",
    "from keras.layers import CuDNNLSTM, SpatialDropout1D, Conv1D\n",
    "from keras.callbacks import EarlyStopping\n"
   ]
  },
  {
   "cell_type": "code",
   "execution_count": 3,
   "metadata": {},
   "outputs": [
    {
     "name": "stderr",
     "output_type": "stream",
     "text": [
      "INFO: SST-2 loaded\n"
     ]
    }
   ],
   "source": [
    "train_data, train_labels, test_data, test_labels, dev_data, dev_labels = load_sst()"
   ]
  },
  {
   "cell_type": "code",
   "execution_count": 19,
   "metadata": {},
   "outputs": [],
   "source": [
    "df_train = pd.DataFrame({'content':train_data, 'sentiment':train_labels})\n",
    "# df_val = pd.DataFrame({'content':test_data, 'sentiment':test_labels})"
   ]
  },
  {
   "cell_type": "code",
   "execution_count": 20,
   "metadata": {},
   "outputs": [
    {
     "data": {
      "text/plain": [
       "sentiment\n",
       "1    37569\n",
       "0    29780\n",
       "Name: count, dtype: int64"
      ]
     },
     "execution_count": 20,
     "metadata": {},
     "output_type": "execute_result"
    }
   ],
   "source": [
    "# df_train = pd.read_csv('data/stanfordSentimentTreebank/working/sst_train.txt', sep='\\t',header=None,names=['sentiment','content'])\n",
    "# df_train['sentiment'] = df_train['sentiment'].str.replace(\"__label__\",\"\")\n",
    "# df_train['sentiment'] = df_train['sentiment'].astype(int)#.astype(\"category\")\n",
    "# df_train['sentiment'] = df_train['sentiment'] - 1\n",
    "# df_train\n",
    "\n",
    "# df_val = pd.read_csv('data/stanfordSentimentTreebank/working/sst_test.txt', sep='\\t',header=None,names=['sentiment','content'])\n",
    "# df_val['sentiment'] = df_val['sentiment'].str.replace(\"__label__\",\"\")\n",
    "# df_val['sentiment'] = df_val['sentiment'].astype(int)#.astype(\"category\")\n",
    "# df_val['sentiment'] = df_val['sentiment'] - 1\n",
    "# df_train['sentiment'].map({-1 : 0, 1: 1})\n",
    "# df_val['sentiment'].map({-1 : 0, 1: 1})\n",
    "df_train['sentiment'].value_counts()"
   ]
  },
  {
   "cell_type": "code",
   "execution_count": 21,
   "metadata": {},
   "outputs": [
    {
     "data": {
      "text/html": [
       "<div>\n",
       "<style scoped>\n",
       "    .dataframe tbody tr th:only-of-type {\n",
       "        vertical-align: middle;\n",
       "    }\n",
       "\n",
       "    .dataframe tbody tr th {\n",
       "        vertical-align: top;\n",
       "    }\n",
       "\n",
       "    .dataframe thead th {\n",
       "        text-align: right;\n",
       "    }\n",
       "</style>\n",
       "<table border=\"1\" class=\"dataframe\">\n",
       "  <thead>\n",
       "    <tr style=\"text-align: right;\">\n",
       "      <th></th>\n",
       "      <th>content</th>\n",
       "      <th>sentiment</th>\n",
       "    </tr>\n",
       "  </thead>\n",
       "  <tbody>\n",
       "    <tr>\n",
       "      <th>0</th>\n",
       "      <td>hide new secretions from the parental units</td>\n",
       "      <td>0</td>\n",
       "    </tr>\n",
       "    <tr>\n",
       "      <th>1</th>\n",
       "      <td>contains no wit , only labored gags</td>\n",
       "      <td>0</td>\n",
       "    </tr>\n",
       "    <tr>\n",
       "      <th>2</th>\n",
       "      <td>that loves its characters and communicates som...</td>\n",
       "      <td>1</td>\n",
       "    </tr>\n",
       "    <tr>\n",
       "      <th>3</th>\n",
       "      <td>remains utterly satisfied to remain the same t...</td>\n",
       "      <td>0</td>\n",
       "    </tr>\n",
       "    <tr>\n",
       "      <th>4</th>\n",
       "      <td>on the worst revenge-of-the-nerds clichés the ...</td>\n",
       "      <td>0</td>\n",
       "    </tr>\n",
       "  </tbody>\n",
       "</table>\n",
       "</div>"
      ],
      "text/plain": [
       "                                             content  sentiment\n",
       "0       hide new secretions from the parental units           0\n",
       "1               contains no wit , only labored gags           0\n",
       "2  that loves its characters and communicates som...          1\n",
       "3  remains utterly satisfied to remain the same t...          0\n",
       "4  on the worst revenge-of-the-nerds clichés the ...          0"
      ]
     },
     "execution_count": 21,
     "metadata": {},
     "output_type": "execute_result"
    }
   ],
   "source": [
    "df_train.reset_index(drop=True, inplace=True)\n",
    "df_train.head(5)\n",
    "# df_val.reset_index(drop=True, inplace=True)\n",
    "# df_val.head(5)\n"
   ]
  },
  {
   "cell_type": "code",
   "execution_count": 22,
   "metadata": {},
   "outputs": [
    {
     "data": {
      "text/plain": [
       "array([0, 1], dtype=int64)"
      ]
     },
     "execution_count": 22,
     "metadata": {},
     "output_type": "execute_result"
    }
   ],
   "source": [
    "df_train['sentiment'].unique()"
   ]
  },
  {
   "cell_type": "code",
   "execution_count": 24,
   "metadata": {},
   "outputs": [
    {
     "data": {
      "application/vnd.jupyter.widget-view+json": {
       "model_id": "b2b4857a4dfc4f3f9c80b25ff5a43a36",
       "version_major": 2,
       "version_minor": 0
      },
      "text/plain": [
       "  0%|          | 0/67349 [00:00<?, ?it/s]"
      ]
     },
     "metadata": {},
     "output_type": "display_data"
    },
    {
     "data": {
      "application/vnd.jupyter.widget-view+json": {
       "model_id": "4aacb96a65294170b4ca0b62c7278cbc",
       "version_major": 2,
       "version_minor": 0
      },
      "text/plain": [
       "  0%|          | 0/67349 [00:00<?, ?it/s]"
      ]
     },
     "metadata": {},
     "output_type": "display_data"
    },
    {
     "data": {
      "application/vnd.jupyter.widget-view+json": {
       "model_id": "77f81a6468bd440eb12491e9c0fa9cde",
       "version_major": 2,
       "version_minor": 0
      },
      "text/plain": [
       "  0%|          | 0/67349 [00:00<?, ?it/s]"
      ]
     },
     "metadata": {},
     "output_type": "display_data"
    },
    {
     "name": "stderr",
     "output_type": "stream",
     "text": [
      "c:\\Users\\Kiann\\miniconda3\\envs\\tf\\lib\\site-packages\\bs4\\__init__.py:329: MarkupResemblesLocatorWarning: \"con \" looks like a filename, not markup. You should probably open this file and pass the filehandle into Beautiful Soup.\n",
      "  warnings.warn(\n"
     ]
    },
    {
     "data": {
      "application/vnd.jupyter.widget-view+json": {
       "model_id": "40b19765d79f4b599265bdacf076ebdb",
       "version_major": 2,
       "version_minor": 0
      },
      "text/plain": [
       "  0%|          | 0/67349 [00:00<?, ?it/s]"
      ]
     },
     "metadata": {},
     "output_type": "display_data"
    },
    {
     "data": {
      "application/vnd.jupyter.widget-view+json": {
       "model_id": "4dab197ccee64851a6ebef30eb3ef43e",
       "version_major": 2,
       "version_minor": 0
      },
      "text/plain": [
       "  0%|          | 0/67349 [00:00<?, ?it/s]"
      ]
     },
     "metadata": {},
     "output_type": "display_data"
    },
    {
     "data": {
      "application/vnd.jupyter.widget-view+json": {
       "model_id": "07aed84f1f1f4beaaf4a110d79abec74",
       "version_major": 2,
       "version_minor": 0
      },
      "text/plain": [
       "  0%|          | 0/67349 [00:00<?, ?it/s]"
      ]
     },
     "metadata": {},
     "output_type": "display_data"
    },
    {
     "data": {
      "application/vnd.jupyter.widget-view+json": {
       "model_id": "3a6cf83b3c81461390819f868259e69e",
       "version_major": 2,
       "version_minor": 0
      },
      "text/plain": [
       "  0%|          | 0/67349 [00:00<?, ?it/s]"
      ]
     },
     "metadata": {},
     "output_type": "display_data"
    },
    {
     "name": "stdout",
     "output_type": "stream",
     "text": [
      "Number of words with stopwords: 583810\n"
     ]
    },
    {
     "data": {
      "application/vnd.jupyter.widget-view+json": {
       "model_id": "98f03dc719f340e4bef2ee3a1ff5c177",
       "version_major": 2,
       "version_minor": 0
      },
      "text/plain": [
       "  0%|          | 0/67349 [00:00<?, ?it/s]"
      ]
     },
     "metadata": {},
     "output_type": "display_data"
    },
    {
     "name": "stdout",
     "output_type": "stream",
     "text": [
      "Number of words without stopwords: 338193\n"
     ]
    }
   ],
   "source": [
    "import torch\n",
    "import tqdm\n",
    "import text_hammer as th\n",
    "STOPWORDS = set(stopwords.words('english'))\n",
    "def remove_stopwords(text):\n",
    "    \"\"\"custom function to remove the stopwords\"\"\"\n",
    "    return \" \".join([word for word in str(text).split() if word not in STOPWORDS])\n",
    "\n",
    "def pre_pro(df):\n",
    "    # These are series of preprocessing\n",
    "    df['content'] = df['content'].progress_apply(lambda x: th.cont_exp(x)) #you're -> you are; i'm -> i am\n",
    "    df['content'] = df['content'].progress_apply(lambda x: th.remove_emails(x))\n",
    "    df['content'] = df['content'].progress_apply(lambda x: th.remove_html_tags(x))\n",
    "    df['content'] = df['content'].progress_apply(lambda x: th.remove_urls(x))\n",
    "\n",
    "    df['content'] = df['content'].progress_apply(lambda x: th.remove_special_chars(x))\n",
    "    df['content'] = df['content'].progress_apply(lambda x: th.remove_accented_chars(x))\n",
    "    df['content'] = df['content'].progress_apply(lambda x: th.make_base(x)) #ran -> run, \n",
    "    # df['content'] = df['content'].progress_apply(lambda x: th.spelling_correction(x).raw_sentences[0]) #seplling -> spelling\n",
    "    print(\"Number of words with stopwords:\",df['content'].str.split().str.len().sum())\n",
    "    df[\"content\"] = df['content'].progress_apply(lambda x: remove_stopwords(x))\n",
    "    print(\"Number of words without stopwords:\",df['content'].str.split().str.len().sum())\n",
    "\n",
    "pre_pro(df_train)\n",
    "# pre_pro(df_val)\n",
    "\n",
    "\n"
   ]
  },
  {
   "cell_type": "code",
   "execution_count": 25,
   "metadata": {},
   "outputs": [
    {
     "name": "stderr",
     "output_type": "stream",
     "text": [
      "INFO: loading projection weights from C:\\Users\\Kiann/gensim-data\\glove-wiki-gigaword-200\\glove-wiki-gigaword-200.gz\n",
      "INFO: KeyedVectors lifecycle event {'msg': 'loaded (400000, 200) matrix of type float32 from C:\\\\Users\\\\Kiann/gensim-data\\\\glove-wiki-gigaword-200\\\\glove-wiki-gigaword-200.gz', 'binary': False, 'encoding': 'utf8', 'datetime': '2024-04-03T00:27:09.094964', 'gensim': '4.3.2', 'python': '3.9.19 (main, Mar 21 2024, 17:21:27) [MSC v.1916 64 bit (AMD64)]', 'platform': 'Windows-10-10.0.19045-SP0', 'event': 'load_word2vec_format'}\n"
     ]
    }
   ],
   "source": [
    "model_type = 'glove-wiki-gigaword-200'  # 25 100 200 word2vec 300 \n",
    "wv_path = ['./data/train_data/train', './data/test_data/test']\n",
    "\n",
    "w2vModel = api.load(model_type)"
   ]
  },
  {
   "cell_type": "code",
   "execution_count": 26,
   "metadata": {},
   "outputs": [],
   "source": [
    "GLOVE_DIM = int(model_type.split('-')[-1])"
   ]
  },
  {
   "cell_type": "code",
   "execution_count": 27,
   "metadata": {},
   "outputs": [
    {
     "name": "stdout",
     "output_type": "stream",
     "text": [
      "28\n"
     ]
    }
   ],
   "source": [
    "tokenizer = Tokenizer(num_words=30000)\n",
    "tokenizer.fit_on_texts(df_train['content'])\n",
    "\n",
    "X_train, X_test, y_train, y_test = train_test_split(df_train['content'], df_train['sentiment'], test_size=0.2, random_state=42, shuffle=True)\n",
    "\n",
    "X_train = tokenizer.texts_to_sequences(X_train)\n",
    "X_test = tokenizer.texts_to_sequences(X_test)\n",
    "\n",
    "# Adding 1 because of  reserved 0 index\n",
    "vocab_size = len(tokenizer.word_index) + 1    \n",
    "length_of_longest_sentence = len(max(X_train, key=len))\n",
    "print(length_of_longest_sentence)\n",
    "maxlen = length_of_longest_sentence # sentence length\n",
    "\n",
    "X_train = pad_sequences(X_train, padding='post', maxlen=maxlen)\n",
    "X_test = pad_sequences(X_test, padding='post', maxlen=maxlen)"
   ]
  },
  {
   "cell_type": "code",
   "execution_count": 28,
   "metadata": {},
   "outputs": [],
   "source": [
    "y_train_one_hot = to_categorical(y_train, num_classes=len(df_train['sentiment'].unique()))\n",
    "y_test_one_hot = to_categorical(y_test, num_classes=len(df_train['sentiment'].unique()))"
   ]
  },
  {
   "cell_type": "code",
   "execution_count": 29,
   "metadata": {},
   "outputs": [
    {
     "data": {
      "text/plain": [
       "12614"
      ]
     },
     "execution_count": 29,
     "metadata": {},
     "output_type": "execute_result"
    }
   ],
   "source": [
    "wordLen = len(tokenizer.word_index)+1\n",
    "wordLen"
   ]
  },
  {
   "cell_type": "code",
   "execution_count": 30,
   "metadata": {},
   "outputs": [
    {
     "name": "stdout",
     "output_type": "stream",
     "text": [
      "Converted 10931 words (1682 misses)\n"
     ]
    },
    {
     "data": {
      "text/plain": [
       "array([[ 0.        ,  0.        ,  0.        , ...,  0.        ,\n",
       "         0.        ,  0.        ],\n",
       "       [ 0.18889   ,  0.19302   , -0.86576003, ...,  0.03805   ,\n",
       "         0.23120999,  0.35679001],\n",
       "       [ 0.33201   ,  0.30195001, -0.88213003, ...,  0.075378  ,\n",
       "         0.39153999,  0.57608998],\n",
       "       ...,\n",
       "       [-0.028945  ,  0.31018001,  0.04713   , ...,  0.13456   ,\n",
       "         0.1165    , -0.22330999],\n",
       "       [ 0.        ,  0.        ,  0.        , ...,  0.        ,\n",
       "         0.        ,  0.        ],\n",
       "       [-0.82804   , -0.27252001, -0.3486    , ..., -0.26808   ,\n",
       "         0.099554  , -0.54202002]])"
      ]
     },
     "execution_count": 30,
     "metadata": {},
     "output_type": "execute_result"
    }
   ],
   "source": [
    "## prepare a corresponding embedding matrix that used in a Keras Embedding layer. \n",
    "## It's a simple NumPy matrix where entry at index i is the pre-trained vector for the word of index i in our vectorizer's vocabulary.\n",
    "\n",
    "def embed(model, tokenizer):\n",
    "    embed_size = GLOVE_DIM\n",
    "    embedding_matrix = np.zeros((len(tokenizer.word_index)+1, embed_size))\n",
    "\n",
    "    hits = 0\n",
    "    misses = 0\n",
    "\n",
    "    # embedding matrix\n",
    "    for word, i in tokenizer.word_index.items():\n",
    "        try:\n",
    "            embedding_vector = model.get_vector(word)\n",
    "            if embedding_vector is not None:\n",
    "                embedding_matrix[i] = embedding_vector\n",
    "                hits += 1\n",
    "            else:\n",
    "                misses += 1\n",
    "        except:\n",
    "            misses += 1\n",
    "        \n",
    "            \n",
    "    print(\"Converted %d words (%d misses)\" % (hits, misses))\n",
    "    return embedding_matrix\n",
    "\n",
    "\n",
    "embedding_matrix = embed (w2vModel, tokenizer)\n",
    "embedding_matrix"
   ]
  },
  {
   "cell_type": "code",
   "execution_count": 31,
   "metadata": {},
   "outputs": [
    {
     "name": "stdout",
     "output_type": "stream",
     "text": [
      "Model: \"sequential\"\n",
      "_________________________________________________________________\n",
      " Layer (type)                Output Shape              Param #   \n",
      "=================================================================\n",
      " embedding (Embedding)       (None, 28, 200)           2522800   \n",
      "                                                                 \n",
      " spatial_dropout1d (SpatialD  (None, 28, 200)          0         \n",
      " ropout1D)                                                       \n",
      "                                                                 \n",
      " conv1d (Conv1D)             (None, 26, 32)            19232     \n",
      "                                                                 \n",
      " bidirectional (Bidirectiona  (None, 128)              50176     \n",
      " l)                                                              \n",
      "                                                                 \n",
      " dense (Dense)               (None, 2)                 258       \n",
      "                                                                 \n",
      "=================================================================\n",
      "Total params: 2,592,466\n",
      "Trainable params: 69,666\n",
      "Non-trainable params: 2,522,800\n",
      "_________________________________________________________________\n",
      "None\n",
      "Epoch 1/200\n",
      "1684/1684 [==============================] - 21s 12ms/step - loss: 0.5851 - accuracy: 0.6951 - val_loss: 0.4833 - val_accuracy: 0.7800\n",
      "Epoch 2/200\n",
      "1684/1684 [==============================] - 21s 12ms/step - loss: 0.4809 - accuracy: 0.7746 - val_loss: 0.4528 - val_accuracy: 0.7927\n",
      "Epoch 3/200\n",
      "1684/1684 [==============================] - 16s 10ms/step - loss: 0.4617 - accuracy: 0.7832 - val_loss: 0.4462 - val_accuracy: 0.7930\n",
      "Epoch 4/200\n",
      "1684/1684 [==============================] - 18s 11ms/step - loss: 0.4549 - accuracy: 0.7841 - val_loss: 0.4346 - val_accuracy: 0.7993\n",
      "Epoch 5/200\n",
      "1684/1684 [==============================] - 14s 8ms/step - loss: 0.4465 - accuracy: 0.7879 - val_loss: 0.4267 - val_accuracy: 0.8047\n",
      "Epoch 6/200\n",
      "1684/1684 [==============================] - 14s 8ms/step - loss: 0.4407 - accuracy: 0.7913 - val_loss: 0.4269 - val_accuracy: 0.8006\n",
      "Epoch 7/200\n",
      "1684/1684 [==============================] - 15s 9ms/step - loss: 0.4356 - accuracy: 0.7963 - val_loss: 0.4180 - val_accuracy: 0.8065\n",
      "Epoch 8/200\n",
      "1684/1684 [==============================] - 15s 9ms/step - loss: 0.4307 - accuracy: 0.7962 - val_loss: 0.4129 - val_accuracy: 0.8091\n",
      "Epoch 9/200\n",
      "1684/1684 [==============================] - 15s 9ms/step - loss: 0.4263 - accuracy: 0.8001 - val_loss: 0.4086 - val_accuracy: 0.8134\n",
      "Epoch 10/200\n",
      "1684/1684 [==============================] - 17s 10ms/step - loss: 0.4252 - accuracy: 0.7977 - val_loss: 0.4094 - val_accuracy: 0.8099\n",
      "Epoch 11/200\n",
      "1684/1684 [==============================] - 29s 17ms/step - loss: 0.4194 - accuracy: 0.8024 - val_loss: 0.4031 - val_accuracy: 0.8158\n",
      "Epoch 12/200\n",
      "1684/1684 [==============================] - 25s 15ms/step - loss: 0.4183 - accuracy: 0.8029 - val_loss: 0.4014 - val_accuracy: 0.8173\n",
      "Epoch 13/200\n",
      "1684/1684 [==============================] - 24s 15ms/step - loss: 0.4145 - accuracy: 0.8063 - val_loss: 0.4007 - val_accuracy: 0.8151\n",
      "Epoch 14/200\n",
      "1684/1684 [==============================] - 23s 14ms/step - loss: 0.4126 - accuracy: 0.8072 - val_loss: 0.3984 - val_accuracy: 0.8178\n",
      "Epoch 15/200\n",
      "1684/1684 [==============================] - 26s 15ms/step - loss: 0.4099 - accuracy: 0.8058 - val_loss: 0.3945 - val_accuracy: 0.8192\n",
      "Epoch 16/200\n",
      "1684/1684 [==============================] - 24s 14ms/step - loss: 0.4077 - accuracy: 0.8093 - val_loss: 0.3939 - val_accuracy: 0.8177\n",
      "Epoch 17/200\n",
      "1684/1684 [==============================] - 13s 8ms/step - loss: 0.4038 - accuracy: 0.8117 - val_loss: 0.3944 - val_accuracy: 0.8192\n",
      "Epoch 18/200\n",
      "1684/1684 [==============================] - 14s 8ms/step - loss: 0.4024 - accuracy: 0.8124 - val_loss: 0.3894 - val_accuracy: 0.8229\n",
      "Epoch 19/200\n",
      "1684/1684 [==============================] - 15s 9ms/step - loss: 0.4012 - accuracy: 0.8144 - val_loss: 0.3895 - val_accuracy: 0.8211\n",
      "Epoch 20/200\n",
      "1684/1684 [==============================] - 13s 8ms/step - loss: 0.3990 - accuracy: 0.8152 - val_loss: 0.3930 - val_accuracy: 0.8197\n",
      "Epoch 21/200\n",
      "1684/1684 [==============================] - 13s 8ms/step - loss: 0.3968 - accuracy: 0.8160 - val_loss: 0.3840 - val_accuracy: 0.8247\n",
      "Epoch 22/200\n",
      "1684/1684 [==============================] - 13s 8ms/step - loss: 0.3931 - accuracy: 0.8185 - val_loss: 0.3854 - val_accuracy: 0.8252\n",
      "Epoch 23/200\n",
      "1684/1684 [==============================] - 13s 8ms/step - loss: 0.3914 - accuracy: 0.8197 - val_loss: 0.3830 - val_accuracy: 0.8245\n",
      "Epoch 24/200\n",
      "1684/1684 [==============================] - 13s 8ms/step - loss: 0.3903 - accuracy: 0.8186 - val_loss: 0.3797 - val_accuracy: 0.8267\n",
      "Epoch 25/200\n",
      "1684/1684 [==============================] - 13s 8ms/step - loss: 0.3881 - accuracy: 0.8203 - val_loss: 0.3810 - val_accuracy: 0.8253\n",
      "Epoch 26/200\n",
      "1684/1684 [==============================] - 13s 8ms/step - loss: 0.3861 - accuracy: 0.8219 - val_loss: 0.3753 - val_accuracy: 0.8278\n",
      "Epoch 27/200\n",
      "1684/1684 [==============================] - 13s 8ms/step - loss: 0.3856 - accuracy: 0.8222 - val_loss: 0.3754 - val_accuracy: 0.8280\n",
      "Epoch 28/200\n",
      "1684/1684 [==============================] - 14s 8ms/step - loss: 0.3821 - accuracy: 0.8242 - val_loss: 0.3743 - val_accuracy: 0.8295\n",
      "Epoch 29/200\n",
      "1684/1684 [==============================] - 14s 8ms/step - loss: 0.3795 - accuracy: 0.8261 - val_loss: 0.3700 - val_accuracy: 0.8321\n",
      "Epoch 30/200\n",
      "1684/1684 [==============================] - 13s 8ms/step - loss: 0.3784 - accuracy: 0.8268 - val_loss: 0.3698 - val_accuracy: 0.8320\n",
      "Epoch 31/200\n",
      "1684/1684 [==============================] - 13s 8ms/step - loss: 0.3755 - accuracy: 0.8292 - val_loss: 0.3686 - val_accuracy: 0.8323\n",
      "Epoch 32/200\n",
      "1684/1684 [==============================] - 13s 8ms/step - loss: 0.3746 - accuracy: 0.8296 - val_loss: 0.3701 - val_accuracy: 0.8334\n",
      "Epoch 33/200\n",
      "1684/1684 [==============================] - 13s 8ms/step - loss: 0.3722 - accuracy: 0.8299 - val_loss: 0.3638 - val_accuracy: 0.8365\n",
      "Epoch 34/200\n",
      "1684/1684 [==============================] - 13s 8ms/step - loss: 0.3697 - accuracy: 0.8305 - val_loss: 0.3634 - val_accuracy: 0.8369\n",
      "Epoch 35/200\n",
      "1684/1684 [==============================] - 20s 12ms/step - loss: 0.3672 - accuracy: 0.8332 - val_loss: 0.3628 - val_accuracy: 0.8339\n",
      "Epoch 36/200\n",
      "1684/1684 [==============================] - 26s 16ms/step - loss: 0.3645 - accuracy: 0.8350 - val_loss: 0.3592 - val_accuracy: 0.8384\n",
      "Epoch 37/200\n",
      "1684/1684 [==============================] - 25s 15ms/step - loss: 0.3624 - accuracy: 0.8370 - val_loss: 0.3623 - val_accuracy: 0.8357\n",
      "Epoch 38/200\n",
      "1684/1684 [==============================] - 25s 15ms/step - loss: 0.3607 - accuracy: 0.8371 - val_loss: 0.3566 - val_accuracy: 0.8440\n",
      "Epoch 39/200\n",
      "1684/1684 [==============================] - 25s 15ms/step - loss: 0.3589 - accuracy: 0.8377 - val_loss: 0.3513 - val_accuracy: 0.8442\n",
      "Epoch 40/200\n",
      "1684/1684 [==============================] - 24s 14ms/step - loss: 0.3534 - accuracy: 0.8407 - val_loss: 0.3511 - val_accuracy: 0.8439\n",
      "Epoch 41/200\n",
      "1684/1684 [==============================] - 24s 15ms/step - loss: 0.3529 - accuracy: 0.8385 - val_loss: 0.3476 - val_accuracy: 0.8463\n",
      "Epoch 42/200\n",
      "1684/1684 [==============================] - 25s 15ms/step - loss: 0.3509 - accuracy: 0.8426 - val_loss: 0.3454 - val_accuracy: 0.8492\n",
      "Epoch 43/200\n",
      "1684/1684 [==============================] - 20s 12ms/step - loss: 0.3494 - accuracy: 0.8431 - val_loss: 0.3650 - val_accuracy: 0.8333\n",
      "Epoch 44/200\n",
      "1684/1684 [==============================] - 13s 8ms/step - loss: 0.3467 - accuracy: 0.8446 - val_loss: 0.3415 - val_accuracy: 0.8492\n",
      "Epoch 45/200\n",
      "1684/1684 [==============================] - 13s 8ms/step - loss: 0.3434 - accuracy: 0.8463 - val_loss: 0.3407 - val_accuracy: 0.8519\n",
      "Epoch 46/200\n",
      "1684/1684 [==============================] - 13s 8ms/step - loss: 0.3423 - accuracy: 0.8467 - val_loss: 0.3371 - val_accuracy: 0.8530\n",
      "Epoch 47/200\n",
      "1684/1684 [==============================] - 14s 8ms/step - loss: 0.3409 - accuracy: 0.8479 - val_loss: 0.3417 - val_accuracy: 0.8501\n",
      "Epoch 48/200\n",
      "1684/1684 [==============================] - 13s 8ms/step - loss: 0.3368 - accuracy: 0.8508 - val_loss: 0.3341 - val_accuracy: 0.8555\n",
      "Epoch 49/200\n",
      "1684/1684 [==============================] - 13s 7ms/step - loss: 0.3354 - accuracy: 0.8513 - val_loss: 0.3386 - val_accuracy: 0.8522\n",
      "Epoch 50/200\n",
      "1684/1684 [==============================] - 12s 7ms/step - loss: 0.3308 - accuracy: 0.8538 - val_loss: 0.3302 - val_accuracy: 0.8565\n",
      "Epoch 51/200\n",
      "1684/1684 [==============================] - 14s 8ms/step - loss: 0.3280 - accuracy: 0.8537 - val_loss: 0.3276 - val_accuracy: 0.8569\n",
      "Epoch 52/200\n",
      "1684/1684 [==============================] - 13s 8ms/step - loss: 0.3270 - accuracy: 0.8545 - val_loss: 0.3261 - val_accuracy: 0.8586\n",
      "Epoch 53/200\n",
      "1684/1684 [==============================] - 13s 8ms/step - loss: 0.3240 - accuracy: 0.8570 - val_loss: 0.3237 - val_accuracy: 0.8600\n",
      "Epoch 54/200\n",
      "1684/1684 [==============================] - 13s 8ms/step - loss: 0.3230 - accuracy: 0.8573 - val_loss: 0.3261 - val_accuracy: 0.8611\n",
      "Epoch 55/200\n",
      "1684/1684 [==============================] - 13s 8ms/step - loss: 0.3219 - accuracy: 0.8580 - val_loss: 0.3216 - val_accuracy: 0.8617\n",
      "Epoch 56/200\n",
      "1684/1684 [==============================] - 14s 8ms/step - loss: 0.3157 - accuracy: 0.8605 - val_loss: 0.3302 - val_accuracy: 0.8575\n",
      "Epoch 57/200\n",
      "1684/1684 [==============================] - 13s 8ms/step - loss: 0.3157 - accuracy: 0.8626 - val_loss: 0.3184 - val_accuracy: 0.8625\n",
      "Epoch 58/200\n",
      "1684/1684 [==============================] - 13s 8ms/step - loss: 0.3146 - accuracy: 0.8603 - val_loss: 0.3257 - val_accuracy: 0.8609\n",
      "Epoch 59/200\n",
      "1684/1684 [==============================] - 13s 8ms/step - loss: 0.3120 - accuracy: 0.8628 - val_loss: 0.3140 - val_accuracy: 0.8632\n",
      "Epoch 60/200\n",
      "1684/1684 [==============================] - 13s 8ms/step - loss: 0.3086 - accuracy: 0.8635 - val_loss: 0.3144 - val_accuracy: 0.8621\n",
      "Epoch 61/200\n",
      "1684/1684 [==============================] - 13s 7ms/step - loss: 0.3091 - accuracy: 0.8628 - val_loss: 0.3150 - val_accuracy: 0.8657\n",
      "Epoch 62/200\n",
      "1684/1684 [==============================] - 13s 8ms/step - loss: 0.3082 - accuracy: 0.8658 - val_loss: 0.3118 - val_accuracy: 0.8660\n",
      "Epoch 63/200\n",
      "1684/1684 [==============================] - 14s 8ms/step - loss: 0.3041 - accuracy: 0.8684 - val_loss: 0.3117 - val_accuracy: 0.8667\n",
      "Epoch 64/200\n",
      "1684/1684 [==============================] - 14s 8ms/step - loss: 0.3019 - accuracy: 0.8677 - val_loss: 0.3082 - val_accuracy: 0.8670\n",
      "Epoch 65/200\n",
      "1684/1684 [==============================] - 14s 9ms/step - loss: 0.3007 - accuracy: 0.8693 - val_loss: 0.3061 - val_accuracy: 0.8673\n",
      "Epoch 66/200\n",
      "1684/1684 [==============================] - 15s 9ms/step - loss: 0.2984 - accuracy: 0.8694 - val_loss: 0.3062 - val_accuracy: 0.8693\n",
      "Epoch 67/200\n",
      "1684/1684 [==============================] - 14s 8ms/step - loss: 0.2950 - accuracy: 0.8716 - val_loss: 0.3051 - val_accuracy: 0.8709\n",
      "Epoch 68/200\n",
      "1684/1684 [==============================] - 16s 10ms/step - loss: 0.2932 - accuracy: 0.8741 - val_loss: 0.3016 - val_accuracy: 0.8713\n",
      "Epoch 69/200\n",
      "1684/1684 [==============================] - 13s 8ms/step - loss: 0.2934 - accuracy: 0.8731 - val_loss: 0.2984 - val_accuracy: 0.8744\n",
      "Epoch 70/200\n",
      "1684/1684 [==============================] - 13s 8ms/step - loss: 0.2900 - accuracy: 0.8749 - val_loss: 0.2971 - val_accuracy: 0.8728\n",
      "Epoch 71/200\n",
      "1684/1684 [==============================] - 13s 8ms/step - loss: 0.2881 - accuracy: 0.8755 - val_loss: 0.2963 - val_accuracy: 0.8733\n",
      "Epoch 72/200\n",
      "1684/1684 [==============================] - 13s 8ms/step - loss: 0.2879 - accuracy: 0.8757 - val_loss: 0.2958 - val_accuracy: 0.8756\n",
      "Epoch 73/200\n",
      "1684/1684 [==============================] - 13s 8ms/step - loss: 0.2856 - accuracy: 0.8769 - val_loss: 0.2943 - val_accuracy: 0.8744\n",
      "Epoch 74/200\n",
      "1684/1684 [==============================] - 13s 8ms/step - loss: 0.2842 - accuracy: 0.8778 - val_loss: 0.2946 - val_accuracy: 0.8760\n",
      "Epoch 75/200\n",
      "1684/1684 [==============================] - 13s 8ms/step - loss: 0.2821 - accuracy: 0.8785 - val_loss: 0.2936 - val_accuracy: 0.8749\n",
      "Epoch 76/200\n",
      "1684/1684 [==============================] - 13s 8ms/step - loss: 0.2790 - accuracy: 0.8813 - val_loss: 0.2908 - val_accuracy: 0.8796\n",
      "Epoch 77/200\n",
      "1684/1684 [==============================] - 13s 8ms/step - loss: 0.2807 - accuracy: 0.8788 - val_loss: 0.2912 - val_accuracy: 0.8780\n",
      "Epoch 78/200\n",
      "1684/1684 [==============================] - 13s 8ms/step - loss: 0.2784 - accuracy: 0.8804 - val_loss: 0.2937 - val_accuracy: 0.8756\n",
      "Epoch 79/200\n",
      "1684/1684 [==============================] - 13s 8ms/step - loss: 0.2775 - accuracy: 0.8808 - val_loss: 0.2888 - val_accuracy: 0.8794\n",
      "Epoch 80/200\n",
      "1684/1684 [==============================] - 13s 8ms/step - loss: 0.2757 - accuracy: 0.8819 - val_loss: 0.2883 - val_accuracy: 0.8797\n",
      "Epoch 81/200\n",
      "1684/1684 [==============================] - 13s 8ms/step - loss: 0.2741 - accuracy: 0.8820 - val_loss: 0.2896 - val_accuracy: 0.8788\n",
      "Epoch 82/200\n",
      "1684/1684 [==============================] - 13s 8ms/step - loss: 0.2700 - accuracy: 0.8838 - val_loss: 0.2853 - val_accuracy: 0.8823\n",
      "Epoch 83/200\n",
      "1684/1684 [==============================] - 13s 8ms/step - loss: 0.2706 - accuracy: 0.8826 - val_loss: 0.2885 - val_accuracy: 0.8783\n",
      "Epoch 84/200\n",
      "1684/1684 [==============================] - 17s 10ms/step - loss: 0.2686 - accuracy: 0.8850 - val_loss: 0.2820 - val_accuracy: 0.8854\n",
      "Epoch 85/200\n",
      "1684/1684 [==============================] - 15s 9ms/step - loss: 0.2686 - accuracy: 0.8853 - val_loss: 0.2847 - val_accuracy: 0.8806\n",
      "Epoch 86/200\n",
      "1684/1684 [==============================] - 13s 8ms/step - loss: 0.2647 - accuracy: 0.8868 - val_loss: 0.2833 - val_accuracy: 0.8814\n",
      "Epoch 87/200\n",
      "1684/1684 [==============================] - 16s 10ms/step - loss: 0.2616 - accuracy: 0.8876 - val_loss: 0.2799 - val_accuracy: 0.8840\n",
      "Epoch 88/200\n",
      "1684/1684 [==============================] - 14s 8ms/step - loss: 0.2624 - accuracy: 0.8883 - val_loss: 0.2802 - val_accuracy: 0.8826\n",
      "Epoch 89/200\n",
      "1684/1684 [==============================] - 13s 7ms/step - loss: 0.2594 - accuracy: 0.8897 - val_loss: 0.2904 - val_accuracy: 0.8782\n",
      "Epoch 90/200\n",
      "1684/1684 [==============================] - 13s 7ms/step - loss: 0.2577 - accuracy: 0.8897 - val_loss: 0.2762 - val_accuracy: 0.8869\n",
      "Epoch 91/200\n",
      "1684/1684 [==============================] - 13s 8ms/step - loss: 0.2584 - accuracy: 0.8886 - val_loss: 0.2756 - val_accuracy: 0.8874\n",
      "Epoch 92/200\n",
      "1684/1684 [==============================] - 13s 8ms/step - loss: 0.2556 - accuracy: 0.8919 - val_loss: 0.2749 - val_accuracy: 0.8880\n",
      "Epoch 93/200\n",
      "1684/1684 [==============================] - 13s 8ms/step - loss: 0.2582 - accuracy: 0.8906 - val_loss: 0.2768 - val_accuracy: 0.8857\n",
      "Epoch 94/200\n",
      "1684/1684 [==============================] - 13s 8ms/step - loss: 0.2542 - accuracy: 0.8940 - val_loss: 0.2782 - val_accuracy: 0.8874\n",
      "Epoch 95/200\n",
      "1684/1684 [==============================] - 13s 8ms/step - loss: 0.2549 - accuracy: 0.8901 - val_loss: 0.2764 - val_accuracy: 0.8878\n",
      "Epoch 96/200\n",
      "1684/1684 [==============================] - 13s 8ms/step - loss: 0.2524 - accuracy: 0.8932 - val_loss: 0.2724 - val_accuracy: 0.8895\n",
      "Epoch 97/200\n",
      "1684/1684 [==============================] - 13s 8ms/step - loss: 0.2506 - accuracy: 0.8926 - val_loss: 0.2756 - val_accuracy: 0.8889\n",
      "Epoch 98/200\n",
      "1684/1684 [==============================] - 14s 8ms/step - loss: 0.2494 - accuracy: 0.8924 - val_loss: 0.2737 - val_accuracy: 0.8886\n",
      "Epoch 99/200\n",
      "1684/1684 [==============================] - 13s 8ms/step - loss: 0.2503 - accuracy: 0.8946 - val_loss: 0.2721 - val_accuracy: 0.8881\n",
      "Epoch 100/200\n",
      "1684/1684 [==============================] - 13s 7ms/step - loss: 0.2478 - accuracy: 0.8932 - val_loss: 0.2688 - val_accuracy: 0.8918\n",
      "Epoch 101/200\n",
      "1684/1684 [==============================] - 13s 8ms/step - loss: 0.2464 - accuracy: 0.8951 - val_loss: 0.2737 - val_accuracy: 0.8893\n",
      "Epoch 102/200\n",
      "1684/1684 [==============================] - 13s 8ms/step - loss: 0.2461 - accuracy: 0.8959 - val_loss: 0.2705 - val_accuracy: 0.8901\n",
      "Epoch 103/200\n",
      "1684/1684 [==============================] - 13s 8ms/step - loss: 0.2449 - accuracy: 0.8973 - val_loss: 0.2699 - val_accuracy: 0.8919\n",
      "Epoch 104/200\n",
      "1684/1684 [==============================] - 13s 8ms/step - loss: 0.2427 - accuracy: 0.8971 - val_loss: 0.2727 - val_accuracy: 0.8898\n",
      "Epoch 105/200\n",
      "1684/1684 [==============================] - 13s 8ms/step - loss: 0.2427 - accuracy: 0.8970 - val_loss: 0.2764 - val_accuracy: 0.8878\n",
      "Epoch 106/200\n",
      "1684/1684 [==============================] - 14s 8ms/step - loss: 0.2397 - accuracy: 0.9002 - val_loss: 0.2759 - val_accuracy: 0.8907\n",
      "Epoch 107/200\n",
      "1684/1684 [==============================] - 13s 8ms/step - loss: 0.2401 - accuracy: 0.8982 - val_loss: 0.2733 - val_accuracy: 0.8916\n",
      "Epoch 108/200\n",
      "1684/1684 [==============================] - 13s 8ms/step - loss: 0.2421 - accuracy: 0.8975 - val_loss: 0.2670 - val_accuracy: 0.8949\n",
      "Epoch 109/200\n",
      "1684/1684 [==============================] - 14s 8ms/step - loss: 0.2394 - accuracy: 0.8996 - val_loss: 0.2657 - val_accuracy: 0.8938\n",
      "Epoch 110/200\n",
      "1684/1684 [==============================] - 13s 8ms/step - loss: 0.2400 - accuracy: 0.8984 - val_loss: 0.2655 - val_accuracy: 0.8941\n",
      "Epoch 111/200\n",
      "1684/1684 [==============================] - 13s 8ms/step - loss: 0.2367 - accuracy: 0.8989 - val_loss: 0.2689 - val_accuracy: 0.8935\n",
      "Epoch 112/200\n",
      "1684/1684 [==============================] - 13s 8ms/step - loss: 0.2366 - accuracy: 0.9012 - val_loss: 0.2666 - val_accuracy: 0.8937\n",
      "Epoch 113/200\n",
      "1684/1684 [==============================] - 13s 8ms/step - loss: 0.2347 - accuracy: 0.8993 - val_loss: 0.2674 - val_accuracy: 0.8927\n",
      "Epoch 114/200\n",
      "1684/1684 [==============================] - 13s 8ms/step - loss: 0.2331 - accuracy: 0.9004 - val_loss: 0.2686 - val_accuracy: 0.8923\n",
      "Epoch 115/200\n",
      "1684/1684 [==============================] - 13s 8ms/step - loss: 0.2332 - accuracy: 0.9009 - val_loss: 0.2660 - val_accuracy: 0.8941\n",
      "Epoch 116/200\n",
      "1684/1684 [==============================] - 14s 8ms/step - loss: 0.2286 - accuracy: 0.9045 - val_loss: 0.2681 - val_accuracy: 0.8935\n",
      "Epoch 117/200\n",
      "1684/1684 [==============================] - 13s 8ms/step - loss: 0.2312 - accuracy: 0.9021 - val_loss: 0.2680 - val_accuracy: 0.8921\n",
      "Epoch 118/200\n",
      "1684/1684 [==============================] - 13s 8ms/step - loss: 0.2271 - accuracy: 0.9047 - val_loss: 0.2630 - val_accuracy: 0.8952\n",
      "Epoch 119/200\n",
      "1684/1684 [==============================] - 13s 7ms/step - loss: 0.2319 - accuracy: 0.9031 - val_loss: 0.2643 - val_accuracy: 0.8926\n",
      "Epoch 120/200\n",
      "1684/1684 [==============================] - 12s 7ms/step - loss: 0.2272 - accuracy: 0.9038 - val_loss: 0.2658 - val_accuracy: 0.8930\n",
      "Epoch 121/200\n",
      "1684/1684 [==============================] - 12s 7ms/step - loss: 0.2264 - accuracy: 0.9057 - val_loss: 0.2719 - val_accuracy: 0.8926\n",
      "Epoch 122/200\n",
      "1684/1684 [==============================] - 13s 7ms/step - loss: 0.2275 - accuracy: 0.9040 - val_loss: 0.2780 - val_accuracy: 0.8887\n",
      "Epoch 123/200\n",
      "1684/1684 [==============================] - 13s 8ms/step - loss: 0.2252 - accuracy: 0.9045 - val_loss: 0.2635 - val_accuracy: 0.8955\n",
      "Epoch 124/200\n",
      "1684/1684 [==============================] - 13s 8ms/step - loss: 0.2266 - accuracy: 0.9045 - val_loss: 0.2608 - val_accuracy: 0.8961\n",
      "Epoch 125/200\n",
      "1684/1684 [==============================] - 12s 7ms/step - loss: 0.2246 - accuracy: 0.9047 - val_loss: 0.2643 - val_accuracy: 0.8924\n",
      "Epoch 126/200\n",
      "1684/1684 [==============================] - 12s 7ms/step - loss: 0.2241 - accuracy: 0.9060 - val_loss: 0.2637 - val_accuracy: 0.8951\n",
      "Epoch 127/200\n",
      "1684/1684 [==============================] - 13s 8ms/step - loss: 0.2227 - accuracy: 0.9054 - val_loss: 0.2650 - val_accuracy: 0.8938\n",
      "Epoch 128/200\n",
      "1684/1684 [==============================] - 12s 7ms/step - loss: 0.2221 - accuracy: 0.9075 - val_loss: 0.2632 - val_accuracy: 0.8945\n",
      "Epoch 129/200\n",
      "1684/1684 [==============================] - 13s 8ms/step - loss: 0.2193 - accuracy: 0.9074 - val_loss: 0.2644 - val_accuracy: 0.8955\n",
      "Epoch 130/200\n",
      "1684/1684 [==============================] - 13s 8ms/step - loss: 0.2218 - accuracy: 0.9059 - val_loss: 0.2627 - val_accuracy: 0.8981\n",
      "Epoch 131/200\n",
      "1684/1684 [==============================] - 13s 8ms/step - loss: 0.2216 - accuracy: 0.9065 - val_loss: 0.2649 - val_accuracy: 0.8964\n",
      "Epoch 132/200\n",
      "1684/1684 [==============================] - 13s 7ms/step - loss: 0.2185 - accuracy: 0.9073 - val_loss: 0.2665 - val_accuracy: 0.8942\n",
      "Epoch 133/200\n",
      "1684/1684 [==============================] - 15s 9ms/step - loss: 0.2206 - accuracy: 0.9071 - val_loss: 0.2637 - val_accuracy: 0.8956\n",
      "Epoch 134/200\n",
      "1684/1684 [==============================] - 15s 9ms/step - loss: 0.2189 - accuracy: 0.9073 - val_loss: 0.2642 - val_accuracy: 0.8957\n",
      "Epoch 134: early stopping\n",
      "<keras.engine.sequential.Sequential object at 0x00000129D7020CD0>\n"
     ]
    }
   ],
   "source": [
    "model = Sequential()\n",
    "model.add(Embedding(wordLen, output_dim=GLOVE_DIM, input_length=maxlen, weights=[embedding_matrix],trainable=False))\n",
    "# model.add(SpatialDropout1D(0.25))\n",
    "# model.add(Dense(500, activation='relu'))\n",
    "# model.add(Dense(150, activation='relu'))\n",
    "# model.add(Conv1D(32, 3))\n",
    "# model.add(Conv1D(200, 2, activation=\"relu\"))\n",
    "# model.add(LSTM(units=128, return_sequences=True))\n",
    "# model.add(Dropout(0.2))\n",
    "# model.add(Dropout(0.5))\n",
    "\n",
    "model.add(SpatialDropout1D(0.25))\n",
    "model.add(Conv1D(32, 3))\n",
    "model.add(Bidirectional(CuDNNLSTM(64,return_sequences=False)))\n",
    "# model.add(LSTM(units=128, return_sequences=False))\n",
    "# model.add(Dropout(0.2))\n",
    "# model.add(BatchNormalization())\n",
    "# model.add(Bidirectional(CuDNNLSTM(128,return_sequences=False)))\n",
    "model.add(Dense(len(df_train['sentiment'].unique()), activation='softmax'))\n",
    "adam = Adam(learning_rate=.001)\n",
    "\n",
    "model.compile(loss='categorical_crossentropy', optimizer='sgd', metrics=['accuracy'])\n",
    "print(model.summary())\n",
    "es = EarlyStopping(monitor = 'val_loss', mode = 'min', verbose = 1, patience = 10)\n",
    "# reduce_lr = ReduceLROnPlateau(monitor='val_loss', factor=0.5,\n",
    "#                               patience=0.05)\n",
    "history = model.fit(X_train, y_train_one_hot, epochs=200, batch_size=32, verbose=1,validation_data=(X_test,y_test_one_hot),callbacks= [es])\n",
    "\n",
    "print(model)"
   ]
  },
  {
   "cell_type": "code",
   "execution_count": null,
   "metadata": {},
   "outputs": [],
   "source": []
  },
  {
   "cell_type": "code",
   "execution_count": null,
   "metadata": {},
   "outputs": [],
   "source": []
  },
  {
   "cell_type": "code",
   "execution_count": 32,
   "metadata": {},
   "outputs": [
    {
     "name": "stdout",
     "output_type": "stream",
     "text": [
      "Training Accuracy: 0.907\n"
     ]
    }
   ],
   "source": [
    "import matplotlib.pyplot as plt\n",
    "last_accuracy = \"{:.3f}\".format(history.history['accuracy'][-1])\n",
    "print(\"Training Accuracy:\", last_accuracy)"
   ]
  },
  {
   "cell_type": "code",
   "execution_count": 33,
   "metadata": {},
   "outputs": [
    {
     "data": {
      "image/png": "[encoded data removed]",
      "text/plain": [
       "<Figure size 640x480 with 1 Axes>"
      ]
     },
     "metadata": {},
     "output_type": "display_data"
    }
   ],
   "source": [
    "plt.plot(history.history['accuracy'])\n",
    "plt.plot(history.history['val_accuracy'])\n",
    "plt.title('Training Accuracy vs Validation Accuracy')\n",
    "plt.ylabel('Accuracy')\n",
    "plt.xlabel('Epoch')\n",
    "plt.legend(['Train', 'Validation'], loc='upper left')\n",
    "plt.show()"
   ]
  },
  {
   "cell_type": "code",
   "execution_count": 34,
   "metadata": {},
   "outputs": [
    {
     "data": {
      "image/png": "[encoded data removed]",
      "text/plain": [
       "<Figure size 640x480 with 1 Axes>"
      ]
     },
     "metadata": {},
     "output_type": "display_data"
    }
   ],
   "source": [
    "plt.plot(history.history['loss'])\n",
    "plt.plot(history.history['val_loss'])\n",
    "plt.title('Training Loss vs Validation Loss')\n",
    "plt.ylabel('Loss')\n",
    "plt.xlabel('Epoch')\n",
    "plt.legend(['Train', 'Validation'], loc='upper left')\n",
    "plt.show()"
   ]
  }
 ],
 "metadata": {
  "kernelspec": {
   "display_name": "Python 3",
   "language": "python",
   "name": "python3"
  },
  "language_info": {
   "codemirror_mode": {
    "name": "ipython",
    "version": 3
   },
   "file_extension": ".py",
   "mimetype": "text/x-python",
   "name": "python",
   "nbconvert_exporter": "python",
   "pygments_lexer": "ipython3",
   "version": "3.9.19"
  }
 },
 "nbformat": 4,
 "nbformat_minor": 2
}
