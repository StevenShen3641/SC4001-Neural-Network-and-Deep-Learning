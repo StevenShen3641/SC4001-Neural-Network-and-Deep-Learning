{
 "cells": [
  {
   "cell_type": "code",
   "execution_count": 1,
   "metadata": {},
   "outputs": [
    {
     "name": "stderr",
     "output_type": "stream",
     "text": [
      "[nltk_data] Downloading package stopwords to C:\\Users\\Chihao\n",
      "[nltk_data]     Shen\\AppData\\Roaming\\nltk_data...\n",
      "[nltk_data]   Package stopwords is already up-to-date!\n",
      "[nltk_data] Downloading package stopwords to C:\\Users\\Chihao\n",
      "[nltk_data]     Shen\\AppData\\Roaming\\nltk_data...\n",
      "[nltk_data]   Package stopwords is already up-to-date!\n"
     ]
    },
    {
     "data": {
      "text/plain": [
       "<torch._C.Generator at 0x23edda27cd0>"
      ]
     },
     "execution_count": 1,
     "metadata": {},
     "output_type": "execute_result"
    }
   ],
   "source": [
    "from tqdm import tqdm\n",
    "import numpy as np\n",
    "import torch\n",
    "from torch import nn\n",
    "from torch.utils.data import Dataset\n",
    "from torch.utils.data import DataLoader\n",
    "from torchtext.vocab import build_vocab_from_iterator\n",
    "import string\n",
    "from data_preprocessing import load_sst\n",
    "from utils import remove_special_content, replace_punct, preprocess\n",
    "import numpy as np\n",
    "import pandas as pd\n",
    "import gensim.downloader as api\n",
    "import matplotlib.pyplot as plt\n",
    "import nltk\n",
    "from nltk.corpus import stopwords\n",
    "from nltk.tokenize import word_tokenize\n",
    "from keras.preprocessing.text import text_to_word_sequence\n",
    "from sklearn.model_selection import train_test_split\n",
    "nltk.download('stopwords')\n",
    "SEED = 42\n",
    "\n",
    "torch.manual_seed(SEED)"
   ]
  },
  {
   "cell_type": "code",
   "execution_count": 2,
   "metadata": {},
   "outputs": [
    {
     "name": "stderr",
     "output_type": "stream",
     "text": [
      "INFO: SST-2 loaded\n"
     ]
    }
   ],
   "source": [
    "train_data, train_labels, val_data, val_labels, dev_data, dev_labels = load_sst()"
   ]
  },
  {
   "cell_type": "code",
   "execution_count": 3,
   "metadata": {},
   "outputs": [],
   "source": [
    "df_train = pd.DataFrame({'content':train_data, 'sentiment':train_labels})\n",
    "df_train.reset_index(drop=True, inplace=True)\n",
    "X_train, X_val, y_train, y_val = train_test_split(df_train['content'], df_train['sentiment'], test_size=0.2, random_state=42)\n"
   ]
  },
  {
   "cell_type": "code",
   "execution_count": 4,
   "metadata": {},
   "outputs": [
    {
     "name": "stderr",
     "output_type": "stream",
     "text": [
      "INFO: loading projection weights from C:\\Users\\Chihao Shen/gensim-data\\word2vec-google-news-300\\word2vec-google-news-300.gz\n",
      "INFO: KeyedVectors lifecycle event {'msg': 'loaded (3000000, 300) matrix of type float32 from C:\\\\Users\\\\Chihao Shen/gensim-data\\\\word2vec-google-news-300\\\\word2vec-google-news-300.gz', 'binary': True, 'encoding': 'utf8', 'datetime': '2024-04-08T04:54:24.407056', 'gensim': '4.3.2', 'python': '3.10.11 (tags/v3.10.11:7d4cc5a, Apr  5 2023, 00:38:17) [MSC v.1929 64 bit (AMD64)]', 'platform': 'Windows-10-10.0.22631-SP0', 'event': 'load_word2vec_format'}\n"
     ]
    }
   ],
   "source": [
    "model_type = 'word2vec-google-news-300'  # 25 100 200 word2vec 300 \n",
    "w2vModel = api.load(model_type)"
   ]
  },
  {
   "cell_type": "code",
   "execution_count": 5,
   "metadata": {},
   "outputs": [],
   "source": [
    "texts = X_train\n",
    "val_text = X_val"
   ]
  },
  {
   "cell_type": "code",
   "execution_count": 6,
   "metadata": {},
   "outputs": [],
   "source": [
    "def tokenize(texts, max_length, tokenizer):\n",
    "    texts = [s.lower() for s in texts]\n",
    "    data = torch.zeros((len(texts), max_length), dtype=torch.int)\n",
    "    for i, sentences in enumerate(texts):\n",
    "        word_sequence = text_to_word_sequence(sentences)\n",
    "        j = 0\n",
    "        for word in word_sequence:\n",
    "            try:\n",
    "                if j < max_length:\n",
    "                    data[i, j] = tokenizer[word]\n",
    "                    j += 1\n",
    "            except:\n",
    "                data[i, j] = 0\n",
    "                j += 1\n",
    "    return data"
   ]
  },
  {
   "cell_type": "code",
   "execution_count": 7,
   "metadata": {},
   "outputs": [],
   "source": [
    "words = list(w2vModel.key_to_index.keys())\n",
    "\n",
    "def yield_tokens(data_iter):\n",
    "    for text in data_iter:\n",
    "        yield text_to_word_sequence(text)\n",
    "\n",
    "vocab = build_vocab_from_iterator(yield_tokens(words))"
   ]
  },
  {
   "cell_type": "code",
   "execution_count": 8,
   "metadata": {},
   "outputs": [],
   "source": [
    "max_length_1 = 56\n",
    "max_length_2 = 1506\n",
    "\n",
    "word_to_idx = {word: idx for idx, word in enumerate(vocab.get_itos())}\n",
    "data = tokenize(texts, max_length_1, word_to_idx)\n",
    "val_data = tokenize(val_text, max_length_1, word_to_idx)"
   ]
  },
  {
   "cell_type": "code",
   "execution_count": 9,
   "metadata": {},
   "outputs": [
    {
     "name": "stdout",
     "output_type": "stream",
     "text": [
      "Shape of data tensor: torch.Size([53879, 56])\n",
      "Shape of label tensor: (53879,)\n",
      "Shape of data tensor: torch.Size([13470, 56])\n",
      "Shape of label tensor: (13470,)\n"
     ]
    }
   ],
   "source": [
    "def process(data, ori_df):\n",
    "    labels = ori_df.values\n",
    "    print('Shape of data tensor:', data.shape)\n",
    "    print('Shape of label tensor:', labels.shape)\n",
    "    \n",
    "    return data, labels\n",
    "\n",
    "X_train_tensor, y_train= process(data, y_train)\n",
    "X_val_tensor, y_val = process(val_data, y_val)"
   ]
  },
  {
   "cell_type": "code",
   "execution_count": 10,
   "metadata": {},
   "outputs": [
    {
     "name": "stdout",
     "output_type": "stream",
     "text": [
      "Converted 159622 words (613542 misses)\n"
     ]
    }
   ],
   "source": [
    "GLOVE_DIM = int(model_type.split('-')[-1])\n",
    "\n",
    "def embed(model, word_to_idx):\n",
    "    embed_size = GLOVE_DIM\n",
    "    embedding_matrix = np.zeros((len(word_to_idx)+1, embed_size), dtype=np.float32)\n",
    "\n",
    "    hits = 0\n",
    "    misses = 0\n",
    "\n",
    "    for word, i in word_to_idx.items():\n",
    "        try:\n",
    "            embedding_vector = model.get_vector(word)\n",
    "            if embedding_vector is not None:\n",
    "                embedding_matrix[i] = embedding_vector\n",
    "                hits += 1\n",
    "            else:\n",
    "                misses += 1\n",
    "        except:\n",
    "            misses += 1\n",
    "            \n",
    "    print(\"Converted %d words (%d misses)\" % (hits, misses))\n",
    "    return torch.tensor(embedding_matrix)\n",
    "\n",
    "\n",
    "embedding_matrix = embed (w2vModel, word_to_idx)"
   ]
  },
  {
   "cell_type": "code",
   "execution_count": 11,
   "metadata": {},
   "outputs": [],
   "source": [
    "torch.manual_seed(SEED)\n",
    "device = torch.device(\"cuda\" if torch.cuda.is_available() else \"cpu\")\n",
    "class CustomDataset(Dataset):\n",
    "    def __init__(self, X, y):\n",
    "        self.X =torch.tensor(X, dtype=torch.int)\n",
    "        self.y =torch.tensor(y, dtype=torch.long)\n",
    "\n",
    "    def __len__(self):\n",
    "        return len(self.y)\n",
    "\n",
    "    def __getitem__(self,idx):\n",
    "        return self.X[idx], self.y[idx]\n",
    "\n",
    "def initialize_loader(X_train_tensor, X_val_tensor, y_train, y_val, batch_size=50):\n",
    "    # no need to do the scale since original wv already did\n",
    "    train_data = CustomDataset(X_train_tensor, y_train)\n",
    "    val_data = CustomDataset(X_val_tensor, y_val)\n",
    "\n",
    "    # convert to DataLoader for batch processing and shuffling\n",
    "    train_dataloader = DataLoader(train_data, batch_size=batch_size, shuffle=True)\n",
    "    for inputs, targets in train_dataloader:\n",
    "        inputs, targets = inputs.to(device), targets.to(device)\n",
    "    val_dataloader = DataLoader(val_data, batch_size=batch_size, shuffle=False)\n",
    "    for inputs, targets in val_dataloader:\n",
    "        inputs, targets = inputs.to(device), targets.to(device)\n",
    "    return train_dataloader, val_dataloader"
   ]
  },
  {
   "cell_type": "code",
   "execution_count": 12,
   "metadata": {},
   "outputs": [],
   "source": [
    "# model\n",
    "class CNN(nn.Module):\n",
    "    def __init__(self, embedding_matrix, dim_in, dim_conv, dim_out, dropout_rate=0.5, max_length=max_length_1):\n",
    "        super(CNN, self).__init__()\n",
    "        self.embedding = nn.Embedding(embedding_matrix.shape[0], dim_in).from_pretrained(embedding_matrix, freeze=True)\n",
    "        self.conv1_3 = nn.Conv1d(dim_in, dim_conv, 3, padding=5)\n",
    "        self.conv1_4 = nn.Conv1d(dim_in, dim_conv, 4, padding=5)\n",
    "        self.conv1_5 = nn.Conv1d(dim_in, dim_conv, 5, padding=5)\n",
    "        self.ReLU = nn.ReLU()\n",
    "        self.maxpool_1 = nn.MaxPool1d(kernel_size=max_length+8)\n",
    "        self.maxpool_2 = nn.MaxPool1d(kernel_size=max_length+7)\n",
    "        self.maxpool_3 = nn.MaxPool1d(kernel_size=max_length+6)\n",
    "        self.fc = nn.Linear(dim_conv * 3, dim_out)\n",
    "        self.dropout = nn.Dropout(p=dropout_rate)\n",
    "        self.softmax = nn.Softmax()\n",
    "\n",
    "\n",
    "    def forward(self, x):\n",
    "        x = self.embedding(x).transpose(1, 2)\n",
    "        x1 = self.conv1_3(x)\n",
    "        x1 = self.ReLU(x1)\n",
    "        x1 = self.maxpool_1(x1)\n",
    "\n",
    "\n",
    "        x2 = self.conv1_4(x)\n",
    "        x2 = self.ReLU(x2)\n",
    "        x2 = self.maxpool_2(x2)\n",
    "\n",
    "        x3 = self.conv1_5(x)\n",
    "        x3 = self.ReLU(x3)\n",
    "        x3 = self.maxpool_3(x3)\n",
    "\n",
    "        x = torch.cat((x1, x2, x3), dim=1)\n",
    "        x = torch.flatten(x, 1)\n",
    "        x = self.fc(x)\n",
    "        x = self.dropout(x)\n",
    "        x = self.softmax(x)\n",
    "        return x"
   ]
  },
  {
   "cell_type": "code",
   "execution_count": 13,
   "metadata": {},
   "outputs": [],
   "source": [
    "# training\n",
    "max_norm = 3\n",
    "def train_loop(dataloader, model, loss_fn, optimizer):\n",
    "    size = len(dataloader.dataset)\n",
    "    optimizer.zero_grad()\n",
    "    train_loss, correct_num = 0, 0\n",
    "    model.train()\n",
    "    for X, y in dataloader:\n",
    "        X, y = X.to(device), y.to(device)\n",
    "        optimizer.zero_grad()\n",
    "        pred = model(X)\n",
    "        loss = loss_fn(pred, y)\n",
    "\n",
    "        loss.backward()\n",
    "\n",
    "        for _, module in model.named_modules():\n",
    "            if isinstance(module, nn.Linear):\n",
    "                for _, param in module.named_parameters():\n",
    "                    param_norm = param.data.norm(2)\n",
    "                    if param_norm > max_norm:\n",
    "                        param.data.mul_(max_norm / (param_norm + 1e-6))\n",
    "\n",
    "        optimizer.step()\n",
    "        model.eval()\n",
    "        with torch.no_grad():\n",
    "            pred = model(X)\n",
    "            loss = loss_fn(pred, y)\n",
    "            train_loss += loss.item() * X.size(0)\n",
    "            correct_num += (torch.eq(torch.argmax(pred, dim=1), y)).type(torch.float).sum().item()\n",
    "\n",
    "    train_loss /= size\n",
    "    train_acc = correct_num / size\n",
    "    return train_loss, train_acc\n",
    "\n",
    "def val_loop(dataloader, model, loss_fn):\n",
    "    size = len(dataloader.dataset)\n",
    "    val_loss, correct_num = 0, 0\n",
    "    model.eval()  # inform no dropout and fix bn during testing\n",
    "\n",
    "    with torch.no_grad():\n",
    "        for X, y in dataloader:\n",
    "            X, y = X.to(device), y.to(device)\n",
    "\n",
    "            pred = model(X)\n",
    "            val_loss += loss_fn(pred, y).item() * X.size(0)\n",
    "            correct_num += (torch.eq(torch.argmax(pred, dim=1), y)).type(torch.float).sum().item()\n",
    "\n",
    "    val_loss /= size\n",
    "    val_acc = correct_num / size\n",
    "    return val_loss, val_acc\n",
    "        "
   ]
  },
  {
   "cell_type": "code",
   "execution_count": 14,
   "metadata": {},
   "outputs": [
    {
     "name": "stderr",
     "output_type": "stream",
     "text": [
      "C:\\Users\\Chihao Shen\\AppData\\Local\\Temp\\ipykernel_19712\\4141404722.py:5: UserWarning: To copy construct from a tensor, it is recommended to use sourceTensor.clone().detach() or sourceTensor.clone().detach().requires_grad_(True), rather than torch.tensor(sourceTensor).\n",
      "  self.X =torch.tensor(X, dtype=torch.int)\n"
     ]
    },
    {
     "name": "stdout",
     "output_type": "stream",
     "text": [
      "batch size: 32; conv layer dimension: 128\n"
     ]
    },
    {
     "name": "stderr",
     "output_type": "stream",
     "text": [
      "  0%|          | 0/100 [00:00<?, ?it/s]e:\\git\\SC4001\\Project\\venv\\lib\\site-packages\\torch\\nn\\modules\\module.py:1511: UserWarning: Implicit dimension choice for softmax has been deprecated. Change the call to include dim=X as an argument.\n",
      "  return self._call_impl(*args, **kwargs)\n",
      "  5%|▌         | 5/100 [00:49<15:44,  9.95s/it]"
     ]
    },
    {
     "name": "stdout",
     "output_type": "stream",
     "text": [
      "Epoch 5, train_loss 0.352537 train_acc 0.963771, val_loss 0.388655, val_acc 0.924425\n"
     ]
    },
    {
     "name": "stderr",
     "output_type": "stream",
     "text": [
      " 10%|█         | 10/100 [01:39<14:48,  9.87s/it]"
     ]
    },
    {
     "name": "stdout",
     "output_type": "stream",
     "text": [
      "Epoch 10, train_loss 0.339892 train_acc 0.975037, val_loss 0.378350, val_acc 0.933630\n"
     ]
    },
    {
     "name": "stderr",
     "output_type": "stream",
     "text": [
      " 15%|█▌        | 15/100 [02:28<14:02,  9.92s/it]"
     ]
    },
    {
     "name": "stdout",
     "output_type": "stream",
     "text": [
      "Epoch 15, train_loss 0.335922 train_acc 0.978229, val_loss 0.378499, val_acc 0.932591\n"
     ]
    },
    {
     "name": "stderr",
     "output_type": "stream",
     "text": [
      " 19%|█▉        | 19/100 [03:17<14:02, 10.41s/it]"
     ]
    },
    {
     "name": "stdout",
     "output_type": "stream",
     "text": [
      "early stopping after 20 epochs\n",
      "best test loss: 0.37835026886964074\n",
      "batch size: 32; conv layer dimension: 256\n"
     ]
    },
    {
     "name": "stderr",
     "output_type": "stream",
     "text": [
      "\n",
      "  5%|▌         | 5/100 [00:48<15:35,  9.84s/it]"
     ]
    },
    {
     "name": "stdout",
     "output_type": "stream",
     "text": [
      "Epoch 5, train_loss 0.353177 train_acc 0.962490, val_loss 0.384536, val_acc 0.925761\n"
     ]
    },
    {
     "name": "stderr",
     "output_type": "stream",
     "text": [
      " 10%|█         | 10/100 [01:38<14:52,  9.92s/it]"
     ]
    },
    {
     "name": "stdout",
     "output_type": "stream",
     "text": [
      "Epoch 10, train_loss 0.342662 train_acc 0.971696, val_loss 0.379606, val_acc 0.932146\n"
     ]
    },
    {
     "name": "stderr",
     "output_type": "stream",
     "text": [
      " 15%|█▌        | 15/100 [02:28<14:04,  9.94s/it]"
     ]
    },
    {
     "name": "stdout",
     "output_type": "stream",
     "text": [
      "Epoch 15, train_loss 0.337868 train_acc 0.976039, val_loss 0.378985, val_acc 0.933259\n"
     ]
    },
    {
     "name": "stderr",
     "output_type": "stream",
     "text": [
      " 20%|██        | 20/100 [03:17<13:12,  9.90s/it]"
     ]
    },
    {
     "name": "stdout",
     "output_type": "stream",
     "text": [
      "Epoch 20, train_loss 0.336072 train_acc 0.977617, val_loss 0.378946, val_acc 0.932814\n"
     ]
    },
    {
     "name": "stderr",
     "output_type": "stream",
     "text": [
      " 25%|██▌       | 25/100 [04:07<12:27,  9.96s/it]"
     ]
    },
    {
     "name": "stdout",
     "output_type": "stream",
     "text": [
      "Epoch 25, train_loss 0.335324 train_acc 0.978155, val_loss 0.379874, val_acc 0.932220\n"
     ]
    },
    {
     "name": "stderr",
     "output_type": "stream",
     "text": [
      " 26%|██▌       | 26/100 [04:27<12:39, 10.27s/it]"
     ]
    },
    {
     "name": "stdout",
     "output_type": "stream",
     "text": [
      "early stopping after 27 epochs\n",
      "best test loss: 0.37588964621491494\n",
      "batch size: 32; conv layer dimension: 512\n"
     ]
    },
    {
     "name": "stderr",
     "output_type": "stream",
     "text": [
      "\n",
      "  5%|▌         | 5/100 [00:51<16:27, 10.40s/it]"
     ]
    },
    {
     "name": "stdout",
     "output_type": "stream",
     "text": [
      "Epoch 5, train_loss 0.354358 train_acc 0.960430, val_loss 0.387631, val_acc 0.922791\n"
     ]
    },
    {
     "name": "stderr",
     "output_type": "stream",
     "text": [
      " 10%|█         | 10/100 [01:43<15:33, 10.37s/it]"
     ]
    },
    {
     "name": "stdout",
     "output_type": "stream",
     "text": [
      "Epoch 10, train_loss 0.342752 train_acc 0.971399, val_loss 0.382639, val_acc 0.929102\n"
     ]
    },
    {
     "name": "stderr",
     "output_type": "stream",
     "text": [
      " 15%|█▌        | 15/100 [02:35<14:40, 10.36s/it]"
     ]
    },
    {
     "name": "stdout",
     "output_type": "stream",
     "text": [
      "Epoch 15, train_loss 0.340251 train_acc 0.973552, val_loss 0.383666, val_acc 0.927394\n"
     ]
    },
    {
     "name": "stderr",
     "output_type": "stream",
     "text": [
      " 20%|██        | 20/100 [03:27<13:50, 10.39s/it]"
     ]
    },
    {
     "name": "stdout",
     "output_type": "stream",
     "text": [
      "Epoch 20, train_loss 0.337467 train_acc 0.976076, val_loss 0.379130, val_acc 0.932294\n"
     ]
    },
    {
     "name": "stderr",
     "output_type": "stream",
     "text": [
      " 25%|██▌       | 25/100 [04:19<12:58, 10.38s/it]"
     ]
    },
    {
     "name": "stdout",
     "output_type": "stream",
     "text": [
      "Epoch 25, train_loss 0.336400 train_acc 0.977097, val_loss 0.382005, val_acc 0.929547\n"
     ]
    },
    {
     "name": "stderr",
     "output_type": "stream",
     "text": [
      " 28%|██▊       | 28/100 [05:00<12:53, 10.74s/it]"
     ]
    },
    {
     "name": "stdout",
     "output_type": "stream",
     "text": [
      "early stopping after 29 epochs\n",
      "best test loss: 0.3771600264704661\n",
      "batch size: 32; conv layer dimension: 1024\n"
     ]
    },
    {
     "name": "stderr",
     "output_type": "stream",
     "text": [
      "\n",
      "  5%|▌         | 5/100 [01:16<24:12, 15.28s/it]"
     ]
    },
    {
     "name": "stdout",
     "output_type": "stream",
     "text": [
      "Epoch 5, train_loss 0.358445 train_acc 0.955938, val_loss 0.387683, val_acc 0.924202\n"
     ]
    },
    {
     "name": "stderr",
     "output_type": "stream",
     "text": [
      " 10%|█         | 10/100 [02:32<22:52, 15.25s/it]"
     ]
    },
    {
     "name": "stdout",
     "output_type": "stream",
     "text": [
      "Epoch 10, train_loss 0.345638 train_acc 0.968151, val_loss 0.383446, val_acc 0.928211\n"
     ]
    },
    {
     "name": "stderr",
     "output_type": "stream",
     "text": [
      " 15%|█▌        | 15/100 [03:49<21:36, 15.26s/it]"
     ]
    },
    {
     "name": "stdout",
     "output_type": "stream",
     "text": [
      "Epoch 15, train_loss 0.341772 train_acc 0.971974, val_loss 0.380416, val_acc 0.931255\n"
     ]
    },
    {
     "name": "stderr",
     "output_type": "stream",
     "text": [
      " 20%|██        | 20/100 [05:05<20:24, 15.30s/it]"
     ]
    },
    {
     "name": "stdout",
     "output_type": "stream",
     "text": [
      "Epoch 20, train_loss 0.339300 train_acc 0.974257, val_loss 0.382056, val_acc 0.928879\n"
     ]
    },
    {
     "name": "stderr",
     "output_type": "stream",
     "text": [
      " 25%|██▌       | 25/100 [06:22<19:04, 15.26s/it]"
     ]
    },
    {
     "name": "stdout",
     "output_type": "stream",
     "text": [
      "Epoch 25, train_loss 0.338320 train_acc 0.975111, val_loss 0.381982, val_acc 0.929324\n"
     ]
    },
    {
     "name": "stderr",
     "output_type": "stream",
     "text": [
      " 30%|███       | 30/100 [07:38<17:44, 15.21s/it]"
     ]
    },
    {
     "name": "stdout",
     "output_type": "stream",
     "text": [
      "Epoch 30, train_loss 0.337021 train_acc 0.976429, val_loss 0.387024, val_acc 0.925390\n"
     ]
    },
    {
     "name": "stderr",
     "output_type": "stream",
     "text": [
      " 35%|███▌      | 35/100 [08:54<16:28, 15.21s/it]"
     ]
    },
    {
     "name": "stdout",
     "output_type": "stream",
     "text": [
      "Epoch 35, train_loss 0.337475 train_acc 0.976002, val_loss 0.379281, val_acc 0.931552\n"
     ]
    },
    {
     "name": "stderr",
     "output_type": "stream",
     "text": [
      " 40%|████      | 40/100 [10:10<15:14, 15.25s/it]"
     ]
    },
    {
     "name": "stdout",
     "output_type": "stream",
     "text": [
      "Epoch 40, train_loss 0.336064 train_acc 0.977375, val_loss 0.379307, val_acc 0.932368\n"
     ]
    },
    {
     "name": "stderr",
     "output_type": "stream",
     "text": [
      " 45%|████▌     | 45/100 [11:26<13:58, 15.25s/it]"
     ]
    },
    {
     "name": "stdout",
     "output_type": "stream",
     "text": [
      "Epoch 45, train_loss 0.335198 train_acc 0.978155, val_loss 0.377843, val_acc 0.933779\n"
     ]
    },
    {
     "name": "stderr",
     "output_type": "stream",
     "text": [
      " 46%|████▌     | 46/100 [11:57<14:01, 15.59s/it]"
     ]
    },
    {
     "name": "stdout",
     "output_type": "stream",
     "text": [
      "early stopping after 47 epochs\n",
      "best test loss: 0.3771123662425043\n"
     ]
    },
    {
     "name": "stderr",
     "output_type": "stream",
     "text": [
      "\n",
      "C:\\Users\\Chihao Shen\\AppData\\Local\\Temp\\ipykernel_19712\\4141404722.py:5: UserWarning: To copy construct from a tensor, it is recommended to use sourceTensor.clone().detach() or sourceTensor.clone().detach().requires_grad_(True), rather than torch.tensor(sourceTensor).\n",
      "  self.X =torch.tensor(X, dtype=torch.int)\n"
     ]
    },
    {
     "name": "stdout",
     "output_type": "stream",
     "text": [
      "batch size: 64; conv layer dimension: 128\n"
     ]
    },
    {
     "name": "stderr",
     "output_type": "stream",
     "text": [
      "  5%|▌         | 5/100 [00:26<08:21,  5.28s/it]"
     ]
    },
    {
     "name": "stdout",
     "output_type": "stream",
     "text": [
      "Epoch 5, train_loss 0.352847 train_acc 0.964884, val_loss 0.384078, val_acc 0.928434\n"
     ]
    },
    {
     "name": "stderr",
     "output_type": "stream",
     "text": [
      " 10%|█         | 10/100 [00:52<07:54,  5.28s/it]"
     ]
    },
    {
     "name": "stdout",
     "output_type": "stream",
     "text": [
      "Epoch 10, train_loss 0.338798 train_acc 0.976856, val_loss 0.376526, val_acc 0.934298\n"
     ]
    },
    {
     "name": "stderr",
     "output_type": "stream",
     "text": [
      " 15%|█▌        | 15/100 [01:19<07:25,  5.24s/it]"
     ]
    },
    {
     "name": "stdout",
     "output_type": "stream",
     "text": [
      "Epoch 15, train_loss 0.334932 train_acc 0.979584, val_loss 0.375612, val_acc 0.935412\n"
     ]
    },
    {
     "name": "stderr",
     "output_type": "stream",
     "text": [
      " 20%|██        | 20/100 [01:45<06:54,  5.18s/it]"
     ]
    },
    {
     "name": "stdout",
     "output_type": "stream",
     "text": [
      "Epoch 20, train_loss 0.332725 train_acc 0.981421, val_loss 0.377682, val_acc 0.933779\n"
     ]
    },
    {
     "name": "stderr",
     "output_type": "stream",
     "text": [
      " 25%|██▌       | 25/100 [02:11<06:32,  5.24s/it]"
     ]
    },
    {
     "name": "stdout",
     "output_type": "stream",
     "text": [
      "Epoch 25, train_loss 0.331583 train_acc 0.982331, val_loss 0.378483, val_acc 0.932814\n"
     ]
    },
    {
     "name": "stderr",
     "output_type": "stream",
     "text": [
      " 30%|███       | 30/100 [02:37<06:08,  5.27s/it]"
     ]
    },
    {
     "name": "stdout",
     "output_type": "stream",
     "text": [
      "Epoch 30, train_loss 0.330907 train_acc 0.982758, val_loss 0.375338, val_acc 0.936674\n"
     ]
    },
    {
     "name": "stderr",
     "output_type": "stream",
     "text": [
      " 35%|███▌      | 35/100 [03:03<05:40,  5.24s/it]"
     ]
    },
    {
     "name": "stdout",
     "output_type": "stream",
     "text": [
      "Epoch 35, train_loss 0.330536 train_acc 0.983147, val_loss 0.374575, val_acc 0.936451\n"
     ]
    },
    {
     "name": "stderr",
     "output_type": "stream",
     "text": [
      " 38%|███▊      | 38/100 [03:24<05:34,  5.39s/it]"
     ]
    },
    {
     "name": "stdout",
     "output_type": "stream",
     "text": [
      "early stopping after 39 epochs\n",
      "best test loss: 0.37422966547780506\n",
      "batch size: 64; conv layer dimension: 256\n"
     ]
    },
    {
     "name": "stderr",
     "output_type": "stream",
     "text": [
      "\n",
      "  5%|▌         | 5/100 [00:27<08:42,  5.50s/it]"
     ]
    },
    {
     "name": "stdout",
     "output_type": "stream",
     "text": [
      "Epoch 5, train_loss 0.350448 train_acc 0.966109, val_loss 0.381650, val_acc 0.930512\n"
     ]
    },
    {
     "name": "stderr",
     "output_type": "stream",
     "text": [
      " 10%|█         | 10/100 [00:55<08:14,  5.50s/it]"
     ]
    },
    {
     "name": "stdout",
     "output_type": "stream",
     "text": [
      "Epoch 10, train_loss 0.338871 train_acc 0.975909, val_loss 0.388631, val_acc 0.923014\n"
     ]
    },
    {
     "name": "stderr",
     "output_type": "stream",
     "text": [
      " 15%|█▌        | 15/100 [01:22<07:49,  5.52s/it]"
     ]
    },
    {
     "name": "stdout",
     "output_type": "stream",
     "text": [
      "Epoch 15, train_loss 0.335622 train_acc 0.978600, val_loss 0.376628, val_acc 0.935041\n"
     ]
    },
    {
     "name": "stderr",
     "output_type": "stream",
     "text": [
      " 20%|██        | 20/100 [01:50<07:22,  5.53s/it]"
     ]
    },
    {
     "name": "stdout",
     "output_type": "stream",
     "text": [
      "Epoch 20, train_loss 0.333435 train_acc 0.980586, val_loss 0.375582, val_acc 0.936154\n"
     ]
    },
    {
     "name": "stderr",
     "output_type": "stream",
     "text": [
      " 25%|██▌       | 25/100 [02:17<06:53,  5.51s/it]"
     ]
    },
    {
     "name": "stdout",
     "output_type": "stream",
     "text": [
      "Epoch 25, train_loss 0.332588 train_acc 0.981106, val_loss 0.376783, val_acc 0.934521\n"
     ]
    },
    {
     "name": "stderr",
     "output_type": "stream",
     "text": [
      " 30%|███       | 30/100 [02:45<06:24,  5.50s/it]"
     ]
    },
    {
     "name": "stdout",
     "output_type": "stream",
     "text": [
      "Epoch 30, train_loss 0.331775 train_acc 0.981793, val_loss 0.375998, val_acc 0.936006\n"
     ]
    },
    {
     "name": "stderr",
     "output_type": "stream",
     "text": [
      " 35%|███▌      | 35/100 [03:12<05:56,  5.49s/it]"
     ]
    },
    {
     "name": "stdout",
     "output_type": "stream",
     "text": [
      "Epoch 35, train_loss 0.331371 train_acc 0.982164, val_loss 0.375150, val_acc 0.935932\n"
     ]
    },
    {
     "name": "stderr",
     "output_type": "stream",
     "text": [
      " 40%|████      | 40/100 [03:40<05:29,  5.49s/it]"
     ]
    },
    {
     "name": "stdout",
     "output_type": "stream",
     "text": [
      "Epoch 40, train_loss 0.331145 train_acc 0.982331, val_loss 0.376218, val_acc 0.935041\n"
     ]
    },
    {
     "name": "stderr",
     "output_type": "stream",
     "text": [
      " 43%|████▎     | 43/100 [04:02<05:20,  5.63s/it]"
     ]
    },
    {
     "name": "stdout",
     "output_type": "stream",
     "text": [
      "early stopping after 44 epochs\n",
      "best test loss: 0.3744508146133437\n",
      "batch size: 64; conv layer dimension: 512\n"
     ]
    },
    {
     "name": "stderr",
     "output_type": "stream",
     "text": [
      "\n",
      "  5%|▌         | 5/100 [00:37<11:56,  7.54s/it]"
     ]
    },
    {
     "name": "stdout",
     "output_type": "stream",
     "text": [
      "Epoch 5, train_loss 0.351533 train_acc 0.964253, val_loss 0.385235, val_acc 0.926355\n"
     ]
    },
    {
     "name": "stderr",
     "output_type": "stream",
     "text": [
      " 10%|█         | 10/100 [01:15<11:21,  7.57s/it]"
     ]
    },
    {
     "name": "stdout",
     "output_type": "stream",
     "text": [
      "Epoch 10, train_loss 0.340150 train_acc 0.974201, val_loss 0.379264, val_acc 0.932591\n"
     ]
    },
    {
     "name": "stderr",
     "output_type": "stream",
     "text": [
      " 15%|█▌        | 15/100 [01:53<10:44,  7.58s/it]"
     ]
    },
    {
     "name": "stdout",
     "output_type": "stream",
     "text": [
      "Epoch 15, train_loss 0.336975 train_acc 0.977171, val_loss 0.377181, val_acc 0.934224\n"
     ]
    },
    {
     "name": "stderr",
     "output_type": "stream",
     "text": [
      " 20%|██        | 20/100 [02:31<10:05,  7.57s/it]"
     ]
    },
    {
     "name": "stdout",
     "output_type": "stream",
     "text": [
      "Epoch 20, train_loss 0.334575 train_acc 0.979176, val_loss 0.377647, val_acc 0.933556\n"
     ]
    },
    {
     "name": "stderr",
     "output_type": "stream",
     "text": [
      " 25%|██▌       | 25/100 [03:09<09:30,  7.60s/it]"
     ]
    },
    {
     "name": "stdout",
     "output_type": "stream",
     "text": [
      "Epoch 25, train_loss 0.333963 train_acc 0.979584, val_loss 0.375606, val_acc 0.935486\n"
     ]
    },
    {
     "name": "stderr",
     "output_type": "stream",
     "text": [
      " 26%|██▌       | 26/100 [03:24<09:42,  7.87s/it]"
     ]
    },
    {
     "name": "stdout",
     "output_type": "stream",
     "text": [
      "early stopping after 27 epochs\n",
      "best test loss: 0.37549032950808403\n",
      "batch size: 64; conv layer dimension: 1024\n"
     ]
    },
    {
     "name": "stderr",
     "output_type": "stream",
     "text": [
      "\n",
      "  5%|▌         | 5/100 [01:04<20:29, 12.95s/it]"
     ]
    },
    {
     "name": "stdout",
     "output_type": "stream",
     "text": [
      "Epoch 5, train_loss 0.353427 train_acc 0.961414, val_loss 0.391246, val_acc 0.920564\n"
     ]
    },
    {
     "name": "stderr",
     "output_type": "stream",
     "text": [
      " 10%|█         | 10/100 [02:09<19:27, 12.97s/it]"
     ]
    },
    {
     "name": "stdout",
     "output_type": "stream",
     "text": [
      "Epoch 10, train_loss 0.342592 train_acc 0.971714, val_loss 0.383489, val_acc 0.928211\n"
     ]
    },
    {
     "name": "stderr",
     "output_type": "stream",
     "text": [
      " 15%|█▌        | 15/100 [03:14<18:23, 12.98s/it]"
     ]
    },
    {
     "name": "stdout",
     "output_type": "stream",
     "text": [
      "Epoch 15, train_loss 0.338803 train_acc 0.974925, val_loss 0.379634, val_acc 0.932146\n"
     ]
    },
    {
     "name": "stderr",
     "output_type": "stream",
     "text": [
      " 20%|██        | 20/100 [04:19<17:18, 12.98s/it]"
     ]
    },
    {
     "name": "stdout",
     "output_type": "stream",
     "text": [
      "Epoch 20, train_loss 0.336643 train_acc 0.977078, val_loss 0.376740, val_acc 0.934298\n"
     ]
    },
    {
     "name": "stderr",
     "output_type": "stream",
     "text": [
      " 25%|██▌       | 25/100 [05:24<16:12, 12.96s/it]"
     ]
    },
    {
     "name": "stdout",
     "output_type": "stream",
     "text": [
      "Epoch 25, train_loss 0.335764 train_acc 0.977765, val_loss 0.378937, val_acc 0.933259\n"
     ]
    },
    {
     "name": "stderr",
     "output_type": "stream",
     "text": [
      " 30%|███       | 30/100 [06:29<15:08, 12.98s/it]"
     ]
    },
    {
     "name": "stdout",
     "output_type": "stream",
     "text": [
      "Epoch 30, train_loss 0.334946 train_acc 0.978545, val_loss 0.376265, val_acc 0.936303\n"
     ]
    },
    {
     "name": "stderr",
     "output_type": "stream",
     "text": [
      " 35%|███▌      | 35/100 [07:33<14:03, 12.98s/it]"
     ]
    },
    {
     "name": "stdout",
     "output_type": "stream",
     "text": [
      "Epoch 35, train_loss 0.334359 train_acc 0.979046, val_loss 0.375077, val_acc 0.936674\n"
     ]
    },
    {
     "name": "stderr",
     "output_type": "stream",
     "text": [
      " 40%|████      | 40/100 [08:38<12:57, 12.96s/it]"
     ]
    },
    {
     "name": "stdout",
     "output_type": "stream",
     "text": [
      "Epoch 40, train_loss 0.333819 train_acc 0.979640, val_loss 0.378811, val_acc 0.932071\n"
     ]
    },
    {
     "name": "stderr",
     "output_type": "stream",
     "text": [
      " 44%|████▍     | 44/100 [09:43<12:23, 13.27s/it]"
     ]
    },
    {
     "name": "stdout",
     "output_type": "stream",
     "text": [
      "early stopping after 45 epochs\n",
      "best test loss: 0.37507651878801557\n"
     ]
    },
    {
     "name": "stderr",
     "output_type": "stream",
     "text": [
      "\n"
     ]
    },
    {
     "name": "stdout",
     "output_type": "stream",
     "text": [
      "batch size: 128; conv layer dimension: 128\n"
     ]
    },
    {
     "name": "stderr",
     "output_type": "stream",
     "text": [
      "  5%|▌         | 5/100 [00:16<05:13,  3.30s/it]"
     ]
    },
    {
     "name": "stdout",
     "output_type": "stream",
     "text": [
      "Epoch 5, train_loss 0.357238 train_acc 0.961376, val_loss 0.384017, val_acc 0.930215\n"
     ]
    },
    {
     "name": "stderr",
     "output_type": "stream",
     "text": [
      " 10%|█         | 10/100 [00:33<04:57,  3.31s/it]"
     ]
    },
    {
     "name": "stdout",
     "output_type": "stream",
     "text": [
      "Epoch 10, train_loss 0.341199 train_acc 0.975148, val_loss 0.377090, val_acc 0.934967\n"
     ]
    },
    {
     "name": "stderr",
     "output_type": "stream",
     "text": [
      " 15%|█▌        | 15/100 [00:49<04:39,  3.29s/it]"
     ]
    },
    {
     "name": "stdout",
     "output_type": "stream",
     "text": [
      "Epoch 15, train_loss 0.335378 train_acc 0.980104, val_loss 0.375483, val_acc 0.936526\n"
     ]
    },
    {
     "name": "stderr",
     "output_type": "stream",
     "text": [
      " 20%|██        | 20/100 [01:05<04:23,  3.30s/it]"
     ]
    },
    {
     "name": "stdout",
     "output_type": "stream",
     "text": [
      "Epoch 20, train_loss 0.332865 train_acc 0.981663, val_loss 0.375260, val_acc 0.937045\n"
     ]
    },
    {
     "name": "stderr",
     "output_type": "stream",
     "text": [
      " 25%|██▌       | 25/100 [01:22<04:05,  3.27s/it]"
     ]
    },
    {
     "name": "stdout",
     "output_type": "stream",
     "text": [
      "Epoch 25, train_loss 0.331405 train_acc 0.982776, val_loss 0.374596, val_acc 0.936823\n"
     ]
    },
    {
     "name": "stderr",
     "output_type": "stream",
     "text": [
      " 30%|███       | 30/100 [01:38<03:50,  3.29s/it]"
     ]
    },
    {
     "name": "stdout",
     "output_type": "stream",
     "text": [
      "Epoch 30, train_loss 0.330345 train_acc 0.983519, val_loss 0.379151, val_acc 0.932962\n"
     ]
    },
    {
     "name": "stderr",
     "output_type": "stream",
     "text": [
      " 31%|███       | 31/100 [01:45<03:54,  3.40s/it]"
     ]
    },
    {
     "name": "stdout",
     "output_type": "stream",
     "text": [
      "early stopping after 32 epochs\n",
      "best test loss: 0.37428933659923813\n",
      "batch size: 128; conv layer dimension: 256\n"
     ]
    },
    {
     "name": "stderr",
     "output_type": "stream",
     "text": [
      "\n",
      "  5%|▌         | 5/100 [00:20<06:32,  4.13s/it]"
     ]
    },
    {
     "name": "stdout",
     "output_type": "stream",
     "text": [
      "Epoch 5, train_loss 0.350786 train_acc 0.966647, val_loss 0.383199, val_acc 0.929324\n"
     ]
    },
    {
     "name": "stderr",
     "output_type": "stream",
     "text": [
      " 10%|█         | 10/100 [00:41<06:12,  4.14s/it]"
     ]
    },
    {
     "name": "stdout",
     "output_type": "stream",
     "text": [
      "Epoch 10, train_loss 0.337504 train_acc 0.978322, val_loss 0.375968, val_acc 0.936154\n"
     ]
    },
    {
     "name": "stderr",
     "output_type": "stream",
     "text": [
      " 15%|█▌        | 15/100 [01:02<05:54,  4.17s/it]"
     ]
    },
    {
     "name": "stdout",
     "output_type": "stream",
     "text": [
      "Epoch 15, train_loss 0.333572 train_acc 0.981087, val_loss 0.374051, val_acc 0.938679\n"
     ]
    },
    {
     "name": "stderr",
     "output_type": "stream",
     "text": [
      " 20%|██        | 20/100 [01:23<05:34,  4.18s/it]"
     ]
    },
    {
     "name": "stdout",
     "output_type": "stream",
     "text": [
      "Epoch 20, train_loss 0.331859 train_acc 0.982257, val_loss 0.373752, val_acc 0.937936\n"
     ]
    },
    {
     "name": "stderr",
     "output_type": "stream",
     "text": [
      " 25%|██▌       | 25/100 [01:44<05:12,  4.17s/it]"
     ]
    },
    {
     "name": "stdout",
     "output_type": "stream",
     "text": [
      "Epoch 25, train_loss 0.330840 train_acc 0.983036, val_loss 0.374562, val_acc 0.937045\n"
     ]
    },
    {
     "name": "stderr",
     "output_type": "stream",
     "text": [
      " 25%|██▌       | 25/100 [01:48<05:24,  4.33s/it]"
     ]
    },
    {
     "name": "stdout",
     "output_type": "stream",
     "text": [
      "early stopping after 26 epochs\n",
      "best test loss: 0.372628566408122\n",
      "batch size: 128; conv layer dimension: 512\n"
     ]
    },
    {
     "name": "stderr",
     "output_type": "stream",
     "text": [
      "\n",
      "  5%|▌         | 5/100 [00:33<10:35,  6.69s/it]"
     ]
    },
    {
     "name": "stdout",
     "output_type": "stream",
     "text": [
      "Epoch 5, train_loss 0.350257 train_acc 0.966016, val_loss 0.381895, val_acc 0.930883\n"
     ]
    },
    {
     "name": "stderr",
     "output_type": "stream",
     "text": [
      " 10%|█         | 10/100 [01:06<10:01,  6.68s/it]"
     ]
    },
    {
     "name": "stdout",
     "output_type": "stream",
     "text": [
      "Epoch 10, train_loss 0.338718 train_acc 0.976076, val_loss 0.377947, val_acc 0.934001\n"
     ]
    },
    {
     "name": "stderr",
     "output_type": "stream",
     "text": [
      " 15%|█▌        | 15/100 [01:40<09:28,  6.69s/it]"
     ]
    },
    {
     "name": "stdout",
     "output_type": "stream",
     "text": [
      "Epoch 15, train_loss 0.334759 train_acc 0.979751, val_loss 0.378699, val_acc 0.932220\n"
     ]
    },
    {
     "name": "stderr",
     "output_type": "stream",
     "text": [
      " 20%|██        | 20/100 [02:13<08:54,  6.68s/it]"
     ]
    },
    {
     "name": "stdout",
     "output_type": "stream",
     "text": [
      "Epoch 20, train_loss 0.333277 train_acc 0.980530, val_loss 0.374598, val_acc 0.936377\n"
     ]
    },
    {
     "name": "stderr",
     "output_type": "stream",
     "text": [
      " 25%|██▌       | 25/100 [02:47<08:21,  6.68s/it]"
     ]
    },
    {
     "name": "stdout",
     "output_type": "stream",
     "text": [
      "Epoch 25, train_loss 0.331983 train_acc 0.981811, val_loss 0.376704, val_acc 0.934818\n"
     ]
    },
    {
     "name": "stderr",
     "output_type": "stream",
     "text": [
      " 30%|███       | 30/100 [03:20<07:49,  6.70s/it]"
     ]
    },
    {
     "name": "stdout",
     "output_type": "stream",
     "text": [
      "Epoch 30, train_loss 0.331434 train_acc 0.982164, val_loss 0.375699, val_acc 0.935635\n"
     ]
    },
    {
     "name": "stderr",
     "output_type": "stream",
     "text": [
      " 30%|███       | 30/100 [03:27<08:03,  6.91s/it]\n"
     ]
    },
    {
     "name": "stdout",
     "output_type": "stream",
     "text": [
      "early stopping after 31 epochs\n",
      "best test loss: 0.3735746946348999\n",
      "batch size: 128; conv layer dimension: 1024\n"
     ]
    },
    {
     "name": "stderr",
     "output_type": "stream",
     "text": [
      "  5%|▌         | 5/100 [01:02<19:47, 12.50s/it]"
     ]
    },
    {
     "name": "stdout",
     "output_type": "stream",
     "text": [
      "Epoch 5, train_loss 0.349362 train_acc 0.966518, val_loss 0.382066, val_acc 0.929027\n"
     ]
    },
    {
     "name": "stderr",
     "output_type": "stream",
     "text": [
      " 10%|█         | 10/100 [02:05<18:47, 12.53s/it]"
     ]
    },
    {
     "name": "stdout",
     "output_type": "stream",
     "text": [
      "Epoch 10, train_loss 0.338780 train_acc 0.975668, val_loss 0.377702, val_acc 0.934892\n"
     ]
    },
    {
     "name": "stderr",
     "output_type": "stream",
     "text": [
      " 15%|█▌        | 15/100 [03:07<17:45, 12.54s/it]"
     ]
    },
    {
     "name": "stdout",
     "output_type": "stream",
     "text": [
      "Epoch 15, train_loss 0.336152 train_acc 0.978062, val_loss 0.380703, val_acc 0.931106\n"
     ]
    },
    {
     "name": "stderr",
     "output_type": "stream",
     "text": [
      " 20%|██        | 20/100 [04:10<16:41, 12.52s/it]"
     ]
    },
    {
     "name": "stdout",
     "output_type": "stream",
     "text": [
      "Epoch 20, train_loss 0.333776 train_acc 0.979992, val_loss 0.375406, val_acc 0.935857\n"
     ]
    },
    {
     "name": "stderr",
     "output_type": "stream",
     "text": [
      " 25%|██▌       | 25/100 [05:13<15:38, 12.52s/it]"
     ]
    },
    {
     "name": "stdout",
     "output_type": "stream",
     "text": [
      "Epoch 25, train_loss 0.332697 train_acc 0.980809, val_loss 0.375197, val_acc 0.935783\n"
     ]
    },
    {
     "name": "stderr",
     "output_type": "stream",
     "text": [
      " 30%|███       | 30/100 [06:16<14:47, 12.68s/it]"
     ]
    },
    {
     "name": "stdout",
     "output_type": "stream",
     "text": [
      "Epoch 30, train_loss 0.331848 train_acc 0.981663, val_loss 0.376133, val_acc 0.935189\n"
     ]
    },
    {
     "name": "stderr",
     "output_type": "stream",
     "text": [
      " 35%|███▌      | 35/100 [07:18<13:19, 12.31s/it]"
     ]
    },
    {
     "name": "stdout",
     "output_type": "stream",
     "text": [
      "Epoch 35, train_loss 0.332132 train_acc 0.981403, val_loss 0.380179, val_acc 0.930809\n"
     ]
    },
    {
     "name": "stderr",
     "output_type": "stream",
     "text": [
      " 40%|████      | 40/100 [08:19<12:20, 12.34s/it]"
     ]
    },
    {
     "name": "stdout",
     "output_type": "stream",
     "text": [
      "Epoch 40, train_loss 0.331159 train_acc 0.982182, val_loss 0.375394, val_acc 0.936377\n"
     ]
    },
    {
     "name": "stderr",
     "output_type": "stream",
     "text": [
      " 40%|████      | 40/100 [08:32<12:48, 12.81s/it]"
     ]
    },
    {
     "name": "stdout",
     "output_type": "stream",
     "text": [
      "early stopping after 41 epochs\n",
      "best test loss: 0.37458059731110344\n"
     ]
    },
    {
     "name": "stderr",
     "output_type": "stream",
     "text": [
      "\n"
     ]
    }
   ],
   "source": [
    "torch.manual_seed(SEED)\n",
    "\n",
    "patience = 10\n",
    "train_loss_, train_acc_, val_loss_, val_acc_ = [], [], [], []\n",
    "no_epochs = 100\n",
    "\n",
    "\n",
    "dim_in = GLOVE_DIM\n",
    "dim_out = 2\n",
    "lr = 0.001\n",
    "batch_sizes = [32, 64, 128]\n",
    "dim_convs = [128, 256, 512, 1024]\n",
    "\n",
    "for batch_size in batch_sizes:\n",
    "    train_dataloader, val_dataloader = initialize_loader(X_train_tensor, X_val_tensor, y_train, y_val, batch_size=batch_size)\n",
    "\n",
    "    for dim_conv in dim_convs:\n",
    "        print(f'batch size: {batch_size}; conv layer dimension: {dim_conv}')\n",
    "        epochs_without_improvement = 0\n",
    "        best_val_loss = np.Inf\n",
    "\n",
    "        model = CNN(embedding_matrix, dim_in, dim_conv, dim_out)\n",
    "        model.to(device)\n",
    "        loss_fn = nn.CrossEntropyLoss()\n",
    "        optimizer = torch.optim.Adam(model.parameters(), lr=lr)\n",
    "\n",
    "        # start training\n",
    "        for epoch in tqdm(range(no_epochs)):\n",
    "            train_loss, train_acc = train_loop(train_dataloader, model, loss_fn, optimizer)\n",
    "            val_loss, val_acc = val_loop(val_dataloader, model, loss_fn)\n",
    "\n",
    "            train_loss_.append(train_loss), train_acc_.append(train_acc)\n",
    "            val_loss_.append(val_loss), val_acc_.append(val_acc)\n",
    "\n",
    "            # early stopping\n",
    "            if val_loss < best_val_loss:\n",
    "                best_val_loss = val_loss\n",
    "                epochs_without_improvement = 0\n",
    "            else:\n",
    "                epochs_without_improvement += 1\n",
    "                if epochs_without_improvement >= patience:\n",
    "                    print(f'early stopping after {epoch+1} epochs')\n",
    "                    print(f'best test loss: {best_val_loss}')\n",
    "                    break\n",
    "\n",
    "\n",
    "            if (epoch+1) % 5 == 0:\n",
    "                print(\n",
    "                    f\"Epoch {epoch+1}, train_loss {train_loss:>7f} train_acc {train_acc:>4f}, val_loss {val_loss:>7f}, val_acc {val_acc:>4f}\")"
   ]
  }
 ],
 "metadata": {
  "kernelspec": {
   "display_name": "Python 3 (ipykernel)",
   "language": "python",
   "name": "python3"
  },
  "language_info": {
   "codemirror_mode": {
    "name": "ipython",
    "version": 3
   },
   "file_extension": ".py",
   "mimetype": "text/x-python",
   "name": "python",
   "nbconvert_exporter": "python",
   "pygments_lexer": "ipython3",
   "version": "3.10.11"
  }
 },
 "nbformat": 4,
 "nbformat_minor": 4
}
