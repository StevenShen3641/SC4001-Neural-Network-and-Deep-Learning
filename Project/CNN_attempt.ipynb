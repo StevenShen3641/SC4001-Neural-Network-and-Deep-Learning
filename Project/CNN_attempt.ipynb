{
 "cells": [
  {
   "cell_type": "code",
   "execution_count": 8,
   "metadata": {},
   "outputs": [],
   "source": [
    "import pickle\n",
    "import numpy as np\n",
    "\n",
    "from tqdm import tqdm\n",
    "import torch\n",
    "from torch import nn\n",
    "from torch.utils.data import Dataset\n",
    "from torch.utils.data import DataLoader \n",
    "\n",
    "SEED = 42"
   ]
  },
  {
   "cell_type": "code",
   "execution_count": 9,
   "metadata": {},
   "outputs": [],
   "source": [
    "model_type = 'glove-twitter-200'\n",
    "wv_num = 200\n",
    "wv_path = ['./data/train_data/train', './data/test_data/test']\n",
    "\n",
    "with open(wv_path[0] + f'_{model_type}.pkl', 'rb') as f:\n",
    "    X_train, y_train = pickle.load(f)\n",
    "with open(wv_path[1] + f'_{model_type}.pkl', 'rb') as f:\n",
    "    X_test, y_test = pickle.load(f)"
   ]
  },
  {
   "cell_type": "code",
   "execution_count": 10,
   "metadata": {},
   "outputs": [],
   "source": [
    "X_train, y_train = X_train[:20000], y_train[:20000]\n",
    "X_test, y_test = X_test[:5000], y_test[:5000]"
   ]
  },
  {
   "cell_type": "code",
   "execution_count": 11,
   "metadata": {},
   "outputs": [
    {
     "name": "stdout",
     "output_type": "stream",
     "text": [
      "4\n",
      "sadness\n"
     ]
    }
   ],
   "source": [
    "print(len(X_test[1]))\n",
    "print(y_test[1])"
   ]
  },
  {
   "cell_type": "code",
   "execution_count": 12,
   "metadata": {},
   "outputs": [
    {
     "name": "stdout",
     "output_type": "stream",
     "text": [
      "Shape of training data [20000, 200, 106]\n",
      "Shape of training data [5000, 200, 106]\n"
     ]
    }
   ],
   "source": [
    "# data process\n",
    "max_length = max(len(i) for i in X_test + X_train)\n",
    "\n",
    "def preprocess_dataset(X):\n",
    "    X_list = []\n",
    "    for i in X:\n",
    "        temp = i\n",
    "        for _ in range(max_length - len(i)):\n",
    "            temp.append(np.zeros(wv_num))\n",
    "        np_array = np.array(temp)\n",
    "        trans = np.transpose(np_array)\n",
    "        X_list.append(torch.from_numpy(trans))\n",
    "    X_tensor = torch.stack(X_list)\n",
    "    return X_tensor\n",
    "\n",
    "X_train_tensor = preprocess_dataset(X_train)\n",
    "print(f\"Shape of training data {[X_train_tensor.shape[i] for i in range(3)]}\")\n",
    "X_test_tensor = preprocess_dataset(X_test)\n",
    "print(f\"Shape of training data {[X_test_tensor.shape[i] for i in range(3)]}\")"
   ]
  },
  {
   "cell_type": "code",
   "execution_count": 13,
   "metadata": {},
   "outputs": [
    {
     "name": "stdout",
     "output_type": "stream",
     "text": [
      "Number of label types: 12\n"
     ]
    }
   ],
   "source": [
    "# process labels\n",
    "labels = list(set(y_train + y_test))\n",
    "label_num = len(labels)\n",
    "for i in range(len(y_train)):\n",
    "    y_train[i] = labels.index(y_train[i])\n",
    "for i in range(len(y_test)):\n",
    "    y_test[i] = labels.index(y_test[i])\n",
    "print(f\"Number of label types: {label_num}\")"
   ]
  },
  {
   "cell_type": "code",
   "execution_count": 14,
   "metadata": {},
   "outputs": [
    {
     "name": "stderr",
     "output_type": "stream",
     "text": [
      "C:\\Users\\Chihao Shen\\AppData\\Local\\Temp\\ipykernel_23280\\511967321.py:5: UserWarning: To copy construct from a tensor, it is recommended to use sourceTensor.clone().detach() or sourceTensor.clone().detach().requires_grad_(True), rather than torch.tensor(sourceTensor).\n",
      "  self.X =torch.tensor(X, dtype=torch.float)\n"
     ]
    }
   ],
   "source": [
    "torch.manual_seed(SEED)\n",
    "device = torch.device(\"cuda\" if torch.cuda.is_available() else \"cpu\")\n",
    "class CustomDataset(Dataset):\n",
    "    def __init__(self, X, y):\n",
    "        self.X =torch.tensor(X, dtype=torch.float)\n",
    "        self.y =torch.tensor(y, dtype=torch.long)\n",
    "\n",
    "    def __len__(self):\n",
    "        return len(self.y)\n",
    "\n",
    "    def __getitem__(self,idx):\n",
    "        return self.X[idx], self.y[idx]\n",
    "\n",
    "def initialize_loader(X_train_tensor, X_test_tensor, y_train, y_test):\n",
    "    # no need to do the scale since original wv already did\n",
    "    train_data = CustomDataset(X_train_tensor, y_train)\n",
    "    test_data = CustomDataset(X_test_tensor, y_test)\n",
    "\n",
    "    # convert to DataLoader for batch processing and shuffling\n",
    "    train_dataloader = DataLoader(train_data, batch_size=64, shuffle=True)\n",
    "    for inputs, targets in train_dataloader:\n",
    "        inputs, targets = inputs.to(device), targets.to(device)\n",
    "    test_dataloader = DataLoader(test_data, batch_size=64, shuffle=False)\n",
    "    for inputs, targets in test_dataloader:\n",
    "        inputs, targets = inputs.to(device), targets.to(device)\n",
    "    return train_dataloader, test_dataloader\n",
    "\n",
    "train_dataloader, test_dataloader = initialize_loader(X_train_tensor, X_test_tensor, y_train, y_test)"
   ]
  },
  {
   "cell_type": "code",
   "execution_count": 15,
   "metadata": {},
   "outputs": [],
   "source": [
    "# model\n",
    "class CNN(nn.Module):\n",
    "    def __init__(self, dim_in, dim_conv, dim_out, dropout_rate=0.5, l2_norm=3):\n",
    "        super(CNN, self).__init__()\n",
    "        self.conv1_3 = nn.Conv1d(dim_in, dim_conv, 3, padding=5)  # 33\n",
    "        self.conv1_4 = nn.Conv1d(dim_in, dim_conv, 4, padding=5)  # 32\n",
    "        self.conv1_5 = nn.Conv1d(dim_in, dim_conv, 5, padding=5)  # 31\n",
    "        self.bn = nn.BatchNorm1d(dim_conv * 3)\n",
    "        self.ReLU = nn.ReLU()\n",
    "        self.maxpool_1 = nn.MaxPool1d(kernel_size=max_length+8)\n",
    "        self.maxpool_2 = nn.MaxPool1d(kernel_size=max_length+7)\n",
    "        self.maxpool_3 = nn.MaxPool1d(kernel_size=max_length+6)\n",
    "        self.fc = nn.Linear(dim_conv * 3, dim_out)\n",
    "        self.dropout = nn.Dropout(p=dropout_rate)\n",
    "        self.softmax = nn.Softmax()\n",
    "\n",
    "\n",
    "    def forward(self, x):\n",
    "        x1 = self.conv1_3(x)\n",
    "        x1 = self.ReLU(x1)\n",
    "        x1 = self.maxpool_1(x1)\n",
    "\n",
    "\n",
    "        x2 = self.conv1_4(x)\n",
    "        x2 = self.ReLU(x2)\n",
    "        x2 = self.maxpool_2(x2)\n",
    "\n",
    "        x3 = self.conv1_5(x)\n",
    "        x3 = self.ReLU(x3)\n",
    "        x3 = self.maxpool_3(x3)\n",
    "\n",
    "        x = torch.cat((x1, x2, x3), dim=1)\n",
    "        x = torch.flatten(x, 1)\n",
    "        x = self.fc(x)\n",
    "        x = self.dropout(x)\n",
    "        x = self.softmax(x)\n",
    "        return x\n"
   ]
  },
  {
   "cell_type": "code",
   "execution_count": 16,
   "metadata": {},
   "outputs": [],
   "source": [
    "torch.manual_seed(SEED)\n",
    "dim_in = wv_num\n",
    "dim_conv = 100\n",
    "dim_out = label_num\n",
    "lr = 0.001\n",
    "model = CNN(dim_in, dim_conv, dim_out)\n",
    "model.to(device)\n",
    "\n",
    "loss_fn = nn.CrossEntropyLoss()\n",
    "optimizer = torch.optim.Adam(model.parameters(), lr=lr)"
   ]
  },
  {
   "cell_type": "code",
   "execution_count": 17,
   "metadata": {},
   "outputs": [],
   "source": [
    "# training\n",
    "max_norm = 3\n",
    "def train_loop(dataloader, model, loss_fn, optimizer):\n",
    "    size = len(dataloader.dataset)\n",
    "    optimizer.zero_grad()\n",
    "    train_loss, correct_num = 0, 0\n",
    "    model.train()\n",
    "    for X, y in dataloader:\n",
    "        X, y = X.to(device), y.to(device)\n",
    "        optimizer.zero_grad()\n",
    "        pred = model(X)\n",
    "        loss = loss_fn(pred, y)\n",
    "\n",
    "        loss.backward()\n",
    "\n",
    "        for name, module in model.named_modules():\n",
    "            if isinstance(module, nn.Linear):\n",
    "                for name, param in module.named_parameters():\n",
    "                    param_norm = param.data.norm(2)\n",
    "                    if param_norm > max_norm:\n",
    "                        param.data.mul_(max_norm / (param_norm + 1e-6))\n",
    "\n",
    "        optimizer.step()\n",
    "        model.eval()\n",
    "        with torch.no_grad():\n",
    "            pred = model(X)\n",
    "            loss = loss_fn(pred, y)\n",
    "            train_loss += loss.item() * X.size(0)\n",
    "            correct_num += (torch.eq(torch.argmax(pred, dim=1), y)).type(torch.float).sum().item()\n",
    "\n",
    "    train_loss /= size\n",
    "    train_acc = correct_num / size\n",
    "    return train_loss, train_acc\n",
    "\n",
    "def test_loop(dataloader, model, loss_fn):\n",
    "    size = len(dataloader.dataset)\n",
    "    test_loss, correct_num = 0, 0\n",
    "    model.eval()  # inform no dropout and fix bn during testing\n",
    "\n",
    "    with torch.no_grad():\n",
    "        for X, y in dataloader:\n",
    "            X, y = X.to(device), y.to(device)\n",
    "\n",
    "            pred = model(X)\n",
    "            test_loss += loss_fn(pred, y).item() * X.size(0)\n",
    "            correct_num += (torch.eq(torch.argmax(pred, dim=1), y)).type(torch.float).sum().item()\n",
    "\n",
    "    test_loss /= size\n",
    "    test_acc = correct_num / size\n",
    "    return test_loss, test_acc\n",
    "        "
   ]
  },
  {
   "cell_type": "code",
   "execution_count": 18,
   "metadata": {},
   "outputs": [
    {
     "name": "stderr",
     "output_type": "stream",
     "text": [
      "d:\\Program Files\\Python310\\lib\\site-packages\\torch\\nn\\modules\\module.py:1518: UserWarning: Implicit dimension choice for softmax has been deprecated. Change the call to include dim=X as an argument.\n",
      "  return self._call_impl(*args, **kwargs)\n"
     ]
    },
    {
     "name": "stdout",
     "output_type": "stream",
     "text": [
      "Epoch 1, train_loss 2.364616 train_acc 0.259950, test_loss 2.331489, test_acc 0.289800\n",
      "Epoch 2, train_loss 2.259337 train_acc 0.387000, test_loss 2.323881, test_acc 0.295800\n",
      "Epoch 3, train_loss 2.199672 train_acc 0.456700, test_loss 2.319931, test_acc 0.296000\n",
      "Epoch 4, train_loss 2.152162 train_acc 0.511100, test_loss 2.317776, test_acc 0.303000\n",
      "Epoch 5, train_loss 2.114032 train_acc 0.548600, test_loss 2.319568, test_acc 0.303600\n",
      "Epoch 6, train_loss 2.084501 train_acc 0.575600, test_loss 2.319477, test_acc 0.297600\n",
      "Epoch 7, train_loss 2.058583 train_acc 0.598200, test_loss 2.321835, test_acc 0.296800\n",
      "Epoch 8, train_loss 2.038628 train_acc 0.613300, test_loss 2.319312, test_acc 0.297000\n",
      "Epoch 9, train_loss 2.020327 train_acc 0.627750, test_loss 2.323617, test_acc 0.287600\n",
      "Epoch 10, train_loss 2.005532 train_acc 0.638150, test_loss 2.326016, test_acc 0.287600\n",
      "Epoch 11, train_loss 1.992729 train_acc 0.650000, test_loss 2.320407, test_acc 0.292600\n",
      "Epoch 12, train_loss 1.981796 train_acc 0.658650, test_loss 2.324674, test_acc 0.287000\n",
      "Epoch 13, train_loss 1.971482 train_acc 0.666550, test_loss 2.320743, test_acc 0.295800\n",
      "Epoch 14, train_loss 1.961157 train_acc 0.674900, test_loss 2.323883, test_acc 0.289200\n",
      "Epoch 15, train_loss 1.950416 train_acc 0.681800, test_loss 2.324548, test_acc 0.287800\n",
      "Epoch 16, train_loss 1.942291 train_acc 0.688200, test_loss 2.334391, test_acc 0.278800\n",
      "Epoch 17, train_loss 1.936760 train_acc 0.692300, test_loss 2.326774, test_acc 0.289200\n",
      "Epoch 18, train_loss 1.929775 train_acc 0.698350, test_loss 2.331537, test_acc 0.278400\n",
      "Epoch 19, train_loss 1.922351 train_acc 0.704200, test_loss 2.327263, test_acc 0.291600\n",
      "Epoch 20, train_loss 1.916604 train_acc 0.708850, test_loss 2.327516, test_acc 0.286800\n",
      "Epoch 21, train_loss 1.910791 train_acc 0.713700, test_loss 2.329103, test_acc 0.282400\n",
      "Epoch 22, train_loss 1.904425 train_acc 0.720950, test_loss 2.328932, test_acc 0.284400\n",
      "Epoch 23, train_loss 1.900127 train_acc 0.724600, test_loss 2.327889, test_acc 0.283800\n",
      "Epoch 24, train_loss 1.894063 train_acc 0.731100, test_loss 2.328406, test_acc 0.280600\n",
      "Epoch 25, train_loss 1.878546 train_acc 0.763950, test_loss 2.322279, test_acc 0.283800\n",
      "Epoch 26, train_loss 1.857680 train_acc 0.793950, test_loss 2.331354, test_acc 0.285600\n",
      "Epoch 27, train_loss 1.840668 train_acc 0.806400, test_loss 2.326734, test_acc 0.287000\n",
      "Epoch 28, train_loss 1.829766 train_acc 0.813400, test_loss 2.326162, test_acc 0.287800\n",
      "Epoch 29, train_loss 1.821166 train_acc 0.817850, test_loss 2.320089, test_acc 0.299600\n",
      "Epoch 30, train_loss 1.814755 train_acc 0.820600, test_loss 2.322369, test_acc 0.291800\n",
      "Epoch 31, train_loss 1.809194 train_acc 0.822950, test_loss 2.337942, test_acc 0.270800\n",
      "Epoch 32, train_loss 1.805299 train_acc 0.825150, test_loss 2.322925, test_acc 0.289600\n",
      "Epoch 33, train_loss 1.801160 train_acc 0.826350, test_loss 2.324752, test_acc 0.292600\n",
      "Epoch 34, train_loss 1.798136 train_acc 0.827950, test_loss 2.325291, test_acc 0.288600\n",
      "Epoch 35, train_loss 1.795197 train_acc 0.828800, test_loss 2.326261, test_acc 0.287400\n",
      "Epoch 36, train_loss 1.793237 train_acc 0.829950, test_loss 2.321741, test_acc 0.292800\n",
      "Epoch 37, train_loss 1.790789 train_acc 0.831500, test_loss 2.320161, test_acc 0.295200\n",
      "Epoch 38, train_loss 1.788778 train_acc 0.832450, test_loss 2.320369, test_acc 0.294400\n",
      "Epoch 39, train_loss 1.787092 train_acc 0.833700, test_loss 2.323530, test_acc 0.291400\n",
      "Epoch 40, train_loss 1.785810 train_acc 0.834750, test_loss 2.323021, test_acc 0.291600\n",
      "Epoch 41, train_loss 1.784216 train_acc 0.835800, test_loss 2.322839, test_acc 0.291600\n",
      "Epoch 42, train_loss 1.782089 train_acc 0.837200, test_loss 2.320606, test_acc 0.294000\n",
      "Epoch 43, train_loss 1.780508 train_acc 0.838300, test_loss 2.325688, test_acc 0.293200\n",
      "Epoch 44, train_loss 1.779172 train_acc 0.838950, test_loss 2.322781, test_acc 0.294000\n",
      "Epoch 45, train_loss 1.778287 train_acc 0.840200, test_loss 2.324118, test_acc 0.291000\n",
      "Epoch 46, train_loss 1.777055 train_acc 0.841000, test_loss 2.328687, test_acc 0.287600\n",
      "Epoch 47, train_loss 1.775468 train_acc 0.842350, test_loss 2.331359, test_acc 0.285000\n",
      "Epoch 48, train_loss 1.773755 train_acc 0.843800, test_loss 2.323915, test_acc 0.293800\n",
      "Epoch 49, train_loss 1.772500 train_acc 0.844650, test_loss 2.326577, test_acc 0.289200\n",
      "Epoch 50, train_loss 1.771643 train_acc 0.845950, test_loss 2.324357, test_acc 0.289200\n",
      "Epoch 51, train_loss 1.770250 train_acc 0.846100, test_loss 2.326877, test_acc 0.288000\n",
      "Epoch 52, train_loss 1.769997 train_acc 0.846700, test_loss 2.327168, test_acc 0.293000\n",
      "Epoch 53, train_loss 1.769203 train_acc 0.847450, test_loss 2.329124, test_acc 0.287000\n",
      "Epoch 54, train_loss 1.767872 train_acc 0.848400, test_loss 2.328579, test_acc 0.280400\n",
      "Epoch 55, train_loss 1.766866 train_acc 0.849150, test_loss 2.328095, test_acc 0.282000\n",
      "Epoch 56, train_loss 1.765844 train_acc 0.849950, test_loss 2.329680, test_acc 0.281400\n",
      "Epoch 57, train_loss 1.765267 train_acc 0.850900, test_loss 2.326365, test_acc 0.282800\n",
      "Epoch 58, train_loss 1.764362 train_acc 0.851350, test_loss 2.329576, test_acc 0.289000\n",
      "Epoch 59, train_loss 1.763639 train_acc 0.852150, test_loss 2.328733, test_acc 0.285600\n",
      "Epoch 60, train_loss 1.763676 train_acc 0.852750, test_loss 2.332017, test_acc 0.273800\n",
      "Epoch 61, train_loss 1.762565 train_acc 0.853800, test_loss 2.331045, test_acc 0.280800\n",
      "Epoch 62, train_loss 1.760985 train_acc 0.854350, test_loss 2.330967, test_acc 0.284200\n",
      "Epoch 63, train_loss 1.760595 train_acc 0.856600, test_loss 2.328394, test_acc 0.284800\n",
      "Epoch 64, train_loss 1.759741 train_acc 0.855650, test_loss 2.332565, test_acc 0.278400\n",
      "Epoch 65, train_loss 1.759031 train_acc 0.856200, test_loss 2.335216, test_acc 0.276600\n",
      "Epoch 66, train_loss 1.759581 train_acc 0.856350, test_loss 2.330118, test_acc 0.281800\n",
      "Epoch 67, train_loss 1.758197 train_acc 0.857650, test_loss 2.330601, test_acc 0.282200\n",
      "Epoch 68, train_loss 1.757639 train_acc 0.857500, test_loss 2.332398, test_acc 0.279000\n",
      "Epoch 69, train_loss 1.757944 train_acc 0.857700, test_loss 2.330704, test_acc 0.279600\n",
      "Epoch 70, train_loss 1.756806 train_acc 0.858000, test_loss 2.333167, test_acc 0.279000\n",
      "Epoch 71, train_loss 1.757509 train_acc 0.858350, test_loss 2.330212, test_acc 0.278400\n",
      "Epoch 72, train_loss 1.756358 train_acc 0.858850, test_loss 2.331472, test_acc 0.282600\n",
      "Epoch 73, train_loss 1.755602 train_acc 0.859400, test_loss 2.336465, test_acc 0.271400\n",
      "Epoch 74, train_loss 1.755061 train_acc 0.859850, test_loss 2.332961, test_acc 0.278000\n",
      "Epoch 75, train_loss 1.754727 train_acc 0.860250, test_loss 2.335303, test_acc 0.275000\n",
      "Epoch 76, train_loss 1.756394 train_acc 0.860500, test_loss 2.336031, test_acc 0.275600\n",
      "Epoch 77, train_loss 1.754336 train_acc 0.860800, test_loss 2.332077, test_acc 0.278200\n",
      "Epoch 78, train_loss 1.753516 train_acc 0.861200, test_loss 2.335717, test_acc 0.279000\n",
      "Epoch 79, train_loss 1.753730 train_acc 0.861400, test_loss 2.333296, test_acc 0.281800\n",
      "Epoch 80, train_loss 1.753099 train_acc 0.861450, test_loss 2.332838, test_acc 0.281400\n",
      "Epoch 81, train_loss 1.752793 train_acc 0.862000, test_loss 2.337353, test_acc 0.270000\n",
      "Epoch 82, train_loss 1.753537 train_acc 0.862300, test_loss 2.334523, test_acc 0.276800\n",
      "Epoch 83, train_loss 1.752093 train_acc 0.862700, test_loss 2.331189, test_acc 0.283800\n",
      "Epoch 84, train_loss 1.751617 train_acc 0.863300, test_loss 2.331100, test_acc 0.279800\n",
      "Epoch 85, train_loss 1.751227 train_acc 0.863500, test_loss 2.331561, test_acc 0.286600\n",
      "Epoch 86, train_loss 1.751256 train_acc 0.863450, test_loss 2.332729, test_acc 0.277600\n",
      "Epoch 87, train_loss 1.750650 train_acc 0.863800, test_loss 2.332688, test_acc 0.279400\n",
      "Epoch 88, train_loss 1.753544 train_acc 0.863500, test_loss 2.333521, test_acc 0.275400\n",
      "Epoch 89, train_loss 1.750315 train_acc 0.864500, test_loss 2.335603, test_acc 0.275600\n",
      "Epoch 90, train_loss 1.750103 train_acc 0.864850, test_loss 2.332297, test_acc 0.280400\n",
      "Epoch 91, train_loss 1.749739 train_acc 0.864650, test_loss 2.334204, test_acc 0.277400\n",
      "Epoch 92, train_loss 1.749595 train_acc 0.865000, test_loss 2.331495, test_acc 0.279200\n",
      "Epoch 93, train_loss 1.749484 train_acc 0.865400, test_loss 2.336035, test_acc 0.276600\n",
      "Epoch 94, train_loss 1.748898 train_acc 0.865600, test_loss 2.333250, test_acc 0.283600\n",
      "Epoch 95, train_loss 1.749200 train_acc 0.865700, test_loss 2.333685, test_acc 0.278000\n",
      "Epoch 96, train_loss 1.748455 train_acc 0.865900, test_loss 2.335201, test_acc 0.276600\n",
      "Epoch 97, train_loss 1.748210 train_acc 0.866100, test_loss 2.333716, test_acc 0.275200\n",
      "Epoch 98, train_loss 1.748673 train_acc 0.866100, test_loss 2.358555, test_acc 0.247200\n",
      "Epoch 99, train_loss 1.750736 train_acc 0.865700, test_loss 2.333920, test_acc 0.278400\n",
      "Epoch 100, train_loss 1.747970 train_acc 0.866400, test_loss 2.333532, test_acc 0.279800\n"
     ]
    }
   ],
   "source": [
    "train_loss_, train_acc_, test_loss_, test_acc_ = [], [], [], []\n",
    "no_epochs = 100\n",
    "\n",
    "# start training\n",
    "for epoch in range(no_epochs):\n",
    "    train_loss, train_acc = train_loop(train_dataloader, model, loss_fn, optimizer)\n",
    "    test_loss, test_acc = test_loop(test_dataloader, model, loss_fn)\n",
    "\n",
    "    train_loss_.append(train_loss), train_acc_.append(train_acc)\n",
    "    test_loss_.append(test_loss), test_acc_.append(test_acc)\n",
    "\n",
    "    print(f\"Epoch {epoch+1}, train_loss {train_loss:>7f} train_acc {train_acc:>4f}, test_loss {test_loss:>7f}, test_acc {test_acc:>4f}\")"
   ]
  }
 ],
 "metadata": {
  "kernelspec": {
   "display_name": "Python 3",
   "language": "python",
   "name": "python3"
  },
  "language_info": {
   "codemirror_mode": {
    "name": "ipython",
    "version": 3
   },
   "file_extension": ".py",
   "mimetype": "text/x-python",
   "name": "python",
   "nbconvert_exporter": "python",
   "pygments_lexer": "ipython3",
   "version": "3.10.11"
  },
  "orig_nbformat": 4
 },
 "nbformat": 4,
 "nbformat_minor": 2
}
