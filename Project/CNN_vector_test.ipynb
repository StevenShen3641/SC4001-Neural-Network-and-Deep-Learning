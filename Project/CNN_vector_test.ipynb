{
 "cells": [
  {
   "cell_type": "code",
   "execution_count": 1,
   "metadata": {},
   "outputs": [
    {
     "data": {
      "text/plain": [
       "<torch._C.Generator at 0x288f7da3630>"
      ]
     },
     "execution_count": 1,
     "metadata": {},
     "output_type": "execute_result"
    }
   ],
   "source": [
    "\n",
    "import torch\n",
    "from torch import nn\n",
    "import pickle\n",
    "SEED = 42\n",
    "torch.manual_seed(SEED)"
   ]
  },
  {
   "cell_type": "code",
   "execution_count": 2,
   "metadata": {},
   "outputs": [],
   "source": [
    "with open('./.temp/imdb.pkl', 'rb') as f:\n",
    "    imdb_tensor = pickle.load(f)\n",
    "with open('./.temp/labels.pkl', 'rb') as f:\n",
    "    imdb_label = pickle.load(f)\n",
    "with open('./.temp/em.pkl', 'rb') as f:\n",
    "    embedding_matrix = pickle.load(f)"
   ]
  },
  {
   "cell_type": "code",
   "execution_count": 3,
   "metadata": {},
   "outputs": [],
   "source": [
    "# model\n",
    "class CNN(nn.Module):\n",
    "    def __init__(self, embedding_matrix, dim_in, dim_conv, dim_out, dropout_rate=0.5, max_length=0):\n",
    "        super(CNN, self).__init__()\n",
    "        self.embedding = nn.Embedding(embedding_matrix.shape[0], dim_in).from_pretrained(embedding_matrix, freeze=True)\n",
    "        self.conv1_3 = nn.Conv1d(dim_in, dim_conv, 3, padding=5)\n",
    "        self.conv1_4 = nn.Conv1d(dim_in, dim_conv, 4, padding=5)\n",
    "        self.conv1_5 = nn.Conv1d(dim_in, dim_conv, 5, padding=5)\n",
    "        self.ReLU = nn.ReLU()\n",
    "        self.maxpool_1 = nn.MaxPool1d(kernel_size=max_length+8)\n",
    "        self.maxpool_2 = nn.MaxPool1d(kernel_size=max_length+7)\n",
    "        self.maxpool_3 = nn.MaxPool1d(kernel_size=max_length+6)\n",
    "        self.fc = nn.Linear(dim_conv * 3, dim_out)\n",
    "        self.dropout = nn.Dropout(p=dropout_rate)\n",
    "        self.softmax = nn.Softmax()\n",
    "\n",
    "\n",
    "    def forward(self, x):\n",
    "        x = self.embedding(x).transpose(1, 2)\n",
    "        x1 = self.conv1_3(x)\n",
    "        x1 = self.ReLU(x1)\n",
    "        x1 = self.maxpool_1(x1)\n",
    "\n",
    "\n",
    "        x2 = self.conv1_4(x)\n",
    "        x2 = self.ReLU(x2)\n",
    "        x2 = self.maxpool_2(x2)\n",
    "\n",
    "        x3 = self.conv1_5(x)\n",
    "        x3 = self.ReLU(x3)\n",
    "        x3 = self.maxpool_3(x3)\n",
    "\n",
    "        x = torch.cat((x1, x2, x3), dim=1)\n",
    "        x = torch.flatten(x, 1)\n",
    "        x = self.fc(x)\n",
    "        x = self.dropout(x)\n",
    "        x = self.softmax(x)\n",
    "        return x"
   ]
  },
  {
   "cell_type": "code",
   "execution_count": 4,
   "metadata": {},
   "outputs": [],
   "source": [
    "dim_in = 300\n",
    "dim_conv = 100\n",
    "dim_out = 2\n",
    "lr = 0.001"
   ]
  },
  {
   "cell_type": "code",
   "execution_count": 5,
   "metadata": {},
   "outputs": [
    {
     "name": "stderr",
     "output_type": "stream",
     "text": [
      "e:\\git\\SC4001\\Project\\venv\\lib\\site-packages\\torch\\nn\\modules\\module.py:1511: UserWarning: Implicit dimension choice for softmax has been deprecated. Change the call to include dim=X as an argument.\n",
      "  return self._call_impl(*args, **kwargs)\n"
     ]
    },
    {
     "name": "stdout",
     "output_type": "stream",
     "text": [
      "Accuracy: 0.83642\n"
     ]
    }
   ],
   "source": [
    "max_length_2 = 1506\n",
    "model = CNN(embedding_matrix, dim_in, dim_conv,\n",
    "            dim_out, max_length=max_length_2)\n",
    "\n",
    "\n",
    "model.load_state_dict(torch.load(\"./model/CNN_vector_model.pth\"))\n",
    "\n",
    "model.eval()\n",
    "\n",
    "acc = 0\n",
    "\n",
    "for i in range(20):\n",
    "    pred = model(imdb_tensor[2500 * i : 2500 * (i + 1)])\n",
    "    label = imdb_label[2500 * i : 2500 * (i + 1)]\n",
    "    correct_num = (torch.eq(torch.argmax(pred, dim=1), torch.tensor(label))).type(torch.float).sum().item()\n",
    "    test_acc = correct_num / 2500\n",
    "    acc += test_acc\n",
    "print(f\"Accuracy: {acc / 20}\")"
   ]
  }
 ],
 "metadata": {
  "kernelspec": {
   "display_name": "venv",
   "language": "python",
   "name": "python3"
  },
  "language_info": {
   "codemirror_mode": {
    "name": "ipython",
    "version": 3
   },
   "file_extension": ".py",
   "mimetype": "text/x-python",
   "name": "python",
   "nbconvert_exporter": "python",
   "pygments_lexer": "ipython3",
   "version": "3.10.11"
  },
  "orig_nbformat": 4
 },
 "nbformat": 4,
 "nbformat_minor": 2
}
